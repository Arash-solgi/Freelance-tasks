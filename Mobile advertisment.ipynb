{
 "cells": [
  {
   "cell_type": "markdown",
   "metadata": {},
   "source": [
    "# 1-Data exploration and preprocessing¶"
   ]
  },
  {
   "cell_type": "code",
   "execution_count": 1,
   "metadata": {},
   "outputs": [],
   "source": [
    "import pandas as pd\n",
    "import seaborn as sns \n",
    "import matplotlib.pyplot as plt\n",
    "import numpy as np\n",
    "import warnings\n",
    "import plotly.express as ex\n",
    "import plotly.io as pio\n",
    "import plotly.figure_factory as ff\n",
    "from plotly.subplots import make_subplots"
   ]
  },
  {
   "cell_type": "code",
   "execution_count": 2,
   "metadata": {
    "scrolled": true
   },
   "outputs": [
    {
     "data": {
      "text/html": [
       "<div>\n",
       "<style scoped>\n",
       "    .dataframe tbody tr th:only-of-type {\n",
       "        vertical-align: middle;\n",
       "    }\n",
       "\n",
       "    .dataframe tbody tr th {\n",
       "        vertical-align: top;\n",
       "    }\n",
       "\n",
       "    .dataframe thead th {\n",
       "        text-align: right;\n",
       "    }\n",
       "</style>\n",
       "<table border=\"1\" class=\"dataframe\">\n",
       "  <thead>\n",
       "    <tr style=\"text-align: right;\">\n",
       "      <th></th>\n",
       "      <th>Unnamed: 0</th>\n",
       "      <th>ecpm_value</th>\n",
       "      <th>date</th>\n",
       "      <th>app</th>\n",
       "      <th>country</th>\n",
       "      <th>ecpm_type</th>\n",
       "    </tr>\n",
       "  </thead>\n",
       "  <tbody>\n",
       "    <tr>\n",
       "      <th>4000</th>\n",
       "      <td>40</td>\n",
       "      <td>0.721260</td>\n",
       "      <td>2021-07-14 13:30:27.883259</td>\n",
       "      <td>brilliant app B</td>\n",
       "      <td>BR</td>\n",
       "      <td>banner</td>\n",
       "    </tr>\n",
       "    <tr>\n",
       "      <th>3020</th>\n",
       "      <td>50</td>\n",
       "      <td>9.033572</td>\n",
       "      <td>2021-07-24 13:30:27.883259</td>\n",
       "      <td>awesome app A</td>\n",
       "      <td>ES</td>\n",
       "      <td>interstitial</td>\n",
       "    </tr>\n",
       "    <tr>\n",
       "      <th>1511</th>\n",
       "      <td>71</td>\n",
       "      <td>0.813679</td>\n",
       "      <td>2021-08-14 13:30:27.883259</td>\n",
       "      <td>awesome app A</td>\n",
       "      <td>JP</td>\n",
       "      <td>banner</td>\n",
       "    </tr>\n",
       "    <tr>\n",
       "      <th>373</th>\n",
       "      <td>13</td>\n",
       "      <td>0.771300</td>\n",
       "      <td>2021-06-17 13:30:27.883259</td>\n",
       "      <td>awesome app A</td>\n",
       "      <td>CA</td>\n",
       "      <td>banner</td>\n",
       "    </tr>\n",
       "    <tr>\n",
       "      <th>4158</th>\n",
       "      <td>18</td>\n",
       "      <td>0.758480</td>\n",
       "      <td>2021-06-22 13:30:27.883259</td>\n",
       "      <td>brilliant app B</td>\n",
       "      <td>DE</td>\n",
       "      <td>banner</td>\n",
       "    </tr>\n",
       "  </tbody>\n",
       "</table>\n",
       "</div>"
      ],
      "text/plain": [
       "      Unnamed: 0  ecpm_value                        date              app  \\\n",
       "4000          40    0.721260  2021-07-14 13:30:27.883259  brilliant app B   \n",
       "3020          50    9.033572  2021-07-24 13:30:27.883259    awesome app A   \n",
       "1511          71    0.813679  2021-08-14 13:30:27.883259    awesome app A   \n",
       "373           13    0.771300  2021-06-17 13:30:27.883259    awesome app A   \n",
       "4158          18    0.758480  2021-06-22 13:30:27.883259  brilliant app B   \n",
       "\n",
       "     country     ecpm_type  \n",
       "4000      BR        banner  \n",
       "3020      ES  interstitial  \n",
       "1511      JP        banner  \n",
       "373       CA        banner  \n",
       "4158      DE        banner  "
      ]
     },
     "execution_count": 2,
     "metadata": {},
     "output_type": "execute_result"
    }
   ],
   "source": [
    "# the first dataset which shows the effective cost per mile(ecpm), value and date of each of them\n",
    "df_A=pd.read_csv('ecpm_aggr.csv')\n",
    "df_A.sample(5)"
   ]
  },
  {
   "cell_type": "code",
   "execution_count": 3,
   "metadata": {
    "scrolled": true
   },
   "outputs": [
    {
     "data": {
      "text/html": [
       "<div>\n",
       "<style scoped>\n",
       "    .dataframe tbody tr th:only-of-type {\n",
       "        vertical-align: middle;\n",
       "    }\n",
       "\n",
       "    .dataframe tbody tr th {\n",
       "        vertical-align: top;\n",
       "    }\n",
       "\n",
       "    .dataframe thead th {\n",
       "        text-align: right;\n",
       "    }\n",
       "</style>\n",
       "<table border=\"1\" class=\"dataframe\">\n",
       "  <thead>\n",
       "    <tr style=\"text-align: right;\">\n",
       "      <th></th>\n",
       "      <th>Unnamed: 0</th>\n",
       "      <th>date</th>\n",
       "      <th>app</th>\n",
       "      <th>version</th>\n",
       "      <th>network</th>\n",
       "      <th>event_type</th>\n",
       "      <th>installs</th>\n",
       "      <th>days_after_installs</th>\n",
       "      <th>country</th>\n",
       "      <th>events_amount</th>\n",
       "    </tr>\n",
       "  </thead>\n",
       "  <tbody>\n",
       "    <tr>\n",
       "      <th>0</th>\n",
       "      <td>0</td>\n",
       "      <td>2021-06-30 14:25:35.063117</td>\n",
       "      <td>awesome app A</td>\n",
       "      <td>1.0</td>\n",
       "      <td>AdNetwork P</td>\n",
       "      <td>interstitial</td>\n",
       "      <td>95897</td>\n",
       "      <td>0</td>\n",
       "      <td>US</td>\n",
       "      <td>757128.0</td>\n",
       "    </tr>\n",
       "    <tr>\n",
       "      <th>1</th>\n",
       "      <td>1</td>\n",
       "      <td>2021-06-30 14:25:35.063117</td>\n",
       "      <td>awesome app A</td>\n",
       "      <td>1.0</td>\n",
       "      <td>AdNetwork P</td>\n",
       "      <td>interstitial</td>\n",
       "      <td>95897</td>\n",
       "      <td>1</td>\n",
       "      <td>US</td>\n",
       "      <td>799973.0</td>\n",
       "    </tr>\n",
       "    <tr>\n",
       "      <th>2</th>\n",
       "      <td>2</td>\n",
       "      <td>2021-06-30 14:25:35.063117</td>\n",
       "      <td>awesome app A</td>\n",
       "      <td>1.0</td>\n",
       "      <td>AdNetwork P</td>\n",
       "      <td>interstitial</td>\n",
       "      <td>95897</td>\n",
       "      <td>2</td>\n",
       "      <td>US</td>\n",
       "      <td>655098.0</td>\n",
       "    </tr>\n",
       "    <tr>\n",
       "      <th>3</th>\n",
       "      <td>3</td>\n",
       "      <td>2021-06-30 14:25:35.063117</td>\n",
       "      <td>awesome app A</td>\n",
       "      <td>1.0</td>\n",
       "      <td>AdNetwork P</td>\n",
       "      <td>interstitial</td>\n",
       "      <td>95897</td>\n",
       "      <td>3</td>\n",
       "      <td>US</td>\n",
       "      <td>713709.0</td>\n",
       "    </tr>\n",
       "    <tr>\n",
       "      <th>4</th>\n",
       "      <td>4</td>\n",
       "      <td>2021-06-30 14:25:35.063117</td>\n",
       "      <td>awesome app A</td>\n",
       "      <td>1.0</td>\n",
       "      <td>AdNetwork P</td>\n",
       "      <td>interstitial</td>\n",
       "      <td>95897</td>\n",
       "      <td>4</td>\n",
       "      <td>US</td>\n",
       "      <td>588658.0</td>\n",
       "    </tr>\n",
       "  </tbody>\n",
       "</table>\n",
       "</div>"
      ],
      "text/plain": [
       "   Unnamed: 0                        date            app  version  \\\n",
       "0           0  2021-06-30 14:25:35.063117  awesome app A      1.0   \n",
       "1           1  2021-06-30 14:25:35.063117  awesome app A      1.0   \n",
       "2           2  2021-06-30 14:25:35.063117  awesome app A      1.0   \n",
       "3           3  2021-06-30 14:25:35.063117  awesome app A      1.0   \n",
       "4           4  2021-06-30 14:25:35.063117  awesome app A      1.0   \n",
       "\n",
       "       network    event_type  installs  days_after_installs country  \\\n",
       "0  AdNetwork P  interstitial     95897                    0      US   \n",
       "1  AdNetwork P  interstitial     95897                    1      US   \n",
       "2  AdNetwork P  interstitial     95897                    2      US   \n",
       "3  AdNetwork P  interstitial     95897                    3      US   \n",
       "4  AdNetwork P  interstitial     95897                    4      US   \n",
       "\n",
       "   events_amount  \n",
       "0       757128.0  \n",
       "1       799973.0  \n",
       "2       655098.0  \n",
       "3       713709.0  \n",
       "4       588658.0  "
      ]
     },
     "execution_count": 3,
     "metadata": {},
     "output_type": "execute_result"
    }
   ],
   "source": [
    "# The second dataset which has the events amount , the version and also event type which is so important\n",
    "df_B=pd.read_csv('events_data.csv')\n",
    "df_B.head(5)"
   ]
  },
  {
   "cell_type": "code",
   "execution_count": 4,
   "metadata": {
    "scrolled": true
   },
   "outputs": [
    {
     "name": "stdout",
     "output_type": "stream",
     "text": [
      "<class 'pandas.core.frame.DataFrame'>\n",
      "RangeIndex: 6120 entries, 0 to 6119\n",
      "Data columns (total 6 columns):\n",
      " #   Column      Non-Null Count  Dtype  \n",
      "---  ------      --------------  -----  \n",
      " 0   Unnamed: 0  6120 non-null   int64  \n",
      " 1   ecpm_value  6120 non-null   float64\n",
      " 2   date        6120 non-null   object \n",
      " 3   app         6120 non-null   object \n",
      " 4   country     6120 non-null   object \n",
      " 5   ecpm_type   6120 non-null   object \n",
      "dtypes: float64(1), int64(1), object(4)\n",
      "memory usage: 287.0+ KB\n"
     ]
    }
   ],
   "source": [
    "df_A.info()"
   ]
  },
  {
   "cell_type": "markdown",
   "metadata": {},
   "source": [
    "As you see, the first dataset( mobile advertisement ) has 6 columns which we want to drop the first one and rest of them are float and integer.\n",
    "1-ecpm_value=effective cost per mile\n",
    "2-date=the date and time \n",
    "3-app=Type of App\n",
    "4-country\n",
    "5-ecpm_type=type of event\n",
    "6-installs\n",
    "7-days_after_installs\n",
    "8-country\n",
    "10-events_amount"
   ]
  },
  {
   "cell_type": "code",
   "execution_count": 5,
   "metadata": {
    "scrolled": true
   },
   "outputs": [
    {
     "name": "stdout",
     "output_type": "stream",
     "text": [
      "<class 'pandas.core.frame.DataFrame'>\n",
      "RangeIndex: 835380 entries, 0 to 835379\n",
      "Data columns (total 10 columns):\n",
      " #   Column               Non-Null Count   Dtype  \n",
      "---  ------               --------------   -----  \n",
      " 0   Unnamed: 0           835380 non-null  int64  \n",
      " 1   date                 835380 non-null  object \n",
      " 2   app                  835380 non-null  object \n",
      " 3   version              835380 non-null  float64\n",
      " 4   network              835380 non-null  object \n",
      " 5   event_type           835380 non-null  object \n",
      " 6   installs             835380 non-null  int64  \n",
      " 7   days_after_installs  835380 non-null  int64  \n",
      " 8   country              835380 non-null  object \n",
      " 9   events_amount        835380 non-null  float64\n",
      "dtypes: float64(2), int64(3), object(5)\n",
      "memory usage: 63.7+ MB\n"
     ]
    }
   ],
   "source": [
    "df_B.info()"
   ]
  },
  {
   "cell_type": "markdown",
   "metadata": {},
   "source": [
    "define the columns(we will drop the first column) :\n",
    "1-date\n",
    "2-app \n",
    "3-3-Version=type of version\n",
    "4-network=type of network\n",
    "5-event_type"
   ]
  },
  {
   "cell_type": "code",
   "execution_count": 6,
   "metadata": {},
   "outputs": [
    {
     "data": {
      "text/plain": [
       "(6120, 6)"
      ]
     },
     "execution_count": 6,
     "metadata": {},
     "output_type": "execute_result"
    }
   ],
   "source": [
    "# Number of the rows and columns \n",
    "df_A.shape"
   ]
  },
  {
   "cell_type": "code",
   "execution_count": 7,
   "metadata": {},
   "outputs": [
    {
     "data": {
      "text/plain": [
       "(835380, 10)"
      ]
     },
     "execution_count": 7,
     "metadata": {},
     "output_type": "execute_result"
    }
   ],
   "source": [
    "#The number of the rows and columns (mobile app advertisment)\n",
    "df_B.shape"
   ]
  },
  {
   "cell_type": "code",
   "execution_count": 8,
   "metadata": {},
   "outputs": [
    {
     "data": {
      "image/png": "[encoded data removed]",
      "text/plain": [
       "<Figure size 720x360 with 2 Axes>"
      ]
     },
     "metadata": {
      "needs_background": "light"
     },
     "output_type": "display_data"
    }
   ],
   "source": [
    "# The first data set does not have any missing values\n",
    "plt.figure(figsize=(10,5))\n",
    "sns.heatmap(df_A.isnull());"
   ]
  },
  {
   "cell_type": "code",
   "execution_count": 9,
   "metadata": {},
   "outputs": [
    {
     "data": {
      "image/png": "[encoded data removed]",
      "text/plain": [
       "<Figure size 720x360 with 2 Axes>"
      ]
     },
     "metadata": {
      "needs_background": "light"
     },
     "output_type": "display_data"
    }
   ],
   "source": [
    "# The second data set does not have any missing values\n",
    "plt.figure(figsize=(10,5))\n",
    "sns.heatmap(df_B.isnull());"
   ]
  },
  {
   "cell_type": "code",
   "execution_count": 10,
   "metadata": {},
   "outputs": [],
   "source": [
    "df_A.drop(columns='Unnamed: 0',inplace=True)\n",
    "df_B.drop(columns='Unnamed: 0',inplace=True)"
   ]
  },
  {
   "cell_type": "code",
   "execution_count": 11,
   "metadata": {},
   "outputs": [
    {
     "data": {
      "text/html": [
       "<div>\n",
       "<style scoped>\n",
       "    .dataframe tbody tr th:only-of-type {\n",
       "        vertical-align: middle;\n",
       "    }\n",
       "\n",
       "    .dataframe tbody tr th {\n",
       "        vertical-align: top;\n",
       "    }\n",
       "\n",
       "    .dataframe thead th {\n",
       "        text-align: right;\n",
       "    }\n",
       "</style>\n",
       "<table border=\"1\" class=\"dataframe\">\n",
       "  <thead>\n",
       "    <tr style=\"text-align: right;\">\n",
       "      <th></th>\n",
       "      <th>ecpm_value</th>\n",
       "      <th>date</th>\n",
       "      <th>app</th>\n",
       "      <th>country</th>\n",
       "      <th>ecpm_type</th>\n",
       "    </tr>\n",
       "  </thead>\n",
       "  <tbody>\n",
       "    <tr>\n",
       "      <th>0</th>\n",
       "      <td>0.757282</td>\n",
       "      <td>2021-06-04 13:30:27.883259</td>\n",
       "      <td>awesome app A</td>\n",
       "      <td>US</td>\n",
       "      <td>banner</td>\n",
       "    </tr>\n",
       "    <tr>\n",
       "      <th>1</th>\n",
       "      <td>0.788831</td>\n",
       "      <td>2021-06-05 13:30:27.883259</td>\n",
       "      <td>awesome app A</td>\n",
       "      <td>US</td>\n",
       "      <td>banner</td>\n",
       "    </tr>\n",
       "    <tr>\n",
       "      <th>2</th>\n",
       "      <td>0.796442</td>\n",
       "      <td>2021-06-06 13:30:27.883259</td>\n",
       "      <td>awesome app A</td>\n",
       "      <td>US</td>\n",
       "      <td>banner</td>\n",
       "    </tr>\n",
       "    <tr>\n",
       "      <th>3</th>\n",
       "      <td>0.807773</td>\n",
       "      <td>2021-06-07 13:30:27.883259</td>\n",
       "      <td>awesome app A</td>\n",
       "      <td>US</td>\n",
       "      <td>banner</td>\n",
       "    </tr>\n",
       "    <tr>\n",
       "      <th>4</th>\n",
       "      <td>0.747525</td>\n",
       "      <td>2021-06-08 13:30:27.883259</td>\n",
       "      <td>awesome app A</td>\n",
       "      <td>US</td>\n",
       "      <td>banner</td>\n",
       "    </tr>\n",
       "  </tbody>\n",
       "</table>\n",
       "</div>"
      ],
      "text/plain": [
       "   ecpm_value                        date            app country ecpm_type\n",
       "0    0.757282  2021-06-04 13:30:27.883259  awesome app A      US    banner\n",
       "1    0.788831  2021-06-05 13:30:27.883259  awesome app A      US    banner\n",
       "2    0.796442  2021-06-06 13:30:27.883259  awesome app A      US    banner\n",
       "3    0.807773  2021-06-07 13:30:27.883259  awesome app A      US    banner\n",
       "4    0.747525  2021-06-08 13:30:27.883259  awesome app A      US    banner"
      ]
     },
     "execution_count": 11,
     "metadata": {},
     "output_type": "execute_result"
    }
   ],
   "source": [
    "# We drop the fist column which is not necessary\n",
    "df_A.head(5)"
   ]
  },
  {
   "cell_type": "code",
   "execution_count": 12,
   "metadata": {},
   "outputs": [
    {
     "data": {
      "text/html": [
       "<div>\n",
       "<style scoped>\n",
       "    .dataframe tbody tr th:only-of-type {\n",
       "        vertical-align: middle;\n",
       "    }\n",
       "\n",
       "    .dataframe tbody tr th {\n",
       "        vertical-align: top;\n",
       "    }\n",
       "\n",
       "    .dataframe thead th {\n",
       "        text-align: right;\n",
       "    }\n",
       "</style>\n",
       "<table border=\"1\" class=\"dataframe\">\n",
       "  <thead>\n",
       "    <tr style=\"text-align: right;\">\n",
       "      <th></th>\n",
       "      <th>date</th>\n",
       "      <th>app</th>\n",
       "      <th>version</th>\n",
       "      <th>network</th>\n",
       "      <th>event_type</th>\n",
       "      <th>installs</th>\n",
       "      <th>days_after_installs</th>\n",
       "      <th>country</th>\n",
       "      <th>events_amount</th>\n",
       "    </tr>\n",
       "  </thead>\n",
       "  <tbody>\n",
       "    <tr>\n",
       "      <th>0</th>\n",
       "      <td>2021-06-30 14:25:35.063117</td>\n",
       "      <td>awesome app A</td>\n",
       "      <td>1.0</td>\n",
       "      <td>AdNetwork P</td>\n",
       "      <td>interstitial</td>\n",
       "      <td>95897</td>\n",
       "      <td>0</td>\n",
       "      <td>US</td>\n",
       "      <td>757128.0</td>\n",
       "    </tr>\n",
       "    <tr>\n",
       "      <th>1</th>\n",
       "      <td>2021-06-30 14:25:35.063117</td>\n",
       "      <td>awesome app A</td>\n",
       "      <td>1.0</td>\n",
       "      <td>AdNetwork P</td>\n",
       "      <td>interstitial</td>\n",
       "      <td>95897</td>\n",
       "      <td>1</td>\n",
       "      <td>US</td>\n",
       "      <td>799973.0</td>\n",
       "    </tr>\n",
       "    <tr>\n",
       "      <th>2</th>\n",
       "      <td>2021-06-30 14:25:35.063117</td>\n",
       "      <td>awesome app A</td>\n",
       "      <td>1.0</td>\n",
       "      <td>AdNetwork P</td>\n",
       "      <td>interstitial</td>\n",
       "      <td>95897</td>\n",
       "      <td>2</td>\n",
       "      <td>US</td>\n",
       "      <td>655098.0</td>\n",
       "    </tr>\n",
       "    <tr>\n",
       "      <th>3</th>\n",
       "      <td>2021-06-30 14:25:35.063117</td>\n",
       "      <td>awesome app A</td>\n",
       "      <td>1.0</td>\n",
       "      <td>AdNetwork P</td>\n",
       "      <td>interstitial</td>\n",
       "      <td>95897</td>\n",
       "      <td>3</td>\n",
       "      <td>US</td>\n",
       "      <td>713709.0</td>\n",
       "    </tr>\n",
       "    <tr>\n",
       "      <th>4</th>\n",
       "      <td>2021-06-30 14:25:35.063117</td>\n",
       "      <td>awesome app A</td>\n",
       "      <td>1.0</td>\n",
       "      <td>AdNetwork P</td>\n",
       "      <td>interstitial</td>\n",
       "      <td>95897</td>\n",
       "      <td>4</td>\n",
       "      <td>US</td>\n",
       "      <td>588658.0</td>\n",
       "    </tr>\n",
       "  </tbody>\n",
       "</table>\n",
       "</div>"
      ],
      "text/plain": [
       "                         date            app  version      network  \\\n",
       "0  2021-06-30 14:25:35.063117  awesome app A      1.0  AdNetwork P   \n",
       "1  2021-06-30 14:25:35.063117  awesome app A      1.0  AdNetwork P   \n",
       "2  2021-06-30 14:25:35.063117  awesome app A      1.0  AdNetwork P   \n",
       "3  2021-06-30 14:25:35.063117  awesome app A      1.0  AdNetwork P   \n",
       "4  2021-06-30 14:25:35.063117  awesome app A      1.0  AdNetwork P   \n",
       "\n",
       "     event_type  installs  days_after_installs country  events_amount  \n",
       "0  interstitial     95897                    0      US       757128.0  \n",
       "1  interstitial     95897                    1      US       799973.0  \n",
       "2  interstitial     95897                    2      US       655098.0  \n",
       "3  interstitial     95897                    3      US       713709.0  \n",
       "4  interstitial     95897                    4      US       588658.0  "
      ]
     },
     "execution_count": 12,
     "metadata": {},
     "output_type": "execute_result"
    }
   ],
   "source": [
    "df_B.head(5)"
   ]
  },
  {
   "cell_type": "code",
   "execution_count": 13,
   "metadata": {},
   "outputs": [
    {
     "data": {
      "text/plain": [
       "awesome app A      50.0\n",
       "brilliant app B    50.0\n",
       "Name: app, dtype: float64"
      ]
     },
     "execution_count": 13,
     "metadata": {},
     "output_type": "execute_result"
    }
   ],
   "source": [
    "df_A['app'].value_counts(normalize=True)*100"
   ]
  },
  {
   "cell_type": "markdown",
   "metadata": {},
   "source": [
    "on the top, we distribute the type of applications and it shows awesome A and Brilliant B has the same percentage ."
   ]
  },
  {
   "cell_type": "code",
   "execution_count": 14,
   "metadata": {},
   "outputs": [
    {
     "data": {
      "text/plain": [
       "2.0    44.358974\n",
       "1.0    25.384615\n",
       "1.1    18.168498\n",
       "2.2    12.087912\n",
       "Name: version, dtype: float64"
      ]
     },
     "execution_count": 14,
     "metadata": {},
     "output_type": "execute_result"
    }
   ],
   "source": [
    "df_B['version'].value_counts(normalize=True)*100"
   ]
  },
  {
   "cell_type": "markdown",
   "metadata": {},
   "source": [
    "On the top, we distribute the type of versions and it shows that version 2 has the highest %(44.35) and after this, bersion 1 with the 25 % has the second hghest percent "
   ]
  },
  {
   "cell_type": "code",
   "execution_count": 15,
   "metadata": {},
   "outputs": [
    {
     "data": {
      "text/plain": [
       "banner          50.0\n",
       "interstitial    50.0\n",
       "Name: event_type, dtype: float64"
      ]
     },
     "execution_count": 15,
     "metadata": {},
     "output_type": "execute_result"
    }
   ],
   "source": [
    "df_B['event_type'].value_counts(normalize=True)*100"
   ]
  },
  {
   "cell_type": "markdown",
   "metadata": {},
   "source": [
    "on the top, we distribute the type of events and it shows banner and interstitial has the same percentage ."
   ]
  },
  {
   "cell_type": "code",
   "execution_count": 16,
   "metadata": {},
   "outputs": [
    {
     "data": {
      "text/html": [
       "<div>\n",
       "<style scoped>\n",
       "    .dataframe tbody tr th:only-of-type {\n",
       "        vertical-align: middle;\n",
       "    }\n",
       "\n",
       "    .dataframe tbody tr th {\n",
       "        vertical-align: top;\n",
       "    }\n",
       "\n",
       "    .dataframe thead th {\n",
       "        text-align: right;\n",
       "    }\n",
       "</style>\n",
       "<table border=\"1\" class=\"dataframe\">\n",
       "  <thead>\n",
       "    <tr style=\"text-align: right;\">\n",
       "      <th></th>\n",
       "      <th>ecpm_value</th>\n",
       "    </tr>\n",
       "    <tr>\n",
       "      <th>app</th>\n",
       "      <th></th>\n",
       "    </tr>\n",
       "  </thead>\n",
       "  <tbody>\n",
       "    <tr>\n",
       "      <th>brilliant app B</th>\n",
       "      <td>5.408001</td>\n",
       "    </tr>\n",
       "    <tr>\n",
       "      <th>awesome app A</th>\n",
       "      <td>5.413568</td>\n",
       "    </tr>\n",
       "  </tbody>\n",
       "</table>\n",
       "</div>"
      ],
      "text/plain": [
       "                 ecpm_value\n",
       "app                        \n",
       "brilliant app B    5.408001\n",
       "awesome app A      5.413568"
      ]
     },
     "execution_count": 16,
     "metadata": {},
     "output_type": "execute_result"
    }
   ],
   "source": [
    "# we want to use groupby with the country and ecpm_value(effective cost per mile)\n",
    "df_A.groupby('app').mean().sort_values('ecpm_value',ascending=True)"
   ]
  },
  {
   "cell_type": "markdown",
   "metadata": {},
   "source": [
    "As you see on the top, we use the first dataset mobile app with distribute the app and the mean of the effective cost per mile.both of the Brilliant app B and Awesome app A has the the same mean ecpm_value."
   ]
  },
  {
   "cell_type": "code",
   "execution_count": 17,
   "metadata": {},
   "outputs": [
    {
     "data": {
      "text/html": [
       "<div>\n",
       "<style scoped>\n",
       "    .dataframe tbody tr th:only-of-type {\n",
       "        vertical-align: middle;\n",
       "    }\n",
       "\n",
       "    .dataframe tbody tr th {\n",
       "        vertical-align: top;\n",
       "    }\n",
       "\n",
       "    .dataframe thead th {\n",
       "        text-align: right;\n",
       "    }\n",
       "</style>\n",
       "<table border=\"1\" class=\"dataframe\">\n",
       "  <thead>\n",
       "    <tr style=\"text-align: right;\">\n",
       "      <th></th>\n",
       "      <th>ecpm_value</th>\n",
       "    </tr>\n",
       "    <tr>\n",
       "      <th>ecpm_type</th>\n",
       "      <th></th>\n",
       "    </tr>\n",
       "  </thead>\n",
       "  <tbody>\n",
       "    <tr>\n",
       "      <th>banner</th>\n",
       "      <td>0.707727</td>\n",
       "    </tr>\n",
       "    <tr>\n",
       "      <th>interstitial</th>\n",
       "      <td>10.113841</td>\n",
       "    </tr>\n",
       "  </tbody>\n",
       "</table>\n",
       "</div>"
      ],
      "text/plain": [
       "              ecpm_value\n",
       "ecpm_type               \n",
       "banner          0.707727\n",
       "interstitial   10.113841"
      ]
     },
     "execution_count": 17,
     "metadata": {},
     "output_type": "execute_result"
    }
   ],
   "source": [
    "df_A.groupby('ecpm_type').mean().sort_values('ecpm_value',ascending=True)"
   ]
  },
  {
   "cell_type": "markdown",
   "metadata": {},
   "source": [
    "Like the previous one, for the first dataset,the mean ecpm value for interstitial is almost 10 and for banner is less than 1."
   ]
  },
  {
   "cell_type": "code",
   "execution_count": 18,
   "metadata": {},
   "outputs": [
    {
     "data": {
      "text/html": [
       "<div>\n",
       "<style scoped>\n",
       "    .dataframe tbody tr th:only-of-type {\n",
       "        vertical-align: middle;\n",
       "    }\n",
       "\n",
       "    .dataframe tbody tr th {\n",
       "        vertical-align: top;\n",
       "    }\n",
       "\n",
       "    .dataframe thead th {\n",
       "        text-align: right;\n",
       "    }\n",
       "</style>\n",
       "<table border=\"1\" class=\"dataframe\">\n",
       "  <thead>\n",
       "    <tr style=\"text-align: right;\">\n",
       "      <th></th>\n",
       "      <th>version</th>\n",
       "      <th>installs</th>\n",
       "      <th>days_after_installs</th>\n",
       "      <th>events_amount</th>\n",
       "    </tr>\n",
       "    <tr>\n",
       "      <th>event_type</th>\n",
       "      <th></th>\n",
       "      <th></th>\n",
       "      <th></th>\n",
       "      <th></th>\n",
       "    </tr>\n",
       "  </thead>\n",
       "  <tbody>\n",
       "    <tr>\n",
       "      <th>interstitial</th>\n",
       "      <td>1.606813</td>\n",
       "      <td>93760.078022</td>\n",
       "      <td>29.666667</td>\n",
       "      <td>2.088088e+05</td>\n",
       "    </tr>\n",
       "    <tr>\n",
       "      <th>banner</th>\n",
       "      <td>1.606813</td>\n",
       "      <td>93760.078022</td>\n",
       "      <td>29.666667</td>\n",
       "      <td>3.319056e+06</td>\n",
       "    </tr>\n",
       "  </tbody>\n",
       "</table>\n",
       "</div>"
      ],
      "text/plain": [
       "               version      installs  days_after_installs  events_amount\n",
       "event_type                                                              \n",
       "interstitial  1.606813  93760.078022            29.666667   2.088088e+05\n",
       "banner        1.606813  93760.078022            29.666667   3.319056e+06"
      ]
     },
     "execution_count": 18,
     "metadata": {},
     "output_type": "execute_result"
    }
   ],
   "source": [
    "df_B.groupby('event_type').mean().sort_values('events_amount',ascending=True)"
   ]
  },
  {
   "cell_type": "markdown",
   "metadata": {},
   "source": [
    "We use the second the dataset then we distribute the Event type with amount of them from top to down.it shows that the maean amount  of banner is more than interstitial."
   ]
  },
  {
   "cell_type": "code",
   "execution_count": 19,
   "metadata": {},
   "outputs": [
    {
     "data": {
      "text/html": [
       "<div>\n",
       "<style scoped>\n",
       "    .dataframe tbody tr th:only-of-type {\n",
       "        vertical-align: middle;\n",
       "    }\n",
       "\n",
       "    .dataframe tbody tr th {\n",
       "        vertical-align: top;\n",
       "    }\n",
       "\n",
       "    .dataframe thead th {\n",
       "        text-align: right;\n",
       "    }\n",
       "</style>\n",
       "<table border=\"1\" class=\"dataframe\">\n",
       "  <thead>\n",
       "    <tr style=\"text-align: right;\">\n",
       "      <th></th>\n",
       "      <th>version</th>\n",
       "      <th>installs</th>\n",
       "      <th>days_after_installs</th>\n",
       "      <th>events_amount</th>\n",
       "    </tr>\n",
       "    <tr>\n",
       "      <th>network</th>\n",
       "      <th></th>\n",
       "      <th></th>\n",
       "      <th></th>\n",
       "      <th></th>\n",
       "    </tr>\n",
       "  </thead>\n",
       "  <tbody>\n",
       "    <tr>\n",
       "      <th>AdNetwork S</th>\n",
       "      <td>1.606813</td>\n",
       "      <td>81666.501451</td>\n",
       "      <td>29.666667</td>\n",
       "      <td>1.537802e+06</td>\n",
       "    </tr>\n",
       "    <tr>\n",
       "      <th>AdNetwork P</th>\n",
       "      <td>1.606813</td>\n",
       "      <td>90737.579466</td>\n",
       "      <td>29.666667</td>\n",
       "      <td>1.704946e+06</td>\n",
       "    </tr>\n",
       "    <tr>\n",
       "      <th>AdNetwork Q</th>\n",
       "      <td>1.606813</td>\n",
       "      <td>108876.153149</td>\n",
       "      <td>29.666667</td>\n",
       "      <td>2.049049e+06</td>\n",
       "    </tr>\n",
       "  </tbody>\n",
       "</table>\n",
       "</div>"
      ],
      "text/plain": [
       "              version       installs  days_after_installs  events_amount\n",
       "network                                                                 \n",
       "AdNetwork S  1.606813   81666.501451            29.666667   1.537802e+06\n",
       "AdNetwork P  1.606813   90737.579466            29.666667   1.704946e+06\n",
       "AdNetwork Q  1.606813  108876.153149            29.666667   2.049049e+06"
      ]
     },
     "execution_count": 19,
     "metadata": {},
     "output_type": "execute_result"
    }
   ],
   "source": [
    "df_B.groupby('network').mean().sort_values('installs',ascending=True)"
   ]
  },
  {
   "cell_type": "markdown",
   "metadata": {},
   "source": [
    "Like the prevous one, we have 3 different network( s, p, q) and mean of the installs per day is shown on the graph.Adnetwork Q has the highest portion, almost 108876 installs and then Adnetwork P is the second one with 90737 installs."
   ]
  },
  {
   "cell_type": "code",
   "execution_count": 20,
   "metadata": {},
   "outputs": [
    {
     "data": {
      "text/html": [
       "<div>\n",
       "<style scoped>\n",
       "    .dataframe tbody tr th:only-of-type {\n",
       "        vertical-align: middle;\n",
       "    }\n",
       "\n",
       "    .dataframe tbody tr th {\n",
       "        vertical-align: top;\n",
       "    }\n",
       "\n",
       "    .dataframe thead th {\n",
       "        text-align: right;\n",
       "    }\n",
       "</style>\n",
       "<table border=\"1\" class=\"dataframe\">\n",
       "  <thead>\n",
       "    <tr style=\"text-align: right;\">\n",
       "      <th></th>\n",
       "      <th>version</th>\n",
       "      <th>installs</th>\n",
       "      <th>days_after_installs</th>\n",
       "      <th>events_amount</th>\n",
       "    </tr>\n",
       "    <tr>\n",
       "      <th>country</th>\n",
       "      <th></th>\n",
       "      <th></th>\n",
       "      <th></th>\n",
       "      <th></th>\n",
       "    </tr>\n",
       "  </thead>\n",
       "  <tbody>\n",
       "    <tr>\n",
       "      <th>TR</th>\n",
       "      <td>1.606813</td>\n",
       "      <td>107272.068295</td>\n",
       "      <td>29.666667</td>\n",
       "      <td>2.025884e+06</td>\n",
       "    </tr>\n",
       "    <tr>\n",
       "      <th>MX</th>\n",
       "      <td>1.606813</td>\n",
       "      <td>105638.001547</td>\n",
       "      <td>29.666667</td>\n",
       "      <td>1.980971e+06</td>\n",
       "    </tr>\n",
       "    <tr>\n",
       "      <th>GB</th>\n",
       "      <td>1.606813</td>\n",
       "      <td>103327.120757</td>\n",
       "      <td>29.666667</td>\n",
       "      <td>1.958232e+06</td>\n",
       "    </tr>\n",
       "    <tr>\n",
       "      <th>IT</th>\n",
       "      <td>1.606813</td>\n",
       "      <td>103861.706634</td>\n",
       "      <td>29.666667</td>\n",
       "      <td>1.948445e+06</td>\n",
       "    </tr>\n",
       "    <tr>\n",
       "      <th>JP</th>\n",
       "      <td>1.606813</td>\n",
       "      <td>102797.477127</td>\n",
       "      <td>29.666667</td>\n",
       "      <td>1.933218e+06</td>\n",
       "    </tr>\n",
       "    <tr>\n",
       "      <th>VN</th>\n",
       "      <td>1.606813</td>\n",
       "      <td>100914.226292</td>\n",
       "      <td>29.666667</td>\n",
       "      <td>1.897654e+06</td>\n",
       "    </tr>\n",
       "    <tr>\n",
       "      <th>US</th>\n",
       "      <td>1.606813</td>\n",
       "      <td>99078.082051</td>\n",
       "      <td>29.666667</td>\n",
       "      <td>1.854169e+06</td>\n",
       "    </tr>\n",
       "    <tr>\n",
       "      <th>RU</th>\n",
       "      <td>1.606813</td>\n",
       "      <td>96095.716036</td>\n",
       "      <td>29.666667</td>\n",
       "      <td>1.813837e+06</td>\n",
       "    </tr>\n",
       "    <tr>\n",
       "      <th>IN</th>\n",
       "      <td>1.606813</td>\n",
       "      <td>90053.430810</td>\n",
       "      <td>29.666667</td>\n",
       "      <td>1.706235e+06</td>\n",
       "    </tr>\n",
       "    <tr>\n",
       "      <th>KR</th>\n",
       "      <td>1.606813</td>\n",
       "      <td>90585.306838</td>\n",
       "      <td>29.666667</td>\n",
       "      <td>1.692054e+06</td>\n",
       "    </tr>\n",
       "    <tr>\n",
       "      <th>FR</th>\n",
       "      <td>1.606813</td>\n",
       "      <td>87018.037892</td>\n",
       "      <td>29.666667</td>\n",
       "      <td>1.640277e+06</td>\n",
       "    </tr>\n",
       "    <tr>\n",
       "      <th>CA</th>\n",
       "      <td>1.606813</td>\n",
       "      <td>87029.078185</td>\n",
       "      <td>29.666667</td>\n",
       "      <td>1.633443e+06</td>\n",
       "    </tr>\n",
       "    <tr>\n",
       "      <th>AU</th>\n",
       "      <td>1.606813</td>\n",
       "      <td>85687.537648</td>\n",
       "      <td>29.666667</td>\n",
       "      <td>1.612378e+06</td>\n",
       "    </tr>\n",
       "    <tr>\n",
       "      <th>DE</th>\n",
       "      <td>1.606813</td>\n",
       "      <td>85671.266626</td>\n",
       "      <td>29.666667</td>\n",
       "      <td>1.610327e+06</td>\n",
       "    </tr>\n",
       "    <tr>\n",
       "      <th>BR</th>\n",
       "      <td>1.606813</td>\n",
       "      <td>83535.103500</td>\n",
       "      <td>29.666667</td>\n",
       "      <td>1.573926e+06</td>\n",
       "    </tr>\n",
       "    <tr>\n",
       "      <th>ID</th>\n",
       "      <td>1.606813</td>\n",
       "      <td>82621.000407</td>\n",
       "      <td>29.666667</td>\n",
       "      <td>1.556283e+06</td>\n",
       "    </tr>\n",
       "    <tr>\n",
       "      <th>ES</th>\n",
       "      <td>1.606813</td>\n",
       "      <td>82736.165731</td>\n",
       "      <td>29.666667</td>\n",
       "      <td>1.549515e+06</td>\n",
       "    </tr>\n",
       "  </tbody>\n",
       "</table>\n",
       "</div>"
      ],
      "text/plain": [
       "          version       installs  days_after_installs  events_amount\n",
       "country                                                             \n",
       "TR       1.606813  107272.068295            29.666667   2.025884e+06\n",
       "MX       1.606813  105638.001547            29.666667   1.980971e+06\n",
       "GB       1.606813  103327.120757            29.666667   1.958232e+06\n",
       "IT       1.606813  103861.706634            29.666667   1.948445e+06\n",
       "JP       1.606813  102797.477127            29.666667   1.933218e+06\n",
       "VN       1.606813  100914.226292            29.666667   1.897654e+06\n",
       "US       1.606813   99078.082051            29.666667   1.854169e+06\n",
       "RU       1.606813   96095.716036            29.666667   1.813837e+06\n",
       "IN       1.606813   90053.430810            29.666667   1.706235e+06\n",
       "KR       1.606813   90585.306838            29.666667   1.692054e+06\n",
       "FR       1.606813   87018.037892            29.666667   1.640277e+06\n",
       "CA       1.606813   87029.078185            29.666667   1.633443e+06\n",
       "AU       1.606813   85687.537648            29.666667   1.612378e+06\n",
       "DE       1.606813   85671.266626            29.666667   1.610327e+06\n",
       "BR       1.606813   83535.103500            29.666667   1.573926e+06\n",
       "ID       1.606813   82621.000407            29.666667   1.556283e+06\n",
       "ES       1.606813   82736.165731            29.666667   1.549515e+06"
      ]
     },
     "execution_count": 20,
     "metadata": {},
     "output_type": "execute_result"
    }
   ],
   "source": [
    "df_B.groupby('country').mean().sort_values('events_amount',ascending=False)"
   ]
  },
  {
   "cell_type": "markdown",
   "metadata": {},
   "source": [
    "We distribute the countries with the mean of events amount and it shows that TR has the first country with the highest amount and Estonia has the lowest one."
   ]
  },
  {
   "cell_type": "code",
   "execution_count": 21,
   "metadata": {
    "scrolled": true
   },
   "outputs": [
    {
     "data": {
      "text/html": [
       "<div>\n",
       "<style scoped>\n",
       "    .dataframe tbody tr th:only-of-type {\n",
       "        vertical-align: middle;\n",
       "    }\n",
       "\n",
       "    .dataframe tbody tr th {\n",
       "        vertical-align: top;\n",
       "    }\n",
       "\n",
       "    .dataframe thead th {\n",
       "        text-align: right;\n",
       "    }\n",
       "</style>\n",
       "<table border=\"1\" class=\"dataframe\">\n",
       "  <thead>\n",
       "    <tr style=\"text-align: right;\">\n",
       "      <th></th>\n",
       "      <th></th>\n",
       "      <th>ecpm_value</th>\n",
       "    </tr>\n",
       "    <tr>\n",
       "      <th>app</th>\n",
       "      <th>ecpm_type</th>\n",
       "      <th></th>\n",
       "    </tr>\n",
       "  </thead>\n",
       "  <tbody>\n",
       "    <tr>\n",
       "      <th rowspan=\"2\" valign=\"top\">awesome app A</th>\n",
       "      <th>banner</th>\n",
       "      <td>0.707944</td>\n",
       "    </tr>\n",
       "    <tr>\n",
       "      <th>interstitial</th>\n",
       "      <td>10.119192</td>\n",
       "    </tr>\n",
       "    <tr>\n",
       "      <th rowspan=\"2\" valign=\"top\">brilliant app B</th>\n",
       "      <th>banner</th>\n",
       "      <td>0.707510</td>\n",
       "    </tr>\n",
       "    <tr>\n",
       "      <th>interstitial</th>\n",
       "      <td>10.108491</td>\n",
       "    </tr>\n",
       "  </tbody>\n",
       "</table>\n",
       "</div>"
      ],
      "text/plain": [
       "                              ecpm_value\n",
       "app             ecpm_type               \n",
       "awesome app A   banner          0.707944\n",
       "                interstitial   10.119192\n",
       "brilliant app B banner          0.707510\n",
       "                interstitial   10.108491"
      ]
     },
     "execution_count": 21,
     "metadata": {},
     "output_type": "execute_result"
    }
   ],
   "source": [
    "pd.pivot_table(df_A, index=['app','ecpm_type'],values='ecpm_value')"
   ]
  },
  {
   "cell_type": "markdown",
   "metadata": {},
   "source": [
    "I use the Pivot with app and ecpm type  with the values ecpm_value.It shows that the average of ecpm for awesome app and banner type is .70 and for interstitial is 10,11.\n",
    "for the Brilliant app B and banner type , the average of the ecpm is .7075 and for interstitial is 10.10."
   ]
  },
  {
   "cell_type": "code",
   "execution_count": 22,
   "metadata": {
    "scrolled": true
   },
   "outputs": [
    {
     "data": {
      "text/html": [
       "<div>\n",
       "<style scoped>\n",
       "    .dataframe tbody tr th:only-of-type {\n",
       "        vertical-align: middle;\n",
       "    }\n",
       "\n",
       "    .dataframe tbody tr th {\n",
       "        vertical-align: top;\n",
       "    }\n",
       "\n",
       "    .dataframe thead th {\n",
       "        text-align: right;\n",
       "    }\n",
       "</style>\n",
       "<table border=\"1\" class=\"dataframe\">\n",
       "  <thead>\n",
       "    <tr style=\"text-align: right;\">\n",
       "      <th></th>\n",
       "      <th></th>\n",
       "      <th></th>\n",
       "      <th>events_amount</th>\n",
       "    </tr>\n",
       "    <tr>\n",
       "      <th>app</th>\n",
       "      <th>network</th>\n",
       "      <th>event_type</th>\n",
       "      <th></th>\n",
       "    </tr>\n",
       "  </thead>\n",
       "  <tbody>\n",
       "    <tr>\n",
       "      <th rowspan=\"6\" valign=\"top\">awesome app A</th>\n",
       "      <th rowspan=\"2\" valign=\"top\">AdNetwork P</th>\n",
       "      <th>banner</th>\n",
       "      <td>2.551106e+06</td>\n",
       "    </tr>\n",
       "    <tr>\n",
       "      <th>interstitial</th>\n",
       "      <td>2.022430e+05</td>\n",
       "    </tr>\n",
       "    <tr>\n",
       "      <th rowspan=\"2\" valign=\"top\">AdNetwork Q</th>\n",
       "      <th>banner</th>\n",
       "      <td>3.060149e+06</td>\n",
       "    </tr>\n",
       "    <tr>\n",
       "      <th>interstitial</th>\n",
       "      <td>2.429019e+05</td>\n",
       "    </tr>\n",
       "    <tr>\n",
       "      <th rowspan=\"2\" valign=\"top\">AdNetwork S</th>\n",
       "      <th>banner</th>\n",
       "      <td>2.298711e+06</td>\n",
       "    </tr>\n",
       "    <tr>\n",
       "      <th>interstitial</th>\n",
       "      <td>1.825846e+05</td>\n",
       "    </tr>\n",
       "    <tr>\n",
       "      <th rowspan=\"6\" valign=\"top\">brilliant app B</th>\n",
       "      <th rowspan=\"2\" valign=\"top\">AdNetwork P</th>\n",
       "      <th>banner</th>\n",
       "      <td>3.864303e+06</td>\n",
       "    </tr>\n",
       "    <tr>\n",
       "      <th>interstitial</th>\n",
       "      <td>2.021321e+05</td>\n",
       "    </tr>\n",
       "    <tr>\n",
       "      <th rowspan=\"2\" valign=\"top\">AdNetwork Q</th>\n",
       "      <th>banner</th>\n",
       "      <td>4.651546e+06</td>\n",
       "    </tr>\n",
       "    <tr>\n",
       "      <th>interstitial</th>\n",
       "      <td>2.415971e+05</td>\n",
       "    </tr>\n",
       "    <tr>\n",
       "      <th rowspan=\"2\" valign=\"top\">AdNetwork S</th>\n",
       "      <th>banner</th>\n",
       "      <td>3.488519e+06</td>\n",
       "    </tr>\n",
       "    <tr>\n",
       "      <th>interstitial</th>\n",
       "      <td>1.813940e+05</td>\n",
       "    </tr>\n",
       "  </tbody>\n",
       "</table>\n",
       "</div>"
      ],
      "text/plain": [
       "                                          events_amount\n",
       "app             network     event_type                 \n",
       "awesome app A   AdNetwork P banner         2.551106e+06\n",
       "                            interstitial   2.022430e+05\n",
       "                AdNetwork Q banner         3.060149e+06\n",
       "                            interstitial   2.429019e+05\n",
       "                AdNetwork S banner         2.298711e+06\n",
       "                            interstitial   1.825846e+05\n",
       "brilliant app B AdNetwork P banner         3.864303e+06\n",
       "                            interstitial   2.021321e+05\n",
       "                AdNetwork Q banner         4.651546e+06\n",
       "                            interstitial   2.415971e+05\n",
       "                AdNetwork S banner         3.488519e+06\n",
       "                            interstitial   1.813940e+05"
      ]
     },
     "execution_count": 22,
     "metadata": {},
     "output_type": "execute_result"
    }
   ],
   "source": [
    "pd.pivot_table(df_B, index=['app','network','event_type'],values='events_amount')"
   ]
  },
  {
   "cell_type": "markdown",
   "metadata": {},
   "source": [
    "With Pivot, we find out the average of the events amount is for awesome A for different network.\n",
    "As you see, the average of amount is for AdNetwork Q has the hghest portion .\n",
    "For Brilliant app B , like the Awesome app A, AdNetwork Q has the higehst amount."
   ]
  },
  {
   "cell_type": "code",
   "execution_count": 23,
   "metadata": {},
   "outputs": [
    {
     "data": {
      "text/html": [
       "<div>\n",
       "<style scoped>\n",
       "    .dataframe tbody tr th:only-of-type {\n",
       "        vertical-align: middle;\n",
       "    }\n",
       "\n",
       "    .dataframe tbody tr th {\n",
       "        vertical-align: top;\n",
       "    }\n",
       "\n",
       "    .dataframe thead th {\n",
       "        text-align: right;\n",
       "    }\n",
       "</style>\n",
       "<table border=\"1\" class=\"dataframe\">\n",
       "  <thead>\n",
       "    <tr style=\"text-align: right;\">\n",
       "      <th></th>\n",
       "      <th></th>\n",
       "      <th></th>\n",
       "      <th>events_amount</th>\n",
       "    </tr>\n",
       "    <tr>\n",
       "      <th>app</th>\n",
       "      <th>network</th>\n",
       "      <th>event_type</th>\n",
       "      <th></th>\n",
       "    </tr>\n",
       "  </thead>\n",
       "  <tbody>\n",
       "    <tr>\n",
       "      <th rowspan=\"6\" valign=\"top\">awesome app A</th>\n",
       "      <th rowspan=\"2\" valign=\"top\">AdNetwork P</th>\n",
       "      <th>banner</th>\n",
       "      <td>2.551106e+06</td>\n",
       "    </tr>\n",
       "    <tr>\n",
       "      <th>interstitial</th>\n",
       "      <td>2.022430e+05</td>\n",
       "    </tr>\n",
       "    <tr>\n",
       "      <th rowspan=\"2\" valign=\"top\">AdNetwork Q</th>\n",
       "      <th>banner</th>\n",
       "      <td>3.060149e+06</td>\n",
       "    </tr>\n",
       "    <tr>\n",
       "      <th>interstitial</th>\n",
       "      <td>2.429019e+05</td>\n",
       "    </tr>\n",
       "    <tr>\n",
       "      <th rowspan=\"2\" valign=\"top\">AdNetwork S</th>\n",
       "      <th>banner</th>\n",
       "      <td>2.298711e+06</td>\n",
       "    </tr>\n",
       "    <tr>\n",
       "      <th>interstitial</th>\n",
       "      <td>1.825846e+05</td>\n",
       "    </tr>\n",
       "    <tr>\n",
       "      <th rowspan=\"6\" valign=\"top\">brilliant app B</th>\n",
       "      <th rowspan=\"2\" valign=\"top\">AdNetwork P</th>\n",
       "      <th>banner</th>\n",
       "      <td>3.864303e+06</td>\n",
       "    </tr>\n",
       "    <tr>\n",
       "      <th>interstitial</th>\n",
       "      <td>2.021321e+05</td>\n",
       "    </tr>\n",
       "    <tr>\n",
       "      <th rowspan=\"2\" valign=\"top\">AdNetwork Q</th>\n",
       "      <th>banner</th>\n",
       "      <td>4.651546e+06</td>\n",
       "    </tr>\n",
       "    <tr>\n",
       "      <th>interstitial</th>\n",
       "      <td>2.415971e+05</td>\n",
       "    </tr>\n",
       "    <tr>\n",
       "      <th rowspan=\"2\" valign=\"top\">AdNetwork S</th>\n",
       "      <th>banner</th>\n",
       "      <td>3.488519e+06</td>\n",
       "    </tr>\n",
       "    <tr>\n",
       "      <th>interstitial</th>\n",
       "      <td>1.813940e+05</td>\n",
       "    </tr>\n",
       "  </tbody>\n",
       "</table>\n",
       "</div>"
      ],
      "text/plain": [
       "                                          events_amount\n",
       "app             network     event_type                 \n",
       "awesome app A   AdNetwork P banner         2.551106e+06\n",
       "                            interstitial   2.022430e+05\n",
       "                AdNetwork Q banner         3.060149e+06\n",
       "                            interstitial   2.429019e+05\n",
       "                AdNetwork S banner         2.298711e+06\n",
       "                            interstitial   1.825846e+05\n",
       "brilliant app B AdNetwork P banner         3.864303e+06\n",
       "                            interstitial   2.021321e+05\n",
       "                AdNetwork Q banner         4.651546e+06\n",
       "                            interstitial   2.415971e+05\n",
       "                AdNetwork S banner         3.488519e+06\n",
       "                            interstitial   1.813940e+05"
      ]
     },
     "execution_count": 23,
     "metadata": {},
     "output_type": "execute_result"
    }
   ],
   "source": [
    "pd.pivot_table(df_B, index=['app','network','event_type'],values='events_amount')"
   ]
  },
  {
   "cell_type": "code",
   "execution_count": 24,
   "metadata": {},
   "outputs": [
    {
     "data": {
      "text/html": [
       "<div>\n",
       "<style scoped>\n",
       "    .dataframe tbody tr th:only-of-type {\n",
       "        vertical-align: middle;\n",
       "    }\n",
       "\n",
       "    .dataframe tbody tr th {\n",
       "        vertical-align: top;\n",
       "    }\n",
       "\n",
       "    .dataframe thead th {\n",
       "        text-align: right;\n",
       "    }\n",
       "</style>\n",
       "<table border=\"1\" class=\"dataframe\">\n",
       "  <thead>\n",
       "    <tr style=\"text-align: right;\">\n",
       "      <th></th>\n",
       "      <th>installs</th>\n",
       "    </tr>\n",
       "    <tr>\n",
       "      <th>country</th>\n",
       "      <th></th>\n",
       "    </tr>\n",
       "  </thead>\n",
       "  <tbody>\n",
       "    <tr>\n",
       "      <th>AU</th>\n",
       "      <td>85687.537648</td>\n",
       "    </tr>\n",
       "    <tr>\n",
       "      <th>BR</th>\n",
       "      <td>83535.103500</td>\n",
       "    </tr>\n",
       "    <tr>\n",
       "      <th>CA</th>\n",
       "      <td>87029.078185</td>\n",
       "    </tr>\n",
       "    <tr>\n",
       "      <th>DE</th>\n",
       "      <td>85671.266626</td>\n",
       "    </tr>\n",
       "    <tr>\n",
       "      <th>ES</th>\n",
       "      <td>82736.165731</td>\n",
       "    </tr>\n",
       "    <tr>\n",
       "      <th>FR</th>\n",
       "      <td>87018.037892</td>\n",
       "    </tr>\n",
       "    <tr>\n",
       "      <th>GB</th>\n",
       "      <td>103327.120757</td>\n",
       "    </tr>\n",
       "    <tr>\n",
       "      <th>ID</th>\n",
       "      <td>82621.000407</td>\n",
       "    </tr>\n",
       "    <tr>\n",
       "      <th>IN</th>\n",
       "      <td>90053.430810</td>\n",
       "    </tr>\n",
       "    <tr>\n",
       "      <th>IT</th>\n",
       "      <td>103861.706634</td>\n",
       "    </tr>\n",
       "    <tr>\n",
       "      <th>JP</th>\n",
       "      <td>102797.477127</td>\n",
       "    </tr>\n",
       "    <tr>\n",
       "      <th>KR</th>\n",
       "      <td>90585.306838</td>\n",
       "    </tr>\n",
       "    <tr>\n",
       "      <th>MX</th>\n",
       "      <td>105638.001547</td>\n",
       "    </tr>\n",
       "    <tr>\n",
       "      <th>RU</th>\n",
       "      <td>96095.716036</td>\n",
       "    </tr>\n",
       "    <tr>\n",
       "      <th>TR</th>\n",
       "      <td>107272.068295</td>\n",
       "    </tr>\n",
       "    <tr>\n",
       "      <th>US</th>\n",
       "      <td>99078.082051</td>\n",
       "    </tr>\n",
       "    <tr>\n",
       "      <th>VN</th>\n",
       "      <td>100914.226292</td>\n",
       "    </tr>\n",
       "  </tbody>\n",
       "</table>\n",
       "</div>"
      ],
      "text/plain": [
       "              installs\n",
       "country               \n",
       "AU        85687.537648\n",
       "BR        83535.103500\n",
       "CA        87029.078185\n",
       "DE        85671.266626\n",
       "ES        82736.165731\n",
       "FR        87018.037892\n",
       "GB       103327.120757\n",
       "ID        82621.000407\n",
       "IN        90053.430810\n",
       "IT       103861.706634\n",
       "JP       102797.477127\n",
       "KR        90585.306838\n",
       "MX       105638.001547\n",
       "RU        96095.716036\n",
       "TR       107272.068295\n",
       "US        99078.082051\n",
       "VN       100914.226292"
      ]
     },
     "execution_count": 24,
     "metadata": {},
     "output_type": "execute_result"
    }
   ],
   "source": [
    "pd.pivot_table(df_B, index=['country'],values='installs')"
   ]
  },
  {
   "cell_type": "raw",
   "metadata": {},
   "source": [
    "We figure out that Mexico has the highest average number of installations per day and the lowest one is for Estonia."
   ]
  },
  {
   "cell_type": "code",
   "execution_count": 25,
   "metadata": {
    "scrolled": true
   },
   "outputs": [
    {
     "data": {
      "text/html": [
       "<div>\n",
       "<style scoped>\n",
       "    .dataframe tbody tr th:only-of-type {\n",
       "        vertical-align: middle;\n",
       "    }\n",
       "\n",
       "    .dataframe tbody tr th {\n",
       "        vertical-align: top;\n",
       "    }\n",
       "\n",
       "    .dataframe thead th {\n",
       "        text-align: right;\n",
       "    }\n",
       "</style>\n",
       "<table border=\"1\" class=\"dataframe\">\n",
       "  <thead>\n",
       "    <tr style=\"text-align: right;\">\n",
       "      <th>version</th>\n",
       "      <th>1.0</th>\n",
       "      <th>1.1</th>\n",
       "      <th>2.0</th>\n",
       "      <th>2.2</th>\n",
       "    </tr>\n",
       "    <tr>\n",
       "      <th>app</th>\n",
       "      <th></th>\n",
       "      <th></th>\n",
       "      <th></th>\n",
       "      <th></th>\n",
       "    </tr>\n",
       "  </thead>\n",
       "  <tbody>\n",
       "    <tr>\n",
       "      <th>awesome app A</th>\n",
       "      <td>212058</td>\n",
       "      <td>151776</td>\n",
       "      <td>53856</td>\n",
       "      <td>0</td>\n",
       "    </tr>\n",
       "    <tr>\n",
       "      <th>brilliant app B</th>\n",
       "      <td>0</td>\n",
       "      <td>0</td>\n",
       "      <td>316710</td>\n",
       "      <td>100980</td>\n",
       "    </tr>\n",
       "  </tbody>\n",
       "</table>\n",
       "</div>"
      ],
      "text/plain": [
       "version             1.0     1.1     2.0     2.2\n",
       "app                                            \n",
       "awesome app A    212058  151776   53856       0\n",
       "brilliant app B       0       0  316710  100980"
      ]
     },
     "execution_count": 25,
     "metadata": {},
     "output_type": "execute_result"
    }
   ],
   "source": [
    "df_B['app'].unique()\n",
    "app_version=pd.crosstab(df_B['app'],df_B['version'])\n",
    "app_version"
   ]
  },
  {
   "cell_type": "raw",
   "metadata": {},
   "source": [
    "As you see, we use the crosstab to find out the distribution of each of the kind of app with amount of the versions.\n",
    "for awesome app A , version 1 has the higehst amount and for brilliant app B , version 2 has the highest amount"
   ]
  },
  {
   "cell_type": "code",
   "execution_count": 26,
   "metadata": {
    "scrolled": true
   },
   "outputs": [
    {
     "data": {
      "text/html": [
       "<div>\n",
       "<style scoped>\n",
       "    .dataframe tbody tr th:only-of-type {\n",
       "        vertical-align: middle;\n",
       "    }\n",
       "\n",
       "    .dataframe tbody tr th {\n",
       "        vertical-align: top;\n",
       "    }\n",
       "\n",
       "    .dataframe thead th {\n",
       "        text-align: right;\n",
       "    }\n",
       "</style>\n",
       "<table border=\"1\" class=\"dataframe\">\n",
       "  <thead>\n",
       "    <tr style=\"text-align: right;\">\n",
       "      <th>network</th>\n",
       "      <th>AdNetwork P</th>\n",
       "      <th>AdNetwork Q</th>\n",
       "      <th>AdNetwork S</th>\n",
       "    </tr>\n",
       "    <tr>\n",
       "      <th>version</th>\n",
       "      <th></th>\n",
       "      <th></th>\n",
       "      <th></th>\n",
       "    </tr>\n",
       "  </thead>\n",
       "  <tbody>\n",
       "    <tr>\n",
       "      <th>1.0</th>\n",
       "      <td>70686</td>\n",
       "      <td>70686</td>\n",
       "      <td>70686</td>\n",
       "    </tr>\n",
       "    <tr>\n",
       "      <th>1.1</th>\n",
       "      <td>50592</td>\n",
       "      <td>50592</td>\n",
       "      <td>50592</td>\n",
       "    </tr>\n",
       "    <tr>\n",
       "      <th>2.0</th>\n",
       "      <td>123522</td>\n",
       "      <td>123522</td>\n",
       "      <td>123522</td>\n",
       "    </tr>\n",
       "    <tr>\n",
       "      <th>2.2</th>\n",
       "      <td>33660</td>\n",
       "      <td>33660</td>\n",
       "      <td>33660</td>\n",
       "    </tr>\n",
       "  </tbody>\n",
       "</table>\n",
       "</div>"
      ],
      "text/plain": [
       "network  AdNetwork P  AdNetwork Q  AdNetwork S\n",
       "version                                       \n",
       "1.0            70686        70686        70686\n",
       "1.1            50592        50592        50592\n",
       "2.0           123522       123522       123522\n",
       "2.2            33660        33660        33660"
      ]
     },
     "execution_count": 26,
     "metadata": {},
     "output_type": "execute_result"
    }
   ],
   "source": [
    "df_B['version'].unique()\n",
    "version_network=pd.crosstab(df_B['version'],df_B['network'])\n",
    "version_network"
   ]
  },
  {
   "cell_type": "markdown",
   "metadata": {},
   "source": [
    "On the top, we distribute the versions with their Network.It shows that Version 2 in all AdNetwork has the highest amount."
   ]
  },
  {
   "cell_type": "code",
   "execution_count": 27,
   "metadata": {},
   "outputs": [
    {
     "data": {
      "text/html": [
       "<div>\n",
       "<style scoped>\n",
       "    .dataframe tbody tr th:only-of-type {\n",
       "        vertical-align: middle;\n",
       "    }\n",
       "\n",
       "    .dataframe tbody tr th {\n",
       "        vertical-align: top;\n",
       "    }\n",
       "\n",
       "    .dataframe thead th {\n",
       "        text-align: right;\n",
       "    }\n",
       "</style>\n",
       "<table border=\"1\" class=\"dataframe\">\n",
       "  <thead>\n",
       "    <tr style=\"text-align: right;\">\n",
       "      <th></th>\n",
       "      <th>ecpm_value</th>\n",
       "      <th>date</th>\n",
       "      <th>app</th>\n",
       "      <th>country</th>\n",
       "      <th>ecpm_type</th>\n",
       "    </tr>\n",
       "  </thead>\n",
       "  <tbody>\n",
       "    <tr>\n",
       "      <th>0</th>\n",
       "      <td>0.757282</td>\n",
       "      <td>2021-06-04 13:30:27.883259</td>\n",
       "      <td>awesome app A</td>\n",
       "      <td>US</td>\n",
       "      <td>banner</td>\n",
       "    </tr>\n",
       "    <tr>\n",
       "      <th>1</th>\n",
       "      <td>0.788831</td>\n",
       "      <td>2021-06-05 13:30:27.883259</td>\n",
       "      <td>awesome app A</td>\n",
       "      <td>US</td>\n",
       "      <td>banner</td>\n",
       "    </tr>\n",
       "    <tr>\n",
       "      <th>2</th>\n",
       "      <td>0.796442</td>\n",
       "      <td>2021-06-06 13:30:27.883259</td>\n",
       "      <td>awesome app A</td>\n",
       "      <td>US</td>\n",
       "      <td>banner</td>\n",
       "    </tr>\n",
       "    <tr>\n",
       "      <th>3</th>\n",
       "      <td>0.807773</td>\n",
       "      <td>2021-06-07 13:30:27.883259</td>\n",
       "      <td>awesome app A</td>\n",
       "      <td>US</td>\n",
       "      <td>banner</td>\n",
       "    </tr>\n",
       "    <tr>\n",
       "      <th>4</th>\n",
       "      <td>0.747525</td>\n",
       "      <td>2021-06-08 13:30:27.883259</td>\n",
       "      <td>awesome app A</td>\n",
       "      <td>US</td>\n",
       "      <td>banner</td>\n",
       "    </tr>\n",
       "  </tbody>\n",
       "</table>\n",
       "</div>"
      ],
      "text/plain": [
       "   ecpm_value                        date            app country ecpm_type\n",
       "0    0.757282  2021-06-04 13:30:27.883259  awesome app A      US    banner\n",
       "1    0.788831  2021-06-05 13:30:27.883259  awesome app A      US    banner\n",
       "2    0.796442  2021-06-06 13:30:27.883259  awesome app A      US    banner\n",
       "3    0.807773  2021-06-07 13:30:27.883259  awesome app A      US    banner\n",
       "4    0.747525  2021-06-08 13:30:27.883259  awesome app A      US    banner"
      ]
     },
     "execution_count": 27,
     "metadata": {},
     "output_type": "execute_result"
    }
   ],
   "source": [
    "df_A.head(5)"
   ]
  },
  {
   "cell_type": "raw",
   "metadata": {},
   "source": [
    "We want to use groupby to find out the average , count and sum of the Rting based on the sector"
   ]
  },
  {
   "cell_type": "code",
   "execution_count": 28,
   "metadata": {},
   "outputs": [
    {
     "data": {
      "text/html": [
       "<div>\n",
       "<style scoped>\n",
       "    .dataframe tbody tr th:only-of-type {\n",
       "        vertical-align: middle;\n",
       "    }\n",
       "\n",
       "    .dataframe tbody tr th {\n",
       "        vertical-align: top;\n",
       "    }\n",
       "\n",
       "    .dataframe thead th {\n",
       "        text-align: right;\n",
       "    }\n",
       "</style>\n",
       "<table border=\"1\" class=\"dataframe\">\n",
       "  <thead>\n",
       "    <tr style=\"text-align: right;\">\n",
       "      <th></th>\n",
       "      <th>ecpm_type</th>\n",
       "      <th>ecpm_value_Sum</th>\n",
       "      <th>ecpm_value_Count</th>\n",
       "      <th>Average of ecpm value</th>\n",
       "    </tr>\n",
       "  </thead>\n",
       "  <tbody>\n",
       "    <tr>\n",
       "      <th>1</th>\n",
       "      <td>interstitial</td>\n",
       "      <td>30948.354872</td>\n",
       "      <td>3060</td>\n",
       "      <td>10.113841</td>\n",
       "    </tr>\n",
       "    <tr>\n",
       "      <th>0</th>\n",
       "      <td>banner</td>\n",
       "      <td>2165.645477</td>\n",
       "      <td>3060</td>\n",
       "      <td>0.707727</td>\n",
       "    </tr>\n",
       "  </tbody>\n",
       "</table>\n",
       "</div>"
      ],
      "text/plain": [
       "      ecpm_type  ecpm_value_Sum  ecpm_value_Count  Average of ecpm value\n",
       "1  interstitial    30948.354872              3060              10.113841\n",
       "0        banner     2165.645477              3060               0.707727"
      ]
     },
     "execution_count": 28,
     "metadata": {},
     "output_type": "execute_result"
    }
   ],
   "source": [
    "df_A_grouped_sum=df_A.groupby('ecpm_type',as_index=False)['ecpm_value'].agg('sum').rename(columns={'ecpm_value':'ecpm_value_Sum'})\n",
    "df_A_grouped_cnt=df_A.groupby('ecpm_type',as_index=False)['ecpm_value'].agg('count').rename(columns={'ecpm_value':'ecpm_value_Count'})\n",
    "\n",
    "#mergr the 2 lines \n",
    "df_A_grouped_Average=df_A_grouped_sum.merge(df_A_grouped_cnt, left_on='ecpm_type',right_on='ecpm_type',how='inner')\n",
    "\n",
    "# #Calculate the average ecpm_value(effective cost per mile)\n",
    "df_A_grouped_Average.loc[:,'Average of ecpm value']=df_A_grouped_Average['ecpm_value_Sum']/df_A_grouped_Average['ecpm_value_Count']\n",
    "\n",
    "\n",
    "# final result\n",
    "df_A_grouped_Average.sort_values('ecpm_value_Sum',ascending=False)"
   ]
  },
  {
   "cell_type": "markdown",
   "metadata": {},
   "source": [
    "One of the most interesting parts of the code is  Average ecpm value for interstitial ecpm is 10.11 and for banners, the type is less than one."
   ]
  },
  {
   "cell_type": "code",
   "execution_count": 29,
   "metadata": {
    "scrolled": true
   },
   "outputs": [
    {
     "data": {
      "text/html": [
       "<div>\n",
       "<style scoped>\n",
       "    .dataframe tbody tr th:only-of-type {\n",
       "        vertical-align: middle;\n",
       "    }\n",
       "\n",
       "    .dataframe tbody tr th {\n",
       "        vertical-align: top;\n",
       "    }\n",
       "\n",
       "    .dataframe thead th {\n",
       "        text-align: right;\n",
       "    }\n",
       "</style>\n",
       "<table border=\"1\" class=\"dataframe\">\n",
       "  <thead>\n",
       "    <tr style=\"text-align: right;\">\n",
       "      <th></th>\n",
       "      <th>app</th>\n",
       "      <th>ecpm_value_Sum</th>\n",
       "      <th>ecpm_value_Count</th>\n",
       "      <th>Average of ecpm value</th>\n",
       "    </tr>\n",
       "  </thead>\n",
       "  <tbody>\n",
       "    <tr>\n",
       "      <th>0</th>\n",
       "      <td>awesome app A</td>\n",
       "      <td>16565.517863</td>\n",
       "      <td>3060</td>\n",
       "      <td>5.413568</td>\n",
       "    </tr>\n",
       "    <tr>\n",
       "      <th>1</th>\n",
       "      <td>brilliant app B</td>\n",
       "      <td>16548.482485</td>\n",
       "      <td>3060</td>\n",
       "      <td>5.408001</td>\n",
       "    </tr>\n",
       "  </tbody>\n",
       "</table>\n",
       "</div>"
      ],
      "text/plain": [
       "               app  ecpm_value_Sum  ecpm_value_Count  Average of ecpm value\n",
       "0    awesome app A    16565.517863              3060               5.413568\n",
       "1  brilliant app B    16548.482485              3060               5.408001"
      ]
     },
     "execution_count": 29,
     "metadata": {},
     "output_type": "execute_result"
    }
   ],
   "source": [
    "df_A_grouped_sum=df_A.groupby('app',as_index=False)['ecpm_value'].agg('sum').rename(columns={'ecpm_value':'ecpm_value_Sum'})\n",
    "df_A_grouped_cnt=df_A.groupby('app',as_index=False)['ecpm_value'].agg('count').rename(columns={'ecpm_value':'ecpm_value_Count'})\n",
    "\n",
    "#mergr the 2 lines \n",
    "df_A_grouped_Average=df_A_grouped_sum.merge(df_A_grouped_cnt, left_on='app',right_on='app',how='inner')\n",
    "\n",
    "# #Calculate the average ecpm_value(effective cost per mile)\n",
    "df_A_grouped_Average.loc[:,'Average of ecpm value']=df_A_grouped_Average['ecpm_value_Sum']/df_A_grouped_Average['ecpm_value_Count']\n",
    "\n",
    "\n",
    "# final result\n",
    "df_A_grouped_Average.sort_values('ecpm_value_Sum',ascending=False)"
   ]
  },
  {
   "cell_type": "markdown",
   "metadata": {},
   "source": [
    "This is the one of the most interesting part of the code.The Average of ecpm value for Awesome app A  is 5.41 and for Brilliant app B  type is 5.40."
   ]
  },
  {
   "cell_type": "code",
   "execution_count": 30,
   "metadata": {
    "scrolled": true
   },
   "outputs": [
    {
     "data": {
      "text/html": [
       "<div>\n",
       "<style scoped>\n",
       "    .dataframe tbody tr th:only-of-type {\n",
       "        vertical-align: middle;\n",
       "    }\n",
       "\n",
       "    .dataframe tbody tr th {\n",
       "        vertical-align: top;\n",
       "    }\n",
       "\n",
       "    .dataframe thead th {\n",
       "        text-align: right;\n",
       "    }\n",
       "</style>\n",
       "<table border=\"1\" class=\"dataframe\">\n",
       "  <thead>\n",
       "    <tr style=\"text-align: right;\">\n",
       "      <th></th>\n",
       "      <th>app</th>\n",
       "      <th>events_amount_Sum</th>\n",
       "      <th>events_amount_Count</th>\n",
       "      <th>Average of events amount</th>\n",
       "    </tr>\n",
       "  </thead>\n",
       "  <tbody>\n",
       "    <tr>\n",
       "      <th>1</th>\n",
       "      <td>brilliant app B</td>\n",
       "      <td>8.792021e+11</td>\n",
       "      <td>417690</td>\n",
       "      <td>2.104915e+06</td>\n",
       "    </tr>\n",
       "    <tr>\n",
       "      <th>0</th>\n",
       "      <td>awesome app A</td>\n",
       "      <td>5.943517e+11</td>\n",
       "      <td>417690</td>\n",
       "      <td>1.422949e+06</td>\n",
       "    </tr>\n",
       "  </tbody>\n",
       "</table>\n",
       "</div>"
      ],
      "text/plain": [
       "               app  events_amount_Sum  events_amount_Count  \\\n",
       "1  brilliant app B       8.792021e+11               417690   \n",
       "0    awesome app A       5.943517e+11               417690   \n",
       "\n",
       "   Average of events amount  \n",
       "1              2.104915e+06  \n",
       "0              1.422949e+06  "
      ]
     },
     "execution_count": 30,
     "metadata": {},
     "output_type": "execute_result"
    }
   ],
   "source": [
    "df_B_grouped_sum=df_B.groupby('app',as_index=False)['events_amount'].agg('sum').rename(columns={'events_amount':'events_amount_Sum'})\n",
    "df_B_grouped_cnt=df_B.groupby('app',as_index=False)['events_amount'].agg('count').rename(columns={'events_amount':'events_amount_Count'})\n",
    "\n",
    "#mergr the 2 lines \n",
    "df_B_grouped_Average=df_B_grouped_sum.merge(df_B_grouped_cnt, left_on='app',right_on='app',how='inner')\n",
    "\n",
    "# #Calculate the average ecpm_value(effective cost per mile)\n",
    "df_B_grouped_Average.loc[:,'Average of events amount']=df_B_grouped_Average['events_amount_Sum']/df_B_grouped_Average['events_amount_Count']\n",
    "\n",
    "\n",
    "# final result\n",
    "df_B_grouped_Average.sort_values('events_amount_Sum',ascending=False)"
   ]
  },
  {
   "cell_type": "markdown",
   "metadata": {},
   "source": [
    "This statistic shows that the average of events amount for Brilliant B is more than awesome A"
   ]
  },
  {
   "cell_type": "code",
   "execution_count": 31,
   "metadata": {
    "scrolled": true
   },
   "outputs": [
    {
     "data": {
      "text/html": [
       "<div>\n",
       "<style scoped>\n",
       "    .dataframe tbody tr th:only-of-type {\n",
       "        vertical-align: middle;\n",
       "    }\n",
       "\n",
       "    .dataframe tbody tr th {\n",
       "        vertical-align: top;\n",
       "    }\n",
       "\n",
       "    .dataframe thead th {\n",
       "        text-align: right;\n",
       "    }\n",
       "</style>\n",
       "<table border=\"1\" class=\"dataframe\">\n",
       "  <thead>\n",
       "    <tr style=\"text-align: right;\">\n",
       "      <th></th>\n",
       "      <th>event_type</th>\n",
       "      <th>events_amount_Sum</th>\n",
       "      <th>events_amount_Count</th>\n",
       "      <th>Average of events amount</th>\n",
       "    </tr>\n",
       "  </thead>\n",
       "  <tbody>\n",
       "    <tr>\n",
       "      <th>0</th>\n",
       "      <td>banner</td>\n",
       "      <td>1.386336e+12</td>\n",
       "      <td>417690</td>\n",
       "      <td>3.319056e+06</td>\n",
       "    </tr>\n",
       "    <tr>\n",
       "      <th>1</th>\n",
       "      <td>interstitial</td>\n",
       "      <td>8.721734e+10</td>\n",
       "      <td>417690</td>\n",
       "      <td>2.088088e+05</td>\n",
       "    </tr>\n",
       "  </tbody>\n",
       "</table>\n",
       "</div>"
      ],
      "text/plain": [
       "     event_type  events_amount_Sum  events_amount_Count  \\\n",
       "0        banner       1.386336e+12               417690   \n",
       "1  interstitial       8.721734e+10               417690   \n",
       "\n",
       "   Average of events amount  \n",
       "0              3.319056e+06  \n",
       "1              2.088088e+05  "
      ]
     },
     "execution_count": 31,
     "metadata": {},
     "output_type": "execute_result"
    }
   ],
   "source": [
    "df_B_grouped_sum=df_B.groupby('event_type',as_index=False)['events_amount'].agg('sum').rename(columns={'events_amount':'events_amount_Sum'})\n",
    "df_B_grouped_cnt=df_B.groupby('event_type',as_index=False)['events_amount'].agg('count').rename(columns={'events_amount':'events_amount_Count'})\n",
    "\n",
    "#mergr the 2 lines \n",
    "df_B_grouped_Average=df_B_grouped_sum.merge(df_B_grouped_cnt, left_on='event_type',right_on='event_type',how='inner')\n",
    "\n",
    "# #Calculate the average ecpm_value(effective cost per mile)\n",
    "df_B_grouped_Average.loc[:,'Average of events amount']=df_B_grouped_Average['events_amount_Sum']/df_B_grouped_Average['events_amount_Count']\n",
    "\n",
    "\n",
    "# final result\n",
    "df_B_grouped_Average.sort_values('events_amount_Sum',ascending=False)"
   ]
  },
  {
   "cell_type": "markdown",
   "metadata": {},
   "source": [
    "we find out the average of events amount with 2 type od event which is divided to banner and interstitial.\n",
    "It shows the average of events for banner type is more than interstitial"
   ]
  },
  {
   "cell_type": "code",
   "execution_count": 32,
   "metadata": {
    "scrolled": true
   },
   "outputs": [
    {
     "data": {
      "text/html": [
       "<div>\n",
       "<style scoped>\n",
       "    .dataframe tbody tr th:only-of-type {\n",
       "        vertical-align: middle;\n",
       "    }\n",
       "\n",
       "    .dataframe tbody tr th {\n",
       "        vertical-align: top;\n",
       "    }\n",
       "\n",
       "    .dataframe thead th {\n",
       "        text-align: right;\n",
       "    }\n",
       "</style>\n",
       "<table border=\"1\" class=\"dataframe\">\n",
       "  <thead>\n",
       "    <tr style=\"text-align: right;\">\n",
       "      <th></th>\n",
       "      <th>version</th>\n",
       "      <th>events_amount_Sum</th>\n",
       "      <th>events_amount_Count</th>\n",
       "      <th>Average of events amount</th>\n",
       "    </tr>\n",
       "  </thead>\n",
       "  <tbody>\n",
       "    <tr>\n",
       "      <th>2</th>\n",
       "      <td>2.0</td>\n",
       "      <td>7.592397e+11</td>\n",
       "      <td>370566</td>\n",
       "      <td>2.048865e+06</td>\n",
       "    </tr>\n",
       "    <tr>\n",
       "      <th>0</th>\n",
       "      <td>1.0</td>\n",
       "      <td>3.457651e+11</td>\n",
       "      <td>212058</td>\n",
       "      <td>1.630522e+06</td>\n",
       "    </tr>\n",
       "    <tr>\n",
       "      <th>3</th>\n",
       "      <td>2.2</td>\n",
       "      <td>3.238684e+11</td>\n",
       "      <td>100980</td>\n",
       "      <td>3.207253e+06</td>\n",
       "    </tr>\n",
       "    <tr>\n",
       "      <th>1</th>\n",
       "      <td>1.1</td>\n",
       "      <td>4.468047e+10</td>\n",
       "      <td>151776</td>\n",
       "      <td>2.943843e+05</td>\n",
       "    </tr>\n",
       "  </tbody>\n",
       "</table>\n",
       "</div>"
      ],
      "text/plain": [
       "   version  events_amount_Sum  events_amount_Count  Average of events amount\n",
       "2      2.0       7.592397e+11               370566              2.048865e+06\n",
       "0      1.0       3.457651e+11               212058              1.630522e+06\n",
       "3      2.2       3.238684e+11               100980              3.207253e+06\n",
       "1      1.1       4.468047e+10               151776              2.943843e+05"
      ]
     },
     "execution_count": 32,
     "metadata": {},
     "output_type": "execute_result"
    }
   ],
   "source": [
    "df_B_grouped_sum=df_B.groupby('version',as_index=False)['events_amount'].agg('sum').rename(columns={'events_amount':'events_amount_Sum'})\n",
    "df_B_grouped_cnt=df_B.groupby('version',as_index=False)['events_amount'].agg('count').rename(columns={'events_amount':'events_amount_Count'})\n",
    "\n",
    "#mergr the 2 lines \n",
    "df_B_grouped_Average=df_B_grouped_sum.merge(df_B_grouped_cnt, left_on='version',right_on='version',how='inner')\n",
    "\n",
    "# #Calculate the average ecpm_value(effective cost per mile)\n",
    "df_B_grouped_Average.loc[:,'Average of events amount']=df_B_grouped_Average['events_amount_Sum']/df_B_grouped_Average['events_amount_Count']\n",
    "\n",
    "\n",
    "# final result\n",
    "df_B_grouped_Average.sort_values('events_amount_Sum',ascending=False)"
   ]
  },
  {
   "cell_type": "markdown",
   "metadata": {},
   "source": [
    "Like the previous one, we distibute the versions which the version 2.2 has the highest portion the average of events."
   ]
  },
  {
   "cell_type": "code",
   "execution_count": 33,
   "metadata": {},
   "outputs": [
    {
     "data": {
      "text/plain": [
       "0"
      ]
     },
     "execution_count": 33,
     "metadata": {},
     "output_type": "execute_result"
    }
   ],
   "source": [
    "#It is necessary to establish the presence of duplicates. If they are found, delete them and check if they are all deleted.\n",
    "df_A.duplicated().sum()"
   ]
  },
  {
   "cell_type": "code",
   "execution_count": 34,
   "metadata": {},
   "outputs": [],
   "source": [
    "def number_of_job(df_A,app,date ):\n",
    "    number_list=df_A[(df_A['app']== app)&(df_A['date']== date)]\n",
    "    number_list_count=number_list['country'].count()\n",
    "    return number_list_count          "
   ]
  },
  {
   "cell_type": "code",
   "execution_count": 35,
   "metadata": {
    "scrolled": true
   },
   "outputs": [
    {
     "data": {
      "text/plain": [
       "34"
      ]
     },
     "execution_count": 35,
     "metadata": {},
     "output_type": "execute_result"
    }
   ],
   "source": [
    "# we see the number of 2021-07-26 13:30:27.883259 date with Brilliant app B \n",
    "number_of_job(df_A,'brilliant app B', '2021-07-26 13:30:27.883259' )"
   ]
  },
  {
   "cell_type": "code",
   "execution_count": 36,
   "metadata": {},
   "outputs": [
    {
     "data": {
      "text/plain": [
       "34"
      ]
     },
     "execution_count": 36,
     "metadata": {},
     "output_type": "execute_result"
    }
   ],
   "source": [
    "number_of_job(df_A,'awesome app A','2021-06-28 13:30:27.883259')"
   ]
  },
  {
   "cell_type": "markdown",
   "metadata": {},
   "source": [
    "# Data analysis"
   ]
  },
  {
   "cell_type": "code",
   "execution_count": 37,
   "metadata": {
    "scrolled": true
   },
   "outputs": [
    {
     "data": {
      "image/png": "[encoded data removed]",
      "text/plain": [
       "<Figure size 720x360 with 1 Axes>"
      ]
     },
     "metadata": {},
     "output_type": "display_data"
    }
   ],
   "source": [
    "# It has the highest amount of the version which has the highest amount \n",
    "plt.rcParams['figure.figsize']=(10,5)\n",
    "df_B['version'].value_counts().sort_values(ascending=False).plot.pie(y='version',autopct=\"%0.1f%%\")\n",
    "plt.axis('off')\n",
    "plt.show()"
   ]
  },
  {
   "cell_type": "markdown",
   "metadata": {},
   "source": [
    "It shows that the number of vesion 2.0 is is the first(44.4 %) and 2.2 is the last one(12.1)."
   ]
  },
  {
   "cell_type": "code",
   "execution_count": 38,
   "metadata": {},
   "outputs": [
    {
     "data": {
      "image/png": "[encoded data removed]",
      "text/plain": [
       "<Figure size 720x360 with 1 Axes>"
      ]
     },
     "metadata": {
      "needs_background": "light"
     },
     "output_type": "display_data"
    }
   ],
   "source": [
    "# It has the highest amount of the data which has the highest amount  \n",
    "plt.rcParams['figure.figsize']=(10,5)\n",
    "df_B['date'].value_counts().sort_values(ascending=False).head(10).plot.bar(color='Red')\n",
    "plt.xlabel('date')\n",
    "plt.ylabel('count')\n",
    "plt.xticks(rotation=50)\n",
    "plt.show()"
   ]
  },
  {
   "cell_type": "markdown",
   "metadata": {},
   "source": [
    "we choose the fist top dates which installs the app mobile.As you see, the date 2021-06-04 at 14:25:35 has the highest amount in all data which mobiles were installed."
   ]
  },
  {
   "cell_type": "code",
   "execution_count": 39,
   "metadata": {
    "scrolled": false
   },
   "outputs": [
    {
     "data": {
      "image/png": "[encoded data removed]",
      "text/plain": [
       "<Figure size 720x360 with 1 Axes>"
      ]
     },
     "metadata": {
      "needs_background": "light"
     },
     "output_type": "display_data"
    }
   ],
   "source": [
    "# It has the highest amount of the days after installs which has the highest amount \n",
    "plt.rcParams['figure.figsize']=(10,5)\n",
    "df_B['days_after_installs'].value_counts().sort_values(ascending=False).head(10).plot.bar(color='pink')\n",
    "plt.xlabel('days_after_installs')\n",
    "plt.ylabel('count')\n",
    "plt.xticks(rotation=50)\n",
    "plt.show()"
   ]
  },
  {
   "cell_type": "markdown",
   "metadata": {},
   "source": [
    "On the top,the max day after installing the mobile app is zero and it means that immediately they install the app on mobile and it is a good."
   ]
  },
  {
   "cell_type": "code",
   "execution_count": 40,
   "metadata": {
    "scrolled": true
   },
   "outputs": [
    {
     "data": {
      "image/png": "[encoded data removed]",
      "text/plain": [
       "<Figure size 720x432 with 1 Axes>"
      ]
     },
     "metadata": {
      "needs_background": "light"
     },
     "output_type": "display_data"
    }
   ],
   "source": [
    "fig,ax=plt.subplots(figsize=(10,6))\n",
    "sns.countplot(df_B['app'],hue=df_B['version'],ax=ax)\n",
    "plt.xlabel('app')\n",
    "plt.ylabel('version')\n",
    "plt.xticks(rotation=50)\n",
    "plt.show()"
   ]
  },
  {
   "cell_type": "markdown",
   "metadata": {},
   "source": [
    "On the top, we distribute the type of App and which  of them has the highest amount of the version.\n",
    "As you see, for Awesome app A , version 1.0 has the highest amount and for Brilliant app B, version 2 has the higehst amount."
   ]
  },
  {
   "cell_type": "code",
   "execution_count": 41,
   "metadata": {
    "scrolled": true
   },
   "outputs": [
    {
     "data": {
      "image/png": "[encoded data removed]",
      "text/plain": [
       "<Figure size 720x432 with 1 Axes>"
      ]
     },
     "metadata": {
      "needs_background": "light"
     },
     "output_type": "display_data"
    }
   ],
   "source": [
    "fig,ax=plt.subplots(figsize=(10,6))\n",
    "sns.countplot(df_B['version'],hue=df_B['event_type'],ax=ax)\n",
    "plt.xlabel('version')\n",
    "plt.ylabel('event_type')\n",
    "plt.xticks(rotation=50)\n",
    "plt.show()"
   ]
  },
  {
   "cell_type": "markdown",
   "metadata": {},
   "source": [
    "On the top, we distribute the versions with the event type.\n",
    "As you see, for version 2 has the highest number and has the same amount of event type."
   ]
  },
  {
   "cell_type": "code",
   "execution_count": 42,
   "metadata": {},
   "outputs": [
    {
     "data": {
      "image/png": "[encoded data removed]",
      "text/plain": [
       "<Figure size 1152x648 with 1 Axes>"
      ]
     },
     "metadata": {
      "needs_background": "light"
     },
     "output_type": "display_data"
    }
   ],
   "source": [
    "plt.figure(figsize=(16,9))\n",
    "sns.set_palette(sns.color_palette(\"Paired\"))\n",
    "ax = sns.barplot(x='ecpm_value', y='country', data=df_A, orient='h')\n",
    "ax.axes.set_title(\"distribute the ecpm_value with the country \",fontsize=20)\n",
    "ax.set_xlabel(\"ecpm_value\")\n",
    "ax.set_ylabel(\"Distribute the country\")\n",
    "sns.color_palette(\"Set2\")\n",
    "ax.tick_params(labelsize=20)"
   ]
  },
  {
   "cell_type": "markdown",
   "metadata": {},
   "source": [
    "On the top, we use the barplot with the ecpm value and the countries which we distributed .\n",
    "The Great Britain has the amount between 5.5 to 7 and the US has the same but starts from 4.8.\n",
    "Also Japan,Italy and Canada has the highest number of ecpm "
   ]
  },
  {
   "cell_type": "code",
   "execution_count": 43,
   "metadata": {
    "scrolled": true
   },
   "outputs": [
    {
     "data": {
      "image/png": "[encoded data removed]",
      "text/plain": [
       "<Figure size 1152x648 with 1 Axes>"
      ]
     },
     "metadata": {
      "needs_background": "light"
     },
     "output_type": "display_data"
    }
   ],
   "source": [
    "plt.figure(figsize=(16,9))\n",
    "sns.set_palette(sns.color_palette(\"Paired\"))\n",
    "ax = sns.barplot(x='ecpm_value', y='ecpm_type', data=df_A, orient='h')\n",
    "ax.axes.set_title(\"distribute the ecpm_value with the ecpm_type \",fontsize=20)\n",
    "ax.set_xlabel(\"ecpm_value\")\n",
    "ax.set_ylabel(\"Distribute the ecpm_type\")\n",
    "sns.color_palette(\"Set2\")\n",
    "ax.tick_params(labelsize=20)"
   ]
  },
  {
   "cell_type": "markdown",
   "metadata": {},
   "source": [
    "The number of interstitial in ecpm valus is more than banner and the max of the amount is 10 but for benner is less than one."
   ]
  },
  {
   "cell_type": "code",
   "execution_count": 44,
   "metadata": {
    "scrolled": false
   },
   "outputs": [
    {
     "data": {
      "image/png": "[encoded data removed]",
      "text/plain": [
       "<Figure size 1152x648 with 1 Axes>"
      ]
     },
     "metadata": {
      "needs_background": "light"
     },
     "output_type": "display_data"
    }
   ],
   "source": [
    "plt.figure(figsize=(16,9))\n",
    "sns.set_palette(sns.color_palette(\"Paired\"))\n",
    "ax = sns.barplot(x='events_amount', y='app', data=df_B, orient='h')\n",
    "ax.axes.set_title(\"distribute the events_amount with type of app \",fontsize=20)\n",
    "ax.set_xlabel(\"events_amount\")\n",
    "ax.set_ylabel(\"Distribute the app\")\n",
    "sns.color_palette(\"Set2\")\n",
    "ax.tick_params(labelsize=20)"
   ]
  },
  {
   "cell_type": "markdown",
   "metadata": {},
   "source": [
    "We work with the second dataset. we divide the app into Brilliant and awesome with a range of events_amount. The amount of Brilliant B app is more the Awesome app A."
   ]
  },
  {
   "cell_type": "code",
   "execution_count": 45,
   "metadata": {},
   "outputs": [
    {
     "data": {
      "image/png": "[encoded data removed]",
      "text/plain": [
       "<Figure size 1152x648 with 1 Axes>"
      ]
     },
     "metadata": {
      "needs_background": "light"
     },
     "output_type": "display_data"
    }
   ],
   "source": [
    "plt.figure(figsize=(16,9))\n",
    "sns.set_palette(sns.color_palette(\"Paired\"))\n",
    "ax = sns.barplot(x='events_amount', y='version', data=df_B, orient='h')\n",
    "ax.axes.set_title(\"distribute the events_amount with of version \",fontsize=20)\n",
    "ax.set_xlabel(\"events_amount\")\n",
    "ax.set_ylabel(\"Distribute the version\")\n",
    "sns.color_palette(\"Set2\")\n",
    "ax.tick_params(labelsize=20)"
   ]
  },
  {
   "cell_type": "markdown",
   "metadata": {},
   "source": [
    "We use the barplot with events amount and type of versions.As you see, the version 2.2 has the highest amount of events and version 1.1 has the lowest amount."
   ]
  },
  {
   "cell_type": "code",
   "execution_count": 46,
   "metadata": {},
   "outputs": [
    {
     "data": {
      "image/png": "[encoded data removed]",
      "text/plain": [
       "<Figure size 1152x648 with 1 Axes>"
      ]
     },
     "metadata": {
      "needs_background": "light"
     },
     "output_type": "display_data"
    }
   ],
   "source": [
    "plt.figure(figsize=(16,9))\n",
    "sns.set_palette(sns.color_palette(\"Paired\"))\n",
    "ax = sns.barplot(x='events_amount', y='network', data=df_B, orient='h')\n",
    "ax.axes.set_title(\"distribute the events_amount with of network \",fontsize=20)\n",
    "ax.set_xlabel(\"events_amount\")\n",
    "ax.set_ylabel(\"Distribute the network\")\n",
    "sns.color_palette(\"Set2\")\n",
    "ax.tick_params(labelsize=20)"
   ]
  },
  {
   "cell_type": "markdown",
   "metadata": {},
   "source": [
    "We use the barplot with events amount and type of Network.As you see, the Adnetwork Q  has the highest amount of events and Adnetwork S has the lowest amount."
   ]
  },
  {
   "cell_type": "code",
   "execution_count": 47,
   "metadata": {},
   "outputs": [
    {
     "data": {
      "image/png": "[encoded data removed]",
      "text/plain": [
       "<Figure size 1152x648 with 1 Axes>"
      ]
     },
     "metadata": {
      "needs_background": "light"
     },
     "output_type": "display_data"
    }
   ],
   "source": [
    "plt.figure(figsize=(16,9))\n",
    "sns.set_palette(sns.color_palette(\"Paired\"))\n",
    "ax = sns.barplot(x='events_amount', y='country', data=df_B, orient='h')\n",
    "ax.axes.set_title(\"distribute the events_amount with of country \",fontsize=20)\n",
    "ax.set_xlabel(\"events_amount\")\n",
    "ax.set_ylabel(\"Distribute the country\")\n",
    "sns.color_palette(\"Set2\")\n",
    "ax.tick_params(labelsize=20)"
   ]
  },
  {
   "cell_type": "markdown",
   "metadata": {},
   "source": [
    "On the top, we use the barplot with the events amount and the countries which we distributed .\n",
    "The Great Britain and Turkey has the amount between 1.90 to 2.0.\n",
    "Also Japan,Italy and Mexico and the US are the next levels."
   ]
  },
  {
   "cell_type": "code",
   "execution_count": 48,
   "metadata": {
    "scrolled": true
   },
   "outputs": [
    {
     "data": {
      "image/png": "[encoded data removed]",
      "text/plain": [
       "<Figure size 720x360 with 1 Axes>"
      ]
     },
     "metadata": {
      "needs_background": "light"
     },
     "output_type": "display_data"
    },
    {
     "data": {
      "text/plain": [
       "<Figure size 720x360 with 0 Axes>"
      ]
     },
     "metadata": {},
     "output_type": "display_data"
    }
   ],
   "source": [
    "sns.violinplot(x='country',y='ecpm_value',data=df_A, color='yellow')\n",
    "plt.figure('Find out type of country with the ecpm_valu ')\n",
    "plt.show()"
   ]
  },
  {
   "cell_type": "markdown",
   "metadata": {},
   "source": [
    "We use the violinplot to find out the counties with their ecpm values and it shows that the US,Italy, Great Britain and Japan has the highest amount of ecpm."
   ]
  },
  {
   "cell_type": "code",
   "execution_count": 49,
   "metadata": {},
   "outputs": [
    {
     "data": {
      "image/png": "[encoded data removed]",
      "text/plain": [
       "<Figure size 720x360 with 1 Axes>"
      ]
     },
     "metadata": {
      "needs_background": "light"
     },
     "output_type": "display_data"
    }
   ],
   "source": [
    "sns.boxplot(x='version',y='events_amount',data=df_B)\n",
    "plt.title=('compare the events_amount with the events_amount')\n",
    "plt.show()"
   ]
  },
  {
   "cell_type": "markdown",
   "metadata": {},
   "source": [
    "As you see, the verson 2.2 has the highest amount of events and version 1.1 has the lowest ."
   ]
  },
  {
   "cell_type": "code",
   "execution_count": 50,
   "metadata": {
    "scrolled": true
   },
   "outputs": [
    {
     "data": {
      "image/png": "[encoded data removed]",
      "text/plain": [
       "<Figure size 720x360 with 1 Axes>"
      ]
     },
     "metadata": {
      "needs_background": "light"
     },
     "output_type": "display_data"
    }
   ],
   "source": [
    "sns.scatterplot(x='network',y='installs',data=df_B,color='green')\n",
    "plt.xlabel('Kind of networks')\n",
    "plt.ylabel('Distribute the installs')\n",
    "plt.xticks(rotation=50)\n",
    "plt.show()\n",
    "# The Adnetwork Q has the highest amount."
   ]
  },
  {
   "cell_type": "code",
   "execution_count": 53,
   "metadata": {
    "scrolled": true
   },
   "outputs": [
    {
     "data": {
      "image/png": "[encoded data removed]",
      "text/plain": [
       "<Figure size 720x360 with 1 Axes>"
      ]
     },
     "metadata": {
      "needs_background": "light"
     },
     "output_type": "display_data"
    }
   ],
   "source": [
    "# It shows that most range of the events amount which shows  the range  \n",
    "df_B['events_amount'].hist(bins=30)\n",
    "plt.xlabel('The most range of the events amount')\n",
    "plt.ylabel('count')\n",
    "plt.show()"
   ]
  },
  {
   "cell_type": "code",
   "execution_count": 57,
   "metadata": {
    "scrolled": true
   },
   "outputs": [
    {
     "data": {
      "image/png": "[encoded data removed]",
      "text/plain": [
       "<Figure size 720x360 with 1 Axes>"
      ]
     },
     "metadata": {},
     "output_type": "display_data"
    }
   ],
   "source": [
    "pm = df_B[['events_amount', 'network']].groupby(['network']).agg([sum])\n",
    "\n",
    "sns.set_palette('Spectral')\n",
    "plt.figure(figsize=(10,5))\n",
    "plt.pie(pm['events_amount']['sum'], labels = pm.index, explode = (0, 1.5, 0 ), \n",
    "        shadow = True, autopct = '%1.1f%%')\n",
    "plt.show()"
   ]
  },
  {
   "cell_type": "code",
   "execution_count": 61,
   "metadata": {},
   "outputs": [
    {
     "data": {
      "image/png": "[encoded data removed]",
      "text/plain": [
       "<Figure size 720x360 with 1 Axes>"
      ]
     },
     "metadata": {},
     "output_type": "display_data"
    }
   ],
   "source": [
    "pm = df_B[['installs', 'country']].groupby(['country']).agg([sum])\n",
    "\n",
    "sns.set_palette('Spectral')\n",
    "plt.figure(figsize=(10,5))\n",
    "plt.pie(pm['installs']['sum'], labels = pm.index, explode = (0, 1.5, 0, 1.3, 1, 0, 0, 0.5, 0, 1.5, 0, 1.3, 1, 0, 0,1.5, 0), \n",
    "        shadow = True, autopct = '%1.1f%%')\n",
    "plt.show()"
   ]
  }
 ],
 "metadata": {
  "kernelspec": {
   "display_name": "Python 3",
   "language": "python",
   "name": "python3"
  },
  "language_info": {
   "codemirror_mode": {
    "name": "ipython",
    "version": 3
   },
   "file_extension": ".py",
   "mimetype": "text/x-python",
   "name": "python",
   "nbconvert_exporter": "python",
   "pygments_lexer": "ipython3",
   "version": "3.8.3"
  }
 },
 "nbformat": 4,
 "nbformat_minor": 4
}
