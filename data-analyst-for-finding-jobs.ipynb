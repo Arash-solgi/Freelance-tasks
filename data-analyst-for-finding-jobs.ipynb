{
 "cells": [
  {
   "cell_type": "code",
   "execution_count": 1,
   "metadata": {
    "_cell_guid": "f07df7c8-afc2-4cd1-b1ab-421827464cf4",
    "_uuid": "4454fe1e-2159-400b-98dd-4e9974929595",
    "execution": {
     "iopub.execute_input": "2021-09-03T21:36:16.079711Z",
     "iopub.status.busy": "2021-09-03T21:36:16.078929Z",
     "iopub.status.idle": "2021-09-03T21:36:16.093984Z",
     "shell.execute_reply": "2021-09-03T21:36:16.093274Z",
     "shell.execute_reply.started": "2021-09-03T19:36:57.270405Z"
    },
    "papermill": {
     "duration": 0.086731,
     "end_time": "2021-09-03T21:36:16.094131",
     "exception": false,
     "start_time": "2021-09-03T21:36:16.007400",
     "status": "completed"
    },
    "tags": []
   },
   "outputs": [
    {
     "name": "stdout",
     "output_type": "stream",
     "text": [
      "/kaggle/input/new-analyst/new_Data_Analyst.csv\n"
     ]
    }
   ],
   "source": [
    "# This Python 3 environment comes with many helpful analytics libraries installed\n",
    "# It is defined by the kaggle/python Docker image: https://github.com/kaggle/docker-python\n",
    "# For example, here's several helpful packages to load\n",
    "\n",
    "import numpy as np # linear algebra\n",
    "import pandas as pd # data processing, CSV file I/O (e.g. pd.read_csv)\n",
    "\n",
    "# Input data files are available in the read-only \"../input/\" directory\n",
    "# For example, running this (by clicking run or pressing Shift+Enter) will list all files under the input directory\n",
    "\n",
    "import os\n",
    "for dirname, _, filenames in os.walk('/kaggle/input'):\n",
    "    for filename in filenames:\n",
    "        print(os.path.join(dirname, filename))\n",
    "\n",
    "# You can write up to 20GB to the current directory (/kaggle/working/) that gets preserved as output when you create a version using \"Save & Run All\" \n",
    "# You can also write temporary files to /kaggle/temp/, but they won't be saved outside of the current session"
   ]
  },
  {
   "cell_type": "markdown",
   "metadata": {
    "papermill": {
     "duration": 0.074257,
     "end_time": "2021-09-03T21:36:16.235071",
     "exception": false,
     "start_time": "2021-09-03T21:36:16.160814",
     "status": "completed"
    },
    "tags": []
   },
   "source": [
    "# 1-Data exploration and preprocessing"
   ]
  },
  {
   "cell_type": "code",
   "execution_count": 2,
   "metadata": {
    "execution": {
     "iopub.execute_input": "2021-09-03T21:36:16.367101Z",
     "iopub.status.busy": "2021-09-03T21:36:16.366092Z",
     "iopub.status.idle": "2021-09-03T21:36:19.840664Z",
     "shell.execute_reply": "2021-09-03T21:36:19.839980Z",
     "shell.execute_reply.started": "2021-09-03T19:36:57.294877Z"
    },
    "papermill": {
     "duration": 3.544791,
     "end_time": "2021-09-03T21:36:19.840805",
     "exception": false,
     "start_time": "2021-09-03T21:36:16.296014",
     "status": "completed"
    },
    "tags": []
   },
   "outputs": [],
   "source": [
    "import numpy as np # linear algebra\n",
    "import pandas as pd # data processing, CSV file I/O (e.g. pd.read_csv)\n",
    "import seaborn as sns\n",
    "import matplotlib.pyplot as plt\n",
    "%matplotlib inline\n",
    "import plotly.io as pio\n",
    "import missingno as msno\n",
    "from scipy import stats\n",
    "import plotly.express as ex\n",
    "import plotly.graph_objs as go\n",
    "import plotly.figure_factory as ff\n",
    "from plotly.subplots import make_subplots"
   ]
  },
  {
   "cell_type": "code",
   "execution_count": 3,
   "metadata": {
    "_cell_guid": "76cfce4f-c90d-4255-97fc-a3e796915838",
    "_uuid": "5455c570-d941-4000-8bc9-81dd55bb7b87",
    "execution": {
     "iopub.execute_input": "2021-09-03T21:36:19.972161Z",
     "iopub.status.busy": "2021-09-03T21:36:19.971421Z",
     "iopub.status.idle": "2021-09-03T21:36:20.036503Z",
     "shell.execute_reply": "2021-09-03T21:36:20.035864Z",
     "shell.execute_reply.started": "2021-09-03T19:36:57.313585Z"
    },
    "papermill": {
     "duration": 0.135774,
     "end_time": "2021-09-03T21:36:20.036657",
     "exception": false,
     "start_time": "2021-09-03T21:36:19.900883",
     "status": "completed"
    },
    "tags": []
   },
   "outputs": [
    {
     "data": {
      "text/html": [
       "<div>\n",
       "<style scoped>\n",
       "    .dataframe tbody tr th:only-of-type {\n",
       "        vertical-align: middle;\n",
       "    }\n",
       "\n",
       "    .dataframe tbody tr th {\n",
       "        vertical-align: top;\n",
       "    }\n",
       "\n",
       "    .dataframe thead th {\n",
       "        text-align: right;\n",
       "    }\n",
       "</style>\n",
       "<table border=\"1\" class=\"dataframe\">\n",
       "  <thead>\n",
       "    <tr style=\"text-align: right;\">\n",
       "      <th></th>\n",
       "      <th>Job_Title</th>\n",
       "      <th>Rating</th>\n",
       "      <th>Location</th>\n",
       "      <th>Headquarters</th>\n",
       "      <th>Founded\\t</th>\n",
       "      <th>ownership\\t</th>\n",
       "      <th>Industry</th>\n",
       "      <th>Sector</th>\n",
       "      <th>Revenue</th>\n",
       "      <th>Competitors\\t</th>\n",
       "      <th>Easy_Apply</th>\n",
       "      <th>Estimated_min_salary</th>\n",
       "      <th>Estimated_max_salary</th>\n",
       "      <th>Min_size</th>\n",
       "      <th>Max_size</th>\n",
       "    </tr>\n",
       "  </thead>\n",
       "  <tbody>\n",
       "    <tr>\n",
       "      <th>434</th>\n",
       "      <td>Quality Data Analyst</td>\n",
       "      <td>2.6</td>\n",
       "      <td>Salt Lake City, UT</td>\n",
       "      <td>Salt Lake City, UT</td>\n",
       "      <td>2005</td>\n",
       "      <td>Company - Private</td>\n",
       "      <td>Consumer Products Manufacturing</td>\n",
       "      <td>Manufacturing</td>\n",
       "      <td>$50 to $100 million (USD)</td>\n",
       "      <td>Unknown</td>\n",
       "      <td>False</td>\n",
       "      <td>26</td>\n",
       "      <td>47</td>\n",
       "      <td>201.0</td>\n",
       "      <td>500.0</td>\n",
       "    </tr>\n",
       "    <tr>\n",
       "      <th>1037</th>\n",
       "      <td>Enterprise Data Quality Analyst - EDM</td>\n",
       "      <td>4.2</td>\n",
       "      <td>Scottsdale, AZ</td>\n",
       "      <td>Schaumburg, IL</td>\n",
       "      <td>2014</td>\n",
       "      <td>Company - Private</td>\n",
       "      <td>Accounting</td>\n",
       "      <td>Accounting &amp; Legal</td>\n",
       "      <td>$1 to $5 million (USD)</td>\n",
       "      <td>Unknown</td>\n",
       "      <td>False</td>\n",
       "      <td>43</td>\n",
       "      <td>94</td>\n",
       "      <td>201.0</td>\n",
       "      <td>500.0</td>\n",
       "    </tr>\n",
       "    <tr>\n",
       "      <th>2096</th>\n",
       "      <td>Technical Data Analyst</td>\n",
       "      <td>3.3</td>\n",
       "      <td>Redmond, WA</td>\n",
       "      <td>Waltham, MA</td>\n",
       "      <td>1996</td>\n",
       "      <td>Company - Private</td>\n",
       "      <td>IT Services</td>\n",
       "      <td>Information Technology</td>\n",
       "      <td>$500 million to $1 billion (USD)</td>\n",
       "      <td>SDL, Keywords Studios, TransPerfect</td>\n",
       "      <td>False</td>\n",
       "      <td>35</td>\n",
       "      <td>67</td>\n",
       "      <td>5001.0</td>\n",
       "      <td>10000.0</td>\n",
       "    </tr>\n",
       "    <tr>\n",
       "      <th>449</th>\n",
       "      <td>Sr Data Analyst</td>\n",
       "      <td>4.1</td>\n",
       "      <td>Draper, UT</td>\n",
       "      <td>Mountain View, CA</td>\n",
       "      <td>2011</td>\n",
       "      <td>Company - Private</td>\n",
       "      <td>IT Services</td>\n",
       "      <td>Information Technology</td>\n",
       "      <td>Non-Applicable</td>\n",
       "      <td>Unknown</td>\n",
       "      <td>False</td>\n",
       "      <td>26</td>\n",
       "      <td>47</td>\n",
       "      <td>51.0</td>\n",
       "      <td>200.0</td>\n",
       "    </tr>\n",
       "    <tr>\n",
       "      <th>2177</th>\n",
       "      <td>TX Healthcare Data/Reporting Analyst</td>\n",
       "      <td>3.6</td>\n",
       "      <td>Denver, CO</td>\n",
       "      <td>Mumbai, India</td>\n",
       "      <td>2005</td>\n",
       "      <td>Company - Private</td>\n",
       "      <td>IT Services</td>\n",
       "      <td>Information Technology</td>\n",
       "      <td>$100 to $500 million (USD)</td>\n",
       "      <td>Cognizant Technology Solutions, Infosys, HCL T...</td>\n",
       "      <td>False</td>\n",
       "      <td>36</td>\n",
       "      <td>67</td>\n",
       "      <td>1001.0</td>\n",
       "      <td>5000.0</td>\n",
       "    </tr>\n",
       "  </tbody>\n",
       "</table>\n",
       "</div>"
      ],
      "text/plain": [
       "                                  Job_Title  Rating            Location  \\\n",
       "434                    Quality Data Analyst     2.6  Salt Lake City, UT   \n",
       "1037  Enterprise Data Quality Analyst - EDM     4.2      Scottsdale, AZ   \n",
       "2096                 Technical Data Analyst     3.3         Redmond, WA   \n",
       "449                         Sr Data Analyst     4.1          Draper, UT   \n",
       "2177   TX Healthcare Data/Reporting Analyst     3.6          Denver, CO   \n",
       "\n",
       "            Headquarters  Founded\\t        ownership\\t  \\\n",
       "434   Salt Lake City, UT       2005  Company - Private   \n",
       "1037      Schaumburg, IL       2014  Company - Private   \n",
       "2096         Waltham, MA       1996  Company - Private   \n",
       "449    Mountain View, CA       2011  Company - Private   \n",
       "2177       Mumbai, India       2005  Company - Private   \n",
       "\n",
       "                             Industry                  Sector  \\\n",
       "434   Consumer Products Manufacturing           Manufacturing   \n",
       "1037                       Accounting      Accounting & Legal   \n",
       "2096                      IT Services  Information Technology   \n",
       "449                       IT Services  Information Technology   \n",
       "2177                      IT Services  Information Technology   \n",
       "\n",
       "                               Revenue  \\\n",
       "434          $50 to $100 million (USD)   \n",
       "1037            $1 to $5 million (USD)   \n",
       "2096  $500 million to $1 billion (USD)   \n",
       "449                     Non-Applicable   \n",
       "2177        $100 to $500 million (USD)   \n",
       "\n",
       "                                          Competitors\\t  Easy_Apply  \\\n",
       "434                                             Unknown       False   \n",
       "1037                                            Unknown       False   \n",
       "2096                SDL, Keywords Studios, TransPerfect       False   \n",
       "449                                             Unknown       False   \n",
       "2177  Cognizant Technology Solutions, Infosys, HCL T...       False   \n",
       "\n",
       "      Estimated_min_salary  Estimated_max_salary  Min_size  Max_size  \n",
       "434                     26                    47     201.0     500.0  \n",
       "1037                    43                    94     201.0     500.0  \n",
       "2096                    35                    67    5001.0   10000.0  \n",
       "449                     26                    47      51.0     200.0  \n",
       "2177                    36                    67    1001.0    5000.0  "
      ]
     },
     "execution_count": 3,
     "metadata": {},
     "output_type": "execute_result"
    }
   ],
   "source": [
    "# We read the dataset and know the columns\n",
    "df=pd.read_csv('../input/new-analyst/new_Data_Analyst.csv')\n",
    "df.sample(5)"
   ]
  },
  {
   "cell_type": "markdown",
   "metadata": {
    "papermill": {
     "duration": 0.060975,
     "end_time": "2021-09-03T21:36:20.159832",
     "exception": false,
     "start_time": "2021-09-03T21:36:20.098857",
     "status": "completed"
    },
    "tags": []
   },
   "source": [
    "**As you see, the dataset is so messy.there are some ways to clean and sort it.One of this is SQLITE or SQL and second is clean on kaggle and I clean on sqlite.**"
   ]
  },
  {
   "cell_type": "code",
   "execution_count": 4,
   "metadata": {
    "_cell_guid": "55e3339d-9c50-4ea4-86c7-3ff3e97ad01b",
    "_uuid": "b632d16f-6333-4fb0-aa26-8f1e0812e1e6",
    "execution": {
     "iopub.execute_input": "2021-09-03T21:36:20.303337Z",
     "iopub.status.busy": "2021-09-03T21:36:20.302602Z",
     "iopub.status.idle": "2021-09-03T21:36:20.306636Z",
     "shell.execute_reply": "2021-09-03T21:36:20.305800Z",
     "shell.execute_reply.started": "2021-09-03T19:36:57.355520Z"
    },
    "papermill": {
     "duration": 0.085797,
     "end_time": "2021-09-03T21:36:20.306815",
     "exception": false,
     "start_time": "2021-09-03T21:36:20.221018",
     "status": "completed"
    },
    "tags": []
   },
   "outputs": [
    {
     "name": "stdout",
     "output_type": "stream",
     "text": [
      "<class 'pandas.core.frame.DataFrame'>\n",
      "RangeIndex: 2253 entries, 0 to 2252\n",
      "Data columns (total 15 columns):\n",
      " #   Column                Non-Null Count  Dtype  \n",
      "---  ------                --------------  -----  \n",
      " 0   Job_Title             2253 non-null   object \n",
      " 1   Rating                2253 non-null   float64\n",
      " 2   Location              2253 non-null   object \n",
      " 3   Headquarters          2253 non-null   object \n",
      " 4   Founded\t              2253 non-null   int64  \n",
      " 5   ownership\t            2253 non-null   object \n",
      " 6   Industry              2253 non-null   object \n",
      " 7   Sector                2253 non-null   object \n",
      " 8   Revenue               2253 non-null   object \n",
      " 9   Competitors\t          2253 non-null   object \n",
      " 10  Easy_Apply            2253 non-null   bool   \n",
      " 11  Estimated_min_salary  2253 non-null   int64  \n",
      " 12  Estimated_max_salary  2253 non-null   int64  \n",
      " 13  Min_size              2249 non-null   float64\n",
      " 14  Max_size              2251 non-null   float64\n",
      "dtypes: bool(1), float64(3), int64(3), object(8)\n",
      "memory usage: 248.7+ KB\n"
     ]
    }
   ],
   "source": [
    "df.info()"
   ]
  },
  {
   "cell_type": "code",
   "execution_count": 5,
   "metadata": {
    "_cell_guid": "d06e65b0-5234-466f-a77b-ddc95465496b",
    "_uuid": "e9a6fe24-792f-48de-b170-fb67e84d9eea",
    "execution": {
     "iopub.execute_input": "2021-09-03T21:36:20.440838Z",
     "iopub.status.busy": "2021-09-03T21:36:20.439802Z",
     "iopub.status.idle": "2021-09-03T21:36:20.445005Z",
     "shell.execute_reply": "2021-09-03T21:36:20.444396Z",
     "shell.execute_reply.started": "2021-09-03T19:36:57.470382Z"
    },
    "papermill": {
     "duration": 0.075059,
     "end_time": "2021-09-03T21:36:20.445185",
     "exception": false,
     "start_time": "2021-09-03T21:36:20.370126",
     "status": "completed"
    },
    "tags": []
   },
   "outputs": [
    {
     "data": {
      "text/plain": [
       "(2253, 15)"
      ]
     },
     "execution_count": 5,
     "metadata": {},
     "output_type": "execute_result"
    }
   ],
   "source": [
    "#Number of the rows and columns\n",
    "df.shape"
   ]
  },
  {
   "cell_type": "code",
   "execution_count": 6,
   "metadata": {
    "execution": {
     "iopub.execute_input": "2021-09-03T21:36:20.575289Z",
     "iopub.status.busy": "2021-09-03T21:36:20.574615Z",
     "iopub.status.idle": "2021-09-03T21:36:20.602294Z",
     "shell.execute_reply": "2021-09-03T21:36:20.602867Z",
     "shell.execute_reply.started": "2021-09-03T19:36:57.480079Z"
    },
    "papermill": {
     "duration": 0.096207,
     "end_time": "2021-09-03T21:36:20.603014",
     "exception": false,
     "start_time": "2021-09-03T21:36:20.506807",
     "status": "completed"
    },
    "tags": []
   },
   "outputs": [
    {
     "data": {
      "text/html": [
       "<div>\n",
       "<style scoped>\n",
       "    .dataframe tbody tr th:only-of-type {\n",
       "        vertical-align: middle;\n",
       "    }\n",
       "\n",
       "    .dataframe tbody tr th {\n",
       "        vertical-align: top;\n",
       "    }\n",
       "\n",
       "    .dataframe thead th {\n",
       "        text-align: right;\n",
       "    }\n",
       "</style>\n",
       "<table border=\"1\" class=\"dataframe\">\n",
       "  <thead>\n",
       "    <tr style=\"text-align: right;\">\n",
       "      <th></th>\n",
       "      <th>Rating</th>\n",
       "      <th>Location</th>\n",
       "      <th>Headquarters</th>\n",
       "      <th>Founded\\t</th>\n",
       "      <th>ownership\\t</th>\n",
       "      <th>Industry</th>\n",
       "      <th>Sector</th>\n",
       "      <th>Revenue</th>\n",
       "      <th>Competitors\\t</th>\n",
       "      <th>Easy_Apply</th>\n",
       "      <th>Estimated_min_salary</th>\n",
       "      <th>Estimated_max_salary</th>\n",
       "      <th>Min_size</th>\n",
       "      <th>Max_size</th>\n",
       "      <th>Job</th>\n",
       "    </tr>\n",
       "  </thead>\n",
       "  <tbody>\n",
       "    <tr>\n",
       "      <th>0</th>\n",
       "      <td>3.2</td>\n",
       "      <td>New York, NY</td>\n",
       "      <td>New York, NY</td>\n",
       "      <td>1961</td>\n",
       "      <td>Nonprofit Organization</td>\n",
       "      <td>Social Assistance</td>\n",
       "      <td>Non-Profit</td>\n",
       "      <td>$100 to $500 million (USD)</td>\n",
       "      <td>Unknown</td>\n",
       "      <td>True</td>\n",
       "      <td>37</td>\n",
       "      <td>66</td>\n",
       "      <td>201.0</td>\n",
       "      <td>500.0</td>\n",
       "      <td>Data Analyst</td>\n",
       "    </tr>\n",
       "    <tr>\n",
       "      <th>1</th>\n",
       "      <td>3.8</td>\n",
       "      <td>New York, NY</td>\n",
       "      <td>New York, NY</td>\n",
       "      <td>1893</td>\n",
       "      <td>Nonprofit Organization</td>\n",
       "      <td>Health Care Services &amp; Hospitals</td>\n",
       "      <td>Health Care</td>\n",
       "      <td>$2 to $5 billion (USD)</td>\n",
       "      <td>Unknown</td>\n",
       "      <td>False</td>\n",
       "      <td>37</td>\n",
       "      <td>66</td>\n",
       "      <td>1100.0</td>\n",
       "      <td>1500.0</td>\n",
       "      <td>Quality Data Analyst</td>\n",
       "    </tr>\n",
       "    <tr>\n",
       "      <th>2</th>\n",
       "      <td>3.4</td>\n",
       "      <td>New York, NY</td>\n",
       "      <td>New York, NY</td>\n",
       "      <td>2003</td>\n",
       "      <td>Company - Private</td>\n",
       "      <td>Internet</td>\n",
       "      <td>Information Technology</td>\n",
       "      <td>Non-Applicable</td>\n",
       "      <td>GoDaddy</td>\n",
       "      <td>False</td>\n",
       "      <td>37</td>\n",
       "      <td>66</td>\n",
       "      <td>1001.0</td>\n",
       "      <td>5000.0</td>\n",
       "      <td>Sr Data Analyst</td>\n",
       "    </tr>\n",
       "  </tbody>\n",
       "</table>\n",
       "</div>"
      ],
      "text/plain": [
       "   Rating      Location  Headquarters  Founded\\t             ownership\\t  \\\n",
       "0     3.2  New York, NY  New York, NY       1961  Nonprofit Organization   \n",
       "1     3.8  New York, NY  New York, NY       1893  Nonprofit Organization   \n",
       "2     3.4  New York, NY  New York, NY       2003       Company - Private   \n",
       "\n",
       "                           Industry                  Sector  \\\n",
       "0                 Social Assistance              Non-Profit   \n",
       "1  Health Care Services & Hospitals             Health Care   \n",
       "2                          Internet  Information Technology   \n",
       "\n",
       "                      Revenue Competitors\\t  Easy_Apply  Estimated_min_salary  \\\n",
       "0  $100 to $500 million (USD)       Unknown        True                    37   \n",
       "1      $2 to $5 billion (USD)       Unknown       False                    37   \n",
       "2              Non-Applicable       GoDaddy       False                    37   \n",
       "\n",
       "   Estimated_max_salary  Min_size  Max_size                   Job  \n",
       "0                    66     201.0     500.0          Data Analyst  \n",
       "1                    66    1100.0    1500.0  Quality Data Analyst  \n",
       "2                    66    1001.0    5000.0       Sr Data Analyst  "
      ]
     },
     "execution_count": 6,
     "metadata": {},
     "output_type": "execute_result"
    }
   ],
   "source": [
    "new = df[\"Job_Title\"].str.split(\",\", n = 1, expand = True) \n",
    "# making separate first name column from new data frame \n",
    "df[\"Job\"]= new[0] \n",
    "df.drop(columns =[\"Job_Title\"], inplace = True) \n",
    "df.head(3)"
   ]
  },
  {
   "cell_type": "code",
   "execution_count": 7,
   "metadata": {
    "execution": {
     "iopub.execute_input": "2021-09-03T21:36:20.730060Z",
     "iopub.status.busy": "2021-09-03T21:36:20.729396Z",
     "iopub.status.idle": "2021-09-03T21:36:20.737078Z",
     "shell.execute_reply": "2021-09-03T21:36:20.736414Z",
     "shell.execute_reply.started": "2021-09-03T19:36:57.516971Z"
    },
    "papermill": {
     "duration": 0.072251,
     "end_time": "2021-09-03T21:36:20.737198",
     "exception": false,
     "start_time": "2021-09-03T21:36:20.664947",
     "status": "completed"
    },
    "tags": []
   },
   "outputs": [
    {
     "data": {
      "text/plain": [
       "['Rating',\n",
       " 'Location',\n",
       " 'Headquarters',\n",
       " 'Founded\\t',\n",
       " 'ownership\\t',\n",
       " 'Industry',\n",
       " 'Sector',\n",
       " 'Revenue',\n",
       " 'Competitors\\t',\n",
       " 'Easy_Apply',\n",
       " 'Estimated_min_salary',\n",
       " 'Estimated_max_salary',\n",
       " 'Min_size',\n",
       " 'Max_size',\n",
       " 'Job']"
      ]
     },
     "execution_count": 7,
     "metadata": {},
     "output_type": "execute_result"
    }
   ],
   "source": [
    "# We want to change the number of the columns\n",
    "titles=list(df.columns)\n",
    "titles"
   ]
  },
  {
   "cell_type": "code",
   "execution_count": 8,
   "metadata": {
    "execution": {
     "iopub.execute_input": "2021-09-03T21:36:20.872460Z",
     "iopub.status.busy": "2021-09-03T21:36:20.871462Z",
     "iopub.status.idle": "2021-09-03T21:36:20.907372Z",
     "shell.execute_reply": "2021-09-03T21:36:20.906705Z",
     "shell.execute_reply.started": "2021-09-03T19:36:57.547076Z"
    },
    "papermill": {
     "duration": 0.107057,
     "end_time": "2021-09-03T21:36:20.907506",
     "exception": false,
     "start_time": "2021-09-03T21:36:20.800449",
     "status": "completed"
    },
    "tags": []
   },
   "outputs": [
    {
     "data": {
      "text/html": [
       "<div>\n",
       "<style scoped>\n",
       "    .dataframe tbody tr th:only-of-type {\n",
       "        vertical-align: middle;\n",
       "    }\n",
       "\n",
       "    .dataframe tbody tr th {\n",
       "        vertical-align: top;\n",
       "    }\n",
       "\n",
       "    .dataframe thead th {\n",
       "        text-align: right;\n",
       "    }\n",
       "</style>\n",
       "<table border=\"1\" class=\"dataframe\">\n",
       "  <thead>\n",
       "    <tr style=\"text-align: right;\">\n",
       "      <th></th>\n",
       "      <th>Job</th>\n",
       "      <th>Estimated_min_salary</th>\n",
       "      <th>Estimated_max_salary</th>\n",
       "      <th>Location</th>\n",
       "      <th>Headquarters</th>\n",
       "      <th>Rating</th>\n",
       "      <th>Founded\\t</th>\n",
       "      <th>ownership\\t</th>\n",
       "      <th>Min_size</th>\n",
       "      <th>Max_size</th>\n",
       "      <th>Industry</th>\n",
       "      <th>Sector</th>\n",
       "      <th>Revenue</th>\n",
       "      <th>Competitors\\t</th>\n",
       "      <th>Easy_Apply</th>\n",
       "    </tr>\n",
       "  </thead>\n",
       "  <tbody>\n",
       "    <tr>\n",
       "      <th>0</th>\n",
       "      <td>Data Analyst</td>\n",
       "      <td>37</td>\n",
       "      <td>66</td>\n",
       "      <td>New York, NY</td>\n",
       "      <td>New York, NY</td>\n",
       "      <td>3.2</td>\n",
       "      <td>1961</td>\n",
       "      <td>Nonprofit Organization</td>\n",
       "      <td>201.0</td>\n",
       "      <td>500.0</td>\n",
       "      <td>Social Assistance</td>\n",
       "      <td>Non-Profit</td>\n",
       "      <td>$100 to $500 million (USD)</td>\n",
       "      <td>Unknown</td>\n",
       "      <td>True</td>\n",
       "    </tr>\n",
       "    <tr>\n",
       "      <th>1</th>\n",
       "      <td>Quality Data Analyst</td>\n",
       "      <td>37</td>\n",
       "      <td>66</td>\n",
       "      <td>New York, NY</td>\n",
       "      <td>New York, NY</td>\n",
       "      <td>3.8</td>\n",
       "      <td>1893</td>\n",
       "      <td>Nonprofit Organization</td>\n",
       "      <td>1100.0</td>\n",
       "      <td>1500.0</td>\n",
       "      <td>Health Care Services &amp; Hospitals</td>\n",
       "      <td>Health Care</td>\n",
       "      <td>$2 to $5 billion (USD)</td>\n",
       "      <td>Unknown</td>\n",
       "      <td>False</td>\n",
       "    </tr>\n",
       "    <tr>\n",
       "      <th>2</th>\n",
       "      <td>Sr Data Analyst</td>\n",
       "      <td>37</td>\n",
       "      <td>66</td>\n",
       "      <td>New York, NY</td>\n",
       "      <td>New York, NY</td>\n",
       "      <td>3.4</td>\n",
       "      <td>2003</td>\n",
       "      <td>Company - Private</td>\n",
       "      <td>1001.0</td>\n",
       "      <td>5000.0</td>\n",
       "      <td>Internet</td>\n",
       "      <td>Information Technology</td>\n",
       "      <td>Non-Applicable</td>\n",
       "      <td>GoDaddy</td>\n",
       "      <td>False</td>\n",
       "    </tr>\n",
       "    <tr>\n",
       "      <th>3</th>\n",
       "      <td>Data Analyst</td>\n",
       "      <td>37</td>\n",
       "      <td>66</td>\n",
       "      <td>New York, NY</td>\n",
       "      <td>McLean, VA</td>\n",
       "      <td>4.1</td>\n",
       "      <td>2002</td>\n",
       "      <td>Subsidiary or Business Segment</td>\n",
       "      <td>201.0</td>\n",
       "      <td>500.0</td>\n",
       "      <td>IT Services</td>\n",
       "      <td>Information Technology</td>\n",
       "      <td>$50 to $100 million (USD)</td>\n",
       "      <td>Unknown</td>\n",
       "      <td>False</td>\n",
       "    </tr>\n",
       "    <tr>\n",
       "      <th>4</th>\n",
       "      <td>Reporting Data Analyst</td>\n",
       "      <td>37</td>\n",
       "      <td>66</td>\n",
       "      <td>New York, NY</td>\n",
       "      <td>New York, NY</td>\n",
       "      <td>3.9</td>\n",
       "      <td>2009</td>\n",
       "      <td>Company - Private</td>\n",
       "      <td>501.0</td>\n",
       "      <td>1000.0</td>\n",
       "      <td>Sports &amp; Recreation</td>\n",
       "      <td>Arts, Entertainment &amp; Recreation</td>\n",
       "      <td>$100 to $500 million (USD)</td>\n",
       "      <td>DraftKings</td>\n",
       "      <td>True</td>\n",
       "    </tr>\n",
       "    <tr>\n",
       "      <th>...</th>\n",
       "      <td>...</td>\n",
       "      <td>...</td>\n",
       "      <td>...</td>\n",
       "      <td>...</td>\n",
       "      <td>...</td>\n",
       "      <td>...</td>\n",
       "      <td>...</td>\n",
       "      <td>...</td>\n",
       "      <td>...</td>\n",
       "      <td>...</td>\n",
       "      <td>...</td>\n",
       "      <td>...</td>\n",
       "      <td>...</td>\n",
       "      <td>...</td>\n",
       "      <td>...</td>\n",
       "    </tr>\n",
       "    <tr>\n",
       "      <th>2248</th>\n",
       "      <td>Radar Data Analyst</td>\n",
       "      <td>78</td>\n",
       "      <td>104</td>\n",
       "      <td>Denver, CO</td>\n",
       "      <td>Alpharetta, GA</td>\n",
       "      <td>2.5</td>\n",
       "      <td>2011</td>\n",
       "      <td>Company - Private</td>\n",
       "      <td>51.0</td>\n",
       "      <td>200.0</td>\n",
       "      <td>Staffing &amp; Outsourcing</td>\n",
       "      <td>Business Services</td>\n",
       "      <td>Non-Applicable</td>\n",
       "      <td>Unknown</td>\n",
       "      <td>False</td>\n",
       "    </tr>\n",
       "    <tr>\n",
       "      <th>2249</th>\n",
       "      <td>Sr Data Analyst</td>\n",
       "      <td>78</td>\n",
       "      <td>104</td>\n",
       "      <td>Centennial, CO</td>\n",
       "      <td>Centennial, CO</td>\n",
       "      <td>2.9</td>\n",
       "      <td>1935</td>\n",
       "      <td>Company - Public</td>\n",
       "      <td>NaN</td>\n",
       "      <td>1500.0</td>\n",
       "      <td>Wholesale</td>\n",
       "      <td>Business Services</td>\n",
       "      <td>$10+ billion (USD)</td>\n",
       "      <td>Avnet, Ingram Micro, Tech Data</td>\n",
       "      <td>False</td>\n",
       "    </tr>\n",
       "    <tr>\n",
       "      <th>2250</th>\n",
       "      <td>Technical Data Analyst</td>\n",
       "      <td>78</td>\n",
       "      <td>104</td>\n",
       "      <td>Denver, CO</td>\n",
       "      <td>Unknown</td>\n",
       "      <td>-1.0</td>\n",
       "      <td>2011</td>\n",
       "      <td>Unknown</td>\n",
       "      <td>51.0</td>\n",
       "      <td>200.0</td>\n",
       "      <td>Unknown</td>\n",
       "      <td>Unknown</td>\n",
       "      <td>Non-Applicable</td>\n",
       "      <td>Unknown</td>\n",
       "      <td>False</td>\n",
       "    </tr>\n",
       "    <tr>\n",
       "      <th>2251</th>\n",
       "      <td>Data Analyst</td>\n",
       "      <td>78</td>\n",
       "      <td>104</td>\n",
       "      <td>Centennial, CO</td>\n",
       "      <td>West Chester, OH</td>\n",
       "      <td>3.1</td>\n",
       "      <td>1984</td>\n",
       "      <td>Company - Private</td>\n",
       "      <td>201.0</td>\n",
       "      <td>500.0</td>\n",
       "      <td>Enterprise Software &amp; Network Solutions</td>\n",
       "      <td>Information Technology</td>\n",
       "      <td>$25 to $50 million (USD)</td>\n",
       "      <td>Unknown</td>\n",
       "      <td>False</td>\n",
       "    </tr>\n",
       "    <tr>\n",
       "      <th>2252</th>\n",
       "      <td>Sr Data Analyst</td>\n",
       "      <td>78</td>\n",
       "      <td>104</td>\n",
       "      <td>Broomfield, CO</td>\n",
       "      <td>Broomfield, CO</td>\n",
       "      <td>3.4</td>\n",
       "      <td>1864</td>\n",
       "      <td>Nonprofit Organization</td>\n",
       "      <td>NaN</td>\n",
       "      <td>1500.0</td>\n",
       "      <td>Health Care Services &amp; Hospitals</td>\n",
       "      <td>Health Care</td>\n",
       "      <td>$2 to $5 billion (USD)</td>\n",
       "      <td>Centura Health, HealthONE, Denver Health and H...</td>\n",
       "      <td>False</td>\n",
       "    </tr>\n",
       "  </tbody>\n",
       "</table>\n",
       "<p>2253 rows × 15 columns</p>\n",
       "</div>"
      ],
      "text/plain": [
       "                         Job  Estimated_min_salary  Estimated_max_salary  \\\n",
       "0               Data Analyst                    37                    66   \n",
       "1       Quality Data Analyst                    37                    66   \n",
       "2            Sr Data Analyst                    37                    66   \n",
       "3               Data Analyst                    37                    66   \n",
       "4     Reporting Data Analyst                    37                    66   \n",
       "...                      ...                   ...                   ...   \n",
       "2248      Radar Data Analyst                    78                   104   \n",
       "2249         Sr Data Analyst                    78                   104   \n",
       "2250  Technical Data Analyst                    78                   104   \n",
       "2251            Data Analyst                    78                   104   \n",
       "2252         Sr Data Analyst                    78                   104   \n",
       "\n",
       "            Location      Headquarters  Rating  Founded\\t  \\\n",
       "0       New York, NY      New York, NY     3.2       1961   \n",
       "1       New York, NY      New York, NY     3.8       1893   \n",
       "2       New York, NY      New York, NY     3.4       2003   \n",
       "3       New York, NY        McLean, VA     4.1       2002   \n",
       "4       New York, NY      New York, NY     3.9       2009   \n",
       "...              ...               ...     ...        ...   \n",
       "2248      Denver, CO    Alpharetta, GA     2.5       2011   \n",
       "2249  Centennial, CO    Centennial, CO     2.9       1935   \n",
       "2250      Denver, CO          Unknown     -1.0       2011   \n",
       "2251  Centennial, CO  West Chester, OH     3.1       1984   \n",
       "2252  Broomfield, CO    Broomfield, CO     3.4       1864   \n",
       "\n",
       "                         ownership\\t  Min_size  Max_size  \\\n",
       "0             Nonprofit Organization     201.0     500.0   \n",
       "1             Nonprofit Organization    1100.0    1500.0   \n",
       "2                  Company - Private    1001.0    5000.0   \n",
       "3     Subsidiary or Business Segment     201.0     500.0   \n",
       "4                  Company - Private     501.0    1000.0   \n",
       "...                              ...       ...       ...   \n",
       "2248               Company - Private      51.0     200.0   \n",
       "2249                Company - Public       NaN    1500.0   \n",
       "2250                         Unknown      51.0     200.0   \n",
       "2251               Company - Private     201.0     500.0   \n",
       "2252          Nonprofit Organization       NaN    1500.0   \n",
       "\n",
       "                                     Industry  \\\n",
       "0                           Social Assistance   \n",
       "1            Health Care Services & Hospitals   \n",
       "2                                    Internet   \n",
       "3                                 IT Services   \n",
       "4                         Sports & Recreation   \n",
       "...                                       ...   \n",
       "2248                   Staffing & Outsourcing   \n",
       "2249                                Wholesale   \n",
       "2250                                  Unknown   \n",
       "2251  Enterprise Software & Network Solutions   \n",
       "2252         Health Care Services & Hospitals   \n",
       "\n",
       "                                Sector                     Revenue  \\\n",
       "0                           Non-Profit  $100 to $500 million (USD)   \n",
       "1                          Health Care      $2 to $5 billion (USD)   \n",
       "2               Information Technology              Non-Applicable   \n",
       "3               Information Technology   $50 to $100 million (USD)   \n",
       "4     Arts, Entertainment & Recreation  $100 to $500 million (USD)   \n",
       "...                                ...                         ...   \n",
       "2248                 Business Services              Non-Applicable   \n",
       "2249                 Business Services          $10+ billion (USD)   \n",
       "2250                           Unknown              Non-Applicable   \n",
       "2251            Information Technology    $25 to $50 million (USD)   \n",
       "2252                       Health Care      $2 to $5 billion (USD)   \n",
       "\n",
       "                                          Competitors\\t  Easy_Apply  \n",
       "0                                               Unknown        True  \n",
       "1                                               Unknown       False  \n",
       "2                                               GoDaddy       False  \n",
       "3                                               Unknown       False  \n",
       "4                                            DraftKings        True  \n",
       "...                                                 ...         ...  \n",
       "2248                                            Unknown       False  \n",
       "2249                     Avnet, Ingram Micro, Tech Data       False  \n",
       "2250                                            Unknown       False  \n",
       "2251                                            Unknown       False  \n",
       "2252  Centura Health, HealthONE, Denver Health and H...       False  \n",
       "\n",
       "[2253 rows x 15 columns]"
      ]
     },
     "execution_count": 8,
     "metadata": {},
     "output_type": "execute_result"
    }
   ],
   "source": [
    "titles[0],titles[1],titles[2],titles[3],titles[4],titles[5],titles[6],titles[7],titles[8],titles[9],titles[10],titles[11],titles[12],titles[13],titles[14]=titles[14],titles[10],titles[11],titles[1],titles[2],titles[0],titles[3],titles[4],titles[12],titles[13],titles[5],titles[6],titles[7],titles[8],titles[9]\n",
    "df=df[titles]\n",
    "df"
   ]
  },
  {
   "cell_type": "code",
   "execution_count": 9,
   "metadata": {
    "execution": {
     "iopub.execute_input": "2021-09-03T21:36:21.042102Z",
     "iopub.status.busy": "2021-09-03T21:36:21.041128Z",
     "iopub.status.idle": "2021-09-03T21:36:21.051194Z",
     "shell.execute_reply": "2021-09-03T21:36:21.051706Z",
     "shell.execute_reply.started": "2021-09-03T19:36:57.596286Z"
    },
    "papermill": {
     "duration": 0.081111,
     "end_time": "2021-09-03T21:36:21.051861",
     "exception": false,
     "start_time": "2021-09-03T21:36:20.970750",
     "status": "completed"
    },
    "tags": []
   },
   "outputs": [
    {
     "data": {
      "text/plain": [
       "Job                     0\n",
       "Estimated_min_salary    0\n",
       "Estimated_max_salary    0\n",
       "Location                0\n",
       "Headquarters            0\n",
       "Rating                  0\n",
       "Founded\\t               0\n",
       "ownership\\t             0\n",
       "Min_size                0\n",
       "Max_size                0\n",
       "Industry                0\n",
       "Sector                  0\n",
       "Revenue                 0\n",
       "Competitors\\t           0\n",
       "Easy_Apply              0\n",
       "dtype: int64"
      ]
     },
     "execution_count": 9,
     "metadata": {},
     "output_type": "execute_result"
    }
   ],
   "source": [
    "median=df['Min_size'].median()\n",
    "df['Min_size'].fillna(median,inplace=True)\n",
    "median=df['Max_size'].median()\n",
    "df['Max_size'].fillna(median,inplace=True)\n",
    "df.isnull().sum()"
   ]
  },
  {
   "cell_type": "markdown",
   "metadata": {
    "papermill": {
     "duration": 0.063586,
     "end_time": "2021-09-03T21:36:21.179024",
     "exception": false,
     "start_time": "2021-09-03T21:36:21.115438",
     "status": "completed"
    },
    "tags": []
   },
   "source": [
    "**We divide the data into categorical and numerical**"
   ]
  },
  {
   "cell_type": "code",
   "execution_count": 10,
   "metadata": {
    "execution": {
     "iopub.execute_input": "2021-09-03T21:36:21.310746Z",
     "iopub.status.busy": "2021-09-03T21:36:21.309605Z",
     "iopub.status.idle": "2021-09-03T21:36:21.318897Z",
     "shell.execute_reply": "2021-09-03T21:36:21.319403Z",
     "shell.execute_reply.started": "2021-09-03T19:36:57.689884Z"
    },
    "papermill": {
     "duration": 0.076852,
     "end_time": "2021-09-03T21:36:21.319584",
     "exception": false,
     "start_time": "2021-09-03T21:36:21.242732",
     "status": "completed"
    },
    "tags": []
   },
   "outputs": [],
   "source": [
    "cat_cols=df.select_dtypes(include='object')\n",
    "num_cols=df.select_dtypes(exclude='object')"
   ]
  },
  {
   "cell_type": "markdown",
   "metadata": {
    "papermill": {
     "duration": 0.062854,
     "end_time": "2021-09-03T21:36:21.445871",
     "exception": false,
     "start_time": "2021-09-03T21:36:21.383017",
     "status": "completed"
    },
    "tags": []
   },
   "source": [
    "**This is the categorical part of the dataset which Data analys is the demanding job and with the highest salary.The most headquarters are exist in NY  and IT has the highest sector and we can say that applying is not easy in this data.**"
   ]
  },
  {
   "cell_type": "code",
   "execution_count": 11,
   "metadata": {
    "execution": {
     "iopub.execute_input": "2021-09-03T21:36:21.576558Z",
     "iopub.status.busy": "2021-09-03T21:36:21.575549Z",
     "iopub.status.idle": "2021-09-03T21:36:21.637612Z",
     "shell.execute_reply": "2021-09-03T21:36:21.637057Z",
     "shell.execute_reply.started": "2021-09-03T19:36:57.710531Z"
    },
    "papermill": {
     "duration": 0.128603,
     "end_time": "2021-09-03T21:36:21.637746",
     "exception": false,
     "start_time": "2021-09-03T21:36:21.509143",
     "status": "completed"
    },
    "tags": []
   },
   "outputs": [
    {
     "data": {
      "text/html": [
       "<div>\n",
       "<style scoped>\n",
       "    .dataframe tbody tr th:only-of-type {\n",
       "        vertical-align: middle;\n",
       "    }\n",
       "\n",
       "    .dataframe tbody tr th {\n",
       "        vertical-align: top;\n",
       "    }\n",
       "\n",
       "    .dataframe thead th {\n",
       "        text-align: right;\n",
       "    }\n",
       "</style>\n",
       "<table border=\"1\" class=\"dataframe\">\n",
       "  <thead>\n",
       "    <tr style=\"text-align: right;\">\n",
       "      <th></th>\n",
       "      <th>Job</th>\n",
       "      <th>Location</th>\n",
       "      <th>Headquarters</th>\n",
       "      <th>ownership\\t</th>\n",
       "      <th>Industry</th>\n",
       "      <th>Sector</th>\n",
       "      <th>Revenue</th>\n",
       "      <th>Competitors\\t</th>\n",
       "    </tr>\n",
       "  </thead>\n",
       "  <tbody>\n",
       "    <tr>\n",
       "      <th>count</th>\n",
       "      <td>2253</td>\n",
       "      <td>2253</td>\n",
       "      <td>2253</td>\n",
       "      <td>2253</td>\n",
       "      <td>2253</td>\n",
       "      <td>2253</td>\n",
       "      <td>2253</td>\n",
       "      <td>2253</td>\n",
       "    </tr>\n",
       "    <tr>\n",
       "      <th>unique</th>\n",
       "      <td>76</td>\n",
       "      <td>253</td>\n",
       "      <td>483</td>\n",
       "      <td>14</td>\n",
       "      <td>89</td>\n",
       "      <td>25</td>\n",
       "      <td>13</td>\n",
       "      <td>291</td>\n",
       "    </tr>\n",
       "    <tr>\n",
       "      <th>top</th>\n",
       "      <td>Data Analyst</td>\n",
       "      <td>New York, NY</td>\n",
       "      <td>New York, NY</td>\n",
       "      <td>Company - Private</td>\n",
       "      <td>Unknown</td>\n",
       "      <td>Information Technology</td>\n",
       "      <td>Non-Applicable</td>\n",
       "      <td>Unknown</td>\n",
       "    </tr>\n",
       "    <tr>\n",
       "      <th>freq</th>\n",
       "      <td>937</td>\n",
       "      <td>310</td>\n",
       "      <td>206</td>\n",
       "      <td>1273</td>\n",
       "      <td>353</td>\n",
       "      <td>570</td>\n",
       "      <td>778</td>\n",
       "      <td>1732</td>\n",
       "    </tr>\n",
       "  </tbody>\n",
       "</table>\n",
       "</div>"
      ],
      "text/plain": [
       "                 Job      Location  Headquarters        ownership\\t Industry  \\\n",
       "count           2253          2253          2253               2253     2253   \n",
       "unique            76           253           483                 14       89   \n",
       "top     Data Analyst  New York, NY  New York, NY  Company - Private  Unknown   \n",
       "freq             937           310           206               1273      353   \n",
       "\n",
       "                        Sector          Revenue Competitors\\t  \n",
       "count                     2253             2253          2253  \n",
       "unique                      25               13           291  \n",
       "top     Information Technology   Non-Applicable       Unknown  \n",
       "freq                       570              778          1732  "
      ]
     },
     "execution_count": 11,
     "metadata": {},
     "output_type": "execute_result"
    }
   ],
   "source": [
    "cat_cols.describe()"
   ]
  },
  {
   "cell_type": "markdown",
   "metadata": {
    "papermill": {
     "duration": 0.064423,
     "end_time": "2021-09-03T21:36:21.766168",
     "exception": false,
     "start_time": "2021-09-03T21:36:21.701745",
     "status": "completed"
    },
    "tags": []
   },
   "source": [
    "**This is the categorical part of the dataset which the max of the size of the company is 10000 and for estimated_max salary is 190000$ and the max of the rating is 5**"
   ]
  },
  {
   "cell_type": "code",
   "execution_count": 12,
   "metadata": {
    "execution": {
     "iopub.execute_input": "2021-09-03T21:36:21.903507Z",
     "iopub.status.busy": "2021-09-03T21:36:21.902747Z",
     "iopub.status.idle": "2021-09-03T21:36:21.928863Z",
     "shell.execute_reply": "2021-09-03T21:36:21.929428Z",
     "shell.execute_reply.started": "2021-09-03T19:36:57.768941Z"
    },
    "papermill": {
     "duration": 0.099047,
     "end_time": "2021-09-03T21:36:21.929598",
     "exception": false,
     "start_time": "2021-09-03T21:36:21.830551",
     "status": "completed"
    },
    "tags": []
   },
   "outputs": [
    {
     "data": {
      "text/html": [
       "<div>\n",
       "<style scoped>\n",
       "    .dataframe tbody tr th:only-of-type {\n",
       "        vertical-align: middle;\n",
       "    }\n",
       "\n",
       "    .dataframe tbody tr th {\n",
       "        vertical-align: top;\n",
       "    }\n",
       "\n",
       "    .dataframe thead th {\n",
       "        text-align: right;\n",
       "    }\n",
       "</style>\n",
       "<table border=\"1\" class=\"dataframe\">\n",
       "  <thead>\n",
       "    <tr style=\"text-align: right;\">\n",
       "      <th></th>\n",
       "      <th>Estimated_min_salary</th>\n",
       "      <th>Estimated_max_salary</th>\n",
       "      <th>Rating</th>\n",
       "      <th>Founded\\t</th>\n",
       "      <th>Min_size</th>\n",
       "      <th>Max_size</th>\n",
       "    </tr>\n",
       "  </thead>\n",
       "  <tbody>\n",
       "    <tr>\n",
       "      <th>count</th>\n",
       "      <td>2253.000000</td>\n",
       "      <td>2253.000000</td>\n",
       "      <td>2253.000000</td>\n",
       "      <td>2253.000000</td>\n",
       "      <td>2253.000000</td>\n",
       "      <td>2253.000000</td>\n",
       "    </tr>\n",
       "    <tr>\n",
       "      <th>mean</th>\n",
       "      <td>54.198846</td>\n",
       "      <td>89.827341</td>\n",
       "      <td>3.160630</td>\n",
       "      <td>1988.237461</td>\n",
       "      <td>634.878828</td>\n",
       "      <td>1664.957834</td>\n",
       "    </tr>\n",
       "    <tr>\n",
       "      <th>std</th>\n",
       "      <td>19.713522</td>\n",
       "      <td>29.349836</td>\n",
       "      <td>1.665228</td>\n",
       "      <td>43.093428</td>\n",
       "      <td>1028.084415</td>\n",
       "      <td>2429.998732</td>\n",
       "    </tr>\n",
       "    <tr>\n",
       "      <th>min</th>\n",
       "      <td>24.000000</td>\n",
       "      <td>38.000000</td>\n",
       "      <td>-1.000000</td>\n",
       "      <td>1682.000000</td>\n",
       "      <td>1.000000</td>\n",
       "      <td>50.000000</td>\n",
       "    </tr>\n",
       "    <tr>\n",
       "      <th>25%</th>\n",
       "      <td>41.000000</td>\n",
       "      <td>69.000000</td>\n",
       "      <td>3.100000</td>\n",
       "      <td>1987.000000</td>\n",
       "      <td>51.000000</td>\n",
       "      <td>200.000000</td>\n",
       "    </tr>\n",
       "    <tr>\n",
       "      <th>50%</th>\n",
       "      <td>50.000000</td>\n",
       "      <td>87.000000</td>\n",
       "      <td>3.600000</td>\n",
       "      <td>2004.000000</td>\n",
       "      <td>201.000000</td>\n",
       "      <td>500.000000</td>\n",
       "    </tr>\n",
       "    <tr>\n",
       "      <th>75%</th>\n",
       "      <td>64.000000</td>\n",
       "      <td>104.000000</td>\n",
       "      <td>4.000000</td>\n",
       "      <td>2013.000000</td>\n",
       "      <td>1001.000000</td>\n",
       "      <td>1500.000000</td>\n",
       "    </tr>\n",
       "    <tr>\n",
       "      <th>max</th>\n",
       "      <td>113.000000</td>\n",
       "      <td>190.000000</td>\n",
       "      <td>5.000000</td>\n",
       "      <td>2019.000000</td>\n",
       "      <td>5001.000000</td>\n",
       "      <td>10000.000000</td>\n",
       "    </tr>\n",
       "  </tbody>\n",
       "</table>\n",
       "</div>"
      ],
      "text/plain": [
       "       Estimated_min_salary  Estimated_max_salary       Rating    Founded\\t  \\\n",
       "count           2253.000000           2253.000000  2253.000000  2253.000000   \n",
       "mean              54.198846             89.827341     3.160630  1988.237461   \n",
       "std               19.713522             29.349836     1.665228    43.093428   \n",
       "min               24.000000             38.000000    -1.000000  1682.000000   \n",
       "25%               41.000000             69.000000     3.100000  1987.000000   \n",
       "50%               50.000000             87.000000     3.600000  2004.000000   \n",
       "75%               64.000000            104.000000     4.000000  2013.000000   \n",
       "max              113.000000            190.000000     5.000000  2019.000000   \n",
       "\n",
       "          Min_size      Max_size  \n",
       "count  2253.000000   2253.000000  \n",
       "mean    634.878828   1664.957834  \n",
       "std    1028.084415   2429.998732  \n",
       "min       1.000000     50.000000  \n",
       "25%      51.000000    200.000000  \n",
       "50%     201.000000    500.000000  \n",
       "75%    1001.000000   1500.000000  \n",
       "max    5001.000000  10000.000000  "
      ]
     },
     "execution_count": 12,
     "metadata": {},
     "output_type": "execute_result"
    }
   ],
   "source": [
    "num_cols.describe()"
   ]
  },
  {
   "cell_type": "markdown",
   "metadata": {
    "papermill": {
     "duration": 0.065194,
     "end_time": "2021-09-03T21:36:22.061431",
     "exception": false,
     "start_time": "2021-09-03T21:36:21.996237",
     "status": "completed"
    },
    "tags": []
   },
   "source": [
    "* Divide the target with easy apply which one is easy(True) and which one is hard to apply(False)"
   ]
  },
  {
   "cell_type": "code",
   "execution_count": 13,
   "metadata": {
    "execution": {
     "iopub.execute_input": "2021-09-03T21:36:22.196227Z",
     "iopub.status.busy": "2021-09-03T21:36:22.195199Z",
     "iopub.status.idle": "2021-09-03T21:36:22.209950Z",
     "shell.execute_reply": "2021-09-03T21:36:22.209373Z",
     "shell.execute_reply.started": "2021-09-03T19:36:57.806151Z"
    },
    "papermill": {
     "duration": 0.082547,
     "end_time": "2021-09-03T21:36:22.210078",
     "exception": false,
     "start_time": "2021-09-03T21:36:22.127531",
     "status": "completed"
    },
    "tags": []
   },
   "outputs": [
    {
     "name": "stderr",
     "output_type": "stream",
     "text": [
      "/opt/conda/lib/python3.7/site-packages/pandas/core/computation/expressions.py:68: FutureWarning: elementwise comparison failed; returning scalar instead, but in the future will perform elementwise comparison\n",
      "  return op(a, b)\n",
      "/opt/conda/lib/python3.7/site-packages/pandas/core/computation/expressions.py:68: FutureWarning: elementwise comparison failed; returning scalar instead, but in the future will perform elementwise comparison\n",
      "  return op(a, b)\n"
     ]
    }
   ],
   "source": [
    "target=df[df['Easy_Apply']=='True']\n",
    "non_target=df[df['Easy_Apply']=='False']"
   ]
  },
  {
   "cell_type": "code",
   "execution_count": 14,
   "metadata": {
    "execution": {
     "iopub.execute_input": "2021-09-03T21:36:22.346696Z",
     "iopub.status.busy": "2021-09-03T21:36:22.345994Z",
     "iopub.status.idle": "2021-09-03T21:36:22.364253Z",
     "shell.execute_reply": "2021-09-03T21:36:22.363461Z",
     "shell.execute_reply.started": "2021-09-03T19:36:57.820642Z"
    },
    "papermill": {
     "duration": 0.089735,
     "end_time": "2021-09-03T21:36:22.364427",
     "exception": false,
     "start_time": "2021-09-03T21:36:22.274692",
     "status": "completed"
    },
    "tags": []
   },
   "outputs": [],
   "source": [
    "#we use this part for analyzing the data based on response\n",
    "target_cols=['Easy_Apply']\n",
    "cat_cols=df.nunique()[df.nunique()<10].keys().tolist()\n",
    "cat_cols=[x for x in cat_cols if x not in target_cols]\n",
    "num_col=[x for x in df.columns if x not in cat_cols+ target_cols]"
   ]
  },
  {
   "cell_type": "markdown",
   "metadata": {
    "papermill": {
     "duration": 0.064852,
     "end_time": "2021-09-03T21:36:22.495954",
     "exception": false,
     "start_time": "2021-09-03T21:36:22.431102",
     "status": "completed"
    },
    "tags": []
   },
   "source": [
    "**we clean the missing values and ass you see, there is no missing values and it is clean.**"
   ]
  },
  {
   "cell_type": "code",
   "execution_count": 15,
   "metadata": {
    "execution": {
     "iopub.execute_input": "2021-09-03T21:36:22.632003Z",
     "iopub.status.busy": "2021-09-03T21:36:22.631277Z",
     "iopub.status.idle": "2021-09-03T21:36:23.209562Z",
     "shell.execute_reply": "2021-09-03T21:36:23.210097Z",
     "shell.execute_reply.started": "2021-09-03T19:36:58.102400Z"
    },
    "papermill": {
     "duration": 0.648747,
     "end_time": "2021-09-03T21:36:23.210291",
     "exception": false,
     "start_time": "2021-09-03T21:36:22.561544",
     "status": "completed"
    },
    "tags": []
   },
   "outputs": [
    {
     "name": "stderr",
     "output_type": "stream",
     "text": [
      "/opt/conda/lib/python3.7/site-packages/matplotlib/backends/backend_agg.py:214: RuntimeWarning: Glyph 9 missing from current font.\n",
      "  font.set_text(s, 0.0, flags=flags)\n",
      "/opt/conda/lib/python3.7/site-packages/matplotlib/backends/backend_agg.py:183: RuntimeWarning: Glyph 9 missing from current font.\n",
      "  font.set_text(s, 0, flags=flags)\n"
     ]
    },
    {
     "data": {
      "image/png": "[encoded data removed]",
      "text/plain": [
       "<Figure size 720x360 with 2 Axes>"
      ]
     },
     "metadata": {
      "needs_background": "light"
     },
     "output_type": "display_data"
    }
   ],
   "source": [
    "plt.figure(figsize=(10,5))\n",
    "sns.heatmap(df.isnull());"
   ]
  },
  {
   "cell_type": "code",
   "execution_count": 16,
   "metadata": {
    "execution": {
     "iopub.execute_input": "2021-09-03T21:36:23.357013Z",
     "iopub.status.busy": "2021-09-03T21:36:23.356319Z",
     "iopub.status.idle": "2021-09-03T21:36:23.360471Z",
     "shell.execute_reply": "2021-09-03T21:36:23.361100Z",
     "shell.execute_reply.started": "2021-09-03T19:36:58.626272Z"
    },
    "papermill": {
     "duration": 0.081679,
     "end_time": "2021-09-03T21:36:23.361291",
     "exception": false,
     "start_time": "2021-09-03T21:36:23.279612",
     "status": "completed"
    },
    "tags": []
   },
   "outputs": [
    {
     "data": {
      "text/plain": [
       "New York, NY           13.759432\n",
       "Chicago, IL             5.770084\n",
       "San Francisco, CA       5.281846\n",
       "Austin, TX              3.595206\n",
       "Los Angeles, CA         3.550821\n",
       "                         ...    \n",
       "Azusa, CA               0.044385\n",
       "Fort Washington, PA     0.044385\n",
       "Norristown, PA          0.044385\n",
       "Sandy, UT               0.044385\n",
       "Hercules, CA            0.044385\n",
       "Name: Location, Length: 253, dtype: float64"
      ]
     },
     "execution_count": 16,
     "metadata": {},
     "output_type": "execute_result"
    }
   ],
   "source": [
    "# New York has is the most popular city to find a job \n",
    "df['Location'].value_counts(normalize=True)*100"
   ]
  },
  {
   "cell_type": "code",
   "execution_count": 17,
   "metadata": {
    "execution": {
     "iopub.execute_input": "2021-09-03T21:36:23.506933Z",
     "iopub.status.busy": "2021-09-03T21:36:23.506007Z",
     "iopub.status.idle": "2021-09-03T21:36:23.511170Z",
     "shell.execute_reply": "2021-09-03T21:36:23.510498Z",
     "shell.execute_reply.started": "2021-09-03T19:36:58.640811Z"
    },
    "papermill": {
     "duration": 0.083684,
     "end_time": "2021-09-03T21:36:23.511301",
     "exception": false,
     "start_time": "2021-09-03T21:36:23.427617",
     "status": "completed"
    },
    "tags": []
   },
   "outputs": [
    {
     "data": {
      "text/plain": [
       "New York, NY         9.143364\n",
       "Unknown              7.634265\n",
       "San Francisco, CA    3.151354\n",
       "Chicago, IL          2.929427\n",
       "Woodridge, IL        2.574345\n",
       "                       ...   \n",
       "Southlake, TX        0.044385\n",
       "Moon Township, PA    0.044385\n",
       "Huntsville, AL       0.044385\n",
       "Nicosia, Cyprus      0.044385\n",
       "Bezons, France       0.044385\n",
       "Name: Headquarters, Length: 483, dtype: float64"
      ]
     },
     "execution_count": 17,
     "metadata": {},
     "output_type": "execute_result"
    }
   ],
   "source": [
    "#New York has the highest amount for finding jobs \n",
    "df['Headquarters'].value_counts(normalize=True)*100"
   ]
  },
  {
   "cell_type": "code",
   "execution_count": 18,
   "metadata": {
    "execution": {
     "iopub.execute_input": "2021-09-03T21:36:23.658030Z",
     "iopub.status.busy": "2021-09-03T21:36:23.657285Z",
     "iopub.status.idle": "2021-09-03T21:36:23.662319Z",
     "shell.execute_reply": "2021-09-03T21:36:23.661574Z",
     "shell.execute_reply.started": "2021-09-03T19:36:58.659051Z"
    },
    "papermill": {
     "duration": 0.082589,
     "end_time": "2021-09-03T21:36:23.662481",
     "exception": false,
     "start_time": "2021-09-03T21:36:23.579892",
     "status": "completed"
    },
    "tags": []
   },
   "outputs": [
    {
     "data": {
      "text/plain": [
       "Information Technology                25.299601\n",
       "Business Services                     23.257878\n",
       "Unknown                               15.667998\n",
       "Finance                                7.501110\n",
       "Health Care                            6.702175\n",
       "Education                              2.308034\n",
       "Insurance                              2.263648\n",
       "Accounting & Legal                     1.908566\n",
       "Media                                  1.864181\n",
       "Manufacturing                          1.775411\n",
       "Retail                                 1.686640\n",
       "Government                             1.597870\n",
       "Biotech & Pharmaceuticals              1.464714\n",
       "Non-Profit                             1.154017\n",
       "Aerospace & Defense                    0.976476\n",
       "Transportation & Logistics             0.887705\n",
       "Construction, Repair & Maintenance     0.710164\n",
       "Consumer Services                      0.621394\n",
       "Oil, Gas, Energy & Utilities           0.577008\n",
       "Real Estate                            0.532623\n",
       "Telecommunications                     0.488238\n",
       "Restaurants, Bars & Food Services      0.355082\n",
       "Arts, Entertainment & Recreation       0.310697\n",
       "Mining & Metals                        0.044385\n",
       "Travel & Tourism                       0.044385\n",
       "Name: Sector, dtype: float64"
      ]
     },
     "execution_count": 18,
     "metadata": {},
     "output_type": "execute_result"
    }
   ],
   "source": [
    "# It has the most Vacancy in this dataset\n",
    "df['Sector'].value_counts(normalize=True)*100"
   ]
  },
  {
   "cell_type": "code",
   "execution_count": 19,
   "metadata": {
    "execution": {
     "iopub.execute_input": "2021-09-03T21:36:23.809115Z",
     "iopub.status.busy": "2021-09-03T21:36:23.808439Z",
     "iopub.status.idle": "2021-09-03T21:36:23.812805Z",
     "shell.execute_reply": "2021-09-03T21:36:23.812143Z",
     "shell.execute_reply.started": "2021-09-03T19:36:58.679829Z"
    },
    "papermill": {
     "duration": 0.081247,
     "end_time": "2021-09-03T21:36:23.812988",
     "exception": false,
     "start_time": "2021-09-03T21:36:23.731741",
     "status": "completed"
    },
    "tags": []
   },
   "outputs": [
    {
     "data": {
      "text/plain": [
       "False    96.449179\n",
       "True      3.550821\n",
       "Name: Easy_Apply, dtype: float64"
      ]
     },
     "execution_count": 19,
     "metadata": {},
     "output_type": "execute_result"
    }
   ],
   "source": [
    "# As you see, most rule of the apply for jobs are not easy \n",
    "df['Easy_Apply'].value_counts(normalize=True)*100"
   ]
  },
  {
   "cell_type": "markdown",
   "metadata": {
    "papermill": {
     "duration": 0.069398,
     "end_time": "2021-09-03T21:36:23.950585",
     "exception": false,
     "start_time": "2021-09-03T21:36:23.881187",
     "status": "completed"
    },
    "tags": []
   },
   "source": [
    "**we want to find the first top 3 job title.**"
   ]
  },
  {
   "cell_type": "code",
   "execution_count": 20,
   "metadata": {
    "execution": {
     "iopub.execute_input": "2021-09-03T21:36:24.099890Z",
     "iopub.status.busy": "2021-09-03T21:36:24.096766Z",
     "iopub.status.idle": "2021-09-03T21:36:24.115562Z",
     "shell.execute_reply": "2021-09-03T21:36:24.114737Z",
     "shell.execute_reply.started": "2021-09-03T19:36:58.696906Z"
    },
    "papermill": {
     "duration": 0.09402,
     "end_time": "2021-09-03T21:36:24.115712",
     "exception": false,
     "start_time": "2021-09-03T21:36:24.021692",
     "status": "completed"
    },
    "tags": []
   },
   "outputs": [
    {
     "data": {
      "text/html": [
       "<div>\n",
       "<style scoped>\n",
       "    .dataframe tbody tr th:only-of-type {\n",
       "        vertical-align: middle;\n",
       "    }\n",
       "\n",
       "    .dataframe tbody tr th {\n",
       "        vertical-align: top;\n",
       "    }\n",
       "\n",
       "    .dataframe thead th {\n",
       "        text-align: right;\n",
       "    }\n",
       "</style>\n",
       "<table border=\"1\" class=\"dataframe\">\n",
       "  <thead>\n",
       "    <tr style=\"text-align: right;\">\n",
       "      <th></th>\n",
       "      <th>Estimated_min_salary</th>\n",
       "      <th>Estimated_max_salary</th>\n",
       "      <th>Rating</th>\n",
       "      <th>Founded\\t</th>\n",
       "      <th>Min_size</th>\n",
       "      <th>Max_size</th>\n",
       "    </tr>\n",
       "    <tr>\n",
       "      <th>Easy_Apply</th>\n",
       "      <th></th>\n",
       "      <th></th>\n",
       "      <th></th>\n",
       "      <th></th>\n",
       "      <th></th>\n",
       "      <th></th>\n",
       "    </tr>\n",
       "  </thead>\n",
       "  <tbody>\n",
       "    <tr>\n",
       "      <th>False</th>\n",
       "      <td>54.080534</td>\n",
       "      <td>89.592269</td>\n",
       "      <td>3.137138</td>\n",
       "      <td>1987.742292</td>\n",
       "      <td>639.232858</td>\n",
       "      <td>1653.750575</td>\n",
       "    </tr>\n",
       "    <tr>\n",
       "      <th>True</th>\n",
       "      <td>57.412500</td>\n",
       "      <td>96.212500</td>\n",
       "      <td>3.798750</td>\n",
       "      <td>2001.687500</td>\n",
       "      <td>516.612500</td>\n",
       "      <td>1969.375000</td>\n",
       "    </tr>\n",
       "  </tbody>\n",
       "</table>\n",
       "</div>"
      ],
      "text/plain": [
       "            Estimated_min_salary  Estimated_max_salary    Rating    Founded\\t  \\\n",
       "Easy_Apply                                                                      \n",
       "False                  54.080534             89.592269  3.137138  1987.742292   \n",
       "True                   57.412500             96.212500  3.798750  2001.687500   \n",
       "\n",
       "              Min_size     Max_size  \n",
       "Easy_Apply                           \n",
       "False       639.232858  1653.750575  \n",
       "True        516.612500  1969.375000  "
      ]
     },
     "execution_count": 20,
     "metadata": {},
     "output_type": "execute_result"
    }
   ],
   "source": [
    "# It shows that the Rating for easy apply and non easy are different and for easy apply is 3.79 and for non easy is 3.13\n",
    "df.groupby ('Easy_Apply').mean().sort_values('Rating',ascending=True)"
   ]
  },
  {
   "cell_type": "code",
   "execution_count": 21,
   "metadata": {
    "execution": {
     "iopub.execute_input": "2021-09-03T21:36:24.267406Z",
     "iopub.status.busy": "2021-09-03T21:36:24.266255Z",
     "iopub.status.idle": "2021-09-03T21:36:24.289802Z",
     "shell.execute_reply": "2021-09-03T21:36:24.289224Z",
     "shell.execute_reply.started": "2021-09-03T19:36:58.724508Z"
    },
    "papermill": {
     "duration": 0.103324,
     "end_time": "2021-09-03T21:36:24.289958",
     "exception": false,
     "start_time": "2021-09-03T21:36:24.186634",
     "status": "completed"
    },
    "tags": []
   },
   "outputs": [
    {
     "data": {
      "text/html": [
       "<div>\n",
       "<style scoped>\n",
       "    .dataframe tbody tr th:only-of-type {\n",
       "        vertical-align: middle;\n",
       "    }\n",
       "\n",
       "    .dataframe tbody tr th {\n",
       "        vertical-align: top;\n",
       "    }\n",
       "\n",
       "    .dataframe thead th {\n",
       "        text-align: right;\n",
       "    }\n",
       "</style>\n",
       "<table border=\"1\" class=\"dataframe\">\n",
       "  <thead>\n",
       "    <tr style=\"text-align: right;\">\n",
       "      <th></th>\n",
       "      <th></th>\n",
       "      <th>Estimated_min_salary</th>\n",
       "      <th>Estimated_max_salary</th>\n",
       "      <th>Rating</th>\n",
       "      <th>Founded\\t</th>\n",
       "      <th>Easy_Apply</th>\n",
       "    </tr>\n",
       "    <tr>\n",
       "      <th>Min_size</th>\n",
       "      <th>Max_size</th>\n",
       "      <th></th>\n",
       "      <th></th>\n",
       "      <th></th>\n",
       "      <th></th>\n",
       "      <th></th>\n",
       "    </tr>\n",
       "  </thead>\n",
       "  <tbody>\n",
       "    <tr>\n",
       "      <th rowspan=\"2\" valign=\"top\">51.0</th>\n",
       "      <th>500.0</th>\n",
       "      <td>46.000000</td>\n",
       "      <td>87.000000</td>\n",
       "      <td>-1.000000</td>\n",
       "      <td>2017.000000</td>\n",
       "      <td>0.000000</td>\n",
       "    </tr>\n",
       "    <tr>\n",
       "      <th>200.0</th>\n",
       "      <td>54.732372</td>\n",
       "      <td>90.559295</td>\n",
       "      <td>2.354167</td>\n",
       "      <td>2007.834936</td>\n",
       "      <td>0.030449</td>\n",
       "    </tr>\n",
       "    <tr>\n",
       "      <th>1.0</th>\n",
       "      <th>50.0</th>\n",
       "      <td>54.809798</td>\n",
       "      <td>90.501441</td>\n",
       "      <td>3.034294</td>\n",
       "      <td>2009.853026</td>\n",
       "      <td>0.014409</td>\n",
       "    </tr>\n",
       "    <tr>\n",
       "      <th>201.0</th>\n",
       "      <th>1500.0</th>\n",
       "      <td>72.750000</td>\n",
       "      <td>103.000000</td>\n",
       "      <td>3.225000</td>\n",
       "      <td>1923.000000</td>\n",
       "      <td>0.000000</td>\n",
       "    </tr>\n",
       "    <tr>\n",
       "      <th>1001.0</th>\n",
       "      <th>5000.0</th>\n",
       "      <td>54.879310</td>\n",
       "      <td>90.744253</td>\n",
       "      <td>3.496839</td>\n",
       "      <td>1985.925287</td>\n",
       "      <td>0.068966</td>\n",
       "    </tr>\n",
       "    <tr>\n",
       "      <th>201.0</th>\n",
       "      <th>500.0</th>\n",
       "      <td>53.522088</td>\n",
       "      <td>88.554217</td>\n",
       "      <td>3.611647</td>\n",
       "      <td>1997.899598</td>\n",
       "      <td>0.064257</td>\n",
       "    </tr>\n",
       "    <tr>\n",
       "      <th>5001.0</th>\n",
       "      <th>10000.0</th>\n",
       "      <td>55.639175</td>\n",
       "      <td>92.443299</td>\n",
       "      <td>3.636082</td>\n",
       "      <td>1974.247423</td>\n",
       "      <td>0.010309</td>\n",
       "    </tr>\n",
       "    <tr>\n",
       "      <th>1100.0</th>\n",
       "      <th>1500.0</th>\n",
       "      <td>51.816712</td>\n",
       "      <td>87.474394</td>\n",
       "      <td>3.637466</td>\n",
       "      <td>1931.094340</td>\n",
       "      <td>0.002695</td>\n",
       "    </tr>\n",
       "    <tr>\n",
       "      <th>501.0</th>\n",
       "      <th>1000.0</th>\n",
       "      <td>54.545024</td>\n",
       "      <td>89.255924</td>\n",
       "      <td>3.647867</td>\n",
       "      <td>1995.014218</td>\n",
       "      <td>0.066351</td>\n",
       "    </tr>\n",
       "  </tbody>\n",
       "</table>\n",
       "</div>"
      ],
      "text/plain": [
       "                   Estimated_min_salary  Estimated_max_salary    Rating  \\\n",
       "Min_size Max_size                                                         \n",
       "51.0     500.0                46.000000             87.000000 -1.000000   \n",
       "         200.0                54.732372             90.559295  2.354167   \n",
       "1.0      50.0                 54.809798             90.501441  3.034294   \n",
       "201.0    1500.0               72.750000            103.000000  3.225000   \n",
       "1001.0   5000.0               54.879310             90.744253  3.496839   \n",
       "201.0    500.0                53.522088             88.554217  3.611647   \n",
       "5001.0   10000.0              55.639175             92.443299  3.636082   \n",
       "1100.0   1500.0               51.816712             87.474394  3.637466   \n",
       "501.0    1000.0               54.545024             89.255924  3.647867   \n",
       "\n",
       "                     Founded\\t  Easy_Apply  \n",
       "Min_size Max_size                           \n",
       "51.0     500.0     2017.000000    0.000000  \n",
       "         200.0     2007.834936    0.030449  \n",
       "1.0      50.0      2009.853026    0.014409  \n",
       "201.0    1500.0    1923.000000    0.000000  \n",
       "1001.0   5000.0    1985.925287    0.068966  \n",
       "201.0    500.0     1997.899598    0.064257  \n",
       "5001.0   10000.0   1974.247423    0.010309  \n",
       "1100.0   1500.0    1931.094340    0.002695  \n",
       "501.0    1000.0    1995.014218    0.066351  "
      ]
     },
     "execution_count": 21,
     "metadata": {},
     "output_type": "execute_result"
    }
   ],
   "source": [
    "df.groupby(['Min_size','Max_size']).mean().sort_values('Rating',ascending=True)"
   ]
  },
  {
   "cell_type": "code",
   "execution_count": 22,
   "metadata": {
    "execution": {
     "iopub.execute_input": "2021-09-03T21:36:24.439502Z",
     "iopub.status.busy": "2021-09-03T21:36:24.436432Z",
     "iopub.status.idle": "2021-09-03T21:36:24.444196Z",
     "shell.execute_reply": "2021-09-03T21:36:24.443629Z",
     "shell.execute_reply.started": "2021-09-03T19:36:58.751089Z"
    },
    "papermill": {
     "duration": 0.084531,
     "end_time": "2021-09-03T21:36:24.444380",
     "exception": false,
     "start_time": "2021-09-03T21:36:24.359849",
     "status": "completed"
    },
    "tags": []
   },
   "outputs": [
    {
     "data": {
      "text/plain": [
       "Easy_Apply\n",
       "False    89.592269\n",
       "True     96.212500\n",
       "Name: Estimated_max_salary, dtype: float64"
      ]
     },
     "execution_count": 22,
     "metadata": {},
     "output_type": "execute_result"
    }
   ],
   "source": [
    "df.groupby('Easy_Apply')['Estimated_max_salary'].mean()"
   ]
  },
  {
   "cell_type": "markdown",
   "metadata": {
    "papermill": {
     "duration": 0.070841,
     "end_time": "2021-09-03T21:36:24.585658",
     "exception": false,
     "start_time": "2021-09-03T21:36:24.514817",
     "status": "completed"
    },
    "tags": []
   },
   "source": [
    "**As you see in the top, the estimated max salary for easy apply is 96000 and for non easy is 89**"
   ]
  },
  {
   "cell_type": "code",
   "execution_count": 23,
   "metadata": {
    "execution": {
     "iopub.execute_input": "2021-09-03T21:36:24.731135Z",
     "iopub.status.busy": "2021-09-03T21:36:24.730429Z",
     "iopub.status.idle": "2021-09-03T21:36:24.739700Z",
     "shell.execute_reply": "2021-09-03T21:36:24.740265Z",
     "shell.execute_reply.started": "2021-09-03T19:36:58.763029Z"
    },
    "papermill": {
     "duration": 0.083466,
     "end_time": "2021-09-03T21:36:24.740473",
     "exception": false,
     "start_time": "2021-09-03T21:36:24.657007",
     "status": "completed"
    },
    "tags": []
   },
   "outputs": [
    {
     "data": {
      "text/plain": [
       "Sector\n",
       "Insurance                             1623.274510\n",
       "Manufacturing                         1374.375000\n",
       "Biotech & Pharmaceuticals             1355.303030\n",
       "Media                                 1295.976190\n",
       "Aerospace & Defense                   1204.954545\n",
       "Education                             1137.923077\n",
       "Health Care                           1024.218543\n",
       "Finance                               1010.331361\n",
       "Telecommunications                    1009.818182\n",
       "Mining & Metals                       1001.000000\n",
       "Retail                                 824.184211\n",
       "Government                             720.138889\n",
       "Oil, Gas, Energy & Utilities           654.692308\n",
       "Transportation & Logistics             648.250000\n",
       "Business Services                      561.793893\n",
       "Information Technology                 558.073684\n",
       "Non-Profit                             552.923077\n",
       "Arts, Entertainment & Recreation       458.000000\n",
       "Real Estate                            438.333333\n",
       "Accounting & Legal                     318.372093\n",
       "Construction, Repair & Maintenance     266.625000\n",
       "Restaurants, Bars & Food Services      188.500000\n",
       "Consumer Services                      183.142857\n",
       "Unknown                                 96.736544\n",
       "Travel & Tourism                        51.000000\n",
       "Name: Min_size, dtype: float64"
      ]
     },
     "execution_count": 23,
     "metadata": {},
     "output_type": "execute_result"
    }
   ],
   "source": [
    "df.groupby('Sector')['Min_size'].mean().sort_values(ascending=False)"
   ]
  },
  {
   "cell_type": "markdown",
   "metadata": {
    "papermill": {
     "duration": 0.069949,
     "end_time": "2021-09-03T21:36:24.880852",
     "exception": false,
     "start_time": "2021-09-03T21:36:24.810903",
     "status": "completed"
    },
    "tags": []
   },
   "source": [
    "**this is the very important part of the sector with their minimum size which Insurannce has the highest number(1623) and travel and tourist has the lowest number(51).**"
   ]
  },
  {
   "cell_type": "code",
   "execution_count": 24,
   "metadata": {
    "execution": {
     "iopub.execute_input": "2021-09-03T21:36:25.028592Z",
     "iopub.status.busy": "2021-09-03T21:36:25.027817Z",
     "iopub.status.idle": "2021-09-03T21:36:25.058539Z",
     "shell.execute_reply": "2021-09-03T21:36:25.057858Z",
     "shell.execute_reply.started": "2021-09-03T19:36:58.780554Z"
    },
    "papermill": {
     "duration": 0.10739,
     "end_time": "2021-09-03T21:36:25.058679",
     "exception": false,
     "start_time": "2021-09-03T21:36:24.951289",
     "status": "completed"
    },
    "tags": []
   },
   "outputs": [
    {
     "data": {
      "text/html": [
       "<div>\n",
       "<style scoped>\n",
       "    .dataframe tbody tr th:only-of-type {\n",
       "        vertical-align: middle;\n",
       "    }\n",
       "\n",
       "    .dataframe tbody tr th {\n",
       "        vertical-align: top;\n",
       "    }\n",
       "\n",
       "    .dataframe thead th {\n",
       "        text-align: right;\n",
       "    }\n",
       "</style>\n",
       "<table border=\"1\" class=\"dataframe\">\n",
       "  <thead>\n",
       "    <tr style=\"text-align: right;\">\n",
       "      <th></th>\n",
       "      <th></th>\n",
       "      <th>Rating</th>\n",
       "    </tr>\n",
       "    <tr>\n",
       "      <th>Sector</th>\n",
       "      <th>Easy_Apply</th>\n",
       "      <th></th>\n",
       "    </tr>\n",
       "  </thead>\n",
       "  <tbody>\n",
       "    <tr>\n",
       "      <th>Accounting &amp; Legal</th>\n",
       "      <th>False</th>\n",
       "      <td>3.741860</td>\n",
       "    </tr>\n",
       "    <tr>\n",
       "      <th rowspan=\"2\" valign=\"top\">Aerospace &amp; Defense</th>\n",
       "      <th>False</th>\n",
       "      <td>3.638095</td>\n",
       "    </tr>\n",
       "    <tr>\n",
       "      <th>True</th>\n",
       "      <td>3.800000</td>\n",
       "    </tr>\n",
       "    <tr>\n",
       "      <th rowspan=\"2\" valign=\"top\">Arts, Entertainment &amp; Recreation</th>\n",
       "      <th>False</th>\n",
       "      <td>4.225000</td>\n",
       "    </tr>\n",
       "    <tr>\n",
       "      <th>True</th>\n",
       "      <td>3.233333</td>\n",
       "    </tr>\n",
       "    <tr>\n",
       "      <th rowspan=\"2\" valign=\"top\">Biotech &amp; Pharmaceuticals</th>\n",
       "      <th>False</th>\n",
       "      <td>3.390000</td>\n",
       "    </tr>\n",
       "    <tr>\n",
       "      <th>True</th>\n",
       "      <td>3.400000</td>\n",
       "    </tr>\n",
       "    <tr>\n",
       "      <th rowspan=\"2\" valign=\"top\">Business Services</th>\n",
       "      <th>False</th>\n",
       "      <td>3.646278</td>\n",
       "    </tr>\n",
       "    <tr>\n",
       "      <th>True</th>\n",
       "      <td>3.807407</td>\n",
       "    </tr>\n",
       "    <tr>\n",
       "      <th>Construction, Repair &amp; Maintenance</th>\n",
       "      <th>False</th>\n",
       "      <td>2.150000</td>\n",
       "    </tr>\n",
       "    <tr>\n",
       "      <th rowspan=\"2\" valign=\"top\">Consumer Services</th>\n",
       "      <th>False</th>\n",
       "      <td>3.507692</td>\n",
       "    </tr>\n",
       "    <tr>\n",
       "      <th>True</th>\n",
       "      <td>3.800000</td>\n",
       "    </tr>\n",
       "    <tr>\n",
       "      <th rowspan=\"2\" valign=\"top\">Education</th>\n",
       "      <th>False</th>\n",
       "      <td>3.882353</td>\n",
       "    </tr>\n",
       "    <tr>\n",
       "      <th>True</th>\n",
       "      <td>4.800000</td>\n",
       "    </tr>\n",
       "    <tr>\n",
       "      <th rowspan=\"2\" valign=\"top\">Finance</th>\n",
       "      <th>False</th>\n",
       "      <td>3.447853</td>\n",
       "    </tr>\n",
       "    <tr>\n",
       "      <th>True</th>\n",
       "      <td>4.400000</td>\n",
       "    </tr>\n",
       "    <tr>\n",
       "      <th>Government</th>\n",
       "      <th>False</th>\n",
       "      <td>3.158333</td>\n",
       "    </tr>\n",
       "    <tr>\n",
       "      <th rowspan=\"2\" valign=\"top\">Health Care</th>\n",
       "      <th>False</th>\n",
       "      <td>3.526712</td>\n",
       "    </tr>\n",
       "    <tr>\n",
       "      <th>True</th>\n",
       "      <td>3.620000</td>\n",
       "    </tr>\n",
       "    <tr>\n",
       "      <th rowspan=\"2\" valign=\"top\">Information Technology</th>\n",
       "      <th>False</th>\n",
       "      <td>3.874081</td>\n",
       "    </tr>\n",
       "    <tr>\n",
       "      <th>True</th>\n",
       "      <td>3.838462</td>\n",
       "    </tr>\n",
       "    <tr>\n",
       "      <th rowspan=\"2\" valign=\"top\">Insurance</th>\n",
       "      <th>False</th>\n",
       "      <td>3.300000</td>\n",
       "    </tr>\n",
       "    <tr>\n",
       "      <th>True</th>\n",
       "      <td>4.100000</td>\n",
       "    </tr>\n",
       "    <tr>\n",
       "      <th>Manufacturing</th>\n",
       "      <th>False</th>\n",
       "      <td>3.297500</td>\n",
       "    </tr>\n",
       "    <tr>\n",
       "      <th rowspan=\"2\" valign=\"top\">Media</th>\n",
       "      <th>False</th>\n",
       "      <td>3.915000</td>\n",
       "    </tr>\n",
       "    <tr>\n",
       "      <th>True</th>\n",
       "      <td>3.400000</td>\n",
       "    </tr>\n",
       "    <tr>\n",
       "      <th>Mining &amp; Metals</th>\n",
       "      <th>False</th>\n",
       "      <td>3.500000</td>\n",
       "    </tr>\n",
       "    <tr>\n",
       "      <th rowspan=\"2\" valign=\"top\">Non-Profit</th>\n",
       "      <th>False</th>\n",
       "      <td>3.004167</td>\n",
       "    </tr>\n",
       "    <tr>\n",
       "      <th>True</th>\n",
       "      <td>3.200000</td>\n",
       "    </tr>\n",
       "    <tr>\n",
       "      <th>Oil, Gas, Energy &amp; Utilities</th>\n",
       "      <th>False</th>\n",
       "      <td>3.476923</td>\n",
       "    </tr>\n",
       "    <tr>\n",
       "      <th>Real Estate</th>\n",
       "      <th>False</th>\n",
       "      <td>3.375000</td>\n",
       "    </tr>\n",
       "    <tr>\n",
       "      <th>Restaurants, Bars &amp; Food Services</th>\n",
       "      <th>False</th>\n",
       "      <td>3.137500</td>\n",
       "    </tr>\n",
       "    <tr>\n",
       "      <th rowspan=\"2\" valign=\"top\">Retail</th>\n",
       "      <th>False</th>\n",
       "      <td>3.186486</td>\n",
       "    </tr>\n",
       "    <tr>\n",
       "      <th>True</th>\n",
       "      <td>3.100000</td>\n",
       "    </tr>\n",
       "    <tr>\n",
       "      <th>Telecommunications</th>\n",
       "      <th>False</th>\n",
       "      <td>3.563636</td>\n",
       "    </tr>\n",
       "    <tr>\n",
       "      <th>Transportation &amp; Logistics</th>\n",
       "      <th>False</th>\n",
       "      <td>3.235000</td>\n",
       "    </tr>\n",
       "    <tr>\n",
       "      <th>Travel &amp; Tourism</th>\n",
       "      <th>False</th>\n",
       "      <td>4.000000</td>\n",
       "    </tr>\n",
       "    <tr>\n",
       "      <th>Unknown</th>\n",
       "      <th>False</th>\n",
       "      <td>0.596034</td>\n",
       "    </tr>\n",
       "  </tbody>\n",
       "</table>\n",
       "</div>"
      ],
      "text/plain": [
       "                                                 Rating\n",
       "Sector                             Easy_Apply          \n",
       "Accounting & Legal                 False       3.741860\n",
       "Aerospace & Defense                False       3.638095\n",
       "                                   True        3.800000\n",
       "Arts, Entertainment & Recreation   False       4.225000\n",
       "                                   True        3.233333\n",
       "Biotech & Pharmaceuticals          False       3.390000\n",
       "                                   True        3.400000\n",
       "Business Services                  False       3.646278\n",
       "                                   True        3.807407\n",
       "Construction, Repair & Maintenance False       2.150000\n",
       "Consumer Services                  False       3.507692\n",
       "                                   True        3.800000\n",
       "Education                          False       3.882353\n",
       "                                   True        4.800000\n",
       "Finance                            False       3.447853\n",
       "                                   True        4.400000\n",
       "Government                         False       3.158333\n",
       "Health Care                        False       3.526712\n",
       "                                   True        3.620000\n",
       "Information Technology             False       3.874081\n",
       "                                   True        3.838462\n",
       "Insurance                          False       3.300000\n",
       "                                   True        4.100000\n",
       "Manufacturing                      False       3.297500\n",
       "Media                              False       3.915000\n",
       "                                   True        3.400000\n",
       "Mining & Metals                    False       3.500000\n",
       "Non-Profit                         False       3.004167\n",
       "                                   True        3.200000\n",
       "Oil, Gas, Energy & Utilities       False       3.476923\n",
       "Real Estate                        False       3.375000\n",
       "Restaurants, Bars & Food Services  False       3.137500\n",
       "Retail                             False       3.186486\n",
       "                                   True        3.100000\n",
       "Telecommunications                 False       3.563636\n",
       "Transportation & Logistics         False       3.235000\n",
       "Travel & Tourism                   False       4.000000\n",
       "Unknown                            False       0.596034"
      ]
     },
     "execution_count": 24,
     "metadata": {},
     "output_type": "execute_result"
    }
   ],
   "source": [
    "# We use pivot to distribute the sector and and divide into easy apply and their ratings and it shows that the range of the rating is between 3 and 4 except the Unknown sector\n",
    "pd.pivot_table(df,index=['Sector','Easy_Apply'],values='Rating')"
   ]
  },
  {
   "cell_type": "markdown",
   "metadata": {
    "papermill": {
     "duration": 0.139028,
     "end_time": "2021-09-03T21:36:25.269749",
     "exception": false,
     "start_time": "2021-09-03T21:36:25.130721",
     "status": "completed"
    },
    "tags": []
   },
   "source": [
    "**in the down , we use crosstab to find out which sector has the higehst number of vacancy with easy apply and Business service and IT  sector are in demanding.**"
   ]
  },
  {
   "cell_type": "code",
   "execution_count": 25,
   "metadata": {
    "execution": {
     "iopub.execute_input": "2021-09-03T21:36:25.422014Z",
     "iopub.status.busy": "2021-09-03T21:36:25.417596Z",
     "iopub.status.idle": "2021-09-03T21:36:25.448703Z",
     "shell.execute_reply": "2021-09-03T21:36:25.448111Z",
     "shell.execute_reply.started": "2021-09-03T19:36:58.965069Z"
    },
    "papermill": {
     "duration": 0.108374,
     "end_time": "2021-09-03T21:36:25.448840",
     "exception": false,
     "start_time": "2021-09-03T21:36:25.340466",
     "status": "completed"
    },
    "tags": []
   },
   "outputs": [
    {
     "data": {
      "text/html": [
       "<div>\n",
       "<style scoped>\n",
       "    .dataframe tbody tr th:only-of-type {\n",
       "        vertical-align: middle;\n",
       "    }\n",
       "\n",
       "    .dataframe tbody tr th {\n",
       "        vertical-align: top;\n",
       "    }\n",
       "\n",
       "    .dataframe thead th {\n",
       "        text-align: right;\n",
       "    }\n",
       "</style>\n",
       "<table border=\"1\" class=\"dataframe\">\n",
       "  <thead>\n",
       "    <tr style=\"text-align: right;\">\n",
       "      <th>Easy_Apply</th>\n",
       "      <th>False</th>\n",
       "      <th>True</th>\n",
       "    </tr>\n",
       "    <tr>\n",
       "      <th>Sector</th>\n",
       "      <th></th>\n",
       "      <th></th>\n",
       "    </tr>\n",
       "  </thead>\n",
       "  <tbody>\n",
       "    <tr>\n",
       "      <th>Accounting &amp; Legal</th>\n",
       "      <td>43</td>\n",
       "      <td>0</td>\n",
       "    </tr>\n",
       "    <tr>\n",
       "      <th>Aerospace &amp; Defense</th>\n",
       "      <td>21</td>\n",
       "      <td>1</td>\n",
       "    </tr>\n",
       "    <tr>\n",
       "      <th>Arts, Entertainment &amp; Recreation</th>\n",
       "      <td>4</td>\n",
       "      <td>3</td>\n",
       "    </tr>\n",
       "    <tr>\n",
       "      <th>Biotech &amp; Pharmaceuticals</th>\n",
       "      <td>30</td>\n",
       "      <td>3</td>\n",
       "    </tr>\n",
       "    <tr>\n",
       "      <th>Business Services</th>\n",
       "      <td>497</td>\n",
       "      <td>27</td>\n",
       "    </tr>\n",
       "    <tr>\n",
       "      <th>Construction, Repair &amp; Maintenance</th>\n",
       "      <td>16</td>\n",
       "      <td>0</td>\n",
       "    </tr>\n",
       "    <tr>\n",
       "      <th>Consumer Services</th>\n",
       "      <td>13</td>\n",
       "      <td>1</td>\n",
       "    </tr>\n",
       "    <tr>\n",
       "      <th>Education</th>\n",
       "      <td>51</td>\n",
       "      <td>1</td>\n",
       "    </tr>\n",
       "    <tr>\n",
       "      <th>Finance</th>\n",
       "      <td>163</td>\n",
       "      <td>6</td>\n",
       "    </tr>\n",
       "    <tr>\n",
       "      <th>Government</th>\n",
       "      <td>36</td>\n",
       "      <td>0</td>\n",
       "    </tr>\n",
       "    <tr>\n",
       "      <th>Health Care</th>\n",
       "      <td>146</td>\n",
       "      <td>5</td>\n",
       "    </tr>\n",
       "    <tr>\n",
       "      <th>Information Technology</th>\n",
       "      <td>544</td>\n",
       "      <td>26</td>\n",
       "    </tr>\n",
       "    <tr>\n",
       "      <th>Insurance</th>\n",
       "      <td>49</td>\n",
       "      <td>2</td>\n",
       "    </tr>\n",
       "    <tr>\n",
       "      <th>Manufacturing</th>\n",
       "      <td>40</td>\n",
       "      <td>0</td>\n",
       "    </tr>\n",
       "    <tr>\n",
       "      <th>Media</th>\n",
       "      <td>40</td>\n",
       "      <td>2</td>\n",
       "    </tr>\n",
       "    <tr>\n",
       "      <th>Mining &amp; Metals</th>\n",
       "      <td>1</td>\n",
       "      <td>0</td>\n",
       "    </tr>\n",
       "    <tr>\n",
       "      <th>Non-Profit</th>\n",
       "      <td>24</td>\n",
       "      <td>2</td>\n",
       "    </tr>\n",
       "    <tr>\n",
       "      <th>Oil, Gas, Energy &amp; Utilities</th>\n",
       "      <td>13</td>\n",
       "      <td>0</td>\n",
       "    </tr>\n",
       "    <tr>\n",
       "      <th>Real Estate</th>\n",
       "      <td>12</td>\n",
       "      <td>0</td>\n",
       "    </tr>\n",
       "    <tr>\n",
       "      <th>Restaurants, Bars &amp; Food Services</th>\n",
       "      <td>8</td>\n",
       "      <td>0</td>\n",
       "    </tr>\n",
       "    <tr>\n",
       "      <th>Retail</th>\n",
       "      <td>37</td>\n",
       "      <td>1</td>\n",
       "    </tr>\n",
       "    <tr>\n",
       "      <th>Telecommunications</th>\n",
       "      <td>11</td>\n",
       "      <td>0</td>\n",
       "    </tr>\n",
       "    <tr>\n",
       "      <th>Transportation &amp; Logistics</th>\n",
       "      <td>20</td>\n",
       "      <td>0</td>\n",
       "    </tr>\n",
       "    <tr>\n",
       "      <th>Travel &amp; Tourism</th>\n",
       "      <td>1</td>\n",
       "      <td>0</td>\n",
       "    </tr>\n",
       "    <tr>\n",
       "      <th>Unknown</th>\n",
       "      <td>353</td>\n",
       "      <td>0</td>\n",
       "    </tr>\n",
       "  </tbody>\n",
       "</table>\n",
       "</div>"
      ],
      "text/plain": [
       "Easy_Apply                          False  True \n",
       "Sector                                          \n",
       "Accounting & Legal                     43      0\n",
       "Aerospace & Defense                    21      1\n",
       "Arts, Entertainment & Recreation        4      3\n",
       "Biotech & Pharmaceuticals              30      3\n",
       "Business Services                     497     27\n",
       "Construction, Repair & Maintenance     16      0\n",
       "Consumer Services                      13      1\n",
       "Education                              51      1\n",
       "Finance                               163      6\n",
       "Government                             36      0\n",
       "Health Care                           146      5\n",
       "Information Technology                544     26\n",
       "Insurance                              49      2\n",
       "Manufacturing                          40      0\n",
       "Media                                  40      2\n",
       "Mining & Metals                         1      0\n",
       "Non-Profit                             24      2\n",
       "Oil, Gas, Energy & Utilities           13      0\n",
       "Real Estate                            12      0\n",
       "Restaurants, Bars & Food Services       8      0\n",
       "Retail                                 37      1\n",
       "Telecommunications                     11      0\n",
       "Transportation & Logistics             20      0\n",
       "Travel & Tourism                        1      0\n",
       "Unknown                               353      0"
      ]
     },
     "execution_count": 25,
     "metadata": {},
     "output_type": "execute_result"
    }
   ],
   "source": [
    "df['Sector'].unique()\n",
    "Sector_Easy_Apply=pd.crosstab(df['Sector'],df['Easy_Apply'])\n",
    "Sector_Easy_Apply"
   ]
  },
  {
   "cell_type": "markdown",
   "metadata": {
    "papermill": {
     "duration": 0.07108,
     "end_time": "2021-09-03T21:36:25.591135",
     "exception": false,
     "start_time": "2021-09-03T21:36:25.520055",
     "status": "completed"
    },
    "tags": []
   },
   "source": [
    "**In the below, the highest number for easy apply is 5000 members **"
   ]
  },
  {
   "cell_type": "code",
   "execution_count": 26,
   "metadata": {
    "execution": {
     "iopub.execute_input": "2021-09-03T21:36:25.748161Z",
     "iopub.status.busy": "2021-09-03T21:36:25.742704Z",
     "iopub.status.idle": "2021-09-03T21:36:25.764746Z",
     "shell.execute_reply": "2021-09-03T21:36:25.764134Z",
     "shell.execute_reply.started": "2021-09-03T19:36:59.003630Z"
    },
    "papermill": {
     "duration": 0.102125,
     "end_time": "2021-09-03T21:36:25.764899",
     "exception": false,
     "start_time": "2021-09-03T21:36:25.662774",
     "status": "completed"
    },
    "tags": []
   },
   "outputs": [
    {
     "data": {
      "text/html": [
       "<div>\n",
       "<style scoped>\n",
       "    .dataframe tbody tr th:only-of-type {\n",
       "        vertical-align: middle;\n",
       "    }\n",
       "\n",
       "    .dataframe tbody tr th {\n",
       "        vertical-align: top;\n",
       "    }\n",
       "\n",
       "    .dataframe thead th {\n",
       "        text-align: right;\n",
       "    }\n",
       "</style>\n",
       "<table border=\"1\" class=\"dataframe\">\n",
       "  <thead>\n",
       "    <tr style=\"text-align: right;\">\n",
       "      <th>Max_size</th>\n",
       "      <th>50.0</th>\n",
       "      <th>200.0</th>\n",
       "      <th>500.0</th>\n",
       "      <th>1000.0</th>\n",
       "      <th>1500.0</th>\n",
       "      <th>5000.0</th>\n",
       "      <th>10000.0</th>\n",
       "    </tr>\n",
       "    <tr>\n",
       "      <th>Easy_Apply</th>\n",
       "      <th></th>\n",
       "      <th></th>\n",
       "      <th></th>\n",
       "      <th></th>\n",
       "      <th></th>\n",
       "      <th></th>\n",
       "      <th></th>\n",
       "    </tr>\n",
       "  </thead>\n",
       "  <tbody>\n",
       "    <tr>\n",
       "      <th>False</th>\n",
       "      <td>342</td>\n",
       "      <td>605</td>\n",
       "      <td>235</td>\n",
       "      <td>197</td>\n",
       "      <td>374</td>\n",
       "      <td>324</td>\n",
       "      <td>96</td>\n",
       "    </tr>\n",
       "    <tr>\n",
       "      <th>True</th>\n",
       "      <td>5</td>\n",
       "      <td>19</td>\n",
       "      <td>16</td>\n",
       "      <td>14</td>\n",
       "      <td>1</td>\n",
       "      <td>24</td>\n",
       "      <td>1</td>\n",
       "    </tr>\n",
       "  </tbody>\n",
       "</table>\n",
       "</div>"
      ],
      "text/plain": [
       "Max_size    50.0     200.0    500.0    1000.0   1500.0   5000.0   10000.0\n",
       "Easy_Apply                                                               \n",
       "False           342      605      235      197      374      324       96\n",
       "True              5       19       16       14        1       24        1"
      ]
     },
     "execution_count": 26,
     "metadata": {},
     "output_type": "execute_result"
    }
   ],
   "source": [
    "df['Easy_Apply'].unique()\n",
    "Easy_Apply_Size=pd.crosstab(df['Easy_Apply'],df['Max_size'])\n",
    "Easy_Apply_Size"
   ]
  },
  {
   "cell_type": "markdown",
   "metadata": {
    "papermill": {
     "duration": 0.072976,
     "end_time": "2021-09-03T21:36:25.910289",
     "exception": false,
     "start_time": "2021-09-03T21:36:25.837313",
     "status": "completed"
    },
    "tags": []
   },
   "source": [
    "**We want to use groupby to find out the average , count and sum of the Rting based on the sector**"
   ]
  },
  {
   "cell_type": "code",
   "execution_count": 27,
   "metadata": {
    "execution": {
     "iopub.execute_input": "2021-09-03T21:36:26.074267Z",
     "iopub.status.busy": "2021-09-03T21:36:26.069592Z",
     "iopub.status.idle": "2021-09-03T21:36:26.100525Z",
     "shell.execute_reply": "2021-09-03T21:36:26.101100Z",
     "shell.execute_reply.started": "2021-09-03T19:36:59.035722Z"
    },
    "papermill": {
     "duration": 0.116687,
     "end_time": "2021-09-03T21:36:26.101320",
     "exception": false,
     "start_time": "2021-09-03T21:36:25.984633",
     "status": "completed"
    },
    "tags": []
   },
   "outputs": [
    {
     "data": {
      "text/html": [
       "<div>\n",
       "<style scoped>\n",
       "    .dataframe tbody tr th:only-of-type {\n",
       "        vertical-align: middle;\n",
       "    }\n",
       "\n",
       "    .dataframe tbody tr th {\n",
       "        vertical-align: top;\n",
       "    }\n",
       "\n",
       "    .dataframe thead th {\n",
       "        text-align: right;\n",
       "    }\n",
       "</style>\n",
       "<table border=\"1\" class=\"dataframe\">\n",
       "  <thead>\n",
       "    <tr style=\"text-align: right;\">\n",
       "      <th></th>\n",
       "      <th>Sector</th>\n",
       "      <th>Estimated_min_salary_Sum</th>\n",
       "      <th>Estimated_min_salary_Count</th>\n",
       "      <th>Average of min salary</th>\n",
       "    </tr>\n",
       "  </thead>\n",
       "  <tbody>\n",
       "    <tr>\n",
       "      <th>11</th>\n",
       "      <td>Information Technology</td>\n",
       "      <td>31274</td>\n",
       "      <td>570</td>\n",
       "      <td>54.866667</td>\n",
       "    </tr>\n",
       "    <tr>\n",
       "      <th>4</th>\n",
       "      <td>Business Services</td>\n",
       "      <td>28564</td>\n",
       "      <td>524</td>\n",
       "      <td>54.511450</td>\n",
       "    </tr>\n",
       "    <tr>\n",
       "      <th>24</th>\n",
       "      <td>Unknown</td>\n",
       "      <td>19484</td>\n",
       "      <td>353</td>\n",
       "      <td>55.195467</td>\n",
       "    </tr>\n",
       "    <tr>\n",
       "      <th>8</th>\n",
       "      <td>Finance</td>\n",
       "      <td>8564</td>\n",
       "      <td>169</td>\n",
       "      <td>50.674556</td>\n",
       "    </tr>\n",
       "    <tr>\n",
       "      <th>10</th>\n",
       "      <td>Health Care</td>\n",
       "      <td>8341</td>\n",
       "      <td>151</td>\n",
       "      <td>55.238411</td>\n",
       "    </tr>\n",
       "    <tr>\n",
       "      <th>12</th>\n",
       "      <td>Insurance</td>\n",
       "      <td>2800</td>\n",
       "      <td>51</td>\n",
       "      <td>54.901961</td>\n",
       "    </tr>\n",
       "    <tr>\n",
       "      <th>7</th>\n",
       "      <td>Education</td>\n",
       "      <td>2695</td>\n",
       "      <td>52</td>\n",
       "      <td>51.826923</td>\n",
       "    </tr>\n",
       "    <tr>\n",
       "      <th>0</th>\n",
       "      <td>Accounting &amp; Legal</td>\n",
       "      <td>2520</td>\n",
       "      <td>43</td>\n",
       "      <td>58.604651</td>\n",
       "    </tr>\n",
       "    <tr>\n",
       "      <th>13</th>\n",
       "      <td>Manufacturing</td>\n",
       "      <td>2240</td>\n",
       "      <td>40</td>\n",
       "      <td>56.000000</td>\n",
       "    </tr>\n",
       "    <tr>\n",
       "      <th>14</th>\n",
       "      <td>Media</td>\n",
       "      <td>2178</td>\n",
       "      <td>42</td>\n",
       "      <td>51.857143</td>\n",
       "    </tr>\n",
       "    <tr>\n",
       "      <th>3</th>\n",
       "      <td>Biotech &amp; Pharmaceuticals</td>\n",
       "      <td>2025</td>\n",
       "      <td>33</td>\n",
       "      <td>61.363636</td>\n",
       "    </tr>\n",
       "    <tr>\n",
       "      <th>20</th>\n",
       "      <td>Retail</td>\n",
       "      <td>1866</td>\n",
       "      <td>38</td>\n",
       "      <td>49.105263</td>\n",
       "    </tr>\n",
       "    <tr>\n",
       "      <th>9</th>\n",
       "      <td>Government</td>\n",
       "      <td>1731</td>\n",
       "      <td>36</td>\n",
       "      <td>48.083333</td>\n",
       "    </tr>\n",
       "    <tr>\n",
       "      <th>16</th>\n",
       "      <td>Non-Profit</td>\n",
       "      <td>1277</td>\n",
       "      <td>26</td>\n",
       "      <td>49.115385</td>\n",
       "    </tr>\n",
       "    <tr>\n",
       "      <th>1</th>\n",
       "      <td>Aerospace &amp; Defense</td>\n",
       "      <td>1142</td>\n",
       "      <td>22</td>\n",
       "      <td>51.909091</td>\n",
       "    </tr>\n",
       "    <tr>\n",
       "      <th>22</th>\n",
       "      <td>Transportation &amp; Logistics</td>\n",
       "      <td>1069</td>\n",
       "      <td>20</td>\n",
       "      <td>53.450000</td>\n",
       "    </tr>\n",
       "    <tr>\n",
       "      <th>5</th>\n",
       "      <td>Construction, Repair &amp; Maintenance</td>\n",
       "      <td>883</td>\n",
       "      <td>16</td>\n",
       "      <td>55.187500</td>\n",
       "    </tr>\n",
       "    <tr>\n",
       "      <th>6</th>\n",
       "      <td>Consumer Services</td>\n",
       "      <td>744</td>\n",
       "      <td>14</td>\n",
       "      <td>53.142857</td>\n",
       "    </tr>\n",
       "    <tr>\n",
       "      <th>18</th>\n",
       "      <td>Real Estate</td>\n",
       "      <td>707</td>\n",
       "      <td>12</td>\n",
       "      <td>58.916667</td>\n",
       "    </tr>\n",
       "    <tr>\n",
       "      <th>17</th>\n",
       "      <td>Oil, Gas, Energy &amp; Utilities</td>\n",
       "      <td>604</td>\n",
       "      <td>13</td>\n",
       "      <td>46.461538</td>\n",
       "    </tr>\n",
       "    <tr>\n",
       "      <th>21</th>\n",
       "      <td>Telecommunications</td>\n",
       "      <td>589</td>\n",
       "      <td>11</td>\n",
       "      <td>53.545455</td>\n",
       "    </tr>\n",
       "    <tr>\n",
       "      <th>2</th>\n",
       "      <td>Arts, Entertainment &amp; Recreation</td>\n",
       "      <td>423</td>\n",
       "      <td>7</td>\n",
       "      <td>60.428571</td>\n",
       "    </tr>\n",
       "    <tr>\n",
       "      <th>19</th>\n",
       "      <td>Restaurants, Bars &amp; Food Services</td>\n",
       "      <td>313</td>\n",
       "      <td>8</td>\n",
       "      <td>39.125000</td>\n",
       "    </tr>\n",
       "    <tr>\n",
       "      <th>15</th>\n",
       "      <td>Mining &amp; Metals</td>\n",
       "      <td>41</td>\n",
       "      <td>1</td>\n",
       "      <td>41.000000</td>\n",
       "    </tr>\n",
       "    <tr>\n",
       "      <th>23</th>\n",
       "      <td>Travel &amp; Tourism</td>\n",
       "      <td>36</td>\n",
       "      <td>1</td>\n",
       "      <td>36.000000</td>\n",
       "    </tr>\n",
       "  </tbody>\n",
       "</table>\n",
       "</div>"
      ],
      "text/plain": [
       "                                Sector  Estimated_min_salary_Sum  \\\n",
       "11              Information Technology                     31274   \n",
       "4                    Business Services                     28564   \n",
       "24                             Unknown                     19484   \n",
       "8                              Finance                      8564   \n",
       "10                         Health Care                      8341   \n",
       "12                           Insurance                      2800   \n",
       "7                            Education                      2695   \n",
       "0                   Accounting & Legal                      2520   \n",
       "13                       Manufacturing                      2240   \n",
       "14                               Media                      2178   \n",
       "3            Biotech & Pharmaceuticals                      2025   \n",
       "20                              Retail                      1866   \n",
       "9                           Government                      1731   \n",
       "16                          Non-Profit                      1277   \n",
       "1                  Aerospace & Defense                      1142   \n",
       "22          Transportation & Logistics                      1069   \n",
       "5   Construction, Repair & Maintenance                       883   \n",
       "6                    Consumer Services                       744   \n",
       "18                         Real Estate                       707   \n",
       "17        Oil, Gas, Energy & Utilities                       604   \n",
       "21                  Telecommunications                       589   \n",
       "2     Arts, Entertainment & Recreation                       423   \n",
       "19   Restaurants, Bars & Food Services                       313   \n",
       "15                     Mining & Metals                        41   \n",
       "23                    Travel & Tourism                        36   \n",
       "\n",
       "    Estimated_min_salary_Count   Average of min salary  \n",
       "11                         570               54.866667  \n",
       "4                          524               54.511450  \n",
       "24                         353               55.195467  \n",
       "8                          169               50.674556  \n",
       "10                         151               55.238411  \n",
       "12                          51               54.901961  \n",
       "7                           52               51.826923  \n",
       "0                           43               58.604651  \n",
       "13                          40               56.000000  \n",
       "14                          42               51.857143  \n",
       "3                           33               61.363636  \n",
       "20                          38               49.105263  \n",
       "9                           36               48.083333  \n",
       "16                          26               49.115385  \n",
       "1                           22               51.909091  \n",
       "22                          20               53.450000  \n",
       "5                           16               55.187500  \n",
       "6                           14               53.142857  \n",
       "18                          12               58.916667  \n",
       "17                          13               46.461538  \n",
       "21                          11               53.545455  \n",
       "2                            7               60.428571  \n",
       "19                           8               39.125000  \n",
       "15                           1               41.000000  \n",
       "23                           1               36.000000  "
      ]
     },
     "execution_count": 27,
     "metadata": {},
     "output_type": "execute_result"
    }
   ],
   "source": [
    "df_grouped_sum=df.groupby('Sector',as_index=False)['Estimated_min_salary'].agg('sum').rename(columns={'Estimated_min_salary':'Estimated_min_salary_Sum'})\n",
    "df_grouped_cnt=df.groupby('Sector',as_index=False)['Estimated_min_salary'].agg('count').rename(columns={'Estimated_min_salary':'Estimated_min_salary_Count'})\n",
    "# we want to merge these 2 lines\n",
    "df_grouped_salary=df_grouped_sum.merge(df_grouped_cnt, left_on='Sector',right_on='Sector',how='inner')\n",
    "\n",
    "#Calculate the average salary\n",
    "df_grouped_salary.loc[:,' Average of min salary']=df_grouped_salary['Estimated_min_salary_Sum']/df_grouped_salary['Estimated_min_salary_Count']\n",
    "\n",
    "# The final result\n",
    "df_grouped_salary.sort_values('Estimated_min_salary_Sum',ascending=False)"
   ]
  },
  {
   "cell_type": "markdown",
   "metadata": {
    "papermill": {
     "duration": 0.074944,
     "end_time": "2021-09-03T21:36:26.257617",
     "exception": false,
     "start_time": "2021-09-03T21:36:26.182673",
     "status": "completed"
    },
    "tags": []
   },
   "source": [
    "**This is the one of the most interesting part of the code.the max average of the min salary is for It industry and The second is the min average of the min salary is for travel agency\n",
    "**"
   ]
  },
  {
   "cell_type": "code",
   "execution_count": 28,
   "metadata": {
    "execution": {
     "iopub.execute_input": "2021-09-03T21:36:26.414523Z",
     "iopub.status.busy": "2021-09-03T21:36:26.411239Z",
     "iopub.status.idle": "2021-09-03T21:36:26.435700Z",
     "shell.execute_reply": "2021-09-03T21:36:26.435107Z",
     "shell.execute_reply.started": "2021-09-03T19:36:59.738393Z"
    },
    "papermill": {
     "duration": 0.105937,
     "end_time": "2021-09-03T21:36:26.435822",
     "exception": false,
     "start_time": "2021-09-03T21:36:26.329885",
     "status": "completed"
    },
    "tags": []
   },
   "outputs": [
    {
     "data": {
      "text/html": [
       "<div>\n",
       "<style scoped>\n",
       "    .dataframe tbody tr th:only-of-type {\n",
       "        vertical-align: middle;\n",
       "    }\n",
       "\n",
       "    .dataframe tbody tr th {\n",
       "        vertical-align: top;\n",
       "    }\n",
       "\n",
       "    .dataframe thead th {\n",
       "        text-align: right;\n",
       "    }\n",
       "</style>\n",
       "<table border=\"1\" class=\"dataframe\">\n",
       "  <thead>\n",
       "    <tr style=\"text-align: right;\">\n",
       "      <th></th>\n",
       "      <th>Easy_Apply</th>\n",
       "      <th>Rating_Sum</th>\n",
       "      <th>Rating_Count</th>\n",
       "      <th>Average of the rating</th>\n",
       "    </tr>\n",
       "  </thead>\n",
       "  <tbody>\n",
       "    <tr>\n",
       "      <th>0</th>\n",
       "      <td>False</td>\n",
       "      <td>6817.0</td>\n",
       "      <td>2173</td>\n",
       "      <td>3.137138</td>\n",
       "    </tr>\n",
       "    <tr>\n",
       "      <th>1</th>\n",
       "      <td>True</td>\n",
       "      <td>303.9</td>\n",
       "      <td>80</td>\n",
       "      <td>3.798750</td>\n",
       "    </tr>\n",
       "  </tbody>\n",
       "</table>\n",
       "</div>"
      ],
      "text/plain": [
       "   Easy_Apply  Rating_Sum  Rating_Count  Average of the rating\n",
       "0       False      6817.0          2173               3.137138\n",
       "1        True       303.9            80               3.798750"
      ]
     },
     "execution_count": 28,
     "metadata": {},
     "output_type": "execute_result"
    }
   ],
   "source": [
    "df_grouped_sum=df.groupby('Easy_Apply',as_index=False)['Rating'].agg('sum').rename(columns={'Rating':'Rating_Sum'})\n",
    "df_grouped_cnt=df.groupby('Easy_Apply',as_index=False)['Rating'].agg('count').rename(columns={'Rating':'Rating_Count'})\n",
    "# merge the line of the codes\n",
    "df_grouped_average=df_grouped_sum.merge(df_grouped_cnt,left_on='Easy_Apply',right_on='Easy_Apply',how='inner')\n",
    "\n",
    "# calculate the merge part\n",
    "df_grouped_average.loc[:,'Average of the rating']=df_grouped_average['Rating_Sum']/df_grouped_average['Rating_Count']\n",
    "\n",
    "df_grouped_average.sort_values('Rating_Sum',ascending=False)"
   ]
  },
  {
   "cell_type": "markdown",
   "metadata": {
    "papermill": {
     "duration": 0.073089,
     "end_time": "2021-09-03T21:36:26.581953",
     "exception": false,
     "start_time": "2021-09-03T21:36:26.508864",
     "status": "completed"
    },
    "tags": []
   },
   "source": [
    "**As you see upside, the easy apply divide to false and easy one, the average of the rating for easy one is 3.79 and for non_easy is 3.13**"
   ]
  },
  {
   "cell_type": "code",
   "execution_count": 29,
   "metadata": {
    "execution": {
     "iopub.execute_input": "2021-09-03T21:36:26.734168Z",
     "iopub.status.busy": "2021-09-03T21:36:26.733133Z",
     "iopub.status.idle": "2021-09-03T21:36:26.742839Z",
     "shell.execute_reply": "2021-09-03T21:36:26.742127Z",
     "shell.execute_reply.started": "2021-09-03T19:36:59.772964Z"
    },
    "papermill": {
     "duration": 0.088261,
     "end_time": "2021-09-03T21:36:26.742959",
     "exception": false,
     "start_time": "2021-09-03T21:36:26.654698",
     "status": "completed"
    },
    "tags": []
   },
   "outputs": [
    {
     "data": {
      "text/plain": [
       "61"
      ]
     },
     "execution_count": 29,
     "metadata": {},
     "output_type": "execute_result"
    }
   ],
   "source": [
    "#It is necessary to establish the presence of duplicates. If they are found, delete them and check if they are all deleted.\n",
    "df.duplicated().sum()"
   ]
  },
  {
   "cell_type": "code",
   "execution_count": 30,
   "metadata": {
    "execution": {
     "iopub.execute_input": "2021-09-03T21:36:26.894925Z",
     "iopub.status.busy": "2021-09-03T21:36:26.894239Z",
     "iopub.status.idle": "2021-09-03T21:36:26.924311Z",
     "shell.execute_reply": "2021-09-03T21:36:26.923747Z",
     "shell.execute_reply.started": "2021-09-03T19:36:59.787413Z"
    },
    "papermill": {
     "duration": 0.108974,
     "end_time": "2021-09-03T21:36:26.924446",
     "exception": false,
     "start_time": "2021-09-03T21:36:26.815472",
     "status": "completed"
    },
    "tags": []
   },
   "outputs": [
    {
     "data": {
      "text/html": [
       "<div>\n",
       "<style scoped>\n",
       "    .dataframe tbody tr th:only-of-type {\n",
       "        vertical-align: middle;\n",
       "    }\n",
       "\n",
       "    .dataframe tbody tr th {\n",
       "        vertical-align: top;\n",
       "    }\n",
       "\n",
       "    .dataframe thead th {\n",
       "        text-align: right;\n",
       "    }\n",
       "</style>\n",
       "<table border=\"1\" class=\"dataframe\">\n",
       "  <thead>\n",
       "    <tr style=\"text-align: right;\">\n",
       "      <th></th>\n",
       "      <th>Job</th>\n",
       "      <th>Estimated_min_salary</th>\n",
       "      <th>Estimated_max_salary</th>\n",
       "      <th>Location</th>\n",
       "      <th>Headquarters</th>\n",
       "      <th>Rating</th>\n",
       "      <th>Founded\\t</th>\n",
       "      <th>ownership\\t</th>\n",
       "      <th>Min_size</th>\n",
       "      <th>Max_size</th>\n",
       "      <th>Industry</th>\n",
       "      <th>Sector</th>\n",
       "      <th>Revenue</th>\n",
       "      <th>Competitors\\t</th>\n",
       "      <th>Easy_Apply</th>\n",
       "    </tr>\n",
       "  </thead>\n",
       "  <tbody>\n",
       "    <tr>\n",
       "      <th>0</th>\n",
       "      <td>Data Analyst</td>\n",
       "      <td>37</td>\n",
       "      <td>66</td>\n",
       "      <td>New York, NY</td>\n",
       "      <td>New York, NY</td>\n",
       "      <td>3.2</td>\n",
       "      <td>1961</td>\n",
       "      <td>Nonprofit Organization</td>\n",
       "      <td>201.0</td>\n",
       "      <td>500.0</td>\n",
       "      <td>Social Assistance</td>\n",
       "      <td>Non-Profit</td>\n",
       "      <td>$100 to $500 million (USD)</td>\n",
       "      <td>Unknown</td>\n",
       "      <td>True</td>\n",
       "    </tr>\n",
       "    <tr>\n",
       "      <th>1</th>\n",
       "      <td>Quality Data Analyst</td>\n",
       "      <td>37</td>\n",
       "      <td>66</td>\n",
       "      <td>New York, NY</td>\n",
       "      <td>New York, NY</td>\n",
       "      <td>3.8</td>\n",
       "      <td>1893</td>\n",
       "      <td>Nonprofit Organization</td>\n",
       "      <td>1100.0</td>\n",
       "      <td>1500.0</td>\n",
       "      <td>Health Care Services &amp; Hospitals</td>\n",
       "      <td>Health Care</td>\n",
       "      <td>$2 to $5 billion (USD)</td>\n",
       "      <td>Unknown</td>\n",
       "      <td>False</td>\n",
       "    </tr>\n",
       "    <tr>\n",
       "      <th>2</th>\n",
       "      <td>Sr Data Analyst</td>\n",
       "      <td>37</td>\n",
       "      <td>66</td>\n",
       "      <td>New York, NY</td>\n",
       "      <td>New York, NY</td>\n",
       "      <td>3.4</td>\n",
       "      <td>2003</td>\n",
       "      <td>Company - Private</td>\n",
       "      <td>1001.0</td>\n",
       "      <td>5000.0</td>\n",
       "      <td>Internet</td>\n",
       "      <td>Information Technology</td>\n",
       "      <td>Non-Applicable</td>\n",
       "      <td>GoDaddy</td>\n",
       "      <td>False</td>\n",
       "    </tr>\n",
       "    <tr>\n",
       "      <th>3</th>\n",
       "      <td>Data Analyst</td>\n",
       "      <td>37</td>\n",
       "      <td>66</td>\n",
       "      <td>New York, NY</td>\n",
       "      <td>McLean, VA</td>\n",
       "      <td>4.1</td>\n",
       "      <td>2002</td>\n",
       "      <td>Subsidiary or Business Segment</td>\n",
       "      <td>201.0</td>\n",
       "      <td>500.0</td>\n",
       "      <td>IT Services</td>\n",
       "      <td>Information Technology</td>\n",
       "      <td>$50 to $100 million (USD)</td>\n",
       "      <td>Unknown</td>\n",
       "      <td>False</td>\n",
       "    </tr>\n",
       "    <tr>\n",
       "      <th>4</th>\n",
       "      <td>Reporting Data Analyst</td>\n",
       "      <td>37</td>\n",
       "      <td>66</td>\n",
       "      <td>New York, NY</td>\n",
       "      <td>New York, NY</td>\n",
       "      <td>3.9</td>\n",
       "      <td>2009</td>\n",
       "      <td>Company - Private</td>\n",
       "      <td>501.0</td>\n",
       "      <td>1000.0</td>\n",
       "      <td>Sports &amp; Recreation</td>\n",
       "      <td>Arts, Entertainment &amp; Recreation</td>\n",
       "      <td>$100 to $500 million (USD)</td>\n",
       "      <td>DraftKings</td>\n",
       "      <td>True</td>\n",
       "    </tr>\n",
       "  </tbody>\n",
       "</table>\n",
       "</div>"
      ],
      "text/plain": [
       "                      Job  Estimated_min_salary  Estimated_max_salary  \\\n",
       "0            Data Analyst                    37                    66   \n",
       "1    Quality Data Analyst                    37                    66   \n",
       "2         Sr Data Analyst                    37                    66   \n",
       "3            Data Analyst                    37                    66   \n",
       "4  Reporting Data Analyst                    37                    66   \n",
       "\n",
       "       Location  Headquarters  Rating  Founded\\t  \\\n",
       "0  New York, NY  New York, NY     3.2       1961   \n",
       "1  New York, NY  New York, NY     3.8       1893   \n",
       "2  New York, NY  New York, NY     3.4       2003   \n",
       "3  New York, NY    McLean, VA     4.1       2002   \n",
       "4  New York, NY  New York, NY     3.9       2009   \n",
       "\n",
       "                      ownership\\t  Min_size  Max_size  \\\n",
       "0          Nonprofit Organization     201.0     500.0   \n",
       "1          Nonprofit Organization    1100.0    1500.0   \n",
       "2               Company - Private    1001.0    5000.0   \n",
       "3  Subsidiary or Business Segment     201.0     500.0   \n",
       "4               Company - Private     501.0    1000.0   \n",
       "\n",
       "                           Industry                            Sector  \\\n",
       "0                 Social Assistance                        Non-Profit   \n",
       "1  Health Care Services & Hospitals                       Health Care   \n",
       "2                          Internet            Information Technology   \n",
       "3                       IT Services            Information Technology   \n",
       "4               Sports & Recreation  Arts, Entertainment & Recreation   \n",
       "\n",
       "                      Revenue Competitors\\t  Easy_Apply  \n",
       "0  $100 to $500 million (USD)       Unknown        True  \n",
       "1      $2 to $5 billion (USD)       Unknown       False  \n",
       "2              Non-Applicable       GoDaddy       False  \n",
       "3   $50 to $100 million (USD)       Unknown       False  \n",
       "4  $100 to $500 million (USD)    DraftKings        True  "
      ]
     },
     "execution_count": 30,
     "metadata": {},
     "output_type": "execute_result"
    }
   ],
   "source": [
    "df = df.drop_duplicates().reset_index(drop=True)\n",
    "df.duplicated().sum()\n",
    "df.head(5)"
   ]
  },
  {
   "cell_type": "code",
   "execution_count": 31,
   "metadata": {
    "execution": {
     "iopub.execute_input": "2021-09-03T21:36:27.079945Z",
     "iopub.status.busy": "2021-09-03T21:36:27.079254Z",
     "iopub.status.idle": "2021-09-03T21:36:27.081671Z",
     "shell.execute_reply": "2021-09-03T21:36:27.082126Z",
     "shell.execute_reply.started": "2021-09-03T19:36:59.831938Z"
    },
    "papermill": {
     "duration": 0.083319,
     "end_time": "2021-09-03T21:36:27.082272",
     "exception": false,
     "start_time": "2021-09-03T21:36:26.998953",
     "status": "completed"
    },
    "tags": []
   },
   "outputs": [],
   "source": [
    "def number_of_job(df,Job,Headquarters):\n",
    "    number_list=df[(df['Job']==Job)& (df['Headquarters']== Headquarters)]\n",
    "    number_list_count=number_list['Sector'].count()\n",
    "    return number_list_count          "
   ]
  },
  {
   "cell_type": "markdown",
   "metadata": {
    "papermill": {
     "duration": 0.073263,
     "end_time": "2021-09-03T21:36:27.229410",
     "exception": false,
     "start_time": "2021-09-03T21:36:27.156147",
     "status": "completed"
    },
    "tags": []
   },
   "source": [
    "# We want to know that the Data Analyst in some main  state is so demanding."
   ]
  },
  {
   "cell_type": "code",
   "execution_count": 32,
   "metadata": {
    "execution": {
     "iopub.execute_input": "2021-09-03T21:36:27.387632Z",
     "iopub.status.busy": "2021-09-03T21:36:27.386928Z",
     "iopub.status.idle": "2021-09-03T21:36:27.391935Z",
     "shell.execute_reply": "2021-09-03T21:36:27.391331Z",
     "shell.execute_reply.started": "2021-09-03T19:37:00.525892Z"
    },
    "papermill": {
     "duration": 0.087031,
     "end_time": "2021-09-03T21:36:27.392064",
     "exception": false,
     "start_time": "2021-09-03T21:36:27.305033",
     "status": "completed"
    },
    "tags": []
   },
   "outputs": [
    {
     "data": {
      "text/plain": [
       "73"
      ]
     },
     "execution_count": 32,
     "metadata": {},
     "output_type": "execute_result"
    }
   ],
   "source": [
    "# the numebr of the headquarters which exist in NY \n",
    "number_of_job(df,'Data Analyst',\"New York, NY\")"
   ]
  },
  {
   "cell_type": "code",
   "execution_count": 33,
   "metadata": {
    "execution": {
     "iopub.execute_input": "2021-09-03T21:36:27.547613Z",
     "iopub.status.busy": "2021-09-03T21:36:27.546823Z",
     "iopub.status.idle": "2021-09-03T21:36:27.551199Z",
     "shell.execute_reply": "2021-09-03T21:36:27.551813Z",
     "shell.execute_reply.started": "2021-09-03T19:37:00.539282Z"
    },
    "papermill": {
     "duration": 0.08523,
     "end_time": "2021-09-03T21:36:27.551980",
     "exception": false,
     "start_time": "2021-09-03T21:36:27.466750",
     "status": "completed"
    },
    "tags": []
   },
   "outputs": [
    {
     "data": {
      "text/plain": [
       "3"
      ]
     },
     "execution_count": 33,
     "metadata": {},
     "output_type": "execute_result"
    }
   ],
   "source": [
    "# We have only two vacancies in Paris\n",
    "number_of_job(df,\"Data Analyst\",\"Washington, DC\")"
   ]
  },
  {
   "cell_type": "code",
   "execution_count": 34,
   "metadata": {
    "execution": {
     "iopub.execute_input": "2021-09-03T21:36:27.705371Z",
     "iopub.status.busy": "2021-09-03T21:36:27.704661Z",
     "iopub.status.idle": "2021-09-03T21:36:27.713691Z",
     "shell.execute_reply": "2021-09-03T21:36:27.714223Z",
     "shell.execute_reply.started": "2021-09-03T19:37:00.751736Z"
    },
    "papermill": {
     "duration": 0.087321,
     "end_time": "2021-09-03T21:36:27.714420",
     "exception": false,
     "start_time": "2021-09-03T21:36:27.627099",
     "status": "completed"
    },
    "tags": []
   },
   "outputs": [
    {
     "data": {
      "text/plain": [
       "4"
      ]
     },
     "execution_count": 34,
     "metadata": {},
     "output_type": "execute_result"
    }
   ],
   "source": [
    "number_of_job(df,'Data Analyst','Seattle, WA')"
   ]
  },
  {
   "cell_type": "code",
   "execution_count": 35,
   "metadata": {
    "execution": {
     "iopub.execute_input": "2021-09-03T21:36:27.869574Z",
     "iopub.status.busy": "2021-09-03T21:36:27.868538Z",
     "iopub.status.idle": "2021-09-03T21:36:27.877956Z",
     "shell.execute_reply": "2021-09-03T21:36:27.878449Z",
     "shell.execute_reply.started": "2021-09-03T19:37:01.828299Z"
    },
    "papermill": {
     "duration": 0.088621,
     "end_time": "2021-09-03T21:36:27.878631",
     "exception": false,
     "start_time": "2021-09-03T21:36:27.790010",
     "status": "completed"
    },
    "tags": []
   },
   "outputs": [
    {
     "data": {
      "text/plain": [
       "24"
      ]
     },
     "execution_count": 35,
     "metadata": {},
     "output_type": "execute_result"
    }
   ],
   "source": [
    "number_of_job(df,'Data Analyst','Chicago, IL')"
   ]
  },
  {
   "cell_type": "markdown",
   "metadata": {
    "papermill": {
     "duration": 0.077297,
     "end_time": "2021-09-03T21:36:28.033054",
     "exception": false,
     "start_time": "2021-09-03T21:36:27.955757",
     "status": "completed"
    },
    "tags": []
   },
   "source": [
    "# 2- Data analysis"
   ]
  },
  {
   "cell_type": "code",
   "execution_count": 36,
   "metadata": {
    "execution": {
     "iopub.execute_input": "2021-09-03T21:36:28.198258Z",
     "iopub.status.busy": "2021-09-03T21:36:28.197512Z",
     "iopub.status.idle": "2021-09-03T21:36:28.388249Z",
     "shell.execute_reply": "2021-09-03T21:36:28.388924Z",
     "shell.execute_reply.started": "2021-09-03T19:37:01.841073Z"
    },
    "papermill": {
     "duration": 0.278459,
     "end_time": "2021-09-03T21:36:28.389090",
     "exception": false,
     "start_time": "2021-09-03T21:36:28.110631",
     "status": "completed"
    },
    "tags": []
   },
   "outputs": [
    {
     "data": {
      "image/png": "[encoded data removed]",
      "text/plain": [
       "<Figure size 720x360 with 1 Axes>"
      ]
     },
     "metadata": {
      "needs_background": "light"
     },
     "output_type": "display_data"
    }
   ],
   "source": [
    "# It has the highest demading and sector among rest of the sectors\n",
    "plt.rcParams['figure.figsize']=(10,5)\n",
    "df['Sector'].value_counts().sort_values(ascending=False).head(10).plot.bar(color='Aqua')\n",
    "plt.xlabel('Sector')\n",
    "plt.ylabel('count')\n",
    "plt.xticks(rotation=50)\n",
    "plt.show()"
   ]
  },
  {
   "cell_type": "code",
   "execution_count": 37,
   "metadata": {
    "execution": {
     "iopub.execute_input": "2021-09-03T21:36:28.545467Z",
     "iopub.status.busy": "2021-09-03T21:36:28.544389Z",
     "iopub.status.idle": "2021-09-03T21:36:28.599097Z",
     "shell.execute_reply": "2021-09-03T21:36:28.598544Z",
     "shell.execute_reply.started": "2021-09-03T19:37:02.053333Z"
    },
    "papermill": {
     "duration": 0.134004,
     "end_time": "2021-09-03T21:36:28.599227",
     "exception": false,
     "start_time": "2021-09-03T21:36:28.465223",
     "status": "completed"
    },
    "tags": []
   },
   "outputs": [
    {
     "data": {
      "image/png": "[encoded data removed]",
      "text/plain": [
       "<Figure size 720x360 with 1 Axes>"
      ]
     },
     "metadata": {},
     "output_type": "display_data"
    }
   ],
   "source": [
    "# As you see, the most portion of the easy apply is False and it means that is not easy to apply for findng jobs.\n",
    "plt.rcParams['figure.figsize']=(10,5)\n",
    "df['Easy_Apply'].value_counts().sort_values(ascending=False).plot.pie(y='Easy_Apply',autopct=\"%0.1f%%\")\n",
    "plt.axis('off')\n",
    "plt.show()"
   ]
  },
  {
   "cell_type": "code",
   "execution_count": 38,
   "metadata": {
    "execution": {
     "iopub.execute_input": "2021-09-03T21:36:28.770457Z",
     "iopub.status.busy": "2021-09-03T21:36:28.769268Z",
     "iopub.status.idle": "2021-09-03T21:36:29.053054Z",
     "shell.execute_reply": "2021-09-03T21:36:29.052215Z",
     "shell.execute_reply.started": "2021-09-03T19:37:02.130936Z"
    },
    "papermill": {
     "duration": 0.377156,
     "end_time": "2021-09-03T21:36:29.053192",
     "exception": false,
     "start_time": "2021-09-03T21:36:28.676036",
     "status": "completed"
    },
    "tags": []
   },
   "outputs": [
    {
     "data": {
      "image/png": "[encoded data removed]",
      "text/plain": [
       "<Figure size 720x432 with 1 Axes>"
      ]
     },
     "metadata": {
      "needs_background": "light"
     },
     "output_type": "display_data"
    }
   ],
   "source": [
    "# in this figure, the non profit organization has the highest amount and most of these are not easy apply\n",
    "fig,ax=plt.subplots(figsize=(10,6))\n",
    "sns.countplot(df['ownership\\t'],hue=df['Easy_Apply'],ax=ax)\n",
    "plt.xlabel('Ownership')\n",
    "plt.ylabel('Easy_Apply')\n",
    "plt.xticks(rotation=50)\n",
    "plt.show()"
   ]
  },
  {
   "cell_type": "markdown",
   "metadata": {
    "papermill": {
     "duration": 0.098206,
     "end_time": "2021-09-03T21:36:29.230313",
     "exception": false,
     "start_time": "2021-09-03T21:36:29.132107",
     "status": "completed"
    },
    "tags": []
   },
   "source": [
    "**In this figure, the Private companies has the highest amount and most of these are not easy apply(almost 1200 records) and the lowest one is for finance.the only sector which has the highest amount of easy apply is for private companies with almost 100 records.**"
   ]
  },
  {
   "cell_type": "code",
   "execution_count": 39,
   "metadata": {
    "execution": {
     "iopub.execute_input": "2021-09-03T21:36:29.573747Z",
     "iopub.status.busy": "2021-09-03T21:36:29.572615Z",
     "iopub.status.idle": "2021-09-03T21:36:30.443396Z",
     "shell.execute_reply": "2021-09-03T21:36:30.442689Z",
     "shell.execute_reply.started": "2021-09-03T19:37:02.720950Z"
    },
    "papermill": {
     "duration": 1.129719,
     "end_time": "2021-09-03T21:36:30.443540",
     "exception": false,
     "start_time": "2021-09-03T21:36:29.313821",
     "status": "completed"
    },
    "tags": []
   },
   "outputs": [
    {
     "data": {
      "image/png": "[encoded data removed]",
      "text/plain": [
       "<Figure size 2520x360 with 1 Axes>"
      ]
     },
     "metadata": {
      "needs_background": "light"
     },
     "output_type": "display_data"
    }
   ],
   "source": [
    "fig,ax=plt.subplots(figsize=(35,5))\n",
    "sns.countplot(df['Sector'],hue=df['Max_size'],ax=ax)\n",
    "plt.xlabel('Sectors')\n",
    "plt.ylabel('Max_size')\n",
    "plt.xticks(rotation=50)\n",
    "plt.show()"
   ]
  },
  {
   "cell_type": "markdown",
   "metadata": {
    "papermill": {
     "duration": 0.080457,
     "end_time": "2021-09-03T21:36:30.605068",
     "exception": false,
     "start_time": "2021-09-03T21:36:30.524611",
     "status": "completed"
    },
    "tags": []
   },
   "source": [
    "**We distributed the sectors by the max size of the companies,As you see, The Unknown has the highest portion and the min size for Unknown sector is over 200(an orange one) \n",
    "After this, the Business services  has the highest amount(the max size is 51 and the amount of it is 150 records)**\n"
   ]
  },
  {
   "cell_type": "code",
   "execution_count": 40,
   "metadata": {
    "execution": {
     "iopub.execute_input": "2021-09-03T21:36:30.779104Z",
     "iopub.status.busy": "2021-09-03T21:36:30.777806Z",
     "iopub.status.idle": "2021-09-03T21:36:31.503290Z",
     "shell.execute_reply": "2021-09-03T21:36:31.502635Z",
     "shell.execute_reply.started": "2021-09-03T19:37:03.674641Z"
    },
    "papermill": {
     "duration": 0.817037,
     "end_time": "2021-09-03T21:36:31.503435",
     "exception": false,
     "start_time": "2021-09-03T21:36:30.686398",
     "status": "completed"
    },
    "tags": []
   },
   "outputs": [
    {
     "data": {
      "image/png": "[encoded data removed]",
      "text/plain": [
       "<Figure size 1152x648 with 1 Axes>"
      ]
     },
     "metadata": {
      "needs_background": "light"
     },
     "output_type": "display_data"
    }
   ],
   "source": [
    "plt.figure(figsize=(16,9))\n",
    "sns.set_palette(sns.color_palette(\"Paired\"))\n",
    "ax = sns.barplot(x='Max_size', y='ownership\\t', data=df, orient='h')\n",
    "ax.axes.set_title(\"The max size of ownership \",fontsize=20)\n",
    "ax.set_xlabel(\"Max size\")\n",
    "ax.set_ylabel(\"Distribute the ownership\")\n",
    "sns.color_palette(\"Set2\")\n",
    "ax.tick_params(labelsize=20)"
   ]
  },
  {
   "cell_type": "markdown",
   "metadata": {
    "papermill": {
     "duration": 0.081194,
     "end_time": "2021-09-03T21:36:31.666293",
     "exception": false,
     "start_time": "2021-09-03T21:36:31.585099",
     "status": "completed"
    },
    "tags": []
   },
   "source": [
    "**This figure shows that the Hospital has the highest amount of the max size(alomost 3500),then Business segment is the seecond with almost 3400 numbers and lowest is self employed which has the lowest max size of the compamy with less than 10.**"
   ]
  },
  {
   "cell_type": "code",
   "execution_count": 41,
   "metadata": {
    "execution": {
     "iopub.execute_input": "2021-09-03T21:36:31.839438Z",
     "iopub.status.busy": "2021-09-03T21:36:31.836979Z",
     "iopub.status.idle": "2021-09-03T21:36:32.927226Z",
     "shell.execute_reply": "2021-09-03T21:36:32.926641Z",
     "shell.execute_reply.started": "2021-09-03T19:37:04.441565Z"
    },
    "papermill": {
     "duration": 1.179976,
     "end_time": "2021-09-03T21:36:32.927388",
     "exception": false,
     "start_time": "2021-09-03T21:36:31.747412",
     "status": "completed"
    },
    "tags": []
   },
   "outputs": [
    {
     "data": {
      "image/png": "[encoded data removed]",
      "text/plain": [
       "<Figure size 1152x648 with 1 Axes>"
      ]
     },
     "metadata": {
      "needs_background": "light"
     },
     "output_type": "display_data"
    }
   ],
   "source": [
    "plt.figure(figsize=(16,9))\n",
    "sns.set_palette(sns.color_palette(\"Paired\"))\n",
    "ax = sns.barplot(x='Min_size', y='Sector', data=df, orient='h')\n",
    "ax.axes.set_title(\"The max size of sectors \",fontsize=20)\n",
    "ax.set_xlabel(\"Min size\")\n",
    "ax.set_ylabel(\"Distribute the sectors\")\n",
    "sns.color_palette(\"Set2\")\n",
    "ax.tick_params(labelsize=10)"
   ]
  },
  {
   "cell_type": "markdown",
   "metadata": {
    "papermill": {
     "duration": 0.084448,
     "end_time": "2021-09-03T21:36:33.097213",
     "exception": false,
     "start_time": "2021-09-03T21:36:33.012765",
     "status": "completed"
    },
    "tags": []
   },
   "source": [
    "**On the top, we find out the max size for each industry part.As you see, inssurance has the highest amount of the min size and afer this, manufacturing and Biotechnology is the secod and third for the highest amount of minimunm od the size and the lowest min size is for trave and tourism.**"
   ]
  },
  {
   "cell_type": "code",
   "execution_count": 42,
   "metadata": {
    "execution": {
     "iopub.execute_input": "2021-09-03T21:36:33.271439Z",
     "iopub.status.busy": "2021-09-03T21:36:33.270556Z",
     "iopub.status.idle": "2021-09-03T21:36:33.425769Z",
     "shell.execute_reply": "2021-09-03T21:36:33.425136Z",
     "shell.execute_reply.started": "2021-09-03T19:37:05.607200Z"
    },
    "papermill": {
     "duration": 0.246051,
     "end_time": "2021-09-03T21:36:33.425893",
     "exception": false,
     "start_time": "2021-09-03T21:36:33.179842",
     "status": "completed"
    },
    "tags": []
   },
   "outputs": [
    {
     "data": {
      "image/png": "[encoded data removed]",
      "text/plain": [
       "<Figure size 720x360 with 1 Axes>"
      ]
     },
     "metadata": {
      "needs_background": "light"
     },
     "output_type": "display_data"
    },
    {
     "data": {
      "text/plain": [
       "<Figure size 720x360 with 0 Axes>"
      ]
     },
     "metadata": {},
     "output_type": "display_data"
    }
   ],
   "source": [
    "sns.violinplot(x='Easy_Apply',y='Estimated_max_salary',data=df, color='yellow')\n",
    "plt.figure('Find out the easy apply with the estimated max salary ')\n",
    "plt.show()"
   ]
  },
  {
   "cell_type": "markdown",
   "metadata": {
    "papermill": {
     "duration": 0.084098,
     "end_time": "2021-09-03T21:36:33.594921",
     "exception": false,
     "start_time": "2021-09-03T21:36:33.510823",
     "status": "completed"
    },
    "tags": []
   },
   "source": [
    "**As you see,for easy apply we have 2 options, true or false and it shows that for non easy apply the estimated max salary is between 55k to 110k but easy apply is over 130k.**"
   ]
  },
  {
   "cell_type": "code",
   "execution_count": 43,
   "metadata": {
    "execution": {
     "iopub.execute_input": "2021-09-03T21:36:33.774720Z",
     "iopub.status.busy": "2021-09-03T21:36:33.771503Z",
     "iopub.status.idle": "2021-09-03T21:36:34.422241Z",
     "shell.execute_reply": "2021-09-03T21:36:34.421590Z",
     "shell.execute_reply.started": "2021-09-03T19:37:05.760776Z"
    },
    "papermill": {
     "duration": 0.742713,
     "end_time": "2021-09-03T21:36:34.422409",
     "exception": false,
     "start_time": "2021-09-03T21:36:33.679696",
     "status": "completed"
    },
    "tags": []
   },
   "outputs": [
    {
     "data": {
      "image/png": "[encoded data removed]",
      "text/plain": [
       "<Figure size 720x360 with 1 Axes>"
      ]
     },
     "metadata": {
      "needs_background": "light"
     },
     "output_type": "display_data"
    }
   ],
   "source": [
    "sns.boxplot(x='Rating',y='Revenue',data=df)\n",
    "plt.title=('compare the ratings with the annual revenue of the companies')\n",
    "plt.show()"
   ]
  },
  {
   "cell_type": "markdown",
   "metadata": {
    "papermill": {
     "duration": 0.085997,
     "end_time": "2021-09-03T21:36:34.595045",
     "exception": false,
     "start_time": "2021-09-03T21:36:34.509048",
     "status": "completed"
    },
    "tags": []
   },
   "source": [
    "* We use the boxplot for from which rating to we get the most revenue for companies and it shows that from rating -1 to almost 4 non_aalicable has the highest portion.\n",
    "* After this, from rating 3.5 to 5, the revenue is almost between 50 to 100 million $."
   ]
  },
  {
   "cell_type": "code",
   "execution_count": 44,
   "metadata": {
    "execution": {
     "iopub.execute_input": "2021-09-03T21:36:34.774401Z",
     "iopub.status.busy": "2021-09-03T21:36:34.773299Z",
     "iopub.status.idle": "2021-09-03T21:36:35.032338Z",
     "shell.execute_reply": "2021-09-03T21:36:35.032875Z",
     "shell.execute_reply.started": "2021-09-03T19:37:06.215360Z"
    },
    "papermill": {
     "duration": 0.349684,
     "end_time": "2021-09-03T21:36:35.033058",
     "exception": false,
     "start_time": "2021-09-03T21:36:34.683374",
     "status": "completed"
    },
    "tags": []
   },
   "outputs": [
    {
     "data": {
      "image/png": "[encoded data removed]",
      "text/plain": [
       "<Figure size 720x360 with 1 Axes>"
      ]
     },
     "metadata": {
      "needs_background": "light"
     },
     "output_type": "display_data"
    }
   ],
   "source": [
    "sns.scatterplot(x='Founded\\t',y='Sector',data=df,color='pink')\n",
    "plt.xlabel('which years the Sectors were founded')\n",
    "plt.ylabel('Distribute the sectors')\n",
    "plt.xticks(rotation=50)\n",
    "plt.show()"
   ]
  },
  {
   "cell_type": "markdown",
   "metadata": {
    "papermill": {
     "duration": 0.087954,
     "end_time": "2021-09-03T21:36:35.210006",
     "exception": false,
     "start_time": "2021-09-03T21:36:35.122052",
     "status": "completed"
    },
    "tags": []
   },
   "source": [
    "> We distribute the sectors with their years which founded and as you see, most of the sectors were founded between 1950 to 2018 and only Finance(1700) and education(before 1700) were founded."
   ]
  },
  {
   "cell_type": "code",
   "execution_count": 45,
   "metadata": {
    "execution": {
     "iopub.execute_input": "2021-09-03T21:36:35.390159Z",
     "iopub.status.busy": "2021-09-03T21:36:35.389115Z",
     "iopub.status.idle": "2021-09-03T21:36:36.754104Z",
     "shell.execute_reply": "2021-09-03T21:36:36.754738Z",
     "shell.execute_reply.started": "2021-09-03T19:37:06.481693Z"
    },
    "papermill": {
     "duration": 1.457002,
     "end_time": "2021-09-03T21:36:36.754934",
     "exception": false,
     "start_time": "2021-09-03T21:36:35.297932",
     "status": "completed"
    },
    "tags": []
   },
   "outputs": [
    {
     "data": {
      "image/png": "[encoded data removed]",
      "text/plain": [
       "<Figure size 1440x1080 with 1 Axes>"
      ]
     },
     "metadata": {
      "needs_background": "light"
     },
     "output_type": "display_data"
    }
   ],
   "source": [
    "df.sort_values(by='Estimated_max_salary',ascending=False)\n",
    "\n",
    "\n",
    "plt.figure(figsize=(20,15))\n",
    "sns.barplot(x='Sector',y='Estimated_max_salary',data=df,palette=\"rocket_r\")\n",
    "plt.xlabel('Kind of sector')\n",
    "plt.ylabel('range of Estimated max salary')\n",
    "plt.xticks(rotation=60)\n",
    "plt.show()"
   ]
  },
  {
   "cell_type": "markdown",
   "metadata": {
    "papermill": {
     "duration": 0.090428,
     "end_time": "2021-09-03T21:36:36.936396",
     "exception": false,
     "start_time": "2021-09-03T21:36:36.845968",
     "status": "completed"
    },
    "tags": []
   },
   "source": [
    "*This graph shows that the Estimated max salary with tall sectors.This graph shows that the sectors like Entertainment and art,Real state and Biotech has the higehst estimated max salary which is about 100000 Dollor and Restaurants and bars has the highest max salary which is about 65000 Dollor.*"
   ]
  },
  {
   "cell_type": "code",
   "execution_count": 46,
   "metadata": {
    "execution": {
     "iopub.execute_input": "2021-09-03T21:36:37.120737Z",
     "iopub.status.busy": "2021-09-03T21:36:37.119721Z",
     "iopub.status.idle": "2021-09-03T21:36:39.907570Z",
     "shell.execute_reply": "2021-09-03T21:36:39.906891Z",
     "shell.execute_reply.started": "2021-09-03T19:37:07.716560Z"
    },
    "papermill": {
     "duration": 2.881102,
     "end_time": "2021-09-03T21:36:39.907694",
     "exception": false,
     "start_time": "2021-09-03T21:36:37.026592",
     "status": "completed"
    },
    "tags": []
   },
   "outputs": [
    {
     "data": {
      "image/png": "[encoded data removed]",
      "text/plain": [
       "<Figure size 432x432 with 3 Axes>"
      ]
     },
     "metadata": {
      "needs_background": "light"
     },
     "output_type": "display_data"
    },
    {
     "data": {
      "text/plain": [
       "<Figure size 720x432 with 0 Axes>"
      ]
     },
     "metadata": {},
     "output_type": "display_data"
    }
   ],
   "source": [
    "sns.jointplot(x='Estimated_max_salary',y='Rating',data=df, color='pink',kind='kde')\n",
    "plt.xlabel('Estimated max salary')\n",
    "plt.ylabel('Rating')\n",
    "plt.xticks(rotation=50)\n",
    "plt.figure(figsize=(10,6))\n",
    "plt.show()"
   ]
  },
  {
   "cell_type": "markdown",
   "metadata": {
    "papermill": {
     "duration": 0.092118,
     "end_time": "2021-09-03T21:36:40.090059",
     "exception": false,
     "start_time": "2021-09-03T21:36:39.997941",
     "status": "completed"
    },
    "tags": []
   },
   "source": [
    "*On the top, we want to find put the distribuation of the rating with estimated max salary and as you see, the salary between 75 to 100 has the highest rating between 3.5 to 4.5*"
   ]
  },
  {
   "cell_type": "code",
   "execution_count": 47,
   "metadata": {
    "execution": {
     "iopub.execute_input": "2021-09-03T21:36:40.310273Z",
     "iopub.status.busy": "2021-09-03T21:36:40.309510Z",
     "iopub.status.idle": "2021-09-03T21:36:40.540763Z",
     "shell.execute_reply": "2021-09-03T21:36:40.541271Z",
     "shell.execute_reply.started": "2021-09-03T19:37:10.808891Z"
    },
    "papermill": {
     "duration": 0.339502,
     "end_time": "2021-09-03T21:36:40.541458",
     "exception": false,
     "start_time": "2021-09-03T21:36:40.201956",
     "status": "completed"
    },
    "tags": []
   },
   "outputs": [
    {
     "data": {
      "image/png": "[encoded data removed]",
      "text/plain": [
       "<Figure size 720x360 with 1 Axes>"
      ]
     },
     "metadata": {
      "needs_background": "light"
     },
     "output_type": "display_data"
    }
   ],
   "source": [
    "# It shows that most of the companies and sectors and industries were founded betweem years 1980 to 2019\n",
    "df['Founded\\t'].hist(bins=30)\n",
    "plt.xlabel('Founded of the companies')\n",
    "plt.ylabel('count')\n",
    "plt.show()"
   ]
  },
  {
   "cell_type": "code",
   "execution_count": 48,
   "metadata": {
    "execution": {
     "iopub.execute_input": "2021-09-03T21:36:40.729083Z",
     "iopub.status.busy": "2021-09-03T21:36:40.728441Z",
     "iopub.status.idle": "2021-09-03T21:36:40.927051Z",
     "shell.execute_reply": "2021-09-03T21:36:40.927564Z",
     "shell.execute_reply.started": "2021-09-03T19:37:11.047761Z"
    },
    "papermill": {
     "duration": 0.294325,
     "end_time": "2021-09-03T21:36:40.927752",
     "exception": false,
     "start_time": "2021-09-03T21:36:40.633427",
     "status": "completed"
    },
    "tags": []
   },
   "outputs": [
    {
     "data": {
      "image/png": "[encoded data removed]",
      "text/plain": [
       "<Figure size 360x360 with 1 Axes>"
      ]
     },
     "metadata": {
      "needs_background": "light"
     },
     "output_type": "display_data"
    },
    {
     "data": {
      "text/plain": [
       "<Figure size 720x432 with 0 Axes>"
      ]
     },
     "metadata": {},
     "output_type": "display_data"
    }
   ],
   "source": [
    "sns.catplot(x='Easy_Apply',y='Estimated_max_salary',data=df,kind='box')\n",
    "plt.figure(figsize=(10,6))\n",
    "plt.show()"
   ]
  },
  {
   "cell_type": "markdown",
   "metadata": {
    "papermill": {
     "duration": 0.096148,
     "end_time": "2021-09-03T21:36:41.119283",
     "exception": false,
     "start_time": "2021-09-03T21:36:41.023135",
     "status": "completed"
    },
    "tags": []
   },
   "source": [
    "*We use catplot and we compare the Easy apply and estimated max salary.As you see, we have true and false for easy apply and the estimated max salary for easy apply is from 80 to 110 and it is more than non easy apply* "
   ]
  },
  {
   "cell_type": "code",
   "execution_count": 49,
   "metadata": {
    "execution": {
     "iopub.execute_input": "2021-09-03T21:36:41.313719Z",
     "iopub.status.busy": "2021-09-03T21:36:41.312610Z",
     "iopub.status.idle": "2021-09-03T21:36:41.553909Z",
     "shell.execute_reply": "2021-09-03T21:36:41.554459Z",
     "shell.execute_reply.started": "2021-09-03T19:37:11.250860Z"
    },
    "papermill": {
     "duration": 0.340484,
     "end_time": "2021-09-03T21:36:41.554626",
     "exception": false,
     "start_time": "2021-09-03T21:36:41.214142",
     "status": "completed"
    },
    "tags": []
   },
   "outputs": [
    {
     "data": {
      "image/png": "[encoded data removed]",
      "text/plain": [
       "<Figure size 720x360 with 1 Axes>"
      ]
     },
     "metadata": {},
     "output_type": "display_data"
    }
   ],
   "source": [
    "pm = df[['Estimated_max_salary', 'Sector']].groupby(['Sector']).agg([sum])\n",
    "\n",
    "sns.set_palette('Spectral')\n",
    "plt.figure(figsize=(10,5))\n",
    "plt.pie(pm['Estimated_max_salary']['sum'], labels = pm.index, explode = (0, 1.5, 0, 1.3, 1, 0, 0, 0.5, 0, 1.5, 0, 1.3, 1, 0, 0,1.5, 0, 0.5, 0, 1.3, 1, 0, 0, 1.5,0.5 ), \n",
    "        shadow = True, autopct = '%1.1f%%')\n",
    "plt.show()"
   ]
  },
  {
   "cell_type": "markdown",
   "metadata": {
    "papermill": {
     "duration": 0.104244,
     "end_time": "2021-09-03T21:36:41.779918",
     "exception": false,
     "start_time": "2021-09-03T21:36:41.675674",
     "status": "completed"
    },
    "tags": []
   },
   "source": [
    "*On the top, we we distribute the sectors with percent of the portion for each of them and it shows that the highest one is IT sector which has 26.1% and then Business service has 23.4%*"
   ]
  },
  {
   "cell_type": "code",
   "execution_count": 50,
   "metadata": {
    "execution": {
     "iopub.execute_input": "2021-09-03T21:36:42.001378Z",
     "iopub.status.busy": "2021-09-03T21:36:42.000614Z",
     "iopub.status.idle": "2021-09-03T21:36:42.031086Z",
     "shell.execute_reply": "2021-09-03T21:36:42.030434Z",
     "shell.execute_reply.started": "2021-09-03T19:37:11.504308Z"
    },
    "papermill": {
     "duration": 0.139254,
     "end_time": "2021-09-03T21:36:42.031236",
     "exception": false,
     "start_time": "2021-09-03T21:36:41.891982",
     "status": "completed"
    },
    "tags": []
   },
   "outputs": [
    {
     "data": {
      "text/html": [
       "<div>\n",
       "<style scoped>\n",
       "    .dataframe tbody tr th:only-of-type {\n",
       "        vertical-align: middle;\n",
       "    }\n",
       "\n",
       "    .dataframe tbody tr th {\n",
       "        vertical-align: top;\n",
       "    }\n",
       "\n",
       "    .dataframe thead th {\n",
       "        text-align: right;\n",
       "    }\n",
       "</style>\n",
       "<table border=\"1\" class=\"dataframe\">\n",
       "  <thead>\n",
       "    <tr style=\"text-align: right;\">\n",
       "      <th></th>\n",
       "      <th>Job</th>\n",
       "      <th>Estimated_min_salary</th>\n",
       "      <th>Estimated_max_salary</th>\n",
       "      <th>Location</th>\n",
       "      <th>Headquarters</th>\n",
       "      <th>Rating</th>\n",
       "      <th>Founded\\t</th>\n",
       "      <th>ownership\\t</th>\n",
       "      <th>Min_size</th>\n",
       "      <th>Max_size</th>\n",
       "      <th>Industry</th>\n",
       "      <th>Sector</th>\n",
       "      <th>Revenue</th>\n",
       "      <th>Competitors\\t</th>\n",
       "      <th>Easy_Apply</th>\n",
       "    </tr>\n",
       "  </thead>\n",
       "  <tbody>\n",
       "    <tr>\n",
       "      <th>1849</th>\n",
       "      <td>Mid Data Analyst</td>\n",
       "      <td>57</td>\n",
       "      <td>104</td>\n",
       "      <td>San Francisco, CA</td>\n",
       "      <td>San Francisco, CA</td>\n",
       "      <td>4.8</td>\n",
       "      <td>2014</td>\n",
       "      <td>Company - Private</td>\n",
       "      <td>1.0</td>\n",
       "      <td>50.0</td>\n",
       "      <td>Advertising &amp; Marketing</td>\n",
       "      <td>Business Services</td>\n",
       "      <td>$10 to $25 million (USD)</td>\n",
       "      <td>Unknown</td>\n",
       "      <td>False</td>\n",
       "    </tr>\n",
       "    <tr>\n",
       "      <th>359</th>\n",
       "      <td>Data Analyst</td>\n",
       "      <td>77</td>\n",
       "      <td>132</td>\n",
       "      <td>Jersey City, NJ</td>\n",
       "      <td>Tokyo, Japan</td>\n",
       "      <td>3.4</td>\n",
       "      <td>1996</td>\n",
       "      <td>Company - Public</td>\n",
       "      <td>1100.0</td>\n",
       "      <td>1500.0</td>\n",
       "      <td>Investment Banking &amp; Asset Management</td>\n",
       "      <td>Finance</td>\n",
       "      <td>$10+ billion (USD)</td>\n",
       "      <td>Bank Of Tokyo-Mitsubishi UFJ, Mizuho Financial...</td>\n",
       "      <td>False</td>\n",
       "    </tr>\n",
       "    <tr>\n",
       "      <th>1617</th>\n",
       "      <td>Lead Geophysical Data Analyst</td>\n",
       "      <td>42</td>\n",
       "      <td>76</td>\n",
       "      <td>Austin, TX</td>\n",
       "      <td>Nicosia, Cyprus</td>\n",
       "      <td>3.8</td>\n",
       "      <td>1998</td>\n",
       "      <td>Company - Private</td>\n",
       "      <td>1001.0</td>\n",
       "      <td>5000.0</td>\n",
       "      <td>Video Games</td>\n",
       "      <td>Media</td>\n",
       "      <td>Non-Applicable</td>\n",
       "      <td>Unknown</td>\n",
       "      <td>True</td>\n",
       "    </tr>\n",
       "    <tr>\n",
       "      <th>307</th>\n",
       "      <td>Data Analyst</td>\n",
       "      <td>42</td>\n",
       "      <td>74</td>\n",
       "      <td>New York, NY</td>\n",
       "      <td>Northville, MI</td>\n",
       "      <td>4.0</td>\n",
       "      <td>2004</td>\n",
       "      <td>Company - Private</td>\n",
       "      <td>501.0</td>\n",
       "      <td>1000.0</td>\n",
       "      <td>IT Services</td>\n",
       "      <td>Information Technology</td>\n",
       "      <td>$50 to $100 million (USD)</td>\n",
       "      <td>Unknown</td>\n",
       "      <td>False</td>\n",
       "    </tr>\n",
       "    <tr>\n",
       "      <th>68</th>\n",
       "      <td>Data Analyst</td>\n",
       "      <td>51</td>\n",
       "      <td>88</td>\n",
       "      <td>New York, NY</td>\n",
       "      <td>South Plainfield, NJ</td>\n",
       "      <td>3.7</td>\n",
       "      <td>1999</td>\n",
       "      <td>Company - Private</td>\n",
       "      <td>51.0</td>\n",
       "      <td>200.0</td>\n",
       "      <td>Staffing &amp; Outsourcing</td>\n",
       "      <td>Business Services</td>\n",
       "      <td>$50 to $100 million (USD)</td>\n",
       "      <td>Artech Information Systems, Mindlance, Tech Ma...</td>\n",
       "      <td>False</td>\n",
       "    </tr>\n",
       "  </tbody>\n",
       "</table>\n",
       "</div>"
      ],
      "text/plain": [
       "                                Job  Estimated_min_salary  \\\n",
       "1849               Mid Data Analyst                    57   \n",
       "359                    Data Analyst                    77   \n",
       "1617  Lead Geophysical Data Analyst                    42   \n",
       "307                    Data Analyst                    42   \n",
       "68                     Data Analyst                    51   \n",
       "\n",
       "      Estimated_max_salary           Location          Headquarters  Rating  \\\n",
       "1849                   104  San Francisco, CA     San Francisco, CA     4.8   \n",
       "359                    132    Jersey City, NJ          Tokyo, Japan     3.4   \n",
       "1617                    76         Austin, TX       Nicosia, Cyprus     3.8   \n",
       "307                     74       New York, NY        Northville, MI     4.0   \n",
       "68                      88       New York, NY  South Plainfield, NJ     3.7   \n",
       "\n",
       "      Founded\\t        ownership\\t  Min_size  Max_size  \\\n",
       "1849       2014  Company - Private       1.0      50.0   \n",
       "359        1996   Company - Public    1100.0    1500.0   \n",
       "1617       1998  Company - Private    1001.0    5000.0   \n",
       "307        2004  Company - Private     501.0    1000.0   \n",
       "68         1999  Company - Private      51.0     200.0   \n",
       "\n",
       "                                   Industry                  Sector  \\\n",
       "1849                Advertising & Marketing       Business Services   \n",
       "359   Investment Banking & Asset Management                 Finance   \n",
       "1617                            Video Games                   Media   \n",
       "307                             IT Services  Information Technology   \n",
       "68                   Staffing & Outsourcing       Business Services   \n",
       "\n",
       "                        Revenue  \\\n",
       "1849   $10 to $25 million (USD)   \n",
       "359          $10+ billion (USD)   \n",
       "1617             Non-Applicable   \n",
       "307   $50 to $100 million (USD)   \n",
       "68    $50 to $100 million (USD)   \n",
       "\n",
       "                                          Competitors\\t  Easy_Apply  \n",
       "1849                                            Unknown       False  \n",
       "359   Bank Of Tokyo-Mitsubishi UFJ, Mizuho Financial...       False  \n",
       "1617                                            Unknown        True  \n",
       "307                                             Unknown       False  \n",
       "68    Artech Information Systems, Mindlance, Tech Ma...       False  "
      ]
     },
     "execution_count": 50,
     "metadata": {},
     "output_type": "execute_result"
    }
   ],
   "source": [
    "df.sample(5)"
   ]
  },
  {
   "cell_type": "code",
   "execution_count": 51,
   "metadata": {
    "execution": {
     "iopub.execute_input": "2021-09-03T21:36:42.238446Z",
     "iopub.status.busy": "2021-09-03T21:36:42.237382Z",
     "iopub.status.idle": "2021-09-03T21:36:42.629210Z",
     "shell.execute_reply": "2021-09-03T21:36:42.628562Z",
     "shell.execute_reply.started": "2021-09-03T19:37:11.532572Z"
    },
    "papermill": {
     "duration": 0.496067,
     "end_time": "2021-09-03T21:36:42.629392",
     "exception": false,
     "start_time": "2021-09-03T21:36:42.133325",
     "status": "completed"
    },
    "tags": []
   },
   "outputs": [],
   "source": [
    "# preprocessing\n",
    "from  sklearn.preprocessing import scale\n",
    "from sklearn.pipeline import Pipeline\n",
    "from sklearn.model_selection import train_test_split\n",
    "\n",
    "#classifier \n",
    "from sklearn.tree import DecisionTreeClassifier\n",
    "from sklearn.svm import SVC\n",
    "from sklearn.ensemble import RandomForestClassifier,GradientBoostingClassifier\n",
    "from sklearn.linear_model import LogisticRegression\n",
    "from sklearn.neural_network import MLPClassifier\n",
    "from sklearn.neighbors import KNeighborsClassifier\n",
    "\n",
    "# Performance metrics \n",
    "from sklearn import preprocessing \n",
    "from sklearn import metrics\n",
    "from sklearn.metrics import accuracy_score\n",
    "from sklearn.metrics import classification_report, confusion_matrix\n",
    "from sklearn.model_selection import cross_val_score"
   ]
  },
  {
   "cell_type": "code",
   "execution_count": 52,
   "metadata": {
    "execution": {
     "iopub.execute_input": "2021-09-03T21:36:42.841009Z",
     "iopub.status.busy": "2021-09-03T21:36:42.840271Z",
     "iopub.status.idle": "2021-09-03T21:36:42.851304Z",
     "shell.execute_reply": "2021-09-03T21:36:42.850766Z",
     "shell.execute_reply.started": "2021-09-03T19:37:11.548444Z"
    },
    "papermill": {
     "duration": 0.123037,
     "end_time": "2021-09-03T21:36:42.851468",
     "exception": false,
     "start_time": "2021-09-03T21:36:42.728431",
     "status": "completed"
    },
    "tags": []
   },
   "outputs": [
    {
     "data": {
      "text/html": [
       "<div>\n",
       "<style scoped>\n",
       "    .dataframe tbody tr th:only-of-type {\n",
       "        vertical-align: middle;\n",
       "    }\n",
       "\n",
       "    .dataframe tbody tr th {\n",
       "        vertical-align: top;\n",
       "    }\n",
       "\n",
       "    .dataframe thead th {\n",
       "        text-align: right;\n",
       "    }\n",
       "</style>\n",
       "<table border=\"1\" class=\"dataframe\">\n",
       "  <thead>\n",
       "    <tr style=\"text-align: right;\">\n",
       "      <th></th>\n",
       "      <th>Job</th>\n",
       "      <th>Estimated_min_salary</th>\n",
       "      <th>Estimated_max_salary</th>\n",
       "      <th>Location</th>\n",
       "      <th>Headquarters</th>\n",
       "      <th>Rating</th>\n",
       "      <th>Min_size</th>\n",
       "      <th>Max_size</th>\n",
       "      <th>Industry</th>\n",
       "      <th>Sector</th>\n",
       "      <th>Revenue</th>\n",
       "      <th>Easy_Apply</th>\n",
       "    </tr>\n",
       "  </thead>\n",
       "  <tbody>\n",
       "    <tr>\n",
       "      <th>0</th>\n",
       "      <td>Data Analyst</td>\n",
       "      <td>37</td>\n",
       "      <td>66</td>\n",
       "      <td>New York, NY</td>\n",
       "      <td>New York, NY</td>\n",
       "      <td>3.2</td>\n",
       "      <td>201.0</td>\n",
       "      <td>500.0</td>\n",
       "      <td>Social Assistance</td>\n",
       "      <td>Non-Profit</td>\n",
       "      <td>$100 to $500 million (USD)</td>\n",
       "      <td>True</td>\n",
       "    </tr>\n",
       "    <tr>\n",
       "      <th>1</th>\n",
       "      <td>Quality Data Analyst</td>\n",
       "      <td>37</td>\n",
       "      <td>66</td>\n",
       "      <td>New York, NY</td>\n",
       "      <td>New York, NY</td>\n",
       "      <td>3.8</td>\n",
       "      <td>1100.0</td>\n",
       "      <td>1500.0</td>\n",
       "      <td>Health Care Services &amp; Hospitals</td>\n",
       "      <td>Health Care</td>\n",
       "      <td>$2 to $5 billion (USD)</td>\n",
       "      <td>False</td>\n",
       "    </tr>\n",
       "    <tr>\n",
       "      <th>2</th>\n",
       "      <td>Sr Data Analyst</td>\n",
       "      <td>37</td>\n",
       "      <td>66</td>\n",
       "      <td>New York, NY</td>\n",
       "      <td>New York, NY</td>\n",
       "      <td>3.4</td>\n",
       "      <td>1001.0</td>\n",
       "      <td>5000.0</td>\n",
       "      <td>Internet</td>\n",
       "      <td>Information Technology</td>\n",
       "      <td>Non-Applicable</td>\n",
       "      <td>False</td>\n",
       "    </tr>\n",
       "    <tr>\n",
       "      <th>3</th>\n",
       "      <td>Data Analyst</td>\n",
       "      <td>37</td>\n",
       "      <td>66</td>\n",
       "      <td>New York, NY</td>\n",
       "      <td>McLean, VA</td>\n",
       "      <td>4.1</td>\n",
       "      <td>201.0</td>\n",
       "      <td>500.0</td>\n",
       "      <td>IT Services</td>\n",
       "      <td>Information Technology</td>\n",
       "      <td>$50 to $100 million (USD)</td>\n",
       "      <td>False</td>\n",
       "    </tr>\n",
       "  </tbody>\n",
       "</table>\n",
       "</div>"
      ],
      "text/plain": [
       "                    Job  Estimated_min_salary  Estimated_max_salary  \\\n",
       "0          Data Analyst                    37                    66   \n",
       "1  Quality Data Analyst                    37                    66   \n",
       "2       Sr Data Analyst                    37                    66   \n",
       "3          Data Analyst                    37                    66   \n",
       "\n",
       "       Location  Headquarters  Rating  Min_size  Max_size  \\\n",
       "0  New York, NY  New York, NY     3.2     201.0     500.0   \n",
       "1  New York, NY  New York, NY     3.8    1100.0    1500.0   \n",
       "2  New York, NY  New York, NY     3.4    1001.0    5000.0   \n",
       "3  New York, NY    McLean, VA     4.1     201.0     500.0   \n",
       "\n",
       "                           Industry                  Sector  \\\n",
       "0                 Social Assistance              Non-Profit   \n",
       "1  Health Care Services & Hospitals             Health Care   \n",
       "2                          Internet  Information Technology   \n",
       "3                       IT Services  Information Technology   \n",
       "\n",
       "                      Revenue  Easy_Apply  \n",
       "0  $100 to $500 million (USD)        True  \n",
       "1      $2 to $5 billion (USD)       False  \n",
       "2              Non-Applicable       False  \n",
       "3   $50 to $100 million (USD)       False  "
      ]
     },
     "execution_count": 52,
     "metadata": {},
     "output_type": "execute_result"
    }
   ],
   "source": [
    "df.drop(columns=['ownership\\t','Founded\\t','Competitors\\t'],inplace=True)\n",
    "df.head(4)"
   ]
  },
  {
   "cell_type": "code",
   "execution_count": 53,
   "metadata": {
    "execution": {
     "iopub.execute_input": "2021-09-03T21:36:43.054865Z",
     "iopub.status.busy": "2021-09-03T21:36:43.054099Z",
     "iopub.status.idle": "2021-09-03T21:36:43.083295Z",
     "shell.execute_reply": "2021-09-03T21:36:43.083902Z",
     "shell.execute_reply.started": "2021-09-03T19:39:12.248215Z"
    },
    "papermill": {
     "duration": 0.132291,
     "end_time": "2021-09-03T21:36:43.084078",
     "exception": false,
     "start_time": "2021-09-03T21:36:42.951787",
     "status": "completed"
    },
    "tags": []
   },
   "outputs": [
    {
     "data": {
      "text/html": [
       "<div>\n",
       "<style scoped>\n",
       "    .dataframe tbody tr th:only-of-type {\n",
       "        vertical-align: middle;\n",
       "    }\n",
       "\n",
       "    .dataframe tbody tr th {\n",
       "        vertical-align: top;\n",
       "    }\n",
       "\n",
       "    .dataframe thead th {\n",
       "        text-align: right;\n",
       "    }\n",
       "</style>\n",
       "<table border=\"1\" class=\"dataframe\">\n",
       "  <thead>\n",
       "    <tr style=\"text-align: right;\">\n",
       "      <th></th>\n",
       "      <th>Job</th>\n",
       "      <th>Estimated_min_salary</th>\n",
       "      <th>Estimated_max_salary</th>\n",
       "      <th>Location</th>\n",
       "      <th>Headquarters</th>\n",
       "      <th>Rating</th>\n",
       "      <th>Min_size</th>\n",
       "      <th>Max_size</th>\n",
       "      <th>Industry</th>\n",
       "      <th>Sector</th>\n",
       "      <th>Revenue</th>\n",
       "      <th>Easy_Apply</th>\n",
       "    </tr>\n",
       "  </thead>\n",
       "  <tbody>\n",
       "    <tr>\n",
       "      <th>1041</th>\n",
       "      <td>67</td>\n",
       "      <td>41</td>\n",
       "      <td>78</td>\n",
       "      <td>22</td>\n",
       "      <td>43</td>\n",
       "      <td>2.3</td>\n",
       "      <td>1001.0</td>\n",
       "      <td>5000.0</td>\n",
       "      <td>8</td>\n",
       "      <td>3</td>\n",
       "      <td>5</td>\n",
       "      <td>0</td>\n",
       "    </tr>\n",
       "    <tr>\n",
       "      <th>1181</th>\n",
       "      <td>26</td>\n",
       "      <td>37</td>\n",
       "      <td>68</td>\n",
       "      <td>196</td>\n",
       "      <td>370</td>\n",
       "      <td>3.4</td>\n",
       "      <td>201.0</td>\n",
       "      <td>500.0</td>\n",
       "      <td>6</td>\n",
       "      <td>8</td>\n",
       "      <td>1</td>\n",
       "      <td>0</td>\n",
       "    </tr>\n",
       "    <tr>\n",
       "      <th>149</th>\n",
       "      <td>74</td>\n",
       "      <td>43</td>\n",
       "      <td>76</td>\n",
       "      <td>154</td>\n",
       "      <td>291</td>\n",
       "      <td>3.6</td>\n",
       "      <td>51.0</td>\n",
       "      <td>200.0</td>\n",
       "      <td>42</td>\n",
       "      <td>10</td>\n",
       "      <td>0</td>\n",
       "      <td>0</td>\n",
       "    </tr>\n",
       "    <tr>\n",
       "      <th>77</th>\n",
       "      <td>15</td>\n",
       "      <td>51</td>\n",
       "      <td>88</td>\n",
       "      <td>154</td>\n",
       "      <td>86</td>\n",
       "      <td>4.0</td>\n",
       "      <td>1.0</td>\n",
       "      <td>50.0</td>\n",
       "      <td>74</td>\n",
       "      <td>4</td>\n",
       "      <td>2</td>\n",
       "      <td>0</td>\n",
       "    </tr>\n",
       "    <tr>\n",
       "      <th>1748</th>\n",
       "      <td>55</td>\n",
       "      <td>50</td>\n",
       "      <td>86</td>\n",
       "      <td>44</td>\n",
       "      <td>84</td>\n",
       "      <td>3.8</td>\n",
       "      <td>1001.0</td>\n",
       "      <td>5000.0</td>\n",
       "      <td>50</td>\n",
       "      <td>12</td>\n",
       "      <td>0</td>\n",
       "      <td>0</td>\n",
       "    </tr>\n",
       "  </tbody>\n",
       "</table>\n",
       "</div>"
      ],
      "text/plain": [
       "      Job  Estimated_min_salary  Estimated_max_salary  Location  Headquarters  \\\n",
       "1041   67                    41                    78        22            43   \n",
       "1181   26                    37                    68       196           370   \n",
       "149    74                    43                    76       154           291   \n",
       "77     15                    51                    88       154            86   \n",
       "1748   55                    50                    86        44            84   \n",
       "\n",
       "      Rating  Min_size  Max_size  Industry  Sector  Revenue  Easy_Apply  \n",
       "1041     2.3    1001.0    5000.0         8       3        5           0  \n",
       "1181     3.4     201.0     500.0         6       8        1           0  \n",
       "149      3.6      51.0     200.0        42      10        0           0  \n",
       "77       4.0       1.0      50.0        74       4        2           0  \n",
       "1748     3.8    1001.0    5000.0        50      12        0           0  "
      ]
     },
     "execution_count": 53,
     "metadata": {},
     "output_type": "execute_result"
    }
   ],
   "source": [
    "le=preprocessing.LabelEncoder()\n",
    "df.Job=le.fit_transform(df.Job)\n",
    "df.Location=le.fit_transform(df.Location)\n",
    "df.Headquarters=le.fit_transform(df.Headquarters)\n",
    "df.Industry=le.fit_transform(df.Industry)\n",
    "df.Sector=le.fit_transform(df.Sector)\n",
    "df.Revenue=le.fit_transform(df.Revenue)\n",
    "df.Revenue=le.fit_transform(df.Revenue)\n",
    "df.Easy_Apply=le.fit_transform(df.Easy_Apply)\n",
    "df.sample(5)"
   ]
  },
  {
   "cell_type": "code",
   "execution_count": 54,
   "metadata": {
    "execution": {
     "iopub.execute_input": "2021-09-03T21:36:43.289138Z",
     "iopub.status.busy": "2021-09-03T21:36:43.288432Z",
     "iopub.status.idle": "2021-09-03T21:36:43.293856Z",
     "shell.execute_reply": "2021-09-03T21:36:43.294419Z",
     "shell.execute_reply.started": "2021-09-03T20:26:04.280305Z"
    },
    "papermill": {
     "duration": 0.109624,
     "end_time": "2021-09-03T21:36:43.294601",
     "exception": false,
     "start_time": "2021-09-03T21:36:43.184977",
     "status": "completed"
    },
    "tags": []
   },
   "outputs": [],
   "source": [
    "x=df.drop(['Estimated_min_salary','Estimated_max_salary','Rating','Min_size','Max_size','Easy_Apply'],axis=1)\n",
    "y=df['Easy_Apply'].values"
   ]
  },
  {
   "cell_type": "code",
   "execution_count": 55,
   "metadata": {
    "execution": {
     "iopub.execute_input": "2021-09-03T21:36:43.497536Z",
     "iopub.status.busy": "2021-09-03T21:36:43.496813Z",
     "iopub.status.idle": "2021-09-03T21:36:43.506972Z",
     "shell.execute_reply": "2021-09-03T21:36:43.507530Z",
     "shell.execute_reply.started": "2021-09-03T20:26:07.934140Z"
    },
    "papermill": {
     "duration": 0.113074,
     "end_time": "2021-09-03T21:36:43.507708",
     "exception": false,
     "start_time": "2021-09-03T21:36:43.394634",
     "status": "completed"
    },
    "tags": []
   },
   "outputs": [
    {
     "data": {
      "text/html": [
       "<div>\n",
       "<style scoped>\n",
       "    .dataframe tbody tr th:only-of-type {\n",
       "        vertical-align: middle;\n",
       "    }\n",
       "\n",
       "    .dataframe tbody tr th {\n",
       "        vertical-align: top;\n",
       "    }\n",
       "\n",
       "    .dataframe thead th {\n",
       "        text-align: right;\n",
       "    }\n",
       "</style>\n",
       "<table border=\"1\" class=\"dataframe\">\n",
       "  <thead>\n",
       "    <tr style=\"text-align: right;\">\n",
       "      <th></th>\n",
       "      <th>Job</th>\n",
       "      <th>Location</th>\n",
       "      <th>Headquarters</th>\n",
       "      <th>Industry</th>\n",
       "      <th>Sector</th>\n",
       "      <th>Revenue</th>\n",
       "    </tr>\n",
       "  </thead>\n",
       "  <tbody>\n",
       "    <tr>\n",
       "      <th>0</th>\n",
       "      <td>15</td>\n",
       "      <td>154</td>\n",
       "      <td>291</td>\n",
       "      <td>71</td>\n",
       "      <td>16</td>\n",
       "      <td>5</td>\n",
       "    </tr>\n",
       "    <tr>\n",
       "      <th>1</th>\n",
       "      <td>57</td>\n",
       "      <td>154</td>\n",
       "      <td>291</td>\n",
       "      <td>42</td>\n",
       "      <td>10</td>\n",
       "      <td>6</td>\n",
       "    </tr>\n",
       "    <tr>\n",
       "      <th>2</th>\n",
       "      <td>67</td>\n",
       "      <td>154</td>\n",
       "      <td>291</td>\n",
       "      <td>51</td>\n",
       "      <td>11</td>\n",
       "      <td>0</td>\n",
       "    </tr>\n",
       "    <tr>\n",
       "      <th>3</th>\n",
       "      <td>15</td>\n",
       "      <td>154</td>\n",
       "      <td>248</td>\n",
       "      <td>47</td>\n",
       "      <td>11</td>\n",
       "      <td>10</td>\n",
       "    </tr>\n",
       "    <tr>\n",
       "      <th>4</th>\n",
       "      <td>59</td>\n",
       "      <td>154</td>\n",
       "      <td>291</td>\n",
       "      <td>73</td>\n",
       "      <td>2</td>\n",
       "      <td>5</td>\n",
       "    </tr>\n",
       "  </tbody>\n",
       "</table>\n",
       "</div>"
      ],
      "text/plain": [
       "   Job  Location  Headquarters  Industry  Sector  Revenue\n",
       "0   15       154           291        71      16        5\n",
       "1   57       154           291        42      10        6\n",
       "2   67       154           291        51      11        0\n",
       "3   15       154           248        47      11       10\n",
       "4   59       154           291        73       2        5"
      ]
     },
     "execution_count": 55,
     "metadata": {},
     "output_type": "execute_result"
    }
   ],
   "source": [
    "x.head(5)"
   ]
  },
  {
   "cell_type": "code",
   "execution_count": 56,
   "metadata": {
    "execution": {
     "iopub.execute_input": "2021-09-03T21:36:43.710680Z",
     "iopub.status.busy": "2021-09-03T21:36:43.710022Z",
     "iopub.status.idle": "2021-09-03T21:36:43.756584Z",
     "shell.execute_reply": "2021-09-03T21:36:43.757284Z",
     "shell.execute_reply.started": "2021-09-03T20:34:52.781295Z"
    },
    "papermill": {
     "duration": 0.150818,
     "end_time": "2021-09-03T21:36:43.757547",
     "exception": false,
     "start_time": "2021-09-03T21:36:43.606729",
     "status": "completed"
    },
    "tags": []
   },
   "outputs": [
    {
     "name": "stdout",
     "output_type": "stream",
     "text": [
      "0.9574468085106383\n"
     ]
    }
   ],
   "source": [
    "# k-NN classifier\n",
    "\n",
    "# Split into training and test set\n",
    "x_train , x_test , y_train , y_test=train_test_split(x , y , test_size=0.3 , random_state=1234, stratify= y )\n",
    "\n",
    "# Create a k-NN classifier with 7 neighbors\n",
    "knn = KNeighborsClassifier(n_neighbors=7)\n",
    "\n",
    "# Fit the classifier to the training data\n",
    "knn.fit(x_train, y_train)\n",
    "\n",
    "# Print the accuracy\n",
    "print(knn.score(x_test, y_test))"
   ]
  },
  {
   "cell_type": "code",
   "execution_count": 57,
   "metadata": {
    "execution": {
     "iopub.execute_input": "2021-09-03T21:36:43.973045Z",
     "iopub.status.busy": "2021-09-03T21:36:43.972255Z",
     "iopub.status.idle": "2021-09-03T21:36:45.209651Z",
     "shell.execute_reply": "2021-09-03T21:36:45.210211Z",
     "shell.execute_reply.started": "2021-09-03T20:45:56.654827Z"
    },
    "papermill": {
     "duration": 1.351203,
     "end_time": "2021-09-03T21:36:45.210459",
     "exception": false,
     "start_time": "2021-09-03T21:36:43.859256",
     "status": "completed"
    },
    "tags": []
   },
   "outputs": [
    {
     "data": {
      "image/png": "[encoded data removed]",
      "text/plain": [
       "<Figure size 720x360 with 1 Axes>"
      ]
     },
     "metadata": {
      "needs_background": "light"
     },
     "output_type": "display_data"
    }
   ],
   "source": [
    "# we want to know the performance of the KNeighbors for testing and training result\n",
    "\n",
    "neighbors = np.arange(1, 12)\n",
    "train_accuracy = np.empty(len(neighbors))\n",
    "test_accuracy = np.empty(len(neighbors))\n",
    "\n",
    "for i, k in enumerate(neighbors):\n",
    "    # Train and test the model\n",
    "    knn = KNeighborsClassifier(n_neighbors=k)\n",
    "\n",
    "    # train the model\n",
    "    knn.fit(x_train, y_train)\n",
    "         \n",
    "    # compute the accuracy\n",
    "    train_accuracy[i] = knn.score(x_train, y_train)\n",
    "        \n",
    "    # compute the test\n",
    "    test_accuracy[i]=knn.score(x_test, y_test)\n",
    "    \n",
    "    \n",
    "    # result\n",
    "plt.plot(neighbors , test_accuracy , label='Test_Acuracy')\n",
    "plt.plot(neighbors, train_accuracy , label='Train_Accuracy')\n",
    "plt.legend()\n",
    "plt.xlabel('number of neighbors')\n",
    "plt.ylabel('Accuracy')\n",
    "plt.show()\n",
    "# You can see the differences the number of the neighbors and also train and test of the KNeighbors and amount of the acuracy"
   ]
  },
  {
   "cell_type": "code",
   "execution_count": 58,
   "metadata": {
    "execution": {
     "iopub.execute_input": "2021-09-03T21:36:45.421840Z",
     "iopub.status.busy": "2021-09-03T21:36:45.418410Z",
     "iopub.status.idle": "2021-09-03T21:36:45.424838Z",
     "shell.execute_reply": "2021-09-03T21:36:45.425323Z",
     "shell.execute_reply.started": "2021-09-03T20:51:07.871570Z"
    },
    "papermill": {
     "duration": 0.111923,
     "end_time": "2021-09-03T21:36:45.425518",
     "exception": false,
     "start_time": "2021-09-03T21:36:45.313595",
     "status": "completed"
    },
    "tags": []
   },
   "outputs": [
    {
     "name": "stdout",
     "output_type": "stream",
     "text": [
      "(1534, 6) (1534,) (658, 6) (658,)\n"
     ]
    }
   ],
   "source": [
    "print(x_train.shape,y_train.shape, x_test.shape,y_test.shape)"
   ]
  },
  {
   "cell_type": "code",
   "execution_count": 59,
   "metadata": {
    "execution": {
     "iopub.execute_input": "2021-09-03T21:36:45.640043Z",
     "iopub.status.busy": "2021-09-03T21:36:45.639245Z",
     "iopub.status.idle": "2021-09-03T21:36:45.641411Z",
     "shell.execute_reply": "2021-09-03T21:36:45.641896Z",
     "shell.execute_reply.started": "2021-09-03T21:20:07.435112Z"
    },
    "papermill": {
     "duration": 0.115271,
     "end_time": "2021-09-03T21:36:45.642079",
     "exception": false,
     "start_time": "2021-09-03T21:36:45.526808",
     "status": "completed"
    },
    "tags": []
   },
   "outputs": [],
   "source": [
    "models=[]\n",
    "models.append(('LR',LogisticRegression(random_state=12345)))\n",
    "models.append(('NN',MLPClassifier(random_state=12345)))\n",
    "models.append(('RF',RandomForestClassifier(random_state=12345)))\n",
    "models.append(('DT',DecisionTreeClassifier(random_state=12345)))\n",
    "models.append(('svm',SVC(random_state=12345)))\n",
    "models.append(('KN', KNeighborsClassifier()))\n",
    "\n",
    "result=[]\n",
    "name=[]"
   ]
  },
  {
   "cell_type": "markdown",
   "metadata": {
    "papermill": {
     "duration": 0.102238,
     "end_time": "2021-09-03T21:36:45.850104",
     "exception": false,
     "start_time": "2021-09-03T21:36:45.747866",
     "status": "completed"
    },
    "tags": []
   },
   "source": [
    "# We want to find out what is the classification report and confusion matrix and when we use it:"
   ]
  },
  {
   "cell_type": "markdown",
   "metadata": {
    "papermill": {
     "duration": 0.104202,
     "end_time": "2021-09-03T21:36:46.055834",
     "exception": false,
     "start_time": "2021-09-03T21:36:45.951632",
     "status": "completed"
    },
    "tags": []
   },
   "source": [
    "* Percision: measure the model performance on measuring the count of true positives in correct manner out of all positive predictions made.\n",
    "\n",
    "* Recall score :is used to measure the model performance in terms of measuring the count of true positives in correct manner out of all the actual positive values.\n",
    "\n",
    "* F1-score :is harmonic mean of precision and recall score and is used as a metrics in the scenarios where choosing either of precision or recall score can result in compromise in terms of model giving high false positives and false negatives respectively.\n",
    "\n",
    "* Macro average gives each prediction similar weight while calculating loss but there might be case when your data might be imbalanced and you want to give importance to some prediction more (based on their proportion), there you use 'weighted' averag"
   ]
  },
  {
   "cell_type": "code",
   "execution_count": 60,
   "metadata": {
    "execution": {
     "iopub.execute_input": "2021-09-03T21:36:46.271725Z",
     "iopub.status.busy": "2021-09-03T21:36:46.271026Z",
     "iopub.status.idle": "2021-09-03T21:36:47.638405Z",
     "shell.execute_reply": "2021-09-03T21:36:47.638943Z",
     "shell.execute_reply.started": "2021-09-03T21:35:48.051919Z"
    },
    "papermill": {
     "duration": 1.47306,
     "end_time": "2021-09-03T21:36:47.639110",
     "exception": false,
     "start_time": "2021-09-03T21:36:46.166050",
     "status": "completed"
    },
    "tags": []
   },
   "outputs": [
    {
     "name": "stdout",
     "output_type": "stream",
     "text": [
      "LR: (0.963526)\n",
      "              precision    recall  f1-score   support\n",
      "\n",
      "           0       0.96      1.00      0.98       634\n",
      "           1       0.00      0.00      0.00        24\n",
      "\n",
      "    accuracy                           0.96       658\n",
      "   macro avg       0.48      0.50      0.49       658\n",
      "weighted avg       0.93      0.96      0.95       658\n",
      "\n",
      "[[634   0]\n",
      " [ 24   0]]\n"
     ]
    },
    {
     "name": "stderr",
     "output_type": "stream",
     "text": [
      "/opt/conda/lib/python3.7/site-packages/sklearn/metrics/_classification.py:1221: UndefinedMetricWarning: Precision and F-score are ill-defined and being set to 0.0 in labels with no predicted samples. Use `zero_division` parameter to control this behavior.\n",
      "  _warn_prf(average, modifier, msg_start, len(result))\n"
     ]
    },
    {
     "name": "stdout",
     "output_type": "stream",
     "text": [
      "NN: (0.963526)\n",
      "              precision    recall  f1-score   support\n",
      "\n",
      "           0       0.96      1.00      0.98       634\n",
      "           1       0.00      0.00      0.00        24\n",
      "\n",
      "    accuracy                           0.96       658\n",
      "   macro avg       0.48      0.50      0.49       658\n",
      "weighted avg       0.93      0.96      0.95       658\n",
      "\n",
      "[[634   0]\n",
      " [ 24   0]]\n"
     ]
    },
    {
     "name": "stderr",
     "output_type": "stream",
     "text": [
      "/opt/conda/lib/python3.7/site-packages/sklearn/metrics/_classification.py:1221: UndefinedMetricWarning: Precision and F-score are ill-defined and being set to 0.0 in labels with no predicted samples. Use `zero_division` parameter to control this behavior.\n",
      "  _warn_prf(average, modifier, msg_start, len(result))\n"
     ]
    },
    {
     "name": "stdout",
     "output_type": "stream",
     "text": [
      "RF: (0.965046)\n",
      "              precision    recall  f1-score   support\n",
      "\n",
      "           0       0.97      1.00      0.98       634\n",
      "           1       0.67      0.08      0.15        24\n",
      "\n",
      "    accuracy                           0.97       658\n",
      "   macro avg       0.82      0.54      0.57       658\n",
      "weighted avg       0.96      0.97      0.95       658\n",
      "\n",
      "[[633   1]\n",
      " [ 22   2]]\n",
      "DT: (0.925532)\n",
      "              precision    recall  f1-score   support\n",
      "\n",
      "           0       0.97      0.96      0.96       634\n",
      "           1       0.07      0.08      0.08        24\n",
      "\n",
      "    accuracy                           0.93       658\n",
      "   macro avg       0.52      0.52      0.52       658\n",
      "weighted avg       0.93      0.93      0.93       658\n",
      "\n",
      "[[607  27]\n",
      " [ 22   2]]\n",
      "svm: (0.963526)\n",
      "              precision    recall  f1-score   support\n",
      "\n",
      "           0       0.96      1.00      0.98       634\n",
      "           1       0.00      0.00      0.00        24\n",
      "\n",
      "    accuracy                           0.96       658\n",
      "   macro avg       0.48      0.50      0.49       658\n",
      "weighted avg       0.93      0.96      0.95       658\n",
      "\n",
      "[[634   0]\n",
      " [ 24   0]]\n",
      "KN: (0.962006)\n",
      "              precision    recall  f1-score   support\n",
      "\n",
      "           0       0.97      1.00      0.98       634\n",
      "           1       0.40      0.08      0.14        24\n",
      "\n",
      "    accuracy                           0.96       658\n",
      "   macro avg       0.68      0.54      0.56       658\n",
      "weighted avg       0.95      0.96      0.95       658\n",
      "\n",
      "[[631   3]\n",
      " [ 22   2]]\n"
     ]
    },
    {
     "name": "stderr",
     "output_type": "stream",
     "text": [
      "/opt/conda/lib/python3.7/site-packages/sklearn/metrics/_classification.py:1221: UndefinedMetricWarning: Precision and F-score are ill-defined and being set to 0.0 in labels with no predicted samples. Use `zero_division` parameter to control this behavior.\n",
      "  _warn_prf(average, modifier, msg_start, len(result))\n"
     ]
    }
   ],
   "source": [
    "# As you see, these are the result of making model( Random Forest has the highest percent among another )\n",
    "for name, model in models:\n",
    "    model.fit(x_train,y_train)\n",
    "    predictions=model.predict(x_test)\n",
    "    accuracy=accuracy_score(y_test, predictions)\n",
    "    msg = \"%s: (%f)\" % (name, accuracy)\n",
    "    print(msg)\n",
    "    print(classification_report(y_test, predictions))\n",
    "    print(confusion_matrix(y_test, predictions))"
   ]
  }
 ],
 "metadata": {
  "kernelspec": {
   "display_name": "Python 3",
   "language": "python",
   "name": "python3"
  },
  "language_info": {
   "codemirror_mode": {
    "name": "ipython",
    "version": 3
   },
   "file_extension": ".py",
   "mimetype": "text/x-python",
   "name": "python",
   "nbconvert_exporter": "python",
   "pygments_lexer": "ipython3",
   "version": "3.7.6"
  },
  "papermill": {
   "duration": 36.978509,
   "end_time": "2021-09-03T21:36:47.852009",
   "environment_variables": {},
   "exception": null,
   "input_path": "__notebook__.ipynb",
   "output_path": "__notebook__.ipynb",
   "parameters": {},
   "start_time": "2021-09-03T21:36:10.873500",
   "version": "2.1.0"
  }
 },
 "nbformat": 4,
 "nbformat_minor": 4
}
