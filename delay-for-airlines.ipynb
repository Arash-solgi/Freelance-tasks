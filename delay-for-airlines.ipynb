{
 "cells": [
  {
   "cell_type": "code",
   "execution_count": 1,
   "metadata": {
    "_cell_guid": "b1076dfc-b9ad-4769-8c92-a6c4dae69d19",
    "_uuid": "8f2839f25d086af736a60e9eeb907d3b93b6e0e5",
    "execution": {
     "iopub.execute_input": "2020-11-27T21:41:19.132960Z",
     "iopub.status.busy": "2020-11-27T21:41:19.132040Z",
     "iopub.status.idle": "2020-11-27T21:41:19.145131Z",
     "shell.execute_reply": "2020-11-27T21:41:19.144274Z"
    },
    "papermill": {
     "duration": 0.079158,
     "end_time": "2020-11-27T21:41:19.145281",
     "exception": false,
     "start_time": "2020-11-27T21:41:19.066123",
     "status": "completed"
    },
    "tags": []
   },
   "outputs": [
    {
     "name": "stdout",
     "output_type": "stream",
     "text": [
      "/kaggle/input/delay-airports/new.csv\n",
      "/kaggle/input/airport/airports.csv\n",
      "/kaggle/input/arash-solgi/carriers.csv\n"
     ]
    }
   ],
   "source": [
    "# This Python 3 environment comes with many helpful analytics libraries installed\n",
    "# It is defined by the kaggle/python Docker image: https://github.com/kaggle/docker-python\n",
    "# For example, here's several helpful packages to load\n",
    "\n",
    "import numpy as np # linear algebra\n",
    "import pandas as pd # data processing, CSV file I/O (e.g. pd.read_csv)\n",
    "\n",
    "# Input data files are available in the read-only \"../input/\" directory\n",
    "# For example, running this (by clicking run or pressing Shift+Enter) will list all files under the input directory\n",
    "\n",
    "import os\n",
    "for dirname, _, filenames in os.walk('/kaggle/input'):\n",
    "    for filename in filenames:\n",
    "        print(os.path.join(dirname, filename))\n",
    "\n",
    "# You can write up to 20GB to the current directory (/kaggle/working/) that gets preserved as output when you create a version using \"Save & Run All\" \n",
    "# You can also write temporary files to /kaggle/temp/, but they won't be saved outside of the current session"
   ]
  },
  {
   "cell_type": "code",
   "execution_count": 2,
   "metadata": {
    "_cell_guid": "79c7e3d0-c299-4dcb-8224-4455121ee9b0",
    "_uuid": "d629ff2d2480ee46fbb7e2d37f6b5fab8052498a",
    "execution": {
     "iopub.execute_input": "2020-11-27T21:41:19.262782Z",
     "iopub.status.busy": "2020-11-27T21:41:19.261965Z",
     "iopub.status.idle": "2020-11-27T21:41:20.423419Z",
     "shell.execute_reply": "2020-11-27T21:41:20.422632Z"
    },
    "papermill": {
     "duration": 1.220264,
     "end_time": "2020-11-27T21:41:20.423576",
     "exception": false,
     "start_time": "2020-11-27T21:41:19.203312",
     "status": "completed"
    },
    "tags": []
   },
   "outputs": [],
   "source": [
    "import pandas as pd\n",
    "import numpy as np\n",
    "import seaborn as sns\n",
    "import matplotlib.pyplot as plt"
   ]
  },
  {
   "cell_type": "code",
   "execution_count": 3,
   "metadata": {
    "execution": {
     "iopub.execute_input": "2020-11-27T21:41:20.535032Z",
     "iopub.status.busy": "2020-11-27T21:41:20.534242Z",
     "iopub.status.idle": "2020-11-27T21:41:23.265697Z",
     "shell.execute_reply": "2020-11-27T21:41:23.266369Z"
    },
    "papermill": {
     "duration": 2.790374,
     "end_time": "2020-11-27T21:41:23.266542",
     "exception": false,
     "start_time": "2020-11-27T21:41:20.476168",
     "status": "completed"
    },
    "tags": []
   },
   "outputs": [
    {
     "data": {
      "text/html": [
       "<div>\n",
       "<style scoped>\n",
       "    .dataframe tbody tr th:only-of-type {\n",
       "        vertical-align: middle;\n",
       "    }\n",
       "\n",
       "    .dataframe tbody tr th {\n",
       "        vertical-align: top;\n",
       "    }\n",
       "\n",
       "    .dataframe thead th {\n",
       "        text-align: right;\n",
       "    }\n",
       "</style>\n",
       "<table border=\"1\" class=\"dataframe\">\n",
       "  <thead>\n",
       "    <tr style=\"text-align: right;\">\n",
       "      <th></th>\n",
       "      <th>YEAR</th>\n",
       "      <th>MONTH</th>\n",
       "      <th>DAY_OF_MONTH</th>\n",
       "      <th>DAY_OF_WEEK</th>\n",
       "      <th>OP_UNIQUE_CARRIER</th>\n",
       "      <th>TAIL_NUM</th>\n",
       "      <th>OP_CARRIER_FL_NUM</th>\n",
       "      <th>ORIGIN</th>\n",
       "      <th>DEST</th>\n",
       "      <th>CRS_DEP_TIME</th>\n",
       "      <th>...</th>\n",
       "      <th>CRS_ELAPSED_TIME</th>\n",
       "      <th>ACTUAL_ELAPSED_TIME</th>\n",
       "      <th>AIR_TIME</th>\n",
       "      <th>DISTANCE</th>\n",
       "      <th>CARRIER_DELAY</th>\n",
       "      <th>WEATHER_DELAY</th>\n",
       "      <th>NAS_DELAY</th>\n",
       "      <th>SECURITY_DELAY</th>\n",
       "      <th>LATE_AIRCRAFT_DELAY</th>\n",
       "      <th>Unnamed: 29</th>\n",
       "    </tr>\n",
       "  </thead>\n",
       "  <tbody>\n",
       "    <tr>\n",
       "      <th>0</th>\n",
       "      <td>2008</td>\n",
       "      <td>1</td>\n",
       "      <td>12</td>\n",
       "      <td>6</td>\n",
       "      <td>9E</td>\n",
       "      <td>87339E</td>\n",
       "      <td>3706</td>\n",
       "      <td>MLI</td>\n",
       "      <td>DTW</td>\n",
       "      <td>630</td>\n",
       "      <td>...</td>\n",
       "      <td>98.0</td>\n",
       "      <td>85.0</td>\n",
       "      <td>64.0</td>\n",
       "      <td>373.0</td>\n",
       "      <td>NaN</td>\n",
       "      <td>NaN</td>\n",
       "      <td>NaN</td>\n",
       "      <td>NaN</td>\n",
       "      <td>NaN</td>\n",
       "      <td>NaN</td>\n",
       "    </tr>\n",
       "    <tr>\n",
       "      <th>1</th>\n",
       "      <td>2008</td>\n",
       "      <td>1</td>\n",
       "      <td>14</td>\n",
       "      <td>1</td>\n",
       "      <td>9E</td>\n",
       "      <td>80009E</td>\n",
       "      <td>3706</td>\n",
       "      <td>MLI</td>\n",
       "      <td>DTW</td>\n",
       "      <td>630</td>\n",
       "      <td>...</td>\n",
       "      <td>98.0</td>\n",
       "      <td>103.0</td>\n",
       "      <td>64.0</td>\n",
       "      <td>373.0</td>\n",
       "      <td>NaN</td>\n",
       "      <td>NaN</td>\n",
       "      <td>NaN</td>\n",
       "      <td>NaN</td>\n",
       "      <td>NaN</td>\n",
       "      <td>NaN</td>\n",
       "    </tr>\n",
       "    <tr>\n",
       "      <th>2</th>\n",
       "      <td>2008</td>\n",
       "      <td>1</td>\n",
       "      <td>15</td>\n",
       "      <td>2</td>\n",
       "      <td>9E</td>\n",
       "      <td>87219E</td>\n",
       "      <td>3706</td>\n",
       "      <td>MLI</td>\n",
       "      <td>DTW</td>\n",
       "      <td>630</td>\n",
       "      <td>...</td>\n",
       "      <td>98.0</td>\n",
       "      <td>109.0</td>\n",
       "      <td>80.0</td>\n",
       "      <td>373.0</td>\n",
       "      <td>34.0</td>\n",
       "      <td>0.0</td>\n",
       "      <td>11.0</td>\n",
       "      <td>0.0</td>\n",
       "      <td>0.0</td>\n",
       "      <td>NaN</td>\n",
       "    </tr>\n",
       "    <tr>\n",
       "      <th>3</th>\n",
       "      <td>2008</td>\n",
       "      <td>1</td>\n",
       "      <td>16</td>\n",
       "      <td>3</td>\n",
       "      <td>9E</td>\n",
       "      <td>80019E</td>\n",
       "      <td>3706</td>\n",
       "      <td>MLI</td>\n",
       "      <td>DTW</td>\n",
       "      <td>630</td>\n",
       "      <td>...</td>\n",
       "      <td>98.0</td>\n",
       "      <td>104.0</td>\n",
       "      <td>62.0</td>\n",
       "      <td>373.0</td>\n",
       "      <td>NaN</td>\n",
       "      <td>NaN</td>\n",
       "      <td>NaN</td>\n",
       "      <td>NaN</td>\n",
       "      <td>NaN</td>\n",
       "      <td>NaN</td>\n",
       "    </tr>\n",
       "    <tr>\n",
       "      <th>4</th>\n",
       "      <td>2008</td>\n",
       "      <td>1</td>\n",
       "      <td>17</td>\n",
       "      <td>4</td>\n",
       "      <td>9E</td>\n",
       "      <td>88009E</td>\n",
       "      <td>3706</td>\n",
       "      <td>MLI</td>\n",
       "      <td>DTW</td>\n",
       "      <td>630</td>\n",
       "      <td>...</td>\n",
       "      <td>98.0</td>\n",
       "      <td>105.0</td>\n",
       "      <td>72.0</td>\n",
       "      <td>373.0</td>\n",
       "      <td>NaN</td>\n",
       "      <td>NaN</td>\n",
       "      <td>NaN</td>\n",
       "      <td>NaN</td>\n",
       "      <td>NaN</td>\n",
       "      <td>NaN</td>\n",
       "    </tr>\n",
       "  </tbody>\n",
       "</table>\n",
       "<p>5 rows × 30 columns</p>\n",
       "</div>"
      ],
      "text/plain": [
       "   YEAR  MONTH  DAY_OF_MONTH  DAY_OF_WEEK OP_UNIQUE_CARRIER TAIL_NUM  \\\n",
       "0  2008      1            12            6                9E   87339E   \n",
       "1  2008      1            14            1                9E   80009E   \n",
       "2  2008      1            15            2                9E   87219E   \n",
       "3  2008      1            16            3                9E   80019E   \n",
       "4  2008      1            17            4                9E   88009E   \n",
       "\n",
       "   OP_CARRIER_FL_NUM ORIGIN DEST  CRS_DEP_TIME  ...  CRS_ELAPSED_TIME  \\\n",
       "0               3706    MLI  DTW           630  ...              98.0   \n",
       "1               3706    MLI  DTW           630  ...              98.0   \n",
       "2               3706    MLI  DTW           630  ...              98.0   \n",
       "3               3706    MLI  DTW           630  ...              98.0   \n",
       "4               3706    MLI  DTW           630  ...              98.0   \n",
       "\n",
       "   ACTUAL_ELAPSED_TIME  AIR_TIME  DISTANCE  CARRIER_DELAY  WEATHER_DELAY  \\\n",
       "0                 85.0      64.0     373.0            NaN            NaN   \n",
       "1                103.0      64.0     373.0            NaN            NaN   \n",
       "2                109.0      80.0     373.0           34.0            0.0   \n",
       "3                104.0      62.0     373.0            NaN            NaN   \n",
       "4                105.0      72.0     373.0            NaN            NaN   \n",
       "\n",
       "   NAS_DELAY  SECURITY_DELAY LATE_AIRCRAFT_DELAY  Unnamed: 29  \n",
       "0        NaN             NaN                 NaN          NaN  \n",
       "1        NaN             NaN                 NaN          NaN  \n",
       "2       11.0             0.0                 0.0          NaN  \n",
       "3        NaN             NaN                 NaN          NaN  \n",
       "4        NaN             NaN                 NaN          NaN  \n",
       "\n",
       "[5 rows x 30 columns]"
      ]
     },
     "execution_count": 3,
     "metadata": {},
     "output_type": "execute_result"
    }
   ],
   "source": [
    "airlines=pd.read_csv(\"../input/delay-airports/new.csv\")\n",
    "airlines.head(5)"
   ]
  },
  {
   "cell_type": "code",
   "execution_count": 4,
   "metadata": {
    "execution": {
     "iopub.execute_input": "2020-11-27T21:41:23.392645Z",
     "iopub.status.busy": "2020-11-27T21:41:23.391717Z",
     "iopub.status.idle": "2020-11-27T21:41:23.396557Z",
     "shell.execute_reply": "2020-11-27T21:41:23.395917Z"
    },
    "papermill": {
     "duration": 0.069813,
     "end_time": "2020-11-27T21:41:23.396694",
     "exception": false,
     "start_time": "2020-11-27T21:41:23.326881",
     "status": "completed"
    },
    "tags": []
   },
   "outputs": [
    {
     "data": {
      "text/plain": [
       "(605765, 30)"
      ]
     },
     "execution_count": 4,
     "metadata": {},
     "output_type": "execute_result"
    }
   ],
   "source": [
    "# Number of the rows and columns\n",
    "airlines.shape"
   ]
  },
  {
   "cell_type": "code",
   "execution_count": 5,
   "metadata": {
    "execution": {
     "iopub.execute_input": "2020-11-27T21:41:23.524412Z",
     "iopub.status.busy": "2020-11-27T21:41:23.523582Z",
     "iopub.status.idle": "2020-11-27T21:41:23.926563Z",
     "shell.execute_reply": "2020-11-27T21:41:23.927527Z"
    },
    "papermill": {
     "duration": 0.470588,
     "end_time": "2020-11-27T21:41:23.927787",
     "exception": false,
     "start_time": "2020-11-27T21:41:23.457199",
     "status": "completed"
    },
    "tags": []
   },
   "outputs": [
    {
     "name": "stdout",
     "output_type": "stream",
     "text": [
      "<class 'pandas.core.frame.DataFrame'>\n",
      "RangeIndex: 605765 entries, 0 to 605764\n",
      "Data columns (total 30 columns):\n",
      " #   Column               Non-Null Count   Dtype  \n",
      "---  ------               --------------   -----  \n",
      " 0   YEAR                 605765 non-null  int64  \n",
      " 1   MONTH                605765 non-null  int64  \n",
      " 2   DAY_OF_MONTH         605765 non-null  int64  \n",
      " 3   DAY_OF_WEEK          605765 non-null  int64  \n",
      " 4   OP_UNIQUE_CARRIER    605765 non-null  object \n",
      " 5   TAIL_NUM             595813 non-null  object \n",
      " 6   OP_CARRIER_FL_NUM    605765 non-null  int64  \n",
      " 7   ORIGIN               605765 non-null  object \n",
      " 8   DEST                 605765 non-null  object \n",
      " 9   CRS_DEP_TIME         605765 non-null  int64  \n",
      " 10  DEP_TIME             588457 non-null  float64\n",
      " 11  DEP_DELAY            588457 non-null  float64\n",
      " 12  TAXI_OUT             588457 non-null  float64\n",
      " 13  TAXI_IN              587130 non-null  float64\n",
      " 14  CRS_ARR_TIME         605765 non-null  int64  \n",
      " 15  ARR_TIME             587130 non-null  float64\n",
      " 16  ARR_DELAY            587130 non-null  float64\n",
      " 17  CANCELLED            605765 non-null  float64\n",
      " 18  CANCELLATION_CODE    17308 non-null   object \n",
      " 19  DIVERTED             605765 non-null  float64\n",
      " 20  CRS_ELAPSED_TIME     605659 non-null  float64\n",
      " 21  ACTUAL_ELAPSED_TIME  587130 non-null  float64\n",
      " 22  AIR_TIME             587130 non-null  float64\n",
      " 23  DISTANCE             605765 non-null  float64\n",
      " 24  CARRIER_DELAY        148807 non-null  float64\n",
      " 25  WEATHER_DELAY        148807 non-null  float64\n",
      " 26  NAS_DELAY            148807 non-null  float64\n",
      " 27  SECURITY_DELAY       148807 non-null  float64\n",
      " 28  LATE_AIRCRAFT_DELAY  148807 non-null  float64\n",
      " 29  Unnamed: 29          0 non-null       float64\n",
      "dtypes: float64(18), int64(7), object(5)\n",
      "memory usage: 138.6+ MB\n"
     ]
    }
   ],
   "source": [
    "#information about the dataset\n",
    "airlines.info()"
   ]
  },
  {
   "cell_type": "markdown",
   "metadata": {
    "papermill": {
     "duration": 0.05416,
     "end_time": "2020-11-27T21:41:24.043790",
     "exception": false,
     "start_time": "2020-11-27T21:41:23.989630",
     "status": "completed"
    },
    "tags": []
   },
   "source": [
    "# we want to expalin each of the attributes for first dataset(airlines)\n",
    "1. 1-Year\n",
    "1. 2-Month\n",
    "1. 3-Day Of Month\n",
    "1. 4-Unique Carrier Code\n",
    "1. 5-Tail Number\n",
    "1. 6-Flight Number\n",
    "1. 7-Origin Airport\n",
    "1. 8-Destination Airport\n",
    "1. 9-CRS Departure Time (local time: hhmm)\n",
    "1. 10-Actual Departure Time (local time: hhmm)\n",
    "1. 11-Difference in minutes between scheduled and actual departure time. Early departures show negative numbers.\n",
    "1. 12-Taxi Out Time, in Minutes\n",
    "1. 13-Taxi IN Time, in Minutes\n",
    "1. 14-CRS Arrival Time (local time: hhmm)\n",
    "1. 15-Actual Arrival Time (local time: hhmm)\n",
    "1. 16-Difference in minutes between scheduled and actual arrival time. Early arrivals show negative numbers.\n",
    "1. 17-Cancelled Flight Indicator (1=Yes)\t\t\n",
    "1. 18-Specifies The Reason For Cancellation\t\t\n",
    "1. 19-Diverted Flight Indicator (1=Yes)\t\t\n",
    "1. 20-CRS Elapsed Time of Flight, in Minutes\t\t\n",
    "1. 21-Elapsed Time of Flight, in Minutes\t\t\n",
    "1. 22-Flight Time, in Minutes\n",
    "1. 23-Distance between airports (miles)\t\t\n",
    "1. 24-Carrier Delay, in Minutes\n",
    "1. 25-Weather Delay, in Minutes\n",
    "1. 26-National Air System Delay, in Minutes\n",
    "1. 27-Security Delay, in Minutes\n",
    "1. 28-Late Aircraft Delay, in Minutes"
   ]
  },
  {
   "cell_type": "markdown",
   "metadata": {
    "papermill": {
     "duration": 0.054785,
     "end_time": "2020-11-27T21:41:24.153291",
     "exception": false,
     "start_time": "2020-11-27T21:41:24.098506",
     "status": "completed"
    },
    "tags": []
   },
   "source": [
    "*  After we define the datas, we have to make sure for zero value or lost data"
   ]
  },
  {
   "cell_type": "code",
   "execution_count": 6,
   "metadata": {
    "execution": {
     "iopub.execute_input": "2020-11-27T21:41:24.280671Z",
     "iopub.status.busy": "2020-11-27T21:41:24.276489Z",
     "iopub.status.idle": "2020-11-27T21:41:24.408271Z",
     "shell.execute_reply": "2020-11-27T21:41:24.407611Z"
    },
    "papermill": {
     "duration": 0.200149,
     "end_time": "2020-11-27T21:41:24.408403",
     "exception": false,
     "start_time": "2020-11-27T21:41:24.208254",
     "status": "completed"
    },
    "tags": []
   },
   "outputs": [],
   "source": [
    "# Replace using median \n",
    "median = airlines['DEP_TIME'].median()\n",
    "airlines['DEP_TIME'].fillna(median, inplace=True)\n",
    "median = airlines['DEP_DELAY'].median()\n",
    "airlines['DEP_DELAY'].fillna(median, inplace=True)\n",
    "median = airlines['TAXI_OUT'].median()\n",
    "airlines['TAXI_OUT'].fillna(median, inplace=True)\n",
    "median = airlines['TAXI_IN'].median()\n",
    "airlines['TAXI_IN'].fillna(median, inplace=True)\n",
    "median = airlines['ARR_TIME'].median()\n",
    "airlines['ARR_TIME'].fillna(median, inplace=True)\n",
    "median = airlines['ARR_DELAY'].median()\n",
    "airlines['ARR_DELAY'].fillna(median, inplace=True)\n",
    "median = airlines['ARR_DELAY'].median()\n",
    "airlines['ARR_DELAY'].fillna(median, inplace=True)\n",
    "median = airlines['CRS_ELAPSED_TIME'].median()\n",
    "airlines['CRS_ELAPSED_TIME'].fillna(median, inplace=True)\n",
    "median = airlines['ACTUAL_ELAPSED_TIME'].median()\n",
    "airlines['ACTUAL_ELAPSED_TIME'].fillna(median, inplace=True)\n",
    "median = airlines['AIR_TIME'].median()\n",
    "airlines['AIR_TIME'].fillna(median, inplace=True)\n",
    "median = airlines['AIR_TIME'].median()\n",
    "airlines['AIR_TIME'].fillna(median, inplace=True)\n",
    "median = airlines['LATE_AIRCRAFT_DELAY'].median()\n",
    "airlines['LATE_AIRCRAFT_DELAY'].fillna(median, inplace=True)\n",
    "median = airlines['SECURITY_DELAY'].median()\n",
    "airlines['SECURITY_DELAY'].fillna(median, inplace=True)\n",
    "median = airlines['NAS_DELAY'].median()\n",
    "airlines['NAS_DELAY'].fillna(median, inplace=True)\n",
    "median = airlines['CARRIER_DELAY'].median()\n",
    "airlines['CARRIER_DELAY'].fillna(median, inplace=True)"
   ]
  },
  {
   "cell_type": "code",
   "execution_count": 7,
   "metadata": {
    "execution": {
     "iopub.execute_input": "2020-11-27T21:41:24.523536Z",
     "iopub.status.busy": "2020-11-27T21:41:24.522763Z",
     "iopub.status.idle": "2020-11-27T21:41:24.863988Z",
     "shell.execute_reply": "2020-11-27T21:41:24.863254Z"
    },
    "papermill": {
     "duration": 0.400762,
     "end_time": "2020-11-27T21:41:24.864110",
     "exception": false,
     "start_time": "2020-11-27T21:41:24.463348",
     "status": "completed"
    },
    "tags": []
   },
   "outputs": [
    {
     "data": {
      "text/plain": [
       "YEAR                        0\n",
       "MONTH                       0\n",
       "DAY_OF_MONTH                0\n",
       "DAY_OF_WEEK                 0\n",
       "OP_UNIQUE_CARRIER           0\n",
       "TAIL_NUM                 9952\n",
       "OP_CARRIER_FL_NUM           0\n",
       "ORIGIN                      0\n",
       "DEST                        0\n",
       "CRS_DEP_TIME                0\n",
       "DEP_TIME                    0\n",
       "DEP_DELAY                   0\n",
       "TAXI_OUT                    0\n",
       "TAXI_IN                     0\n",
       "CRS_ARR_TIME                0\n",
       "ARR_TIME                    0\n",
       "ARR_DELAY                   0\n",
       "CANCELLED                   0\n",
       "CANCELLATION_CODE      588457\n",
       "DIVERTED                    0\n",
       "CRS_ELAPSED_TIME            0\n",
       "ACTUAL_ELAPSED_TIME         0\n",
       "AIR_TIME                    0\n",
       "DISTANCE                    0\n",
       "CARRIER_DELAY               0\n",
       "WEATHER_DELAY          456958\n",
       "NAS_DELAY                   0\n",
       "SECURITY_DELAY              0\n",
       "LATE_AIRCRAFT_DELAY         0\n",
       "Unnamed: 29            605765\n",
       "dtype: int64"
      ]
     },
     "execution_count": 7,
     "metadata": {},
     "output_type": "execute_result"
    }
   ],
   "source": [
    "airlines.isnull().sum()"
   ]
  },
  {
   "cell_type": "markdown",
   "metadata": {
    "papermill": {
     "duration": 0.055249,
     "end_time": "2020-11-27T21:41:24.975659",
     "exception": false,
     "start_time": "2020-11-27T21:41:24.920410",
     "status": "completed"
    },
    "tags": []
   },
   "source": [
    "*  we can transform the NAN-data to the value \"0.0\" because there was no impact on the flight that causes a delay. Null values have now decreased Drastically. There are only a few attributes left."
   ]
  },
  {
   "cell_type": "code",
   "execution_count": 8,
   "metadata": {
    "execution": {
     "iopub.execute_input": "2020-11-27T21:41:25.095347Z",
     "iopub.status.busy": "2020-11-27T21:41:25.093948Z",
     "iopub.status.idle": "2020-11-27T21:41:25.236858Z",
     "shell.execute_reply": "2020-11-27T21:41:25.237490Z"
    },
    "papermill": {
     "duration": 0.206417,
     "end_time": "2020-11-27T21:41:25.237653",
     "exception": false,
     "start_time": "2020-11-27T21:41:25.031236",
     "status": "completed"
    },
    "tags": []
   },
   "outputs": [],
   "source": [
    "airlines['WEATHER_DELAY'] =airlines['WEATHER_DELAY'].fillna(0)\n",
    "airlines['TAIL_NUM'] =airlines['TAIL_NUM'].fillna(0)\n",
    "airlines['CANCELLATION_CODE'] =airlines['CANCELLATION_CODE'].fillna('D')"
   ]
  },
  {
   "cell_type": "code",
   "execution_count": 9,
   "metadata": {
    "execution": {
     "iopub.execute_input": "2020-11-27T21:41:25.354458Z",
     "iopub.status.busy": "2020-11-27T21:41:25.353662Z",
     "iopub.status.idle": "2020-11-27T21:41:25.726794Z",
     "shell.execute_reply": "2020-11-27T21:41:25.726176Z"
    },
    "papermill": {
     "duration": 0.433483,
     "end_time": "2020-11-27T21:41:25.726920",
     "exception": false,
     "start_time": "2020-11-27T21:41:25.293437",
     "status": "completed"
    },
    "tags": []
   },
   "outputs": [
    {
     "data": {
      "text/plain": [
       "YEAR                        0\n",
       "MONTH                       0\n",
       "DAY_OF_MONTH                0\n",
       "DAY_OF_WEEK                 0\n",
       "OP_UNIQUE_CARRIER           0\n",
       "TAIL_NUM                    0\n",
       "OP_CARRIER_FL_NUM           0\n",
       "ORIGIN                      0\n",
       "DEST                        0\n",
       "CRS_DEP_TIME                0\n",
       "DEP_TIME                    0\n",
       "DEP_DELAY                   0\n",
       "TAXI_OUT                    0\n",
       "TAXI_IN                     0\n",
       "CRS_ARR_TIME                0\n",
       "ARR_TIME                    0\n",
       "ARR_DELAY                   0\n",
       "CANCELLED                   0\n",
       "CANCELLATION_CODE           0\n",
       "DIVERTED                    0\n",
       "CRS_ELAPSED_TIME            0\n",
       "ACTUAL_ELAPSED_TIME         0\n",
       "AIR_TIME                    0\n",
       "DISTANCE                    0\n",
       "CARRIER_DELAY               0\n",
       "WEATHER_DELAY               0\n",
       "NAS_DELAY                   0\n",
       "SECURITY_DELAY              0\n",
       "LATE_AIRCRAFT_DELAY         0\n",
       "Unnamed: 29            605765\n",
       "dtype: int64"
      ]
     },
     "execution_count": 9,
     "metadata": {},
     "output_type": "execute_result"
    }
   ],
   "source": [
    "airlines.isnull().sum()"
   ]
  },
  {
   "cell_type": "code",
   "execution_count": 10,
   "metadata": {
    "execution": {
     "iopub.execute_input": "2020-11-27T21:41:25.987797Z",
     "iopub.status.busy": "2020-11-27T21:41:25.986916Z",
     "iopub.status.idle": "2020-11-27T21:41:25.994722Z",
     "shell.execute_reply": "2020-11-27T21:41:25.994060Z"
    },
    "papermill": {
     "duration": 0.211764,
     "end_time": "2020-11-27T21:41:25.994874",
     "exception": false,
     "start_time": "2020-11-27T21:41:25.783110",
     "status": "completed"
    },
    "tags": []
   },
   "outputs": [
    {
     "data": {
      "text/plain": [
       "D    588457\n",
       "B      6711\n",
       "A      6635\n",
       "C      3962\n",
       "Name: CANCELLATION_CODE, dtype: int64"
      ]
     },
     "execution_count": 10,
     "metadata": {},
     "output_type": "execute_result"
    }
   ],
   "source": [
    "# Reason why you cancel your flight\n",
    "airlines['CANCELLATION_CODE'].value_counts()\n",
    "#\"A\",\"Carrier\"\n",
    "#\"B\",\"Security\"\n",
    "#\"C\",\"National Air System\"\n",
    "#\"D\",\"Weather\""
   ]
  },
  {
   "cell_type": "code",
   "execution_count": 11,
   "metadata": {
    "execution": {
     "iopub.execute_input": "2020-11-27T21:41:26.114482Z",
     "iopub.status.busy": "2020-11-27T21:41:26.113686Z",
     "iopub.status.idle": "2020-11-27T21:41:26.489795Z",
     "shell.execute_reply": "2020-11-27T21:41:26.489171Z"
    },
    "papermill": {
     "duration": 0.437843,
     "end_time": "2020-11-27T21:41:26.489929",
     "exception": false,
     "start_time": "2020-11-27T21:41:26.052086",
     "status": "completed"
    },
    "tags": []
   },
   "outputs": [
    {
     "data": {
      "text/plain": [
       "YEAR                        0\n",
       "MONTH                       0\n",
       "DAY_OF_MONTH                0\n",
       "DAY_OF_WEEK                 0\n",
       "OP_UNIQUE_CARRIER           0\n",
       "TAIL_NUM                    0\n",
       "OP_CARRIER_FL_NUM           0\n",
       "ORIGIN                      0\n",
       "DEST                        0\n",
       "CRS_DEP_TIME                0\n",
       "DEP_TIME                    0\n",
       "DEP_DELAY                   0\n",
       "TAXI_OUT                    0\n",
       "TAXI_IN                     0\n",
       "CRS_ARR_TIME                0\n",
       "ARR_TIME                    0\n",
       "ARR_DELAY                   0\n",
       "CANCELLED                   0\n",
       "CANCELLATION_CODE           0\n",
       "DIVERTED                    0\n",
       "CRS_ELAPSED_TIME            0\n",
       "ACTUAL_ELAPSED_TIME         0\n",
       "AIR_TIME                    0\n",
       "DISTANCE                    0\n",
       "CARRIER_DELAY               0\n",
       "WEATHER_DELAY               0\n",
       "NAS_DELAY                   0\n",
       "SECURITY_DELAY              0\n",
       "LATE_AIRCRAFT_DELAY         0\n",
       "Unnamed: 29            605765\n",
       "dtype: int64"
      ]
     },
     "execution_count": 11,
     "metadata": {},
     "output_type": "execute_result"
    }
   ],
   "source": [
    "airlines.isnull().sum()"
   ]
  },
  {
   "cell_type": "markdown",
   "metadata": {
    "papermill": {
     "duration": 0.056832,
     "end_time": "2020-11-27T21:41:26.604250",
     "exception": false,
     "start_time": "2020-11-27T21:41:26.547418",
     "status": "completed"
    },
    "tags": []
   },
   "source": [
    "* After the the cleaning the first data set, we have to figure out how can impact of the delay with carriers and airport data and we want to join into the first one."
   ]
  },
  {
   "cell_type": "code",
   "execution_count": 12,
   "metadata": {
    "execution": {
     "iopub.execute_input": "2020-11-27T21:41:26.724257Z",
     "iopub.status.busy": "2020-11-27T21:41:26.723524Z",
     "iopub.status.idle": "2020-11-27T21:41:26.758182Z",
     "shell.execute_reply": "2020-11-27T21:41:26.757362Z"
    },
    "papermill": {
     "duration": 0.097146,
     "end_time": "2020-11-27T21:41:26.758314",
     "exception": false,
     "start_time": "2020-11-27T21:41:26.661168",
     "status": "completed"
    },
    "tags": []
   },
   "outputs": [
    {
     "data": {
      "text/html": [
       "<div>\n",
       "<style scoped>\n",
       "    .dataframe tbody tr th:only-of-type {\n",
       "        vertical-align: middle;\n",
       "    }\n",
       "\n",
       "    .dataframe tbody tr th {\n",
       "        vertical-align: top;\n",
       "    }\n",
       "\n",
       "    .dataframe thead th {\n",
       "        text-align: right;\n",
       "    }\n",
       "</style>\n",
       "<table border=\"1\" class=\"dataframe\">\n",
       "  <thead>\n",
       "    <tr style=\"text-align: right;\">\n",
       "      <th></th>\n",
       "      <th>iata</th>\n",
       "      <th>airport</th>\n",
       "      <th>city</th>\n",
       "      <th>state</th>\n",
       "      <th>country</th>\n",
       "      <th>lat</th>\n",
       "      <th>long</th>\n",
       "    </tr>\n",
       "  </thead>\n",
       "  <tbody>\n",
       "    <tr>\n",
       "      <th>0</th>\n",
       "      <td>00M</td>\n",
       "      <td>Thigpen</td>\n",
       "      <td>Bay Springs</td>\n",
       "      <td>MS</td>\n",
       "      <td>USA</td>\n",
       "      <td>31.953765</td>\n",
       "      <td>-89.234505</td>\n",
       "    </tr>\n",
       "    <tr>\n",
       "      <th>1</th>\n",
       "      <td>00R</td>\n",
       "      <td>Livingston Municipal</td>\n",
       "      <td>Livingston</td>\n",
       "      <td>TX</td>\n",
       "      <td>USA</td>\n",
       "      <td>30.685861</td>\n",
       "      <td>-95.017928</td>\n",
       "    </tr>\n",
       "    <tr>\n",
       "      <th>2</th>\n",
       "      <td>00V</td>\n",
       "      <td>Meadow Lake</td>\n",
       "      <td>Colorado Springs</td>\n",
       "      <td>CO</td>\n",
       "      <td>USA</td>\n",
       "      <td>38.945749</td>\n",
       "      <td>-104.569893</td>\n",
       "    </tr>\n",
       "    <tr>\n",
       "      <th>3</th>\n",
       "      <td>01G</td>\n",
       "      <td>Perry-Warsaw</td>\n",
       "      <td>Perry</td>\n",
       "      <td>NY</td>\n",
       "      <td>USA</td>\n",
       "      <td>42.741347</td>\n",
       "      <td>-78.052081</td>\n",
       "    </tr>\n",
       "    <tr>\n",
       "      <th>4</th>\n",
       "      <td>01J</td>\n",
       "      <td>Hilliard Airpark</td>\n",
       "      <td>Hilliard</td>\n",
       "      <td>FL</td>\n",
       "      <td>USA</td>\n",
       "      <td>30.688012</td>\n",
       "      <td>-81.905944</td>\n",
       "    </tr>\n",
       "    <tr>\n",
       "      <th>...</th>\n",
       "      <td>...</td>\n",
       "      <td>...</td>\n",
       "      <td>...</td>\n",
       "      <td>...</td>\n",
       "      <td>...</td>\n",
       "      <td>...</td>\n",
       "      <td>...</td>\n",
       "    </tr>\n",
       "    <tr>\n",
       "      <th>3371</th>\n",
       "      <td>ZEF</td>\n",
       "      <td>Elkin Municipal</td>\n",
       "      <td>Elkin</td>\n",
       "      <td>NC</td>\n",
       "      <td>USA</td>\n",
       "      <td>36.280024</td>\n",
       "      <td>-80.786069</td>\n",
       "    </tr>\n",
       "    <tr>\n",
       "      <th>3372</th>\n",
       "      <td>ZER</td>\n",
       "      <td>Schuylkill Cty/Joe Zerbey</td>\n",
       "      <td>Pottsville</td>\n",
       "      <td>PA</td>\n",
       "      <td>USA</td>\n",
       "      <td>40.706449</td>\n",
       "      <td>-76.373147</td>\n",
       "    </tr>\n",
       "    <tr>\n",
       "      <th>3373</th>\n",
       "      <td>ZPH</td>\n",
       "      <td>Zephyrhills Municipal</td>\n",
       "      <td>Zephyrhills</td>\n",
       "      <td>FL</td>\n",
       "      <td>USA</td>\n",
       "      <td>28.228065</td>\n",
       "      <td>-82.155916</td>\n",
       "    </tr>\n",
       "    <tr>\n",
       "      <th>3374</th>\n",
       "      <td>ZUN</td>\n",
       "      <td>Black Rock</td>\n",
       "      <td>Zuni</td>\n",
       "      <td>NM</td>\n",
       "      <td>USA</td>\n",
       "      <td>35.083227</td>\n",
       "      <td>-108.791777</td>\n",
       "    </tr>\n",
       "    <tr>\n",
       "      <th>3375</th>\n",
       "      <td>ZZV</td>\n",
       "      <td>Zanesville Municipal</td>\n",
       "      <td>Zanesville</td>\n",
       "      <td>OH</td>\n",
       "      <td>USA</td>\n",
       "      <td>39.944458</td>\n",
       "      <td>-81.892105</td>\n",
       "    </tr>\n",
       "  </tbody>\n",
       "</table>\n",
       "<p>3376 rows × 7 columns</p>\n",
       "</div>"
      ],
      "text/plain": [
       "     iata                    airport              city state country  \\\n",
       "0     00M                   Thigpen        Bay Springs    MS     USA   \n",
       "1     00R       Livingston Municipal        Livingston    TX     USA   \n",
       "2     00V                Meadow Lake  Colorado Springs    CO     USA   \n",
       "3     01G               Perry-Warsaw             Perry    NY     USA   \n",
       "4     01J           Hilliard Airpark          Hilliard    FL     USA   \n",
       "...   ...                        ...               ...   ...     ...   \n",
       "3371  ZEF            Elkin Municipal             Elkin    NC     USA   \n",
       "3372  ZER  Schuylkill Cty/Joe Zerbey        Pottsville    PA     USA   \n",
       "3373  ZPH      Zephyrhills Municipal       Zephyrhills    FL     USA   \n",
       "3374  ZUN                 Black Rock              Zuni    NM     USA   \n",
       "3375  ZZV       Zanesville Municipal        Zanesville    OH     USA   \n",
       "\n",
       "            lat        long  \n",
       "0     31.953765  -89.234505  \n",
       "1     30.685861  -95.017928  \n",
       "2     38.945749 -104.569893  \n",
       "3     42.741347  -78.052081  \n",
       "4     30.688012  -81.905944  \n",
       "...         ...         ...  \n",
       "3371  36.280024  -80.786069  \n",
       "3372  40.706449  -76.373147  \n",
       "3373  28.228065  -82.155916  \n",
       "3374  35.083227 -108.791777  \n",
       "3375  39.944458  -81.892105  \n",
       "\n",
       "[3376 rows x 7 columns]"
      ]
     },
     "execution_count": 12,
     "metadata": {},
     "output_type": "execute_result"
    }
   ],
   "source": [
    "airports=pd.read_csv('../input/airport/airports.csv')\n",
    "airports"
   ]
  },
  {
   "cell_type": "code",
   "execution_count": 13,
   "metadata": {
    "execution": {
     "iopub.execute_input": "2020-11-27T21:41:26.894778Z",
     "iopub.status.busy": "2020-11-27T21:41:26.893911Z",
     "iopub.status.idle": "2020-11-27T21:41:26.910649Z",
     "shell.execute_reply": "2020-11-27T21:41:26.909942Z"
    },
    "papermill": {
     "duration": 0.086701,
     "end_time": "2020-11-27T21:41:26.910792",
     "exception": false,
     "start_time": "2020-11-27T21:41:26.824091",
     "status": "completed"
    },
    "tags": []
   },
   "outputs": [
    {
     "data": {
      "text/html": [
       "<div>\n",
       "<style scoped>\n",
       "    .dataframe tbody tr th:only-of-type {\n",
       "        vertical-align: middle;\n",
       "    }\n",
       "\n",
       "    .dataframe tbody tr th {\n",
       "        vertical-align: top;\n",
       "    }\n",
       "\n",
       "    .dataframe thead th {\n",
       "        text-align: right;\n",
       "    }\n",
       "</style>\n",
       "<table border=\"1\" class=\"dataframe\">\n",
       "  <thead>\n",
       "    <tr style=\"text-align: right;\">\n",
       "      <th></th>\n",
       "      <th>Code</th>\n",
       "      <th>Description</th>\n",
       "    </tr>\n",
       "  </thead>\n",
       "  <tbody>\n",
       "    <tr>\n",
       "      <th>0</th>\n",
       "      <td>02Q</td>\n",
       "      <td>Titan Airways</td>\n",
       "    </tr>\n",
       "    <tr>\n",
       "      <th>1</th>\n",
       "      <td>04Q</td>\n",
       "      <td>Tradewind Aviation</td>\n",
       "    </tr>\n",
       "    <tr>\n",
       "      <th>2</th>\n",
       "      <td>05Q</td>\n",
       "      <td>Comlux Aviation, AG</td>\n",
       "    </tr>\n",
       "    <tr>\n",
       "      <th>3</th>\n",
       "      <td>06Q</td>\n",
       "      <td>Master Top Linhas Aereas Ltd.</td>\n",
       "    </tr>\n",
       "    <tr>\n",
       "      <th>4</th>\n",
       "      <td>07Q</td>\n",
       "      <td>Flair Airlines Ltd.</td>\n",
       "    </tr>\n",
       "    <tr>\n",
       "      <th>...</th>\n",
       "      <td>...</td>\n",
       "      <td>...</td>\n",
       "    </tr>\n",
       "    <tr>\n",
       "      <th>1486</th>\n",
       "      <td>ZW</td>\n",
       "      <td>Air Wisconsin Airlines Corp</td>\n",
       "    </tr>\n",
       "    <tr>\n",
       "      <th>1487</th>\n",
       "      <td>ZX</td>\n",
       "      <td>Air Georgian</td>\n",
       "    </tr>\n",
       "    <tr>\n",
       "      <th>1488</th>\n",
       "      <td>ZX (1)</td>\n",
       "      <td>Airbc Ltd.</td>\n",
       "    </tr>\n",
       "    <tr>\n",
       "      <th>1489</th>\n",
       "      <td>ZY</td>\n",
       "      <td>Atlantic Gulf Airlines</td>\n",
       "    </tr>\n",
       "    <tr>\n",
       "      <th>1490</th>\n",
       "      <td>ZYZ</td>\n",
       "      <td>Skyway Aviation Inc.</td>\n",
       "    </tr>\n",
       "  </tbody>\n",
       "</table>\n",
       "<p>1491 rows × 2 columns</p>\n",
       "</div>"
      ],
      "text/plain": [
       "        Code                    Description\n",
       "0        02Q                  Titan Airways\n",
       "1        04Q             Tradewind Aviation\n",
       "2        05Q            Comlux Aviation, AG\n",
       "3        06Q  Master Top Linhas Aereas Ltd.\n",
       "4        07Q            Flair Airlines Ltd.\n",
       "...      ...                            ...\n",
       "1486      ZW    Air Wisconsin Airlines Corp\n",
       "1487      ZX                   Air Georgian\n",
       "1488  ZX (1)                     Airbc Ltd.\n",
       "1489      ZY         Atlantic Gulf Airlines\n",
       "1490     ZYZ           Skyway Aviation Inc.\n",
       "\n",
       "[1491 rows x 2 columns]"
      ]
     },
     "execution_count": 13,
     "metadata": {},
     "output_type": "execute_result"
    }
   ],
   "source": [
    "carriers=pd.read_csv('../input/arash-solgi/carriers.csv')\n",
    "carriers\n",
    "#the code with the name of the airlines"
   ]
  },
  {
   "cell_type": "code",
   "execution_count": 14,
   "metadata": {
    "execution": {
     "iopub.execute_input": "2020-11-27T21:41:27.035557Z",
     "iopub.status.busy": "2020-11-27T21:41:27.034822Z",
     "iopub.status.idle": "2020-11-27T21:41:27.091456Z",
     "shell.execute_reply": "2020-11-27T21:41:27.090673Z"
    },
    "papermill": {
     "duration": 0.121872,
     "end_time": "2020-11-27T21:41:27.091582",
     "exception": false,
     "start_time": "2020-11-27T21:41:26.969710",
     "status": "completed"
    },
    "tags": []
   },
   "outputs": [
    {
     "data": {
      "text/html": [
       "<div>\n",
       "<style scoped>\n",
       "    .dataframe tbody tr th:only-of-type {\n",
       "        vertical-align: middle;\n",
       "    }\n",
       "\n",
       "    .dataframe tbody tr th {\n",
       "        vertical-align: top;\n",
       "    }\n",
       "\n",
       "    .dataframe thead th {\n",
       "        text-align: right;\n",
       "    }\n",
       "</style>\n",
       "<table border=\"1\" class=\"dataframe\">\n",
       "  <thead>\n",
       "    <tr style=\"text-align: right;\">\n",
       "      <th></th>\n",
       "      <th>YEAR</th>\n",
       "      <th>MONTH</th>\n",
       "      <th>DAY_OF_MONTH</th>\n",
       "      <th>DAY_OF_WEEK</th>\n",
       "      <th>OP_UNIQUE_CARRIER</th>\n",
       "      <th>TAIL_NUM</th>\n",
       "      <th>OP_CARRIER_FL_NUM</th>\n",
       "      <th>ORIGIN</th>\n",
       "      <th>DEST</th>\n",
       "      <th>CRS_DEP_TIME</th>\n",
       "      <th>...</th>\n",
       "      <th>CRS_ELAPSED_TIME</th>\n",
       "      <th>ACTUAL_ELAPSED_TIME</th>\n",
       "      <th>AIR_TIME</th>\n",
       "      <th>DISTANCE</th>\n",
       "      <th>CARRIER_DELAY</th>\n",
       "      <th>WEATHER_DELAY</th>\n",
       "      <th>NAS_DELAY</th>\n",
       "      <th>SECURITY_DELAY</th>\n",
       "      <th>LATE_AIRCRAFT_DELAY</th>\n",
       "      <th>Unnamed: 29</th>\n",
       "    </tr>\n",
       "  </thead>\n",
       "  <tbody>\n",
       "    <tr>\n",
       "      <th>352189</th>\n",
       "      <td>2008</td>\n",
       "      <td>1</td>\n",
       "      <td>27</td>\n",
       "      <td>7</td>\n",
       "      <td>DL</td>\n",
       "      <td>N832MH</td>\n",
       "      <td>1282</td>\n",
       "      <td>HNL</td>\n",
       "      <td>ATL</td>\n",
       "      <td>1635</td>\n",
       "      <td>...</td>\n",
       "      <td>512.0</td>\n",
       "      <td>111.0</td>\n",
       "      <td>86.0</td>\n",
       "      <td>4502.0</td>\n",
       "      <td>0.0</td>\n",
       "      <td>0.0</td>\n",
       "      <td>5.0</td>\n",
       "      <td>0.0</td>\n",
       "      <td>0.0</td>\n",
       "      <td>NaN</td>\n",
       "    </tr>\n",
       "  </tbody>\n",
       "</table>\n",
       "<p>1 rows × 30 columns</p>\n",
       "</div>"
      ],
      "text/plain": [
       "        YEAR  MONTH  DAY_OF_MONTH  DAY_OF_WEEK OP_UNIQUE_CARRIER TAIL_NUM  \\\n",
       "352189  2008      1            27            7                DL   N832MH   \n",
       "\n",
       "        OP_CARRIER_FL_NUM ORIGIN DEST  CRS_DEP_TIME  ...  CRS_ELAPSED_TIME  \\\n",
       "352189               1282    HNL  ATL          1635  ...             512.0   \n",
       "\n",
       "        ACTUAL_ELAPSED_TIME  AIR_TIME  DISTANCE  CARRIER_DELAY  WEATHER_DELAY  \\\n",
       "352189                111.0      86.0    4502.0            0.0            0.0   \n",
       "\n",
       "        NAS_DELAY  SECURITY_DELAY LATE_AIRCRAFT_DELAY  Unnamed: 29  \n",
       "352189        5.0             0.0                 0.0          NaN  \n",
       "\n",
       "[1 rows x 30 columns]"
      ]
     },
     "execution_count": 14,
     "metadata": {},
     "output_type": "execute_result"
    }
   ],
   "source": [
    "# when we have cancellation and the distaces between two airports is more than 4000 meter(only Atlanta )\n",
    "airlines[(airlines['CANCELLED']==1)& (airlines['DISTANCE']>4000)]"
   ]
  },
  {
   "cell_type": "code",
   "execution_count": 15,
   "metadata": {
    "execution": {
     "iopub.execute_input": "2020-11-27T21:41:27.235112Z",
     "iopub.status.busy": "2020-11-27T21:41:27.234067Z",
     "iopub.status.idle": "2020-11-27T21:41:27.394090Z",
     "shell.execute_reply": "2020-11-27T21:41:27.393402Z"
    },
    "papermill": {
     "duration": 0.242961,
     "end_time": "2020-11-27T21:41:27.394220",
     "exception": false,
     "start_time": "2020-11-27T21:41:27.151259",
     "status": "completed"
    },
    "tags": []
   },
   "outputs": [
    {
     "data": {
      "text/html": [
       "<div>\n",
       "<style scoped>\n",
       "    .dataframe tbody tr th:only-of-type {\n",
       "        vertical-align: middle;\n",
       "    }\n",
       "\n",
       "    .dataframe tbody tr th {\n",
       "        vertical-align: top;\n",
       "    }\n",
       "\n",
       "    .dataframe thead th {\n",
       "        text-align: right;\n",
       "    }\n",
       "</style>\n",
       "<table border=\"1\" class=\"dataframe\">\n",
       "  <thead>\n",
       "    <tr style=\"text-align: right;\">\n",
       "      <th></th>\n",
       "      <th>DEST</th>\n",
       "      <th>ARR_DELAY_SUM</th>\n",
       "      <th>ARR_DELAY_CNT</th>\n",
       "      <th>AVG_ARR_DELAY</th>\n",
       "    </tr>\n",
       "  </thead>\n",
       "  <tbody>\n",
       "    <tr>\n",
       "      <th>199</th>\n",
       "      <td>ORD</td>\n",
       "      <td>838358.0</td>\n",
       "      <td>29936</td>\n",
       "      <td>28.005011</td>\n",
       "    </tr>\n",
       "    <tr>\n",
       "      <th>244</th>\n",
       "      <td>SFO</td>\n",
       "      <td>387248.0</td>\n",
       "      <td>11560</td>\n",
       "      <td>33.498962</td>\n",
       "    </tr>\n",
       "    <tr>\n",
       "      <th>148</th>\n",
       "      <td>LAX</td>\n",
       "      <td>257506.0</td>\n",
       "      <td>18964</td>\n",
       "      <td>13.578675</td>\n",
       "    </tr>\n",
       "    <tr>\n",
       "      <th>78</th>\n",
       "      <td>DFW</td>\n",
       "      <td>211761.0</td>\n",
       "      <td>23874</td>\n",
       "      <td>8.869942</td>\n",
       "    </tr>\n",
       "    <tr>\n",
       "      <th>16</th>\n",
       "      <td>ATL</td>\n",
       "      <td>208002.0</td>\n",
       "      <td>33881</td>\n",
       "      <td>6.139193</td>\n",
       "    </tr>\n",
       "    <tr>\n",
       "      <th>...</th>\n",
       "      <td>...</td>\n",
       "      <td>...</td>\n",
       "      <td>...</td>\n",
       "      <td>...</td>\n",
       "    </tr>\n",
       "    <tr>\n",
       "      <th>66</th>\n",
       "      <td>CPR</td>\n",
       "      <td>-219.0</td>\n",
       "      <td>301</td>\n",
       "      <td>-0.727575</td>\n",
       "    </tr>\n",
       "    <tr>\n",
       "      <th>216</th>\n",
       "      <td>PSE</td>\n",
       "      <td>-305.0</td>\n",
       "      <td>109</td>\n",
       "      <td>-2.798165</td>\n",
       "    </tr>\n",
       "    <tr>\n",
       "      <th>194</th>\n",
       "      <td>OGG</td>\n",
       "      <td>-1510.0</td>\n",
       "      <td>2078</td>\n",
       "      <td>-0.726660</td>\n",
       "    </tr>\n",
       "    <tr>\n",
       "      <th>136</th>\n",
       "      <td>ITO</td>\n",
       "      <td>-1866.0</td>\n",
       "      <td>786</td>\n",
       "      <td>-2.374046</td>\n",
       "    </tr>\n",
       "    <tr>\n",
       "      <th>155</th>\n",
       "      <td>LIH</td>\n",
       "      <td>-4084.0</td>\n",
       "      <td>1372</td>\n",
       "      <td>-2.976676</td>\n",
       "    </tr>\n",
       "  </tbody>\n",
       "</table>\n",
       "<p>287 rows × 4 columns</p>\n",
       "</div>"
      ],
      "text/plain": [
       "    DEST  ARR_DELAY_SUM  ARR_DELAY_CNT  AVG_ARR_DELAY\n",
       "199  ORD       838358.0          29936      28.005011\n",
       "244  SFO       387248.0          11560      33.498962\n",
       "148  LAX       257506.0          18964      13.578675\n",
       "78   DFW       211761.0          23874       8.869942\n",
       "16   ATL       208002.0          33881       6.139193\n",
       "..   ...            ...            ...            ...\n",
       "66   CPR         -219.0            301      -0.727575\n",
       "216  PSE         -305.0            109      -2.798165\n",
       "194  OGG        -1510.0           2078      -0.726660\n",
       "136  ITO        -1866.0            786      -2.374046\n",
       "155  LIH        -4084.0           1372      -2.976676\n",
       "\n",
       "[287 rows x 4 columns]"
      ]
     },
     "execution_count": 15,
     "metadata": {},
     "output_type": "execute_result"
    }
   ],
   "source": [
    "# we use the groupby with sum, count and delay part for ARR_DELAY with Destination\n",
    "airlines_grouped_sum = airlines.groupby('DEST', as_index= False)['ARR_DELAY'].agg('sum').rename(columns={\"ARR_DELAY\":\"ARR_DELAY_SUM\"})\n",
    "airlines_grouped_cnt = airlines.groupby('DEST', as_index= False)['ARR_DELAY'].agg('count').rename(columns={\"ARR_DELAY\":\"ARR_DELAY_CNT\"})\n",
    "# Merge the two groups together\n",
    "airlines_grouped_delay = airlines_grouped_sum.merge(airlines_grouped_cnt, left_on='DEST', right_on='DEST', how='inner')\n",
    "\n",
    "# Calculate the average delay per destination\n",
    "airlines_grouped_delay.loc[:,'AVG_ARR_DELAY'] = airlines_grouped_delay['ARR_DELAY_SUM'] /airlines_grouped_delay['ARR_DELAY_CNT']\n",
    "\n",
    "airlines_grouped_delay.sort_values('ARR_DELAY_SUM', ascending=False)"
   ]
  },
  {
   "cell_type": "markdown",
   "metadata": {
    "papermill": {
     "duration": 0.060315,
     "end_time": "2020-11-27T21:41:27.514904",
     "exception": false,
     "start_time": "2020-11-27T21:41:27.454589",
     "status": "completed"
    },
    "tags": []
   },
   "source": [
    "* In conclusion, ABE has the smallest average of delay in the destination(AVG_ARR_DELAY==-6.29032). On the other hand , YUM Destination has a lot of huge delays in single flights which effects the total delay of the airline, (alomost AVG_ARR_DELAY ==64.7294 and for sum is 838358.I used max and min in the last piece of code to figure out"
   ]
  },
  {
   "cell_type": "code",
   "execution_count": 16,
   "metadata": {
    "execution": {
     "iopub.execute_input": "2020-11-27T21:41:27.642166Z",
     "iopub.status.busy": "2020-11-27T21:41:27.641242Z",
     "iopub.status.idle": "2020-11-27T21:41:27.690365Z",
     "shell.execute_reply": "2020-11-27T21:41:27.689605Z"
    },
    "papermill": {
     "duration": 0.115247,
     "end_time": "2020-11-27T21:41:27.690497",
     "exception": false,
     "start_time": "2020-11-27T21:41:27.575250",
     "status": "completed"
    },
    "tags": []
   },
   "outputs": [
    {
     "data": {
      "text/html": [
       "<div>\n",
       "<style scoped>\n",
       "    .dataframe tbody tr th:only-of-type {\n",
       "        vertical-align: middle;\n",
       "    }\n",
       "\n",
       "    .dataframe tbody tr th {\n",
       "        vertical-align: top;\n",
       "    }\n",
       "\n",
       "    .dataframe thead th {\n",
       "        text-align: right;\n",
       "    }\n",
       "</style>\n",
       "<table border=\"1\" class=\"dataframe\">\n",
       "  <thead>\n",
       "    <tr style=\"text-align: right;\">\n",
       "      <th></th>\n",
       "      <th>YEAR</th>\n",
       "      <th>MONTH</th>\n",
       "      <th>DAY_OF_MONTH</th>\n",
       "      <th>DAY_OF_WEEK</th>\n",
       "      <th>OP_UNIQUE_CARRIER</th>\n",
       "      <th>TAIL_NUM</th>\n",
       "      <th>OP_CARRIER_FL_NUM</th>\n",
       "      <th>ORIGIN</th>\n",
       "      <th>DEST</th>\n",
       "      <th>CRS_DEP_TIME</th>\n",
       "      <th>...</th>\n",
       "      <th>CRS_ELAPSED_TIME</th>\n",
       "      <th>ACTUAL_ELAPSED_TIME</th>\n",
       "      <th>AIR_TIME</th>\n",
       "      <th>DISTANCE</th>\n",
       "      <th>CARRIER_DELAY</th>\n",
       "      <th>WEATHER_DELAY</th>\n",
       "      <th>NAS_DELAY</th>\n",
       "      <th>SECURITY_DELAY</th>\n",
       "      <th>LATE_AIRCRAFT_DELAY</th>\n",
       "      <th>Unnamed: 29</th>\n",
       "    </tr>\n",
       "  </thead>\n",
       "  <tbody>\n",
       "    <tr>\n",
       "      <th>1496</th>\n",
       "      <td>2008</td>\n",
       "      <td>1</td>\n",
       "      <td>30</td>\n",
       "      <td>3</td>\n",
       "      <td>9E</td>\n",
       "      <td>88369E</td>\n",
       "      <td>3756</td>\n",
       "      <td>DTW</td>\n",
       "      <td>BUF</td>\n",
       "      <td>1013</td>\n",
       "      <td>...</td>\n",
       "      <td>111.0</td>\n",
       "      <td>111.0</td>\n",
       "      <td>86.0</td>\n",
       "      <td>240.0</td>\n",
       "      <td>0.0</td>\n",
       "      <td>0.0</td>\n",
       "      <td>5.0</td>\n",
       "      <td>0.0</td>\n",
       "      <td>0.0</td>\n",
       "      <td>NaN</td>\n",
       "    </tr>\n",
       "    <tr>\n",
       "      <th>5777</th>\n",
       "      <td>2008</td>\n",
       "      <td>1</td>\n",
       "      <td>27</td>\n",
       "      <td>7</td>\n",
       "      <td>9E</td>\n",
       "      <td>89649E</td>\n",
       "      <td>5955</td>\n",
       "      <td>SGF</td>\n",
       "      <td>MEM</td>\n",
       "      <td>640</td>\n",
       "      <td>...</td>\n",
       "      <td>111.0</td>\n",
       "      <td>111.0</td>\n",
       "      <td>86.0</td>\n",
       "      <td>243.0</td>\n",
       "      <td>0.0</td>\n",
       "      <td>0.0</td>\n",
       "      <td>5.0</td>\n",
       "      <td>0.0</td>\n",
       "      <td>0.0</td>\n",
       "      <td>NaN</td>\n",
       "    </tr>\n",
       "    <tr>\n",
       "      <th>6149</th>\n",
       "      <td>2008</td>\n",
       "      <td>1</td>\n",
       "      <td>26</td>\n",
       "      <td>6</td>\n",
       "      <td>9E</td>\n",
       "      <td>84779E</td>\n",
       "      <td>5965</td>\n",
       "      <td>MEM</td>\n",
       "      <td>XNA</td>\n",
       "      <td>1935</td>\n",
       "      <td>...</td>\n",
       "      <td>111.0</td>\n",
       "      <td>111.0</td>\n",
       "      <td>86.0</td>\n",
       "      <td>258.0</td>\n",
       "      <td>0.0</td>\n",
       "      <td>0.0</td>\n",
       "      <td>5.0</td>\n",
       "      <td>0.0</td>\n",
       "      <td>0.0</td>\n",
       "      <td>NaN</td>\n",
       "    </tr>\n",
       "    <tr>\n",
       "      <th>34753</th>\n",
       "      <td>2008</td>\n",
       "      <td>1</td>\n",
       "      <td>10</td>\n",
       "      <td>4</td>\n",
       "      <td>MQ</td>\n",
       "      <td>N323AE</td>\n",
       "      <td>3011</td>\n",
       "      <td>LAX</td>\n",
       "      <td>FAT</td>\n",
       "      <td>815</td>\n",
       "      <td>...</td>\n",
       "      <td>74.0</td>\n",
       "      <td>111.0</td>\n",
       "      <td>86.0</td>\n",
       "      <td>209.0</td>\n",
       "      <td>0.0</td>\n",
       "      <td>0.0</td>\n",
       "      <td>5.0</td>\n",
       "      <td>0.0</td>\n",
       "      <td>0.0</td>\n",
       "      <td>NaN</td>\n",
       "    </tr>\n",
       "    <tr>\n",
       "      <th>34791</th>\n",
       "      <td>2008</td>\n",
       "      <td>1</td>\n",
       "      <td>15</td>\n",
       "      <td>2</td>\n",
       "      <td>MQ</td>\n",
       "      <td>N240DS</td>\n",
       "      <td>3013</td>\n",
       "      <td>LAX</td>\n",
       "      <td>FAT</td>\n",
       "      <td>1000</td>\n",
       "      <td>...</td>\n",
       "      <td>47.0</td>\n",
       "      <td>111.0</td>\n",
       "      <td>86.0</td>\n",
       "      <td>209.0</td>\n",
       "      <td>0.0</td>\n",
       "      <td>0.0</td>\n",
       "      <td>5.0</td>\n",
       "      <td>0.0</td>\n",
       "      <td>0.0</td>\n",
       "      <td>NaN</td>\n",
       "    </tr>\n",
       "    <tr>\n",
       "      <th>...</th>\n",
       "      <td>...</td>\n",
       "      <td>...</td>\n",
       "      <td>...</td>\n",
       "      <td>...</td>\n",
       "      <td>...</td>\n",
       "      <td>...</td>\n",
       "      <td>...</td>\n",
       "      <td>...</td>\n",
       "      <td>...</td>\n",
       "      <td>...</td>\n",
       "      <td>...</td>\n",
       "      <td>...</td>\n",
       "      <td>...</td>\n",
       "      <td>...</td>\n",
       "      <td>...</td>\n",
       "      <td>...</td>\n",
       "      <td>...</td>\n",
       "      <td>...</td>\n",
       "      <td>...</td>\n",
       "      <td>...</td>\n",
       "      <td>...</td>\n",
       "    </tr>\n",
       "    <tr>\n",
       "      <th>596168</th>\n",
       "      <td>2008</td>\n",
       "      <td>1</td>\n",
       "      <td>31</td>\n",
       "      <td>4</td>\n",
       "      <td>WN</td>\n",
       "      <td>N340LV</td>\n",
       "      <td>1330</td>\n",
       "      <td>STL</td>\n",
       "      <td>MDW</td>\n",
       "      <td>1225</td>\n",
       "      <td>...</td>\n",
       "      <td>60.0</td>\n",
       "      <td>111.0</td>\n",
       "      <td>86.0</td>\n",
       "      <td>251.0</td>\n",
       "      <td>0.0</td>\n",
       "      <td>0.0</td>\n",
       "      <td>5.0</td>\n",
       "      <td>0.0</td>\n",
       "      <td>0.0</td>\n",
       "      <td>NaN</td>\n",
       "    </tr>\n",
       "    <tr>\n",
       "      <th>597045</th>\n",
       "      <td>2008</td>\n",
       "      <td>1</td>\n",
       "      <td>29</td>\n",
       "      <td>2</td>\n",
       "      <td>XE</td>\n",
       "      <td>N13550</td>\n",
       "      <td>125</td>\n",
       "      <td>SAN</td>\n",
       "      <td>ONT</td>\n",
       "      <td>2136</td>\n",
       "      <td>...</td>\n",
       "      <td>20.0</td>\n",
       "      <td>111.0</td>\n",
       "      <td>86.0</td>\n",
       "      <td>94.0</td>\n",
       "      <td>0.0</td>\n",
       "      <td>0.0</td>\n",
       "      <td>5.0</td>\n",
       "      <td>0.0</td>\n",
       "      <td>0.0</td>\n",
       "      <td>NaN</td>\n",
       "    </tr>\n",
       "    <tr>\n",
       "      <th>598415</th>\n",
       "      <td>2008</td>\n",
       "      <td>1</td>\n",
       "      <td>5</td>\n",
       "      <td>6</td>\n",
       "      <td>XE</td>\n",
       "      <td>N12163</td>\n",
       "      <td>224</td>\n",
       "      <td>SAT</td>\n",
       "      <td>AUS</td>\n",
       "      <td>1655</td>\n",
       "      <td>...</td>\n",
       "      <td>17.0</td>\n",
       "      <td>111.0</td>\n",
       "      <td>86.0</td>\n",
       "      <td>66.0</td>\n",
       "      <td>0.0</td>\n",
       "      <td>0.0</td>\n",
       "      <td>5.0</td>\n",
       "      <td>0.0</td>\n",
       "      <td>0.0</td>\n",
       "      <td>NaN</td>\n",
       "    </tr>\n",
       "    <tr>\n",
       "      <th>599283</th>\n",
       "      <td>2008</td>\n",
       "      <td>1</td>\n",
       "      <td>24</td>\n",
       "      <td>4</td>\n",
       "      <td>XE</td>\n",
       "      <td>N14204</td>\n",
       "      <td>321</td>\n",
       "      <td>TUL</td>\n",
       "      <td>OKC</td>\n",
       "      <td>1835</td>\n",
       "      <td>...</td>\n",
       "      <td>25.0</td>\n",
       "      <td>111.0</td>\n",
       "      <td>86.0</td>\n",
       "      <td>111.0</td>\n",
       "      <td>0.0</td>\n",
       "      <td>0.0</td>\n",
       "      <td>5.0</td>\n",
       "      <td>0.0</td>\n",
       "      <td>0.0</td>\n",
       "      <td>NaN</td>\n",
       "    </tr>\n",
       "    <tr>\n",
       "      <th>602724</th>\n",
       "      <td>2008</td>\n",
       "      <td>1</td>\n",
       "      <td>15</td>\n",
       "      <td>2</td>\n",
       "      <td>XE</td>\n",
       "      <td>N14916</td>\n",
       "      <td>2760</td>\n",
       "      <td>IAH</td>\n",
       "      <td>HRL</td>\n",
       "      <td>2125</td>\n",
       "      <td>...</td>\n",
       "      <td>72.0</td>\n",
       "      <td>111.0</td>\n",
       "      <td>86.0</td>\n",
       "      <td>295.0</td>\n",
       "      <td>0.0</td>\n",
       "      <td>0.0</td>\n",
       "      <td>5.0</td>\n",
       "      <td>0.0</td>\n",
       "      <td>0.0</td>\n",
       "      <td>NaN</td>\n",
       "    </tr>\n",
       "  </tbody>\n",
       "</table>\n",
       "<p>204 rows × 30 columns</p>\n",
       "</div>"
      ],
      "text/plain": [
       "        YEAR  MONTH  DAY_OF_MONTH  DAY_OF_WEEK OP_UNIQUE_CARRIER TAIL_NUM  \\\n",
       "1496    2008      1            30            3                9E   88369E   \n",
       "5777    2008      1            27            7                9E   89649E   \n",
       "6149    2008      1            26            6                9E   84779E   \n",
       "34753   2008      1            10            4                MQ   N323AE   \n",
       "34791   2008      1            15            2                MQ   N240DS   \n",
       "...      ...    ...           ...          ...               ...      ...   \n",
       "596168  2008      1            31            4                WN   N340LV   \n",
       "597045  2008      1            29            2                XE   N13550   \n",
       "598415  2008      1             5            6                XE   N12163   \n",
       "599283  2008      1            24            4                XE   N14204   \n",
       "602724  2008      1            15            2                XE   N14916   \n",
       "\n",
       "        OP_CARRIER_FL_NUM ORIGIN DEST  CRS_DEP_TIME  ...  CRS_ELAPSED_TIME  \\\n",
       "1496                 3756    DTW  BUF          1013  ...             111.0   \n",
       "5777                 5955    SGF  MEM           640  ...             111.0   \n",
       "6149                 5965    MEM  XNA          1935  ...             111.0   \n",
       "34753                3011    LAX  FAT           815  ...              74.0   \n",
       "34791                3013    LAX  FAT          1000  ...              47.0   \n",
       "...                   ...    ...  ...           ...  ...               ...   \n",
       "596168               1330    STL  MDW          1225  ...              60.0   \n",
       "597045                125    SAN  ONT          2136  ...              20.0   \n",
       "598415                224    SAT  AUS          1655  ...              17.0   \n",
       "599283                321    TUL  OKC          1835  ...              25.0   \n",
       "602724               2760    IAH  HRL          2125  ...              72.0   \n",
       "\n",
       "        ACTUAL_ELAPSED_TIME  AIR_TIME  DISTANCE  CARRIER_DELAY  WEATHER_DELAY  \\\n",
       "1496                  111.0      86.0     240.0            0.0            0.0   \n",
       "5777                  111.0      86.0     243.0            0.0            0.0   \n",
       "6149                  111.0      86.0     258.0            0.0            0.0   \n",
       "34753                 111.0      86.0     209.0            0.0            0.0   \n",
       "34791                 111.0      86.0     209.0            0.0            0.0   \n",
       "...                     ...       ...       ...            ...            ...   \n",
       "596168                111.0      86.0     251.0            0.0            0.0   \n",
       "597045                111.0      86.0      94.0            0.0            0.0   \n",
       "598415                111.0      86.0      66.0            0.0            0.0   \n",
       "599283                111.0      86.0     111.0            0.0            0.0   \n",
       "602724                111.0      86.0     295.0            0.0            0.0   \n",
       "\n",
       "        NAS_DELAY  SECURITY_DELAY LATE_AIRCRAFT_DELAY  Unnamed: 29  \n",
       "1496          5.0             0.0                 0.0          NaN  \n",
       "5777          5.0             0.0                 0.0          NaN  \n",
       "6149          5.0             0.0                 0.0          NaN  \n",
       "34753         5.0             0.0                 0.0          NaN  \n",
       "34791         5.0             0.0                 0.0          NaN  \n",
       "...           ...             ...                 ...          ...  \n",
       "596168        5.0             0.0                 0.0          NaN  \n",
       "597045        5.0             0.0                 0.0          NaN  \n",
       "598415        5.0             0.0                 0.0          NaN  \n",
       "599283        5.0             0.0                 0.0          NaN  \n",
       "602724        5.0             0.0                 0.0          NaN  \n",
       "\n",
       "[204 rows x 30 columns]"
      ]
     },
     "execution_count": 16,
     "metadata": {},
     "output_type": "execute_result"
    }
   ],
   "source": [
    "# we use filter with diverted (yes=1)and when  Distance between airports is less than 300(miles)\n",
    "airlines[(airlines['DIVERTED']==1)& (airlines['DISTANCE']<300)]"
   ]
  },
  {
   "cell_type": "code",
   "execution_count": 17,
   "metadata": {
    "execution": {
     "iopub.execute_input": "2020-11-27T21:41:27.821890Z",
     "iopub.status.busy": "2020-11-27T21:41:27.821079Z",
     "iopub.status.idle": "2020-11-27T21:41:27.967121Z",
     "shell.execute_reply": "2020-11-27T21:41:27.966298Z"
    },
    "papermill": {
     "duration": 0.21408,
     "end_time": "2020-11-27T21:41:27.967253",
     "exception": false,
     "start_time": "2020-11-27T21:41:27.753173",
     "status": "completed"
    },
    "tags": []
   },
   "outputs": [
    {
     "data": {
      "text/html": [
       "<div>\n",
       "<style scoped>\n",
       "    .dataframe tbody tr th:only-of-type {\n",
       "        vertical-align: middle;\n",
       "    }\n",
       "\n",
       "    .dataframe tbody tr th {\n",
       "        vertical-align: top;\n",
       "    }\n",
       "\n",
       "    .dataframe thead th {\n",
       "        text-align: right;\n",
       "    }\n",
       "</style>\n",
       "<table border=\"1\" class=\"dataframe\">\n",
       "  <thead>\n",
       "    <tr style=\"text-align: right;\">\n",
       "      <th>CANCELLATION_CODE</th>\n",
       "      <th>A</th>\n",
       "      <th>B</th>\n",
       "      <th>C</th>\n",
       "      <th>D</th>\n",
       "    </tr>\n",
       "    <tr>\n",
       "      <th>DIVERTED</th>\n",
       "      <th></th>\n",
       "      <th></th>\n",
       "      <th></th>\n",
       "      <th></th>\n",
       "    </tr>\n",
       "  </thead>\n",
       "  <tbody>\n",
       "    <tr>\n",
       "      <th>0.0</th>\n",
       "      <td>6635</td>\n",
       "      <td>6711</td>\n",
       "      <td>3962</td>\n",
       "      <td>587130</td>\n",
       "    </tr>\n",
       "    <tr>\n",
       "      <th>1.0</th>\n",
       "      <td>0</td>\n",
       "      <td>0</td>\n",
       "      <td>0</td>\n",
       "      <td>1327</td>\n",
       "    </tr>\n",
       "  </tbody>\n",
       "</table>\n",
       "</div>"
      ],
      "text/plain": [
       "CANCELLATION_CODE     A     B     C       D\n",
       "DIVERTED                                   \n",
       "0.0                6635  6711  3962  587130\n",
       "1.0                   0     0     0    1327"
      ]
     },
     "execution_count": 17,
     "metadata": {},
     "output_type": "execute_result"
    }
   ],
   "source": [
    "airlines['DIVERTED'].unique()\n",
    "DIVERTED_CANCELLATION_CODE=pd.crosstab(airlines['DIVERTED'],airlines['CANCELLATION_CODE'])\n",
    "DIVERTED_CANCELLATION_CODE\n",
    "# As you see, if the Diverted Flight Indicator is 1=yes, the reason for cancellation is weather"
   ]
  },
  {
   "cell_type": "markdown",
   "metadata": {
    "papermill": {
     "duration": 0.063031,
     "end_time": "2020-11-27T21:41:28.094688",
     "exception": false,
     "start_time": "2020-11-27T21:41:28.031657",
     "status": "completed"
    },
    "tags": []
   },
   "source": [
    "# # Visualizations (scatter plot, bar graph, histogram, boxplot, subplot, pie chart, heatmap)"
   ]
  },
  {
   "cell_type": "code",
   "execution_count": 18,
   "metadata": {
    "execution": {
     "iopub.execute_input": "2020-11-27T21:41:28.234374Z",
     "iopub.status.busy": "2020-11-27T21:41:28.233346Z",
     "iopub.status.idle": "2020-11-27T21:41:28.434936Z",
     "shell.execute_reply": "2020-11-27T21:41:28.434130Z"
    },
    "papermill": {
     "duration": 0.27641,
     "end_time": "2020-11-27T21:41:28.435068",
     "exception": false,
     "start_time": "2020-11-27T21:41:28.158658",
     "status": "completed"
    },
    "tags": []
   },
   "outputs": [
    {
     "data": {
      "image/png": "[encoded data removed]",
      "text/plain": [
       "<Figure size 720x360 with 1 Axes>"
      ]
     },
     "metadata": {},
     "output_type": "display_data"
    }
   ],
   "source": [
    "# categorized the countries\n",
    "plt.rcParams['figure.figsize']=(10,5)\n",
    "airports['city'].value_counts().sort_values(ascending=False).head(10).plot.pie(y='city',autopct=\"%0.1f%%\")\n",
    "plt.title('The first 10 city with their destinations')\n",
    "plt.axis('off')\n",
    "plt.show()\n",
    "#the Greenville has the high most of amount destination(percantage)"
   ]
  },
  {
   "cell_type": "code",
   "execution_count": 19,
   "metadata": {
    "execution": {
     "iopub.execute_input": "2020-11-27T21:41:28.578302Z",
     "iopub.status.busy": "2020-11-27T21:41:28.577181Z",
     "iopub.status.idle": "2020-11-27T21:41:28.783393Z",
     "shell.execute_reply": "2020-11-27T21:41:28.782458Z"
    },
    "papermill": {
     "duration": 0.283374,
     "end_time": "2020-11-27T21:41:28.783543",
     "exception": false,
     "start_time": "2020-11-27T21:41:28.500169",
     "status": "completed"
    },
    "tags": []
   },
   "outputs": [
    {
     "data": {
      "image/png": "[encoded data removed]",
      "text/plain": [
       "<Figure size 720x432 with 1 Axes>"
      ]
     },
     "metadata": {
      "needs_background": "light"
     },
     "output_type": "display_data"
    }
   ],
   "source": [
    "plt.rcParams['figure.figsize']=(10,6)\n",
    "airports['state'].value_counts().sort_values(ascending=False).head(10).plot.bar(color='orange')\n",
    "plt.title('The first 10 state with their amounts')\n",
    "plt.xlabel('state')\n",
    "plt.ylabel('Counts')\n",
    "plt.show()"
   ]
  },
  {
   "cell_type": "code",
   "execution_count": 20,
   "metadata": {
    "execution": {
     "iopub.execute_input": "2020-11-27T21:41:28.949618Z",
     "iopub.status.busy": "2020-11-27T21:41:28.942103Z",
     "iopub.status.idle": "2020-11-27T21:41:29.119559Z",
     "shell.execute_reply": "2020-11-27T21:41:29.120178Z"
    },
    "papermill": {
     "duration": 0.263965,
     "end_time": "2020-11-27T21:41:29.120365",
     "exception": false,
     "start_time": "2020-11-27T21:41:28.856400",
     "status": "completed"
    },
    "tags": []
   },
   "outputs": [
    {
     "data": {
      "image/png": "[encoded data removed]",
      "text/plain": [
       "<Figure size 720x360 with 1 Axes>"
      ]
     },
     "metadata": {
      "needs_background": "light"
     },
     "output_type": "display_data"
    }
   ],
   "source": [
    "#Top 20 companies with most number of jobs\n",
    "plt.rcParams['figure.figsize']=(10,5)\n",
    "airports['country'].value_counts().sort_values(ascending=False).head(3).plot.bar(color='brown')\n",
    "plt.title('Top 20 country with number of their destinations')\n",
    "plt.xlabel('countries')\n",
    "plt.ylabel('Counts')\n",
    "plt.show()"
   ]
  },
  {
   "cell_type": "code",
   "execution_count": 21,
   "metadata": {
    "execution": {
     "iopub.execute_input": "2020-11-27T21:41:29.302692Z",
     "iopub.status.busy": "2020-11-27T21:41:29.301897Z",
     "iopub.status.idle": "2020-11-27T21:41:29.842619Z",
     "shell.execute_reply": "2020-11-27T21:41:29.841893Z"
    },
    "papermill": {
     "duration": 0.653954,
     "end_time": "2020-11-27T21:41:29.842760",
     "exception": false,
     "start_time": "2020-11-27T21:41:29.188806",
     "status": "completed"
    },
    "tags": []
   },
   "outputs": [
    {
     "data": {
      "image/png": "[encoded data removed]",
      "text/plain": [
       "<Figure size 720x360 with 1 Axes>"
      ]
     },
     "metadata": {
      "needs_background": "light"
     },
     "output_type": "display_data"
    },
    {
     "data": {
      "text/plain": [
       "<Figure size 720x360 with 0 Axes>"
      ]
     },
     "metadata": {},
     "output_type": "display_data"
    }
   ],
   "source": [
    "sns.countplot(data=airlines,y='CANCELLATION_CODE',hue='CANCELLED')\n",
    "plt.title('why the flight is  cancelled')\n",
    "plt.figure(figsize=(10,5))\n",
    "plt.show()\n",
    "# it shows the weather is the main reason for cancellation when is (zero)"
   ]
  },
  {
   "cell_type": "code",
   "execution_count": 22,
   "metadata": {
    "execution": {
     "iopub.execute_input": "2020-11-27T21:41:29.996423Z",
     "iopub.status.busy": "2020-11-27T21:41:29.994816Z",
     "iopub.status.idle": "2020-11-27T21:41:30.323281Z",
     "shell.execute_reply": "2020-11-27T21:41:30.322438Z"
    },
    "papermill": {
     "duration": 0.407056,
     "end_time": "2020-11-27T21:41:30.323412",
     "exception": false,
     "start_time": "2020-11-27T21:41:29.916356",
     "status": "completed"
    },
    "tags": []
   },
   "outputs": [
    {
     "data": {
      "text/plain": [
       "<seaborn.axisgrid.FacetGrid at 0x7f73cecb7b50>"
      ]
     },
     "execution_count": 22,
     "metadata": {},
     "output_type": "execute_result"
    },
    {
     "data": {
      "image/png": "[encoded data removed]",
      "text/plain": [
       "<Figure size 360x360 with 1 Axes>"
      ]
     },
     "metadata": {
      "needs_background": "light"
     },
     "output_type": "display_data"
    }
   ],
   "source": [
    "sns.catplot('country','long',data=airports,kind='box', color='red')\n",
    "# the US has the most longitude of the airport"
   ]
  },
  {
   "cell_type": "code",
   "execution_count": 23,
   "metadata": {
    "execution": {
     "iopub.execute_input": "2020-11-27T21:41:30.477010Z",
     "iopub.status.busy": "2020-11-27T21:41:30.475791Z",
     "iopub.status.idle": "2020-11-27T21:41:30.784147Z",
     "shell.execute_reply": "2020-11-27T21:41:30.783323Z"
    },
    "papermill": {
     "duration": 0.390864,
     "end_time": "2020-11-27T21:41:30.784281",
     "exception": false,
     "start_time": "2020-11-27T21:41:30.393417",
     "status": "completed"
    },
    "tags": []
   },
   "outputs": [
    {
     "data": {
      "text/plain": [
       "(array([5.69975e+05, 3.34750e+04, 1.99800e+03, 2.11000e+02, 5.10000e+01,\n",
       "        3.20000e+01, 1.40000e+01, 7.00000e+00, 1.00000e+00, 1.00000e+00]),\n",
       " array([ -91. ,   70.6,  232.2,  393.8,  555.4,  717. ,  878.6, 1040.2,\n",
       "        1201.8, 1363.4, 1525. ]),\n",
       " <a list of 10 Patch objects>)"
      ]
     },
     "execution_count": 23,
     "metadata": {},
     "output_type": "execute_result"
    },
    {
     "data": {
      "image/png": "[encoded data removed]",
      "text/plain": [
       "<Figure size 720x360 with 1 Axes>"
      ]
     },
     "metadata": {
      "needs_background": "light"
     },
     "output_type": "display_data"
    }
   ],
   "source": [
    "plt.hist(airlines['ARR_DELAY'])\n",
    "#Difference in minutes between scheduled and actual arrival time. Early arrivals show negative numbers.(between lower than zero until 200(almost))."
   ]
  },
  {
   "cell_type": "code",
   "execution_count": 24,
   "metadata": {
    "execution": {
     "iopub.execute_input": "2020-11-27T21:41:30.955518Z",
     "iopub.status.busy": "2020-11-27T21:41:30.954377Z",
     "iopub.status.idle": "2020-11-27T21:41:40.802779Z",
     "shell.execute_reply": "2020-11-27T21:41:40.802026Z"
    },
    "papermill": {
     "duration": 9.938545,
     "end_time": "2020-11-27T21:41:40.802928",
     "exception": false,
     "start_time": "2020-11-27T21:41:30.864383",
     "status": "completed"
    },
    "tags": []
   },
   "outputs": [
    {
     "data": {
      "text/plain": [
       "<seaborn.axisgrid.FacetGrid at 0x7f73cf11e890>"
      ]
     },
     "execution_count": 24,
     "metadata": {},
     "output_type": "execute_result"
    },
    {
     "data": {
      "image/png": "[encoded data removed]",
      "text/plain": [
       "<Figure size 360x360 with 1 Axes>"
      ]
     },
     "metadata": {
      "needs_background": "light"
     },
     "output_type": "display_data"
    }
   ],
   "source": [
    "sns.relplot('DIVERTED','TAXI_IN',data=airlines,kind='line')"
   ]
  },
  {
   "cell_type": "code",
   "execution_count": 25,
   "metadata": {
    "execution": {
     "iopub.execute_input": "2020-11-27T21:41:40.960777Z",
     "iopub.status.busy": "2020-11-27T21:41:40.959583Z",
     "iopub.status.idle": "2020-11-27T21:41:42.491171Z",
     "shell.execute_reply": "2020-11-27T21:41:42.490524Z"
    },
    "papermill": {
     "duration": 1.616012,
     "end_time": "2020-11-27T21:41:42.491292",
     "exception": false,
     "start_time": "2020-11-27T21:41:40.875280",
     "status": "completed"
    },
    "tags": []
   },
   "outputs": [
    {
     "data": {
      "text/plain": [
       "<matplotlib.axes._subplots.AxesSubplot at 0x7f73cc99a110>"
      ]
     },
     "execution_count": 25,
     "metadata": {},
     "output_type": "execute_result"
    },
    {
     "data": {
      "image/png": "[encoded data removed]",
      "text/plain": [
       "<Figure size 720x360 with 1 Axes>"
      ]
     },
     "metadata": {
      "needs_background": "light"
     },
     "output_type": "display_data"
    }
   ],
   "source": [
    "sns.scatterplot(x='ARR_DELAY',y='WEATHER_DELAY',\n",
    "        data=airlines,color='pink')\n",
    "#we figure out the most the Actual Arrival Time for weather delay is between zero and 400(hhmm)"
   ]
  },
  {
   "cell_type": "code",
   "execution_count": 26,
   "metadata": {
    "execution": {
     "iopub.execute_input": "2020-11-27T21:41:42.654370Z",
     "iopub.status.busy": "2020-11-27T21:41:42.646357Z",
     "iopub.status.idle": "2020-11-27T21:41:43.350019Z",
     "shell.execute_reply": "2020-11-27T21:41:43.349412Z"
    },
    "papermill": {
     "duration": 0.784995,
     "end_time": "2020-11-27T21:41:43.350152",
     "exception": false,
     "start_time": "2020-11-27T21:41:42.565157",
     "status": "completed"
    },
    "tags": []
   },
   "outputs": [
    {
     "data": {
      "image/png": "[encoded data removed]",
      "text/plain": [
       "<Figure size 720x360 with 1 Axes>"
      ]
     },
     "metadata": {
      "needs_background": "light"
     },
     "output_type": "display_data"
    }
   ],
   "source": [
    "fig,ax=plt.subplots(figsize=(10,5))\n",
    "sns.countplot(airlines['CANCELLED'],hue=airlines['CANCELLATION_CODE'],ax=ax)\n",
    "plt.xlabel('Cancelled')\n",
    "plt.ylabel('Cancelled reason')\n",
    "plt.xticks(rotation=50)\n",
    "plt.show()\n",
    "#it is clear that the weather has the main portion for cancelling the flight"
   ]
  },
  {
   "cell_type": "code",
   "execution_count": 27,
   "metadata": {
    "execution": {
     "iopub.execute_input": "2020-11-27T21:41:43.516047Z",
     "iopub.status.busy": "2020-11-27T21:41:43.509703Z",
     "iopub.status.idle": "2020-11-27T21:41:45.288983Z",
     "shell.execute_reply": "2020-11-27T21:41:45.288328Z"
    },
    "papermill": {
     "duration": 1.863481,
     "end_time": "2020-11-27T21:41:45.289112",
     "exception": false,
     "start_time": "2020-11-27T21:41:43.425631",
     "status": "completed"
    },
    "tags": []
   },
   "outputs": [
    {
     "data": {
      "image/png": "[encoded data removed]",
      "text/plain": [
       "<Figure size 2160x2016 with 5 Axes>"
      ]
     },
     "metadata": {
      "needs_background": "light"
     },
     "output_type": "display_data"
    }
   ],
   "source": [
    "# abundance for each of the columns\n",
    "import itertools\n",
    "columns=airlines.columns[:5]\n",
    "plt.subplots(figsize=(30,28))\n",
    "length=len(columns)\n",
    "for i,j in itertools.zip_longest(columns,range(length)):\n",
    "    plt.subplot((length/2),5,j+1)\n",
    "    plt.subplots_adjust(wspace=0.3,hspace=0.8)\n",
    "    airlines[i].hist(bins=30,edgecolor='black')\n",
    "    plt.title(i)\n",
    "plt.show()"
   ]
  },
  {
   "cell_type": "code",
   "execution_count": 28,
   "metadata": {
    "execution": {
     "iopub.execute_input": "2020-11-27T21:41:45.451042Z",
     "iopub.status.busy": "2020-11-27T21:41:45.450211Z",
     "iopub.status.idle": "2020-11-27T21:41:48.641641Z",
     "shell.execute_reply": "2020-11-27T21:41:48.642289Z"
    },
    "papermill": {
     "duration": 3.275859,
     "end_time": "2020-11-27T21:41:48.642474",
     "exception": false,
     "start_time": "2020-11-27T21:41:45.366615",
     "status": "completed"
    },
    "tags": []
   },
   "outputs": [
    {
     "data": {
      "image/png": "[encoded data removed]",
      "text/plain": [
       "<Figure size 1008x864 with 2 Axes>"
      ]
     },
     "metadata": {
      "needs_background": "light"
     },
     "output_type": "display_data"
    }
   ],
   "source": [
    "# Dataframe correlation\n",
    "del_corr = airlines.corr()\n",
    "\n",
    "# figure\n",
    "f, ax = plt.subplots(figsize=(14, 12))\n",
    "\n",
    "# Draw the heatmap\n",
    "sns.heatmap(del_corr,annot=True,cmap='inferno')\n",
    "plt.show()"
   ]
  },
  {
   "cell_type": "markdown",
   "metadata": {
    "papermill": {
     "duration": 0.082431,
     "end_time": "2020-11-27T21:41:48.808077",
     "exception": false,
     "start_time": "2020-11-27T21:41:48.725646",
     "status": "completed"
    },
    "tags": []
   },
   "source": [
    "* we have 2 correlation: positive (more then .6 ) and negative (less than .6 and higher than .2)\n",
    "* Positive correlations between:\n",
    "* DEPARTURE_DELAY and\n",
    "* CARRIER_DELAY\n",
    "* LATE_AIRCRAFT_DELAY\n",
    "* ARRIVAL_DELAY and\n",
    "* DEPARTURE_DELAY\n",
    "* LATE_AIRCRAFT_DELAY\n",
    "\n",
    "* Negative correlation between:\n",
    "* ARRIVAL_DELAY and\n",
    "* NAS_DELAY\n",
    "* WEATHER_DELAY\n",
    "* DEPARTURE_DELAY and\n",
    "* NAS_DELAY\n",
    "* WEATHER_DELAY\n",
    "* TAXI_OUT and\n",
    "* ELAPSED_TIME"
   ]
  },
  {
   "cell_type": "code",
   "execution_count": 29,
   "metadata": {
    "execution": {
     "iopub.execute_input": "2020-11-27T21:41:49.029819Z",
     "iopub.status.busy": "2020-11-27T21:41:49.028853Z",
     "iopub.status.idle": "2020-11-27T21:41:49.033546Z",
     "shell.execute_reply": "2020-11-27T21:41:49.032821Z"
    },
    "papermill": {
     "duration": 0.142876,
     "end_time": "2020-11-27T21:41:49.033665",
     "exception": false,
     "start_time": "2020-11-27T21:41:48.890789",
     "status": "completed"
    },
    "tags": []
   },
   "outputs": [],
   "source": [
    "# Marking the delayed flights\n",
    "airlines['DELAYED'] = airlines.loc[:,'ARR_DELAY'].values > 0"
   ]
  },
  {
   "cell_type": "code",
   "execution_count": 30,
   "metadata": {
    "execution": {
     "iopub.execute_input": "2020-11-27T21:41:49.221963Z",
     "iopub.status.busy": "2020-11-27T21:41:49.220890Z",
     "iopub.status.idle": "2020-11-27T21:41:49.932167Z",
     "shell.execute_reply": "2020-11-27T21:41:49.931287Z"
    },
    "papermill": {
     "duration": 0.814707,
     "end_time": "2020-11-27T21:41:49.932330",
     "exception": false,
     "start_time": "2020-11-27T21:41:49.117623",
     "status": "completed"
    },
    "tags": []
   },
   "outputs": [
    {
     "data": {
      "image/png": "[encoded data removed]",
      "text/plain": [
       "<Figure size 720x864 with 1 Axes>"
      ]
     },
     "metadata": {
      "needs_background": "light"
     },
     "output_type": "display_data"
    }
   ],
   "source": [
    "figsize=plt.subplots(figsize=(10,12))\n",
    "sns.countplot(x='DELAYED',hue='CANCELLATION_CODE',data=airlines,color='purple')\n",
    "plt.show()\n",
    "#The most cancellation portion is for weather problem when we have delay also and not"
   ]
  },
  {
   "cell_type": "markdown",
   "metadata": {
    "papermill": {
     "duration": 0.084351,
     "end_time": "2020-11-27T21:41:50.104280",
     "exception": false,
     "start_time": "2020-11-27T21:41:50.019929",
     "status": "completed"
    },
    "tags": []
   },
   "source": [
    "* In this part, we want to know which part of delay has the most portion (1-Carrier Delay in Minutes,2-Weather Delay in Minutes,3-National Air System Delay in Minutes,4-SecurityDelay in Minutes,5-Late Aircraft Delay, in Minutes)"
   ]
  },
  {
   "cell_type": "code",
   "execution_count": 31,
   "metadata": {
    "execution": {
     "iopub.execute_input": "2020-11-27T21:41:50.287725Z",
     "iopub.status.busy": "2020-11-27T21:41:50.286977Z",
     "iopub.status.idle": "2020-11-27T21:41:50.289855Z",
     "shell.execute_reply": "2020-11-27T21:41:50.290406Z"
    },
    "papermill": {
     "duration": 0.100411,
     "end_time": "2020-11-27T21:41:50.290571",
     "exception": false,
     "start_time": "2020-11-27T21:41:50.190160",
     "status": "completed"
    },
    "tags": []
   },
   "outputs": [],
   "source": [
    "# Label definition\n",
    "y = airlines.DELAYED\n",
    "\n",
    "# Choosing the predictors\n",
    "feature_list_s = [\n",
    "    'LATE_AIRCRAFT_DELAY'\n",
    "    ,'CARRIER_DELAY'\n",
    "    ,'NAS_DELAY'\n",
    "    ,'WEATHER_DELAY'\n",
    "    ,'ACTUAL_ELAPSED_TIME']\n",
    "\n",
    "# New dataframe based on a small feature list\n",
    "df = airlines[feature_list_s]"
   ]
  },
  {
   "cell_type": "code",
   "execution_count": 32,
   "metadata": {
    "execution": {
     "iopub.execute_input": "2020-11-27T21:41:50.469115Z",
     "iopub.status.busy": "2020-11-27T21:41:50.468255Z",
     "iopub.status.idle": "2020-11-27T21:41:50.836060Z",
     "shell.execute_reply": "2020-11-27T21:41:50.835224Z"
    },
    "papermill": {
     "duration": 0.460489,
     "end_time": "2020-11-27T21:41:50.836197",
     "exception": false,
     "start_time": "2020-11-27T21:41:50.375708",
     "status": "completed"
    },
    "tags": []
   },
   "outputs": [],
   "source": [
    "from sklearn import metrics \n",
    "from sklearn.metrics import roc_auc_score,precision_score,recall_score,auc,accuracy_score\n",
    "from sklearn.metrics import classification_report, confusion_matrix\n",
    "from sklearn.tree import DecisionTreeClassifier\n",
    "from sklearn.ensemble import RandomForestClassifier\n",
    "from sklearn.svm import SVC\n",
    "from sklearn.linear_model import LogisticRegression\n",
    "from sklearn.naive_bayes import GaussianNB\n",
    "from sklearn.model_selection import cross_val_score\n",
    "from sklearn.ensemble import GradientBoostingClassifier"
   ]
  },
  {
   "cell_type": "code",
   "execution_count": 33,
   "metadata": {
    "execution": {
     "iopub.execute_input": "2020-11-27T21:41:51.016478Z",
     "iopub.status.busy": "2020-11-27T21:41:51.015657Z",
     "iopub.status.idle": "2020-11-27T21:41:57.094638Z",
     "shell.execute_reply": "2020-11-27T21:41:57.094009Z"
    },
    "papermill": {
     "duration": 6.173746,
     "end_time": "2020-11-27T21:41:57.094779",
     "exception": false,
     "start_time": "2020-11-27T21:41:50.921033",
     "status": "completed"
    },
    "tags": []
   },
   "outputs": [
    {
     "data": {
      "text/plain": [
       "RandomForestClassifier(n_estimators=10, random_state=32)"
      ]
     },
     "execution_count": 33,
     "metadata": {},
     "output_type": "execute_result"
    }
   ],
   "source": [
    "clf = RandomForestClassifier(n_estimators = 10, random_state=32) \n",
    "clf.fit(df, y)"
   ]
  },
  {
   "cell_type": "code",
   "execution_count": 34,
   "metadata": {
    "execution": {
     "iopub.execute_input": "2020-11-27T21:41:57.274928Z",
     "iopub.status.busy": "2020-11-27T21:41:57.274136Z",
     "iopub.status.idle": "2020-11-27T21:41:57.292079Z",
     "shell.execute_reply": "2020-11-27T21:41:57.291429Z"
    },
    "papermill": {
     "duration": 0.111085,
     "end_time": "2020-11-27T21:41:57.292216",
     "exception": false,
     "start_time": "2020-11-27T21:41:57.181131",
     "status": "completed"
    },
    "tags": []
   },
   "outputs": [
    {
     "data": {
      "text/html": [
       "<div>\n",
       "<style scoped>\n",
       "    .dataframe tbody tr th:only-of-type {\n",
       "        vertical-align: middle;\n",
       "    }\n",
       "\n",
       "    .dataframe tbody tr th {\n",
       "        vertical-align: top;\n",
       "    }\n",
       "\n",
       "    .dataframe thead tr th {\n",
       "        text-align: left;\n",
       "    }\n",
       "</style>\n",
       "<table border=\"1\" class=\"dataframe\">\n",
       "  <thead>\n",
       "    <tr>\n",
       "      <th></th>\n",
       "      <th>Variables</th>\n",
       "      <th>crucial</th>\n",
       "    </tr>\n",
       "  </thead>\n",
       "  <tbody>\n",
       "    <tr>\n",
       "      <th>0</th>\n",
       "      <td>LATE_AIRCRAFT_DELAY</td>\n",
       "      <td>0.17598</td>\n",
       "    </tr>\n",
       "    <tr>\n",
       "      <th>1</th>\n",
       "      <td>CARRIER_DELAY</td>\n",
       "      <td>0.14784</td>\n",
       "    </tr>\n",
       "    <tr>\n",
       "      <th>2</th>\n",
       "      <td>NAS_DELAY</td>\n",
       "      <td>0.608264</td>\n",
       "    </tr>\n",
       "    <tr>\n",
       "      <th>3</th>\n",
       "      <td>WEATHER_DELAY</td>\n",
       "      <td>0.0104089</td>\n",
       "    </tr>\n",
       "    <tr>\n",
       "      <th>4</th>\n",
       "      <td>ACTUAL_ELAPSED_TIME</td>\n",
       "      <td>0.0575071</td>\n",
       "    </tr>\n",
       "  </tbody>\n",
       "</table>\n",
       "</div>"
      ],
      "text/plain": [
       "             Variables    crucial\n",
       "0  LATE_AIRCRAFT_DELAY    0.17598\n",
       "1        CARRIER_DELAY    0.14784\n",
       "2            NAS_DELAY   0.608264\n",
       "3        WEATHER_DELAY  0.0104089\n",
       "4  ACTUAL_ELAPSED_TIME  0.0575071"
      ]
     },
     "execution_count": 34,
     "metadata": {},
     "output_type": "execute_result"
    }
   ],
   "source": [
    "importances=clf.feature_importances_\n",
    "importances=pd.DataFrame([df.columns,importances]).transpose()\n",
    "importances.columns=[['Variables','crucial']]\n",
    "importances\n",
    "# we can see the NAS DELAY has the highest portion that has been delayed."
   ]
  },
  {
   "cell_type": "markdown",
   "metadata": {
    "papermill": {
     "duration": 0.085641,
     "end_time": "2020-11-27T21:41:57.464215",
     "exception": false,
     "start_time": "2020-11-27T21:41:57.378574",
     "status": "completed"
    },
    "tags": []
   },
   "source": [
    "# we want to make models with (Naïve Bayes, Logistic Regression, Decision Tree,Random Forest, Gradient Boosting and SVM)"
   ]
  },
  {
   "cell_type": "markdown",
   "metadata": {
    "papermill": {
     "duration": 0.085988,
     "end_time": "2020-11-27T21:41:57.637393",
     "exception": false,
     "start_time": "2020-11-27T21:41:57.551405",
     "status": "completed"
    },
    "tags": []
   },
   "source": [
    "* we are going to trian and test the model and should define the x and y"
   ]
  },
  {
   "cell_type": "code",
   "execution_count": 35,
   "metadata": {
    "execution": {
     "iopub.execute_input": "2020-11-27T21:41:57.818457Z",
     "iopub.status.busy": "2020-11-27T21:41:57.817655Z",
     "iopub.status.idle": "2020-11-27T21:41:57.883480Z",
     "shell.execute_reply": "2020-11-27T21:41:57.882761Z"
    },
    "papermill": {
     "duration": 0.160021,
     "end_time": "2020-11-27T21:41:57.883604",
     "exception": false,
     "start_time": "2020-11-27T21:41:57.723583",
     "status": "completed"
    },
    "tags": []
   },
   "outputs": [],
   "source": [
    "# choosing the predictors\n",
    "feature_list = [\n",
    "    'YEAR'\n",
    "    ,'MONTH'\n",
    "    ,'LATE_AIRCRAFT_DELAY'\n",
    "    ,'ARR_DELAY'\n",
    "    ,'NAS_DELAY'\n",
    "    ,'WEATHER_DELAY'\n",
    "    ,'ACTUAL_ELAPSED_TIME'\n",
    "    ,'DEP_DELAY'\n",
    "    ,'CARRIER_DELAY'\n",
    "    ,'AIR_TIME'\n",
    "    ,'DISTANCE'\n",
    "    ,'TAXI_IN'\n",
    "    ,'TAXI_OUT'\n",
    "    ,'DAY_OF_WEEK'\n",
    "    ,'SECURITY_DELAY'\n",
    "    ,'CRS_ARR_TIME'\n",
    "    ,'CANCELLED'\n",
    "    ,'DEP_TIME'\n",
    "]\n",
    "\n",
    "    \n",
    "airlines_1=airlines.sample(n=50000)\n",
    "X = airlines_1[feature_list]"
   ]
  },
  {
   "cell_type": "code",
   "execution_count": 36,
   "metadata": {
    "execution": {
     "iopub.execute_input": "2020-11-27T21:41:58.065230Z",
     "iopub.status.busy": "2020-11-27T21:41:58.063990Z",
     "iopub.status.idle": "2020-11-27T21:41:58.078575Z",
     "shell.execute_reply": "2020-11-27T21:41:58.079501Z"
    },
    "papermill": {
     "duration": 0.108082,
     "end_time": "2020-11-27T21:41:58.079711",
     "exception": false,
     "start_time": "2020-11-27T21:41:57.971629",
     "status": "completed"
    },
    "tags": []
   },
   "outputs": [
    {
     "name": "stdout",
     "output_type": "stream",
     "text": [
      "<class 'pandas.core.frame.DataFrame'>\n",
      "Int64Index: 50000 entries, 298719 to 542168\n",
      "Data columns (total 18 columns):\n",
      " #   Column               Non-Null Count  Dtype  \n",
      "---  ------               --------------  -----  \n",
      " 0   YEAR                 50000 non-null  int64  \n",
      " 1   MONTH                50000 non-null  int64  \n",
      " 2   LATE_AIRCRAFT_DELAY  50000 non-null  float64\n",
      " 3   ARR_DELAY            50000 non-null  float64\n",
      " 4   NAS_DELAY            50000 non-null  float64\n",
      " 5   WEATHER_DELAY        50000 non-null  float64\n",
      " 6   ACTUAL_ELAPSED_TIME  50000 non-null  float64\n",
      " 7   DEP_DELAY            50000 non-null  float64\n",
      " 8   CARRIER_DELAY        50000 non-null  float64\n",
      " 9   AIR_TIME             50000 non-null  float64\n",
      " 10  DISTANCE             50000 non-null  float64\n",
      " 11  TAXI_IN              50000 non-null  float64\n",
      " 12  TAXI_OUT             50000 non-null  float64\n",
      " 13  DAY_OF_WEEK          50000 non-null  int64  \n",
      " 14  SECURITY_DELAY       50000 non-null  float64\n",
      " 15  CRS_ARR_TIME         50000 non-null  int64  \n",
      " 16  CANCELLED            50000 non-null  float64\n",
      " 17  DEP_TIME             50000 non-null  float64\n",
      "dtypes: float64(14), int64(4)\n",
      "memory usage: 7.2 MB\n"
     ]
    }
   ],
   "source": [
    "X.info()"
   ]
  },
  {
   "cell_type": "code",
   "execution_count": 37,
   "metadata": {
    "execution": {
     "iopub.execute_input": "2020-11-27T21:41:58.260515Z",
     "iopub.status.busy": "2020-11-27T21:41:58.259432Z",
     "iopub.status.idle": "2020-11-27T21:41:58.262342Z",
     "shell.execute_reply": "2020-11-27T21:41:58.262916Z"
    },
    "papermill": {
     "duration": 0.095369,
     "end_time": "2020-11-27T21:41:58.263087",
     "exception": false,
     "start_time": "2020-11-27T21:41:58.167718",
     "status": "completed"
    },
    "tags": []
   },
   "outputs": [],
   "source": [
    "y = airlines_1.DELAYED"
   ]
  },
  {
   "cell_type": "code",
   "execution_count": 38,
   "metadata": {
    "execution": {
     "iopub.execute_input": "2020-11-27T21:41:58.447291Z",
     "iopub.status.busy": "2020-11-27T21:41:58.446478Z",
     "iopub.status.idle": "2020-11-27T21:41:58.481246Z",
     "shell.execute_reply": "2020-11-27T21:41:58.481834Z"
    },
    "papermill": {
     "duration": 0.131,
     "end_time": "2020-11-27T21:41:58.482001",
     "exception": false,
     "start_time": "2020-11-27T21:41:58.351001",
     "status": "completed"
    },
    "tags": []
   },
   "outputs": [],
   "source": [
    "from sklearn import preprocessing\n",
    "from sklearn.model_selection import train_test_split\n",
    "X_train,X_test,y_train,y_test=train_test_split(X,y,test_size=0.2,random_state=153)\n",
    "from sklearn.preprocessing import scale\n",
    "X_train=scale(X_train)\n",
    "X_test=scale(X_test)"
   ]
  },
  {
   "cell_type": "markdown",
   "metadata": {
    "papermill": {
     "duration": 0.086524,
     "end_time": "2020-11-27T21:41:58.655502",
     "exception": false,
     "start_time": "2020-11-27T21:41:58.568978",
     "status": "completed"
    },
    "tags": []
   },
   "source": [
    "# Linear Regression model"
   ]
  },
  {
   "cell_type": "code",
   "execution_count": 39,
   "metadata": {
    "execution": {
     "iopub.execute_input": "2020-11-27T21:41:58.836365Z",
     "iopub.status.busy": "2020-11-27T21:41:58.835530Z",
     "iopub.status.idle": "2020-11-27T21:41:59.219722Z",
     "shell.execute_reply": "2020-11-27T21:41:59.218757Z"
    },
    "papermill": {
     "duration": 0.477331,
     "end_time": "2020-11-27T21:41:59.219937",
     "exception": false,
     "start_time": "2020-11-27T21:41:58.742606",
     "status": "completed"
    },
    "tags": []
   },
   "outputs": [
    {
     "name": "stdout",
     "output_type": "stream",
     "text": [
      "[ 0.00000000e+00  0.00000000e+00  1.18977981e-02  3.94388404e+01\n",
      "  1.12010205e-02  1.93509675e-02  9.81992869e-02  6.98331003e-02\n",
      " -1.45401677e-02  2.76099008e-01 -3.63597215e-01  2.65002469e-02\n",
      "  1.00026907e-01 -3.69843736e-03 -5.78758406e-03 -1.51196964e-02\n",
      " -1.32730374e+00  3.78684672e-02]\n",
      "[9.30151917]\n"
     ]
    }
   ],
   "source": [
    "from sklearn.linear_model import LogisticRegression\n",
    "model=LogisticRegression()\n",
    "model=model.fit(X_train,y_train)\n",
    "slope=model.coef_\n",
    "coef=model.intercept_\n",
    "print(slope.flatten())\n",
    "print(coef)"
   ]
  },
  {
   "cell_type": "code",
   "execution_count": 40,
   "metadata": {
    "execution": {
     "iopub.execute_input": "2020-11-27T21:41:59.425430Z",
     "iopub.status.busy": "2020-11-27T21:41:59.424598Z",
     "iopub.status.idle": "2020-11-27T21:41:59.431092Z",
     "shell.execute_reply": "2020-11-27T21:41:59.430472Z"
    },
    "papermill": {
     "duration": 0.111154,
     "end_time": "2020-11-27T21:41:59.431225",
     "exception": false,
     "start_time": "2020-11-27T21:41:59.320071",
     "status": "completed"
    },
    "tags": []
   },
   "outputs": [
    {
     "data": {
      "text/plain": [
       "array([ True, False,  True, ..., False,  True,  True])"
      ]
     },
     "execution_count": 40,
     "metadata": {},
     "output_type": "execute_result"
    }
   ],
   "source": [
    "predictions=model.predict(X_test)\n",
    "predictions"
   ]
  },
  {
   "cell_type": "code",
   "execution_count": 41,
   "metadata": {
    "execution": {
     "iopub.execute_input": "2020-11-27T21:41:59.615653Z",
     "iopub.status.busy": "2020-11-27T21:41:59.614790Z",
     "iopub.status.idle": "2020-11-27T21:41:59.621455Z",
     "shell.execute_reply": "2020-11-27T21:41:59.620597Z"
    },
    "papermill": {
     "duration": 0.100803,
     "end_time": "2020-11-27T21:41:59.621597",
     "exception": false,
     "start_time": "2020-11-27T21:41:59.520794",
     "status": "completed"
    },
    "tags": []
   },
   "outputs": [
    {
     "data": {
      "text/plain": [
       "0.9997"
      ]
     },
     "execution_count": 41,
     "metadata": {},
     "output_type": "execute_result"
    }
   ],
   "source": [
    "score=accuracy_score(y_test,predictions)\n",
    "score"
   ]
  },
  {
   "cell_type": "markdown",
   "metadata": {
    "papermill": {
     "duration": 0.088245,
     "end_time": "2020-11-27T21:41:59.799275",
     "exception": false,
     "start_time": "2020-11-27T21:41:59.711030",
     "status": "completed"
    },
    "tags": []
   },
   "source": [
    "* SelectKBest and RFE for feature selections"
   ]
  },
  {
   "cell_type": "markdown",
   "metadata": {
    "papermill": {
     "duration": 0.092152,
     "end_time": "2020-11-27T21:41:59.980091",
     "exception": false,
     "start_time": "2020-11-27T21:41:59.887939",
     "status": "completed"
    },
    "tags": []
   },
   "source": [
    "* Recursive Feature Elimination, or RFE for short, is a popular feature selection algorithm.\n",
    "RFE is popular because it is easy to configure and use and because it is effective at selecting those features (columns) in a training dataset that are more or most relevant in predicting the target variable."
   ]
  },
  {
   "cell_type": "code",
   "execution_count": 42,
   "metadata": {
    "execution": {
     "iopub.execute_input": "2020-11-27T21:42:00.164125Z",
     "iopub.status.busy": "2020-11-27T21:42:00.163285Z",
     "iopub.status.idle": "2020-11-27T21:42:00.227239Z",
     "shell.execute_reply": "2020-11-27T21:42:00.226450Z"
    },
    "papermill": {
     "duration": 0.158644,
     "end_time": "2020-11-27T21:42:00.227367",
     "exception": false,
     "start_time": "2020-11-27T21:42:00.068723",
     "status": "completed"
    },
    "tags": []
   },
   "outputs": [],
   "source": [
    "from mlxtend.feature_selection import SequentialFeatureSelector as SFS\n",
    "from mlxtend.plotting import plot_sequential_feature_selection as plot_sfs\n",
    "from sklearn.linear_model import LinearRegression"
   ]
  },
  {
   "cell_type": "code",
   "execution_count": 43,
   "metadata": {
    "execution": {
     "iopub.execute_input": "2020-11-27T21:42:00.415806Z",
     "iopub.status.busy": "2020-11-27T21:42:00.414543Z",
     "iopub.status.idle": "2020-11-27T21:42:27.423455Z",
     "shell.execute_reply": "2020-11-27T21:42:27.424107Z"
    },
    "papermill": {
     "duration": 27.107728,
     "end_time": "2020-11-27T21:42:27.424278",
     "exception": false,
     "start_time": "2020-11-27T21:42:00.316550",
     "status": "completed"
    },
    "tags": []
   },
   "outputs": [
    {
     "data": {
      "image/png": "[encoded data removed]",
      "text/plain": [
       "<Figure size 720x360 with 1 Axes>"
      ]
     },
     "metadata": {
      "needs_background": "light"
     },
     "output_type": "display_data"
    }
   ],
   "source": [
    "model_second = LinearRegression()\n",
    "sfs = SFS(model_second, k_features='best', forward=True, floating=False, \n",
    "          scoring='neg_mean_squared_error', cv=20)\n",
    "model = sfs.fit(X_train, y_train)\n",
    "\n",
    "fig = plot_sfs(sfs.get_metric_dict(), kind='std_err')\n",
    "\n",
    "plt.title('Sequential Forward Selection (w. StdErr)')\n",
    "plt.grid()\n",
    "plt.show()"
   ]
  },
  {
   "cell_type": "code",
   "execution_count": 44,
   "metadata": {
    "execution": {
     "iopub.execute_input": "2020-11-27T21:42:27.632455Z",
     "iopub.status.busy": "2020-11-27T21:42:27.631596Z",
     "iopub.status.idle": "2020-11-27T21:42:27.635158Z",
     "shell.execute_reply": "2020-11-27T21:42:27.636449Z"
    },
    "papermill": {
     "duration": 0.111266,
     "end_time": "2020-11-27T21:42:27.636619",
     "exception": false,
     "start_time": "2020-11-27T21:42:27.525353",
     "status": "completed"
    },
    "tags": []
   },
   "outputs": [
    {
     "name": "stdout",
     "output_type": "stream",
     "text": [
      "Selected features: (0, 1, 2, 3, 4, 5, 6, 7, 8, 9, 10, 12, 13, 14, 16, 17)\n"
     ]
    }
   ],
   "source": [
    "print('Selected features:', sfs.k_feature_idx_)\n",
    "##as you see, all features are important(all columns) when want to train all models with the best accuracy."
   ]
  },
  {
   "cell_type": "markdown",
   "metadata": {
    "papermill": {
     "duration": 0.101796,
     "end_time": "2020-11-27T21:42:27.841021",
     "exception": false,
     "start_time": "2020-11-27T21:42:27.739225",
     "status": "completed"
    },
    "tags": []
   },
   "source": [
    "# Gaussian Naive Bayes model"
   ]
  },
  {
   "cell_type": "code",
   "execution_count": 45,
   "metadata": {
    "execution": {
     "iopub.execute_input": "2020-11-27T21:42:28.066567Z",
     "iopub.status.busy": "2020-11-27T21:42:28.065824Z",
     "iopub.status.idle": "2020-11-27T21:42:28.083955Z",
     "shell.execute_reply": "2020-11-27T21:42:28.083332Z"
    },
    "papermill": {
     "duration": 0.129922,
     "end_time": "2020-11-27T21:42:28.084075",
     "exception": false,
     "start_time": "2020-11-27T21:42:27.954153",
     "status": "completed"
    },
    "tags": []
   },
   "outputs": [
    {
     "data": {
      "text/plain": [
       "GaussianNB()"
      ]
     },
     "execution_count": 45,
     "metadata": {},
     "output_type": "execute_result"
    }
   ],
   "source": [
    "#Import Gaussian Naive Bayes model\n",
    "from sklearn.naive_bayes import GaussianNB\n",
    "\n",
    "\n",
    "#Create a Gaussian Classifier\n",
    "model = GaussianNB()\n",
    "\n",
    "# Train the model using the training sets\n",
    "model.fit(X_train,y_train)"
   ]
  },
  {
   "cell_type": "code",
   "execution_count": 46,
   "metadata": {
    "execution": {
     "iopub.execute_input": "2020-11-27T21:42:28.274283Z",
     "iopub.status.busy": "2020-11-27T21:42:28.273507Z",
     "iopub.status.idle": "2020-11-27T21:42:28.279700Z",
     "shell.execute_reply": "2020-11-27T21:42:28.280284Z"
    },
    "papermill": {
     "duration": 0.103589,
     "end_time": "2020-11-27T21:42:28.280449",
     "exception": false,
     "start_time": "2020-11-27T21:42:28.176860",
     "status": "completed"
    },
    "tags": []
   },
   "outputs": [
    {
     "data": {
      "text/plain": [
       "array([ True, False,  True, ...,  True,  True,  True])"
      ]
     },
     "execution_count": 46,
     "metadata": {},
     "output_type": "execute_result"
    }
   ],
   "source": [
    "predictions=model.predict(X_test)\n",
    "predictions"
   ]
  },
  {
   "cell_type": "code",
   "execution_count": 47,
   "metadata": {
    "execution": {
     "iopub.execute_input": "2020-11-27T21:42:28.470748Z",
     "iopub.status.busy": "2020-11-27T21:42:28.470014Z",
     "iopub.status.idle": "2020-11-27T21:42:28.476424Z",
     "shell.execute_reply": "2020-11-27T21:42:28.475692Z"
    },
    "papermill": {
     "duration": 0.103533,
     "end_time": "2020-11-27T21:42:28.476547",
     "exception": false,
     "start_time": "2020-11-27T21:42:28.373014",
     "status": "completed"
    },
    "tags": []
   },
   "outputs": [
    {
     "data": {
      "text/plain": [
       "0.4915"
      ]
     },
     "execution_count": 47,
     "metadata": {},
     "output_type": "execute_result"
    }
   ],
   "source": [
    "score=accuracy_score(y_test,predictions)\n",
    "score"
   ]
  },
  {
   "cell_type": "markdown",
   "metadata": {
    "papermill": {
     "duration": 0.09257,
     "end_time": "2020-11-27T21:42:28.661768",
     "exception": false,
     "start_time": "2020-11-27T21:42:28.569198",
     "status": "completed"
    },
    "tags": []
   },
   "source": [
    "# Support Vector Machine model"
   ]
  },
  {
   "cell_type": "code",
   "execution_count": 48,
   "metadata": {
    "execution": {
     "iopub.execute_input": "2020-11-27T21:42:28.855141Z",
     "iopub.status.busy": "2020-11-27T21:42:28.854371Z",
     "iopub.status.idle": "2020-11-27T21:42:28.857041Z",
     "shell.execute_reply": "2020-11-27T21:42:28.857668Z"
    },
    "papermill": {
     "duration": 0.101394,
     "end_time": "2020-11-27T21:42:28.857869",
     "exception": false,
     "start_time": "2020-11-27T21:42:28.756475",
     "status": "completed"
    },
    "tags": []
   },
   "outputs": [],
   "source": [
    "model=SVC()"
   ]
  },
  {
   "cell_type": "code",
   "execution_count": 49,
   "metadata": {
    "execution": {
     "iopub.execute_input": "2020-11-27T21:42:29.051148Z",
     "iopub.status.busy": "2020-11-27T21:42:29.050377Z",
     "iopub.status.idle": "2020-11-27T21:42:47.527539Z",
     "shell.execute_reply": "2020-11-27T21:42:47.526803Z"
    },
    "papermill": {
     "duration": 18.575728,
     "end_time": "2020-11-27T21:42:47.527658",
     "exception": false,
     "start_time": "2020-11-27T21:42:28.951930",
     "status": "completed"
    },
    "tags": []
   },
   "outputs": [
    {
     "data": {
      "text/plain": [
       "SVC()"
      ]
     },
     "execution_count": 49,
     "metadata": {},
     "output_type": "execute_result"
    }
   ],
   "source": [
    "model.fit(X_train,y_train)"
   ]
  },
  {
   "cell_type": "code",
   "execution_count": 50,
   "metadata": {
    "execution": {
     "iopub.execute_input": "2020-11-27T21:42:47.721687Z",
     "iopub.status.busy": "2020-11-27T21:42:47.720957Z",
     "iopub.status.idle": "2020-11-27T21:42:50.475392Z",
     "shell.execute_reply": "2020-11-27T21:42:50.475940Z"
    },
    "papermill": {
     "duration": 2.854225,
     "end_time": "2020-11-27T21:42:50.476109",
     "exception": false,
     "start_time": "2020-11-27T21:42:47.621884",
     "status": "completed"
    },
    "tags": []
   },
   "outputs": [
    {
     "data": {
      "text/plain": [
       "array([ True, False,  True, ..., False,  True,  True])"
      ]
     },
     "execution_count": 50,
     "metadata": {},
     "output_type": "execute_result"
    }
   ],
   "source": [
    "predictions=model.predict(X_test)\n",
    "predictions"
   ]
  },
  {
   "cell_type": "code",
   "execution_count": 51,
   "metadata": {
    "execution": {
     "iopub.execute_input": "2020-11-27T21:42:50.670813Z",
     "iopub.status.busy": "2020-11-27T21:42:50.670031Z",
     "iopub.status.idle": "2020-11-27T21:42:50.676873Z",
     "shell.execute_reply": "2020-11-27T21:42:50.676219Z"
    },
    "papermill": {
     "duration": 0.106094,
     "end_time": "2020-11-27T21:42:50.676998",
     "exception": false,
     "start_time": "2020-11-27T21:42:50.570904",
     "status": "completed"
    },
    "tags": []
   },
   "outputs": [
    {
     "data": {
      "text/plain": [
       "0.9896"
      ]
     },
     "execution_count": 51,
     "metadata": {},
     "output_type": "execute_result"
    }
   ],
   "source": [
    "score=accuracy_score(y_test,predictions)\n",
    "score"
   ]
  },
  {
   "cell_type": "markdown",
   "metadata": {
    "papermill": {
     "duration": 0.094064,
     "end_time": "2020-11-27T21:42:50.866812",
     "exception": false,
     "start_time": "2020-11-27T21:42:50.772748",
     "status": "completed"
    },
    "tags": []
   },
   "source": [
    "# Decision Tree model"
   ]
  },
  {
   "cell_type": "code",
   "execution_count": 52,
   "metadata": {
    "execution": {
     "iopub.execute_input": "2020-11-27T21:42:51.062953Z",
     "iopub.status.busy": "2020-11-27T21:42:51.062000Z",
     "iopub.status.idle": "2020-11-27T21:42:51.064935Z",
     "shell.execute_reply": "2020-11-27T21:42:51.064241Z"
    },
    "papermill": {
     "duration": 0.103863,
     "end_time": "2020-11-27T21:42:51.065060",
     "exception": false,
     "start_time": "2020-11-27T21:42:50.961197",
     "status": "completed"
    },
    "tags": []
   },
   "outputs": [],
   "source": [
    "model=DecisionTreeClassifier()"
   ]
  },
  {
   "cell_type": "code",
   "execution_count": 53,
   "metadata": {
    "execution": {
     "iopub.execute_input": "2020-11-27T21:42:51.262463Z",
     "iopub.status.busy": "2020-11-27T21:42:51.261346Z",
     "iopub.status.idle": "2020-11-27T21:42:51.301755Z",
     "shell.execute_reply": "2020-11-27T21:42:51.301144Z"
    },
    "papermill": {
     "duration": 0.141378,
     "end_time": "2020-11-27T21:42:51.301884",
     "exception": false,
     "start_time": "2020-11-27T21:42:51.160506",
     "status": "completed"
    },
    "tags": []
   },
   "outputs": [
    {
     "data": {
      "text/plain": [
       "DecisionTreeClassifier()"
      ]
     },
     "execution_count": 53,
     "metadata": {},
     "output_type": "execute_result"
    }
   ],
   "source": [
    "model.fit(X_train,y_train)"
   ]
  },
  {
   "cell_type": "code",
   "execution_count": 54,
   "metadata": {
    "execution": {
     "iopub.execute_input": "2020-11-27T21:42:51.497677Z",
     "iopub.status.busy": "2020-11-27T21:42:51.496788Z",
     "iopub.status.idle": "2020-11-27T21:42:51.503270Z",
     "shell.execute_reply": "2020-11-27T21:42:51.502608Z"
    },
    "papermill": {
     "duration": 0.106182,
     "end_time": "2020-11-27T21:42:51.503393",
     "exception": false,
     "start_time": "2020-11-27T21:42:51.397211",
     "status": "completed"
    },
    "tags": []
   },
   "outputs": [
    {
     "data": {
      "text/plain": [
       "array([ True, False,  True, ..., False,  True,  True])"
      ]
     },
     "execution_count": 54,
     "metadata": {},
     "output_type": "execute_result"
    }
   ],
   "source": [
    "predictions=model.predict(X_test)\n",
    "predictions"
   ]
  },
  {
   "cell_type": "code",
   "execution_count": 55,
   "metadata": {
    "execution": {
     "iopub.execute_input": "2020-11-27T21:42:51.700879Z",
     "iopub.status.busy": "2020-11-27T21:42:51.700137Z",
     "iopub.status.idle": "2020-11-27T21:42:51.706861Z",
     "shell.execute_reply": "2020-11-27T21:42:51.706198Z"
    },
    "papermill": {
     "duration": 0.107524,
     "end_time": "2020-11-27T21:42:51.706981",
     "exception": false,
     "start_time": "2020-11-27T21:42:51.599457",
     "status": "completed"
    },
    "tags": []
   },
   "outputs": [
    {
     "data": {
      "text/plain": [
       "1.0"
      ]
     },
     "execution_count": 55,
     "metadata": {},
     "output_type": "execute_result"
    }
   ],
   "source": [
    "score=accuracy_score(y_test,predictions)\n",
    "score"
   ]
  },
  {
   "cell_type": "markdown",
   "metadata": {
    "papermill": {
     "duration": 0.095825,
     "end_time": "2020-11-27T21:42:51.899126",
     "exception": false,
     "start_time": "2020-11-27T21:42:51.803301",
     "status": "completed"
    },
    "tags": []
   },
   "source": [
    "# GradientBoostingClassifier model"
   ]
  },
  {
   "cell_type": "code",
   "execution_count": 56,
   "metadata": {
    "execution": {
     "iopub.execute_input": "2020-11-27T21:42:52.100163Z",
     "iopub.status.busy": "2020-11-27T21:42:52.099349Z",
     "iopub.status.idle": "2020-11-27T21:42:52.102371Z",
     "shell.execute_reply": "2020-11-27T21:42:52.101592Z"
    },
    "papermill": {
     "duration": 0.106105,
     "end_time": "2020-11-27T21:42:52.102496",
     "exception": false,
     "start_time": "2020-11-27T21:42:51.996391",
     "status": "completed"
    },
    "tags": []
   },
   "outputs": [],
   "source": [
    "model=GradientBoostingClassifier()"
   ]
  },
  {
   "cell_type": "code",
   "execution_count": 57,
   "metadata": {
    "execution": {
     "iopub.execute_input": "2020-11-27T21:42:52.301910Z",
     "iopub.status.busy": "2020-11-27T21:42:52.301150Z",
     "iopub.status.idle": "2020-11-27T21:42:57.597359Z",
     "shell.execute_reply": "2020-11-27T21:42:57.597939Z"
    },
    "papermill": {
     "duration": 5.398447,
     "end_time": "2020-11-27T21:42:57.598099",
     "exception": false,
     "start_time": "2020-11-27T21:42:52.199652",
     "status": "completed"
    },
    "tags": []
   },
   "outputs": [
    {
     "data": {
      "text/plain": [
       "GradientBoostingClassifier()"
      ]
     },
     "execution_count": 57,
     "metadata": {},
     "output_type": "execute_result"
    }
   ],
   "source": [
    "model.fit(X_train,y_train)"
   ]
  },
  {
   "cell_type": "code",
   "execution_count": 58,
   "metadata": {
    "execution": {
     "iopub.execute_input": "2020-11-27T21:42:57.798623Z",
     "iopub.status.busy": "2020-11-27T21:42:57.797502Z",
     "iopub.status.idle": "2020-11-27T21:42:57.821902Z",
     "shell.execute_reply": "2020-11-27T21:42:57.822432Z"
    },
    "papermill": {
     "duration": 0.12695,
     "end_time": "2020-11-27T21:42:57.822586",
     "exception": false,
     "start_time": "2020-11-27T21:42:57.695636",
     "status": "completed"
    },
    "tags": []
   },
   "outputs": [
    {
     "data": {
      "text/plain": [
       "array([ True, False,  True, ..., False,  True,  True])"
      ]
     },
     "execution_count": 58,
     "metadata": {},
     "output_type": "execute_result"
    }
   ],
   "source": [
    "predictions=model.predict(X_test)\n",
    "predictions"
   ]
  },
  {
   "cell_type": "code",
   "execution_count": 59,
   "metadata": {
    "execution": {
     "iopub.execute_input": "2020-11-27T21:42:58.025202Z",
     "iopub.status.busy": "2020-11-27T21:42:58.024451Z",
     "iopub.status.idle": "2020-11-27T21:42:58.030711Z",
     "shell.execute_reply": "2020-11-27T21:42:58.031324Z"
    },
    "papermill": {
     "duration": 0.110895,
     "end_time": "2020-11-27T21:42:58.031488",
     "exception": false,
     "start_time": "2020-11-27T21:42:57.920593",
     "status": "completed"
    },
    "tags": []
   },
   "outputs": [
    {
     "data": {
      "text/plain": [
       "1.0"
      ]
     },
     "execution_count": 59,
     "metadata": {},
     "output_type": "execute_result"
    }
   ],
   "source": [
    "score=accuracy_score(y_test,predictions)\n",
    "score"
   ]
  }
 ],
 "metadata": {
  "kernelspec": {
   "display_name": "Python 3",
   "language": "python",
   "name": "python3"
  },
  "language_info": {
   "codemirror_mode": {
    "name": "ipython",
    "version": 3
   },
   "file_extension": ".py",
   "mimetype": "text/x-python",
   "name": "python",
   "nbconvert_exporter": "python",
   "pygments_lexer": "ipython3",
   "version": "3.7.6"
  },
  "papermill": {
   "duration": 104.54169,
   "end_time": "2020-11-27T21:42:58.239263",
   "environment_variables": {},
   "exception": null,
   "input_path": "__notebook__.ipynb",
   "output_path": "__notebook__.ipynb",
   "parameters": {},
   "start_time": "2020-11-27T21:41:13.697573",
   "version": "2.1.0"
  }
 },
 "nbformat": 4,
 "nbformat_minor": 4
}
